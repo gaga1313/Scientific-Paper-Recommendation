{
  "cells": [
    {
      "cell_type": "code",
      "execution_count": null,
      "metadata": {
        "colab": {
          "base_uri": "https://localhost:8080/"
        },
        "id": "bQFOn6yc9VsA",
        "outputId": "7f6190dc-c9d1-4376-8b48-d73d26d5e2dd"
      },
      "outputs": [
        {
          "output_type": "stream",
          "name": "stdout",
          "text": [
            "Drive already mounted at /content/drive; to attempt to forcibly remount, call drive.mount(\"/content/drive\", force_remount=True).\n"
          ]
        }
      ],
      "source": [
        "from google.colab import drive\n",
        "drive.mount('/content/drive')"
      ]
    },
    {
      "cell_type": "markdown",
      "metadata": {
        "id": "RB2qQMYRmaxu"
      },
      "source": [
        "## Preprocessing"
      ]
    },
    {
      "cell_type": "code",
      "execution_count": null,
      "metadata": {
        "id": "EuhME9Md9dDb"
      },
      "outputs": [],
      "source": [
        "import pandas as pd"
      ]
    },
    {
      "cell_type": "code",
      "execution_count": null,
      "metadata": {
        "id": "NYqi5zW09xlc"
      },
      "outputs": [],
      "source": [
        "df = pd.read_csv('drive/MyDrive/data0.csv', index_col= 0)"
      ]
    },
    {
      "cell_type": "code",
      "execution_count": null,
      "metadata": {
        "colab": {
          "base_uri": "https://localhost:8080/",
          "height": 441
        },
        "id": "9csv9Woc-EuK",
        "outputId": "d5669261-a595-48a5-e18b-22b03f700a89"
      },
      "outputs": [
        {
          "data": {
            "text/html": [
              "\n",
              "  <div id=\"df-967e3369-b69c-4ff0-afb6-19978417076f\">\n",
              "    <div class=\"colab-df-container\">\n",
              "      <div>\n",
              "<style scoped>\n",
              "    .dataframe tbody tr th:only-of-type {\n",
              "        vertical-align: middle;\n",
              "    }\n",
              "\n",
              "    .dataframe tbody tr th {\n",
              "        vertical-align: top;\n",
              "    }\n",
              "\n",
              "    .dataframe thead th {\n",
              "        text-align: right;\n",
              "    }\n",
              "</style>\n",
              "<table border=\"1\" class=\"dataframe\">\n",
              "  <thead>\n",
              "    <tr style=\"text-align: right;\">\n",
              "      <th></th>\n",
              "      <th>Paper_ID</th>\n",
              "      <th>Title</th>\n",
              "      <th>Authors</th>\n",
              "      <th>Abstract</th>\n",
              "      <th>Year</th>\n",
              "      <th>Domains</th>\n",
              "      <th>all_access_id</th>\n",
              "      <th>outbound</th>\n",
              "      <th>inbound</th>\n",
              "      <th>s2</th>\n",
              "      <th>journal</th>\n",
              "      <th>venue</th>\n",
              "    </tr>\n",
              "  </thead>\n",
              "  <tbody>\n",
              "    <tr>\n",
              "      <th>0</th>\n",
              "      <td>77490025</td>\n",
              "      <td>State of external ocular muscles in strabismus...</td>\n",
              "      <td>Pen'kov  # Ma  #  #$# Konstantinovskaia  # Ke ...</td>\n",
              "      <td>NaN</td>\n",
              "      <td>1975.0</td>\n",
              "      <td>Medicine</td>\n",
              "      <td># #$#  # #$#  # #$#  # #$#  # #$# 2426173123 ...</td>\n",
              "      <td>NaN</td>\n",
              "      <td>NaN</td>\n",
              "      <td>https://api.semanticscholar.org/CorpusID:77490025</td>\n",
              "      <td>Oftalmologicheskiĭ zhurnal</td>\n",
              "      <td>NaN</td>\n",
              "    </tr>\n",
              "    <tr>\n",
              "      <th>1</th>\n",
              "      <td>77490084</td>\n",
              "      <td>Management of uterine fibromyoma</td>\n",
              "      <td>Landau  # IaM  #  #$# Karpushin  # Vp  #  #$#</td>\n",
              "      <td>NaN</td>\n",
              "      <td>1972.0</td>\n",
              "      <td>Medicine</td>\n",
              "      <td># #$#  # #$#  # #$#  # #$#  # #$# 2425602342 ...</td>\n",
              "      <td>NaN</td>\n",
              "      <td>NaN</td>\n",
              "      <td>https://api.semanticscholar.org/CorpusID:77490084</td>\n",
              "      <td>NaN</td>\n",
              "      <td>NaN</td>\n",
              "    </tr>\n",
              "    <tr>\n",
              "      <th>2</th>\n",
              "      <td>77490191</td>\n",
              "      <td>Nature of the reflex excitation of the spinal ...</td>\n",
              "      <td>Popov  # Sv  #  #$# Gaĭvoronskiĭ  # Gi  #  #$#</td>\n",
              "      <td>NaN</td>\n",
              "      <td>1977.0</td>\n",
              "      <td>Medicine</td>\n",
              "      <td># #$#  # #$#  # #$#  # #$#  # #$# 2437424934 ...</td>\n",
              "      <td>NaN</td>\n",
              "      <td>NaN</td>\n",
              "      <td>https://api.semanticscholar.org/CorpusID:77490191</td>\n",
              "      <td>Zhurnal Nevropatologii I Psikhiatrii Imeni S S...</td>\n",
              "      <td>NaN</td>\n",
              "    </tr>\n",
              "    <tr>\n",
              "      <th>3</th>\n",
              "      <td>77490289</td>\n",
              "      <td>[Radioimmunoassay of serum gastrin and its pre...</td>\n",
              "      <td>Jin  # Js  #  #$#</td>\n",
              "      <td>NaN</td>\n",
              "      <td>1980.0</td>\n",
              "      <td>Medicine</td>\n",
              "      <td># #$#  # #$#  # #$#  # #$#  # #$# 2430030388 ...</td>\n",
              "      <td>NaN</td>\n",
              "      <td>NaN</td>\n",
              "      <td>https://api.semanticscholar.org/CorpusID:77490289</td>\n",
              "      <td>Chinese journal of internal medicine</td>\n",
              "      <td>NaN</td>\n",
              "    </tr>\n",
              "    <tr>\n",
              "      <th>4</th>\n",
              "      <td>77490322</td>\n",
              "      <td>Sodium amytal in treatment of anxiety states; ...</td>\n",
              "      <td>Cline  # Wb  #  #$#</td>\n",
              "      <td>NaN</td>\n",
              "      <td>1952.0</td>\n",
              "      <td>Medicine</td>\n",
              "      <td># #$#  # #$#  # #$#  # #$#  # #$# 2437852910 ...</td>\n",
              "      <td>NaN</td>\n",
              "      <td>NaN</td>\n",
              "      <td>https://api.semanticscholar.org/CorpusID:77490322</td>\n",
              "      <td>Diseases of the nervous system</td>\n",
              "      <td>NaN</td>\n",
              "    </tr>\n",
              "  </tbody>\n",
              "</table>\n",
              "</div>\n",
              "      <button class=\"colab-df-convert\" onclick=\"convertToInteractive('df-967e3369-b69c-4ff0-afb6-19978417076f')\"\n",
              "              title=\"Convert this dataframe to an interactive table.\"\n",
              "              style=\"display:none;\">\n",
              "        \n",
              "  <svg xmlns=\"http://www.w3.org/2000/svg\" height=\"24px\"viewBox=\"0 0 24 24\"\n",
              "       width=\"24px\">\n",
              "    <path d=\"M0 0h24v24H0V0z\" fill=\"none\"/>\n",
              "    <path d=\"M18.56 5.44l.94 2.06.94-2.06 2.06-.94-2.06-.94-.94-2.06-.94 2.06-2.06.94zm-11 1L8.5 8.5l.94-2.06 2.06-.94-2.06-.94L8.5 2.5l-.94 2.06-2.06.94zm10 10l.94 2.06.94-2.06 2.06-.94-2.06-.94-.94-2.06-.94 2.06-2.06.94z\"/><path d=\"M17.41 7.96l-1.37-1.37c-.4-.4-.92-.59-1.43-.59-.52 0-1.04.2-1.43.59L10.3 9.45l-7.72 7.72c-.78.78-.78 2.05 0 2.83L4 21.41c.39.39.9.59 1.41.59.51 0 1.02-.2 1.41-.59l7.78-7.78 2.81-2.81c.8-.78.8-2.07 0-2.86zM5.41 20L4 18.59l7.72-7.72 1.47 1.35L5.41 20z\"/>\n",
              "  </svg>\n",
              "      </button>\n",
              "      \n",
              "  <style>\n",
              "    .colab-df-container {\n",
              "      display:flex;\n",
              "      flex-wrap:wrap;\n",
              "      gap: 12px;\n",
              "    }\n",
              "\n",
              "    .colab-df-convert {\n",
              "      background-color: #E8F0FE;\n",
              "      border: none;\n",
              "      border-radius: 50%;\n",
              "      cursor: pointer;\n",
              "      display: none;\n",
              "      fill: #1967D2;\n",
              "      height: 32px;\n",
              "      padding: 0 0 0 0;\n",
              "      width: 32px;\n",
              "    }\n",
              "\n",
              "    .colab-df-convert:hover {\n",
              "      background-color: #E2EBFA;\n",
              "      box-shadow: 0px 1px 2px rgba(60, 64, 67, 0.3), 0px 1px 3px 1px rgba(60, 64, 67, 0.15);\n",
              "      fill: #174EA6;\n",
              "    }\n",
              "\n",
              "    [theme=dark] .colab-df-convert {\n",
              "      background-color: #3B4455;\n",
              "      fill: #D2E3FC;\n",
              "    }\n",
              "\n",
              "    [theme=dark] .colab-df-convert:hover {\n",
              "      background-color: #434B5C;\n",
              "      box-shadow: 0px 1px 3px 1px rgba(0, 0, 0, 0.15);\n",
              "      filter: drop-shadow(0px 1px 2px rgba(0, 0, 0, 0.3));\n",
              "      fill: #FFFFFF;\n",
              "    }\n",
              "  </style>\n",
              "\n",
              "      <script>\n",
              "        const buttonEl =\n",
              "          document.querySelector('#df-967e3369-b69c-4ff0-afb6-19978417076f button.colab-df-convert');\n",
              "        buttonEl.style.display =\n",
              "          google.colab.kernel.accessAllowed ? 'block' : 'none';\n",
              "\n",
              "        async function convertToInteractive(key) {\n",
              "          const element = document.querySelector('#df-967e3369-b69c-4ff0-afb6-19978417076f');\n",
              "          const dataTable =\n",
              "            await google.colab.kernel.invokeFunction('convertToInteractive',\n",
              "                                                     [key], {});\n",
              "          if (!dataTable) return;\n",
              "\n",
              "          const docLinkHtml = 'Like what you see? Visit the ' +\n",
              "            '<a target=\"_blank\" href=https://colab.research.google.com/notebooks/data_table.ipynb>data table notebook</a>'\n",
              "            + ' to learn more about interactive tables.';\n",
              "          element.innerHTML = '';\n",
              "          dataTable['output_type'] = 'display_data';\n",
              "          await google.colab.output.renderOutput(dataTable, element);\n",
              "          const docLink = document.createElement('div');\n",
              "          docLink.innerHTML = docLinkHtml;\n",
              "          element.appendChild(docLink);\n",
              "        }\n",
              "      </script>\n",
              "    </div>\n",
              "  </div>\n",
              "  "
            ],
            "text/plain": [
              "   Paper_ID                                              Title  \\\n",
              "0  77490025  State of external ocular muscles in strabismus...   \n",
              "1  77490084                   Management of uterine fibromyoma   \n",
              "2  77490191  Nature of the reflex excitation of the spinal ...   \n",
              "3  77490289  [Radioimmunoassay of serum gastrin and its pre...   \n",
              "4  77490322  Sodium amytal in treatment of anxiety states; ...   \n",
              "\n",
              "                                             Authors Abstract    Year  \\\n",
              "0  Pen'kov  # Ma  #  #$# Konstantinovskaia  # Ke ...      NaN  1975.0   \n",
              "1     Landau  # IaM  #  #$# Karpushin  # Vp  #  #$#       NaN  1972.0   \n",
              "2    Popov  # Sv  #  #$# Gaĭvoronskiĭ  # Gi  #  #$#       NaN  1977.0   \n",
              "3                                 Jin  # Js  #  #$#       NaN  1980.0   \n",
              "4                               Cline  # Wb  #  #$#       NaN  1952.0   \n",
              "\n",
              "    Domains                                      all_access_id outbound  \\\n",
              "0  Medicine   # #$#  # #$#  # #$#  # #$#  # #$# 2426173123 ...      NaN   \n",
              "1  Medicine   # #$#  # #$#  # #$#  # #$#  # #$# 2425602342 ...      NaN   \n",
              "2  Medicine   # #$#  # #$#  # #$#  # #$#  # #$# 2437424934 ...      NaN   \n",
              "3  Medicine   # #$#  # #$#  # #$#  # #$#  # #$# 2430030388 ...      NaN   \n",
              "4  Medicine   # #$#  # #$#  # #$#  # #$#  # #$# 2437852910 ...      NaN   \n",
              "\n",
              "  inbound                                                 s2  \\\n",
              "0     NaN  https://api.semanticscholar.org/CorpusID:77490025   \n",
              "1     NaN  https://api.semanticscholar.org/CorpusID:77490084   \n",
              "2     NaN  https://api.semanticscholar.org/CorpusID:77490191   \n",
              "3     NaN  https://api.semanticscholar.org/CorpusID:77490289   \n",
              "4     NaN  https://api.semanticscholar.org/CorpusID:77490322   \n",
              "\n",
              "                                             journal venue  \n",
              "0                        Oftalmologicheskiĭ zhurnal   NaN  \n",
              "1                                                NaN   NaN  \n",
              "2  Zhurnal Nevropatologii I Psikhiatrii Imeni S S...   NaN  \n",
              "3               Chinese journal of internal medicine   NaN  \n",
              "4                     Diseases of the nervous system   NaN  "
            ]
          },
          "execution_count": 448,
          "metadata": {},
          "output_type": "execute_result"
        }
      ],
      "source": [
        "df.head()"
      ]
    },
    {
      "cell_type": "code",
      "execution_count": null,
      "metadata": {
        "colab": {
          "base_uri": "https://localhost:8080/"
        },
        "id": "sxR7ltIFvaMk",
        "outputId": "8520ee93-5b1b-4caf-f641-e431d1315c80"
      },
      "outputs": [
        {
          "data": {
            "text/plain": [
              "(1366661, 12)"
            ]
          },
          "execution_count": 449,
          "metadata": {},
          "output_type": "execute_result"
        }
      ],
      "source": [
        "df.shape"
      ]
    },
    {
      "cell_type": "markdown",
      "metadata": {
        "id": "h8HfbMlumnXe"
      },
      "source": [
        "## Step 1 remove papers according to years"
      ]
    },
    {
      "cell_type": "code",
      "execution_count": null,
      "metadata": {
        "colab": {
          "base_uri": "https://localhost:8080/",
          "height": 49
        },
        "id": "-wrtQsBFLLxQ",
        "outputId": "aad12a8b-406e-4718-c5d3-a2cdce47bb98"
      },
      "outputs": [
        {
          "data": {
            "application/vnd.jupyter.widget-view+json": {
              "model_id": "6dd88ddefc08462995db54d27c554b86",
              "version_major": 2,
              "version_minor": 0
            },
            "text/plain": [
              "0it [00:00, ?it/s]"
            ]
          },
          "metadata": {},
          "output_type": "display_data"
        }
      ],
      "source": [
        "from tqdm.notebook import tqdm\n",
        "authors_count = []\n",
        "\n",
        "for i, row in tqdm(df.iterrows()):\n",
        "  authors = row['Authors']\n",
        "  if type(authors)==float:\n",
        "    authors_count.append(0)\n",
        "    continue\n",
        "  n_auth = len(authors.split('#$#'))\n",
        "  authors_count.append(n_auth)"
      ]
    },
    {
      "cell_type": "code",
      "execution_count": null,
      "metadata": {
        "colab": {
          "base_uri": "https://localhost:8080/",
          "height": 337
        },
        "id": "O807JQzwLf_u",
        "outputId": "93debd03-1e1c-4b86-992f-e9ac4ae8eb91"
      },
      "outputs": [
        {
          "data": {
            "text/html": [
              "\n",
              "  <div id=\"df-d886a46f-82a5-44ea-a4e2-a375cb861901\">\n",
              "    <div class=\"colab-df-container\">\n",
              "      <div>\n",
              "<style scoped>\n",
              "    .dataframe tbody tr th:only-of-type {\n",
              "        vertical-align: middle;\n",
              "    }\n",
              "\n",
              "    .dataframe tbody tr th {\n",
              "        vertical-align: top;\n",
              "    }\n",
              "\n",
              "    .dataframe thead th {\n",
              "        text-align: right;\n",
              "    }\n",
              "</style>\n",
              "<table border=\"1\" class=\"dataframe\">\n",
              "  <thead>\n",
              "    <tr style=\"text-align: right;\">\n",
              "      <th></th>\n",
              "      <th>Paper_ID</th>\n",
              "      <th>Title</th>\n",
              "      <th>Authors</th>\n",
              "      <th>Abstract</th>\n",
              "      <th>Year</th>\n",
              "      <th>Domains</th>\n",
              "      <th>all_access_id</th>\n",
              "      <th>outbound</th>\n",
              "      <th>inbound</th>\n",
              "      <th>s2</th>\n",
              "      <th>journal</th>\n",
              "      <th>venue</th>\n",
              "      <th>N_Authors</th>\n",
              "    </tr>\n",
              "  </thead>\n",
              "  <tbody>\n",
              "    <tr>\n",
              "      <th>0</th>\n",
              "      <td>77490025</td>\n",
              "      <td>State of external ocular muscles in strabismus...</td>\n",
              "      <td>Pen'kov  # Ma  #  #$# Konstantinovskaia  # Ke ...</td>\n",
              "      <td>NaN</td>\n",
              "      <td>1975.0</td>\n",
              "      <td>Medicine</td>\n",
              "      <td># #$#  # #$#  # #$#  # #$#  # #$# 2426173123 ...</td>\n",
              "      <td>NaN</td>\n",
              "      <td>NaN</td>\n",
              "      <td>https://api.semanticscholar.org/CorpusID:77490025</td>\n",
              "      <td>Oftalmologicheskiĭ zhurnal</td>\n",
              "      <td>NaN</td>\n",
              "      <td>4</td>\n",
              "    </tr>\n",
              "    <tr>\n",
              "      <th>1</th>\n",
              "      <td>77490084</td>\n",
              "      <td>Management of uterine fibromyoma</td>\n",
              "      <td>Landau  # IaM  #  #$# Karpushin  # Vp  #  #$#</td>\n",
              "      <td>NaN</td>\n",
              "      <td>1972.0</td>\n",
              "      <td>Medicine</td>\n",
              "      <td># #$#  # #$#  # #$#  # #$#  # #$# 2425602342 ...</td>\n",
              "      <td>NaN</td>\n",
              "      <td>NaN</td>\n",
              "      <td>https://api.semanticscholar.org/CorpusID:77490084</td>\n",
              "      <td>NaN</td>\n",
              "      <td>NaN</td>\n",
              "      <td>3</td>\n",
              "    </tr>\n",
              "    <tr>\n",
              "      <th>2</th>\n",
              "      <td>77490191</td>\n",
              "      <td>Nature of the reflex excitation of the spinal ...</td>\n",
              "      <td>Popov  # Sv  #  #$# Gaĭvoronskiĭ  # Gi  #  #$#</td>\n",
              "      <td>NaN</td>\n",
              "      <td>1977.0</td>\n",
              "      <td>Medicine</td>\n",
              "      <td># #$#  # #$#  # #$#  # #$#  # #$# 2437424934 ...</td>\n",
              "      <td>NaN</td>\n",
              "      <td>NaN</td>\n",
              "      <td>https://api.semanticscholar.org/CorpusID:77490191</td>\n",
              "      <td>Zhurnal Nevropatologii I Psikhiatrii Imeni S S...</td>\n",
              "      <td>NaN</td>\n",
              "      <td>3</td>\n",
              "    </tr>\n",
              "    <tr>\n",
              "      <th>3</th>\n",
              "      <td>77490289</td>\n",
              "      <td>[Radioimmunoassay of serum gastrin and its pre...</td>\n",
              "      <td>Jin  # Js  #  #$#</td>\n",
              "      <td>NaN</td>\n",
              "      <td>1980.0</td>\n",
              "      <td>Medicine</td>\n",
              "      <td># #$#  # #$#  # #$#  # #$#  # #$# 2430030388 ...</td>\n",
              "      <td>NaN</td>\n",
              "      <td>NaN</td>\n",
              "      <td>https://api.semanticscholar.org/CorpusID:77490289</td>\n",
              "      <td>Chinese journal of internal medicine</td>\n",
              "      <td>NaN</td>\n",
              "      <td>2</td>\n",
              "    </tr>\n",
              "    <tr>\n",
              "      <th>4</th>\n",
              "      <td>77490322</td>\n",
              "      <td>Sodium amytal in treatment of anxiety states; ...</td>\n",
              "      <td>Cline  # Wb  #  #$#</td>\n",
              "      <td>NaN</td>\n",
              "      <td>1952.0</td>\n",
              "      <td>Medicine</td>\n",
              "      <td># #$#  # #$#  # #$#  # #$#  # #$# 2437852910 ...</td>\n",
              "      <td>NaN</td>\n",
              "      <td>NaN</td>\n",
              "      <td>https://api.semanticscholar.org/CorpusID:77490322</td>\n",
              "      <td>Diseases of the nervous system</td>\n",
              "      <td>NaN</td>\n",
              "      <td>2</td>\n",
              "    </tr>\n",
              "  </tbody>\n",
              "</table>\n",
              "</div>\n",
              "      <button class=\"colab-df-convert\" onclick=\"convertToInteractive('df-d886a46f-82a5-44ea-a4e2-a375cb861901')\"\n",
              "              title=\"Convert this dataframe to an interactive table.\"\n",
              "              style=\"display:none;\">\n",
              "        \n",
              "  <svg xmlns=\"http://www.w3.org/2000/svg\" height=\"24px\"viewBox=\"0 0 24 24\"\n",
              "       width=\"24px\">\n",
              "    <path d=\"M0 0h24v24H0V0z\" fill=\"none\"/>\n",
              "    <path d=\"M18.56 5.44l.94 2.06.94-2.06 2.06-.94-2.06-.94-.94-2.06-.94 2.06-2.06.94zm-11 1L8.5 8.5l.94-2.06 2.06-.94-2.06-.94L8.5 2.5l-.94 2.06-2.06.94zm10 10l.94 2.06.94-2.06 2.06-.94-2.06-.94-.94-2.06-.94 2.06-2.06.94z\"/><path d=\"M17.41 7.96l-1.37-1.37c-.4-.4-.92-.59-1.43-.59-.52 0-1.04.2-1.43.59L10.3 9.45l-7.72 7.72c-.78.78-.78 2.05 0 2.83L4 21.41c.39.39.9.59 1.41.59.51 0 1.02-.2 1.41-.59l7.78-7.78 2.81-2.81c.8-.78.8-2.07 0-2.86zM5.41 20L4 18.59l7.72-7.72 1.47 1.35L5.41 20z\"/>\n",
              "  </svg>\n",
              "      </button>\n",
              "      \n",
              "  <style>\n",
              "    .colab-df-container {\n",
              "      display:flex;\n",
              "      flex-wrap:wrap;\n",
              "      gap: 12px;\n",
              "    }\n",
              "\n",
              "    .colab-df-convert {\n",
              "      background-color: #E8F0FE;\n",
              "      border: none;\n",
              "      border-radius: 50%;\n",
              "      cursor: pointer;\n",
              "      display: none;\n",
              "      fill: #1967D2;\n",
              "      height: 32px;\n",
              "      padding: 0 0 0 0;\n",
              "      width: 32px;\n",
              "    }\n",
              "\n",
              "    .colab-df-convert:hover {\n",
              "      background-color: #E2EBFA;\n",
              "      box-shadow: 0px 1px 2px rgba(60, 64, 67, 0.3), 0px 1px 3px 1px rgba(60, 64, 67, 0.15);\n",
              "      fill: #174EA6;\n",
              "    }\n",
              "\n",
              "    [theme=dark] .colab-df-convert {\n",
              "      background-color: #3B4455;\n",
              "      fill: #D2E3FC;\n",
              "    }\n",
              "\n",
              "    [theme=dark] .colab-df-convert:hover {\n",
              "      background-color: #434B5C;\n",
              "      box-shadow: 0px 1px 3px 1px rgba(0, 0, 0, 0.15);\n",
              "      filter: drop-shadow(0px 1px 2px rgba(0, 0, 0, 0.3));\n",
              "      fill: #FFFFFF;\n",
              "    }\n",
              "  </style>\n",
              "\n",
              "      <script>\n",
              "        const buttonEl =\n",
              "          document.querySelector('#df-d886a46f-82a5-44ea-a4e2-a375cb861901 button.colab-df-convert');\n",
              "        buttonEl.style.display =\n",
              "          google.colab.kernel.accessAllowed ? 'block' : 'none';\n",
              "\n",
              "        async function convertToInteractive(key) {\n",
              "          const element = document.querySelector('#df-d886a46f-82a5-44ea-a4e2-a375cb861901');\n",
              "          const dataTable =\n",
              "            await google.colab.kernel.invokeFunction('convertToInteractive',\n",
              "                                                     [key], {});\n",
              "          if (!dataTable) return;\n",
              "\n",
              "          const docLinkHtml = 'Like what you see? Visit the ' +\n",
              "            '<a target=\"_blank\" href=https://colab.research.google.com/notebooks/data_table.ipynb>data table notebook</a>'\n",
              "            + ' to learn more about interactive tables.';\n",
              "          element.innerHTML = '';\n",
              "          dataTable['output_type'] = 'display_data';\n",
              "          await google.colab.output.renderOutput(dataTable, element);\n",
              "          const docLink = document.createElement('div');\n",
              "          docLink.innerHTML = docLinkHtml;\n",
              "          element.appendChild(docLink);\n",
              "        }\n",
              "      </script>\n",
              "    </div>\n",
              "  </div>\n",
              "  "
            ],
            "text/plain": [
              "   Paper_ID                                              Title  \\\n",
              "0  77490025  State of external ocular muscles in strabismus...   \n",
              "1  77490084                   Management of uterine fibromyoma   \n",
              "2  77490191  Nature of the reflex excitation of the spinal ...   \n",
              "3  77490289  [Radioimmunoassay of serum gastrin and its pre...   \n",
              "4  77490322  Sodium amytal in treatment of anxiety states; ...   \n",
              "\n",
              "                                             Authors Abstract    Year  \\\n",
              "0  Pen'kov  # Ma  #  #$# Konstantinovskaia  # Ke ...      NaN  1975.0   \n",
              "1     Landau  # IaM  #  #$# Karpushin  # Vp  #  #$#       NaN  1972.0   \n",
              "2    Popov  # Sv  #  #$# Gaĭvoronskiĭ  # Gi  #  #$#       NaN  1977.0   \n",
              "3                                 Jin  # Js  #  #$#       NaN  1980.0   \n",
              "4                               Cline  # Wb  #  #$#       NaN  1952.0   \n",
              "\n",
              "    Domains                                      all_access_id outbound  \\\n",
              "0  Medicine   # #$#  # #$#  # #$#  # #$#  # #$# 2426173123 ...      NaN   \n",
              "1  Medicine   # #$#  # #$#  # #$#  # #$#  # #$# 2425602342 ...      NaN   \n",
              "2  Medicine   # #$#  # #$#  # #$#  # #$#  # #$# 2437424934 ...      NaN   \n",
              "3  Medicine   # #$#  # #$#  # #$#  # #$#  # #$# 2430030388 ...      NaN   \n",
              "4  Medicine   # #$#  # #$#  # #$#  # #$#  # #$# 2437852910 ...      NaN   \n",
              "\n",
              "  inbound                                                 s2  \\\n",
              "0     NaN  https://api.semanticscholar.org/CorpusID:77490025   \n",
              "1     NaN  https://api.semanticscholar.org/CorpusID:77490084   \n",
              "2     NaN  https://api.semanticscholar.org/CorpusID:77490191   \n",
              "3     NaN  https://api.semanticscholar.org/CorpusID:77490289   \n",
              "4     NaN  https://api.semanticscholar.org/CorpusID:77490322   \n",
              "\n",
              "                                             journal venue  N_Authors  \n",
              "0                        Oftalmologicheskiĭ zhurnal   NaN          4  \n",
              "1                                                NaN   NaN          3  \n",
              "2  Zhurnal Nevropatologii I Psikhiatrii Imeni S S...   NaN          3  \n",
              "3               Chinese journal of internal medicine   NaN          2  \n",
              "4                     Diseases of the nervous system   NaN          2  "
            ]
          },
          "execution_count": 8,
          "metadata": {},
          "output_type": "execute_result"
        }
      ],
      "source": [
        "df['N_Authors'] = authors_count\n",
        "df.head()"
      ]
    },
    {
      "cell_type": "code",
      "execution_count": null,
      "metadata": {
        "colab": {
          "base_uri": "https://localhost:8080/"
        },
        "id": "gSvtIF6nKqwn",
        "outputId": "2e57d4e8-2285-4730-e1da-9f0082e62343"
      },
      "outputs": [
        {
          "data": {
            "text/plain": [
              "Paper_ID               0\n",
              "Title                  0\n",
              "Authors             7832\n",
              "Abstract          600536\n",
              "Year               27516\n",
              "Domains            60609\n",
              "all_access_id          0\n",
              "outbound         1127434\n",
              "inbound           936642\n",
              "s2                     0\n",
              "journal           415384\n",
              "venue             875301\n",
              "N_Authors              0\n",
              "dtype: int64"
            ]
          },
          "execution_count": 9,
          "metadata": {},
          "output_type": "execute_result"
        }
      ],
      "source": [
        "df.isnull().sum()"
      ]
    },
    {
      "cell_type": "code",
      "execution_count": null,
      "metadata": {
        "colab": {
          "base_uri": "https://localhost:8080/"
        },
        "id": "nCZkZhYPCoSS",
        "outputId": "f7d86b25-f993-44da-9ae2-da8d15ab3076"
      },
      "outputs": [
        {
          "data": {
            "text/plain": [
              "2015.0    59691\n",
              "2014.0    58418\n",
              "2016.0    58062\n",
              "2013.0    57483\n",
              "2019.0    55958\n",
              "          ...  \n",
              "1577.0        1\n",
              "1656.0        1\n",
              "2114.0        1\n",
              "1591.0        1\n",
              "1651.0        1\n",
              "Name: Year, Length: 322, dtype: int64"
            ]
          },
          "execution_count": 10,
          "metadata": {},
          "output_type": "execute_result"
        }
      ],
      "source": [
        "years = df['Year'].value_counts()\n",
        "years"
      ]
    },
    {
      "cell_type": "code",
      "execution_count": null,
      "metadata": {
        "colab": {
          "base_uri": "https://localhost:8080/"
        },
        "id": "TiCqY3c3EnjK",
        "outputId": "ae69523c-eec0-453b-916e-a5a66645dcd3"
      },
      "outputs": [
        {
          "data": {
            "text/plain": [
              "count      322.000000\n",
              "mean      4158.835404\n",
              "std      11449.620676\n",
              "min          1.000000\n",
              "25%          2.000000\n",
              "50%         56.000000\n",
              "75%        689.500000\n",
              "max      59691.000000\n",
              "Name: Year, dtype: float64"
            ]
          },
          "execution_count": 11,
          "metadata": {},
          "output_type": "execute_result"
        }
      ],
      "source": [
        "df['Year'].value_counts().describe()"
      ]
    },
    {
      "cell_type": "code",
      "execution_count": null,
      "metadata": {
        "colab": {
          "base_uri": "https://localhost:8080/"
        },
        "id": "_f-0I5ksFD75",
        "outputId": "a59b8d1a-d1a7-4fd0-fd92-d8c02100c6a1"
      },
      "outputs": [
        {
          "data": {
            "text/plain": [
              "2015.0    59691\n",
              "2014.0    58418\n",
              "2016.0    58062\n",
              "2013.0    57483\n",
              "2019.0    55958\n",
              "          ...  \n",
              "1945.0      759\n",
              "1939.0      731\n",
              "1938.0      729\n",
              "1941.0      696\n",
              "1936.0      695\n",
              "Name: Year, Length: 81, dtype: int64"
            ]
          },
          "execution_count": 12,
          "metadata": {},
          "output_type": "execute_result"
        }
      ],
      "source": [
        "years = years[years.values>689]\n",
        "years"
      ]
    },
    {
      "cell_type": "code",
      "execution_count": null,
      "metadata": {
        "id": "6XtQ6q8wIKWX"
      },
      "outputs": [],
      "source": [
        "dyears = dict(years)\n",
        "y,v = dyears.keys(), dyears.values()"
      ]
    },
    {
      "cell_type": "code",
      "execution_count": null,
      "metadata": {
        "colab": {
          "base_uri": "https://localhost:8080/",
          "height": 609
        },
        "id": "fhw5En3qHA6x",
        "outputId": "5949335a-3f35-43e9-98f4-c5bb0a909fe8"
      },
      "outputs": [
        {
          "data": {
            "text/plain": [
              "<BarContainer object of 81 artists>"
            ]
          },
          "execution_count": 14,
          "metadata": {},
          "output_type": "execute_result"
        },
        {
          "data": {
            "image/png": "[encoded data removed]",
            "text/plain": [
              "<Figure size 1440x720 with 1 Axes>"
            ]
          },
          "metadata": {},
          "output_type": "display_data"
        }
      ],
      "source": [
        "import matplotlib.pyplot as plt\n",
        "import seaborn as sns\n",
        "plt.figure(figsize = (20,10))\n",
        "plt.bar(y,v)"
      ]
    },
    {
      "cell_type": "code",
      "execution_count": null,
      "metadata": {
        "colab": {
          "base_uri": "https://localhost:8080/"
        },
        "id": "2cn03BoBGISA",
        "outputId": "f7f29178-2211-48af-f25d-c347ce3127f9"
      },
      "outputs": [
        {
          "data": {
            "text/plain": [
              "(1366661, 13)"
            ]
          },
          "execution_count": 15,
          "metadata": {},
          "output_type": "execute_result"
        }
      ],
      "source": [
        "df.shape"
      ]
    },
    {
      "cell_type": "code",
      "execution_count": null,
      "metadata": {
        "colab": {
          "base_uri": "https://localhost:8080/"
        },
        "id": "1zUmFD-AGCxZ",
        "outputId": "2bb525c4-aef4-4564-b366-da5e8421bc81"
      },
      "outputs": [
        {
          "data": {
            "text/plain": [
              "(1316753, 13)"
            ]
          },
          "execution_count": 16,
          "metadata": {},
          "output_type": "execute_result"
        }
      ],
      "source": [
        "df1 = df[df['Year'].isin(dyears.keys())]\n",
        "df1.shape"
      ]
    },
    {
      "cell_type": "markdown",
      "metadata": {
        "id": "7qlUxydrNXDU"
      },
      "source": [
        "## Step 2 remove paper according to authors and citations"
      ]
    },
    {
      "cell_type": "code",
      "execution_count": null,
      "metadata": {
        "colab": {
          "base_uri": "https://localhost:8080/"
        },
        "id": "A15bpraoNWTG",
        "outputId": "5481fdee-5bf2-4ef0-a4a3-ed92de446543"
      },
      "outputs": [
        {
          "data": {
            "text/plain": [
              "(138371, 13)"
            ]
          },
          "execution_count": 42,
          "metadata": {},
          "output_type": "execute_result"
        }
      ],
      "source": [
        "df2 = df1.dropna(subset = ['inbound', 'outbound'], how = 'any')\n",
        "df2.shape"
      ]
    },
    {
      "cell_type": "code",
      "execution_count": null,
      "metadata": {
        "colab": {
          "base_uri": "https://localhost:8080/",
          "height": 153
        },
        "id": "ax2pFJtHNprd",
        "outputId": "f324ac2a-7c83-4bce-dea3-2f8c01db7512"
      },
      "outputs": [
        {
          "data": {
            "application/vnd.jupyter.widget-view+json": {
              "model_id": "f6ff860b7ded42debeab9698d023e944",
              "version_major": 2,
              "version_minor": 0
            },
            "text/plain": [
              "0it [00:00, ?it/s]"
            ]
          },
          "metadata": {},
          "output_type": "display_data"
        },
        {
          "name": "stderr",
          "output_type": "stream",
          "text": [
            "<ipython-input-43-16b7b6783ba8>:7: SettingWithCopyWarning: \n",
            "A value is trying to be set on a copy of a slice from a DataFrame.\n",
            "Try using .loc[row_indexer,col_indexer] = value instead\n",
            "\n",
            "See the caveats in the documentation: https://pandas.pydata.org/pandas-docs/stable/user_guide/indexing.html#returning-a-view-versus-a-copy\n",
            "  df2['N_Citation'] = citation_count\n"
          ]
        }
      ],
      "source": [
        "citation_count = []\n",
        "for i,row in tqdm(df2.iterrows()):\n",
        "  citation = row['inbound']\n",
        "  n_citation = len(citation.split('#$#'))\n",
        "  citation_count.append(n_citation)\n",
        "\n",
        "df2['N_Citation'] = citation_count"
      ]
    },
    {
      "cell_type": "code",
      "execution_count": null,
      "metadata": {
        "colab": {
          "base_uri": "https://localhost:8080/",
          "height": 528
        },
        "id": "DmDqREmIOgjE",
        "outputId": "f07f84ec-ddda-4a56-d3d3-ef27004a5d54"
      },
      "outputs": [
        {
          "data": {
            "text/html": [
              "\n",
              "  <div id=\"df-cf96c0ea-774a-4c0c-b33b-3b52e1fefdb4\">\n",
              "    <div class=\"colab-df-container\">\n",
              "      <div>\n",
              "<style scoped>\n",
              "    .dataframe tbody tr th:only-of-type {\n",
              "        vertical-align: middle;\n",
              "    }\n",
              "\n",
              "    .dataframe tbody tr th {\n",
              "        vertical-align: top;\n",
              "    }\n",
              "\n",
              "    .dataframe thead th {\n",
              "        text-align: right;\n",
              "    }\n",
              "</style>\n",
              "<table border=\"1\" class=\"dataframe\">\n",
              "  <thead>\n",
              "    <tr style=\"text-align: right;\">\n",
              "      <th></th>\n",
              "      <th>Paper_ID</th>\n",
              "      <th>Title</th>\n",
              "      <th>Authors</th>\n",
              "      <th>Abstract</th>\n",
              "      <th>Year</th>\n",
              "      <th>Domains</th>\n",
              "      <th>all_access_id</th>\n",
              "      <th>outbound</th>\n",
              "      <th>inbound</th>\n",
              "      <th>s2</th>\n",
              "      <th>journal</th>\n",
              "      <th>venue</th>\n",
              "      <th>N_Authors</th>\n",
              "      <th>N_Citation</th>\n",
              "    </tr>\n",
              "  </thead>\n",
              "  <tbody>\n",
              "    <tr>\n",
              "      <th>108</th>\n",
              "      <td>94550656</td>\n",
              "      <td>The Approximate Analysis of Nonlinear Behavior...</td>\n",
              "      <td>Mehdi  # Bayat  #  #$# M.  # Shahidi  #  #$# A...</td>\n",
              "      <td>NaN</td>\n",
              "      <td>2010.0</td>\n",
              "      <td>Chemistry</td>\n",
              "      <td># #$#  # #$#  # #$#  # #$#  # #$# 1898439082 ...</td>\n",
              "      <td>16827035 #$# 123547559 #$# 121037939 #$# 32723...</td>\n",
              "      <td>111338160 #$# 123223115 #$# 122710809 #$# 1224...</td>\n",
              "      <td>https://api.semanticscholar.org/CorpusID:94550656</td>\n",
              "      <td>International Journal of Physical Sciences</td>\n",
              "      <td>NaN</td>\n",
              "      <td>5</td>\n",
              "      <td>20</td>\n",
              "    </tr>\n",
              "    <tr>\n",
              "      <th>112</th>\n",
              "      <td>94551239</td>\n",
              "      <td>Scanning probe memories – Technology and appli...</td>\n",
              "      <td>C. David  # Wright  #  #$# Mustafa M.  # Aziz ...</td>\n",
              "      <td>Abstract Scanning probe-based memories have de...</td>\n",
              "      <td>2011.0</td>\n",
              "      <td>Chemistry</td>\n",
              "      <td># #$#  # #$#  # #$#  # #$# 10.1016/j.cap.2010...</td>\n",
              "      <td>108611510 #$# 60055472</td>\n",
              "      <td>115517644 #$# 119233534 #$# 52967309</td>\n",
              "      <td>https://api.semanticscholar.org/CorpusID:94551239</td>\n",
              "      <td>Current Applied Physics</td>\n",
              "      <td>NaN</td>\n",
              "      <td>5</td>\n",
              "      <td>3</td>\n",
              "    </tr>\n",
              "    <tr>\n",
              "      <th>115</th>\n",
              "      <td>94551546</td>\n",
              "      <td>Gd(III) ion-chelated supramolecular assemblies...</td>\n",
              "      <td>Yu  # Zhao  #  #$# Shun  # Duan  #  #$# Bingra...</td>\n",
              "      <td>An intricate polymer complex can carry genes t...</td>\n",
              "      <td>2015.0</td>\n",
              "      <td>Materials Science</td>\n",
              "      <td># #$#  # #$#  # #$#  # #$# 10.1038/am.2015.67...</td>\n",
              "      <td>4683185 #$# 82875295 #$# 98119828 #$# 28185772...</td>\n",
              "      <td>543091 #$# 102670965</td>\n",
              "      <td>https://api.semanticscholar.org/CorpusID:94551546</td>\n",
              "      <td>Npg Asia Materials</td>\n",
              "      <td>NaN</td>\n",
              "      <td>7</td>\n",
              "      <td>2</td>\n",
              "    </tr>\n",
              "    <tr>\n",
              "      <th>148</th>\n",
              "      <td>94556881</td>\n",
              "      <td>The analysis of the influence phosphorus compo...</td>\n",
              "      <td>A. W. Bydałek  #  #$# P.  # Schlafka  #  #$# A...</td>\n",
              "      <td>NaN</td>\n",
              "      <td>2004.0</td>\n",
              "      <td>Chemistry</td>\n",
              "      <td># #$#  # #$#  # #$#  # #$#  # #$# 822361964 #$#</td>\n",
              "      <td>98669634 #$# 138111016</td>\n",
              "      <td>139593766 #$# 137830203</td>\n",
              "      <td>https://api.semanticscholar.org/CorpusID:94556881</td>\n",
              "      <td>NaN</td>\n",
              "      <td>NaN</td>\n",
              "      <td>4</td>\n",
              "      <td>2</td>\n",
              "    </tr>\n",
              "    <tr>\n",
              "      <th>220</th>\n",
              "      <td>18980380</td>\n",
              "      <td>Distributionally Robust Counterpart in Markov ...</td>\n",
              "      <td>Pengqian  # Yu  #  #$# Huan  # Xu  #  #$#</td>\n",
              "      <td>This technical note studies Markov decision pr...</td>\n",
              "      <td>2016.0</td>\n",
              "      <td>Mathematics #$# Computer Science</td>\n",
              "      <td>1501.07418 #$#  # #$#  # #$#  # #$# 10.1109/TA...</td>\n",
              "      <td>7229756 #$# 57464058 #$# 9166388 #$# 10603007 ...</td>\n",
              "      <td>18980380 #$# 2557260 #$# 202130625 #$# 1228782...</td>\n",
              "      <td>https://api.semanticscholar.org/CorpusID:18980380</td>\n",
              "      <td>IEEE Transactions on Automatic Control</td>\n",
              "      <td>IEEE Transactions on Automatic Control</td>\n",
              "      <td>3</td>\n",
              "      <td>18</td>\n",
              "    </tr>\n",
              "  </tbody>\n",
              "</table>\n",
              "</div>\n",
              "      <button class=\"colab-df-convert\" onclick=\"convertToInteractive('df-cf96c0ea-774a-4c0c-b33b-3b52e1fefdb4')\"\n",
              "              title=\"Convert this dataframe to an interactive table.\"\n",
              "              style=\"display:none;\">\n",
              "        \n",
              "  <svg xmlns=\"http://www.w3.org/2000/svg\" height=\"24px\"viewBox=\"0 0 24 24\"\n",
              "       width=\"24px\">\n",
              "    <path d=\"M0 0h24v24H0V0z\" fill=\"none\"/>\n",
              "    <path d=\"M18.56 5.44l.94 2.06.94-2.06 2.06-.94-2.06-.94-.94-2.06-.94 2.06-2.06.94zm-11 1L8.5 8.5l.94-2.06 2.06-.94-2.06-.94L8.5 2.5l-.94 2.06-2.06.94zm10 10l.94 2.06.94-2.06 2.06-.94-2.06-.94-.94-2.06-.94 2.06-2.06.94z\"/><path d=\"M17.41 7.96l-1.37-1.37c-.4-.4-.92-.59-1.43-.59-.52 0-1.04.2-1.43.59L10.3 9.45l-7.72 7.72c-.78.78-.78 2.05 0 2.83L4 21.41c.39.39.9.59 1.41.59.51 0 1.02-.2 1.41-.59l7.78-7.78 2.81-2.81c.8-.78.8-2.07 0-2.86zM5.41 20L4 18.59l7.72-7.72 1.47 1.35L5.41 20z\"/>\n",
              "  </svg>\n",
              "      </button>\n",
              "      \n",
              "  <style>\n",
              "    .colab-df-container {\n",
              "      display:flex;\n",
              "      flex-wrap:wrap;\n",
              "      gap: 12px;\n",
              "    }\n",
              "\n",
              "    .colab-df-convert {\n",
              "      background-color: #E8F0FE;\n",
              "      border: none;\n",
              "      border-radius: 50%;\n",
              "      cursor: pointer;\n",
              "      display: none;\n",
              "      fill: #1967D2;\n",
              "      height: 32px;\n",
              "      padding: 0 0 0 0;\n",
              "      width: 32px;\n",
              "    }\n",
              "\n",
              "    .colab-df-convert:hover {\n",
              "      background-color: #E2EBFA;\n",
              "      box-shadow: 0px 1px 2px rgba(60, 64, 67, 0.3), 0px 1px 3px 1px rgba(60, 64, 67, 0.15);\n",
              "      fill: #174EA6;\n",
              "    }\n",
              "\n",
              "    [theme=dark] .colab-df-convert {\n",
              "      background-color: #3B4455;\n",
              "      fill: #D2E3FC;\n",
              "    }\n",
              "\n",
              "    [theme=dark] .colab-df-convert:hover {\n",
              "      background-color: #434B5C;\n",
              "      box-shadow: 0px 1px 3px 1px rgba(0, 0, 0, 0.15);\n",
              "      filter: drop-shadow(0px 1px 2px rgba(0, 0, 0, 0.3));\n",
              "      fill: #FFFFFF;\n",
              "    }\n",
              "  </style>\n",
              "\n",
              "      <script>\n",
              "        const buttonEl =\n",
              "          document.querySelector('#df-cf96c0ea-774a-4c0c-b33b-3b52e1fefdb4 button.colab-df-convert');\n",
              "        buttonEl.style.display =\n",
              "          google.colab.kernel.accessAllowed ? 'block' : 'none';\n",
              "\n",
              "        async function convertToInteractive(key) {\n",
              "          const element = document.querySelector('#df-cf96c0ea-774a-4c0c-b33b-3b52e1fefdb4');\n",
              "          const dataTable =\n",
              "            await google.colab.kernel.invokeFunction('convertToInteractive',\n",
              "                                                     [key], {});\n",
              "          if (!dataTable) return;\n",
              "\n",
              "          const docLinkHtml = 'Like what you see? Visit the ' +\n",
              "            '<a target=\"_blank\" href=https://colab.research.google.com/notebooks/data_table.ipynb>data table notebook</a>'\n",
              "            + ' to learn more about interactive tables.';\n",
              "          element.innerHTML = '';\n",
              "          dataTable['output_type'] = 'display_data';\n",
              "          await google.colab.output.renderOutput(dataTable, element);\n",
              "          const docLink = document.createElement('div');\n",
              "          docLink.innerHTML = docLinkHtml;\n",
              "          element.appendChild(docLink);\n",
              "        }\n",
              "      </script>\n",
              "    </div>\n",
              "  </div>\n",
              "  "
            ],
            "text/plain": [
              "     Paper_ID                                              Title  \\\n",
              "108  94550656  The Approximate Analysis of Nonlinear Behavior...   \n",
              "112  94551239  Scanning probe memories – Technology and appli...   \n",
              "115  94551546  Gd(III) ion-chelated supramolecular assemblies...   \n",
              "148  94556881  The analysis of the influence phosphorus compo...   \n",
              "220  18980380  Distributionally Robust Counterpart in Markov ...   \n",
              "\n",
              "                                               Authors  \\\n",
              "108  Mehdi  # Bayat  #  #$# M.  # Shahidi  #  #$# A...   \n",
              "112  C. David  # Wright  #  #$# Mustafa M.  # Aziz ...   \n",
              "115  Yu  # Zhao  #  #$# Shun  # Duan  #  #$# Bingra...   \n",
              "148  A. W. Bydałek  #  #$# P.  # Schlafka  #  #$# A...   \n",
              "220         Pengqian  # Yu  #  #$# Huan  # Xu  #  #$#    \n",
              "\n",
              "                                              Abstract    Year  \\\n",
              "108                                                NaN  2010.0   \n",
              "112  Abstract Scanning probe-based memories have de...  2011.0   \n",
              "115  An intricate polymer complex can carry genes t...  2015.0   \n",
              "148                                                NaN  2004.0   \n",
              "220  This technical note studies Markov decision pr...  2016.0   \n",
              "\n",
              "                              Domains  \\\n",
              "108                         Chemistry   \n",
              "112                         Chemistry   \n",
              "115                 Materials Science   \n",
              "148                         Chemistry   \n",
              "220  Mathematics #$# Computer Science   \n",
              "\n",
              "                                         all_access_id  \\\n",
              "108   # #$#  # #$#  # #$#  # #$#  # #$# 1898439082 ...   \n",
              "112   # #$#  # #$#  # #$#  # #$# 10.1016/j.cap.2010...   \n",
              "115   # #$#  # #$#  # #$#  # #$# 10.1038/am.2015.67...   \n",
              "148   # #$#  # #$#  # #$#  # #$#  # #$# 822361964 #$#    \n",
              "220  1501.07418 #$#  # #$#  # #$#  # #$# 10.1109/TA...   \n",
              "\n",
              "                                              outbound  \\\n",
              "108  16827035 #$# 123547559 #$# 121037939 #$# 32723...   \n",
              "112                             108611510 #$# 60055472   \n",
              "115  4683185 #$# 82875295 #$# 98119828 #$# 28185772...   \n",
              "148                             98669634 #$# 138111016   \n",
              "220  7229756 #$# 57464058 #$# 9166388 #$# 10603007 ...   \n",
              "\n",
              "                                               inbound  \\\n",
              "108  111338160 #$# 123223115 #$# 122710809 #$# 1224...   \n",
              "112               115517644 #$# 119233534 #$# 52967309   \n",
              "115                               543091 #$# 102670965   \n",
              "148                            139593766 #$# 137830203   \n",
              "220  18980380 #$# 2557260 #$# 202130625 #$# 1228782...   \n",
              "\n",
              "                                                    s2  \\\n",
              "108  https://api.semanticscholar.org/CorpusID:94550656   \n",
              "112  https://api.semanticscholar.org/CorpusID:94551239   \n",
              "115  https://api.semanticscholar.org/CorpusID:94551546   \n",
              "148  https://api.semanticscholar.org/CorpusID:94556881   \n",
              "220  https://api.semanticscholar.org/CorpusID:18980380   \n",
              "\n",
              "                                        journal  \\\n",
              "108  International Journal of Physical Sciences   \n",
              "112                     Current Applied Physics   \n",
              "115                          Npg Asia Materials   \n",
              "148                                         NaN   \n",
              "220      IEEE Transactions on Automatic Control   \n",
              "\n",
              "                                      venue  N_Authors  N_Citation  \n",
              "108                                     NaN          5          20  \n",
              "112                                     NaN          5           3  \n",
              "115                                     NaN          7           2  \n",
              "148                                     NaN          4           2  \n",
              "220  IEEE Transactions on Automatic Control          3          18  "
            ]
          },
          "execution_count": 44,
          "metadata": {},
          "output_type": "execute_result"
        }
      ],
      "source": [
        "df2.head()"
      ]
    },
    {
      "cell_type": "code",
      "execution_count": null,
      "metadata": {
        "colab": {
          "base_uri": "https://localhost:8080/"
        },
        "id": "5julLoOdO777",
        "outputId": "9deb55ff-553f-483e-c304-93be0ca696c2"
      },
      "outputs": [
        {
          "data": {
            "text/plain": [
              "(135782, 14)"
            ]
          },
          "execution_count": 45,
          "metadata": {},
          "output_type": "execute_result"
        }
      ],
      "source": [
        "df2 = df2[df2['N_Citation']<=100]\n",
        "df2.shape"
      ]
    },
    {
      "cell_type": "code",
      "execution_count": null,
      "metadata": {
        "colab": {
          "base_uri": "https://localhost:8080/"
        },
        "id": "Im-17tCRJMLa",
        "outputId": "d7b5a8f4-536c-4a29-93fa-1d21d4ed9e3c"
      },
      "outputs": [
        {
          "data": {
            "text/plain": [
              "(134972, 14)"
            ]
          },
          "execution_count": 46,
          "metadata": {},
          "output_type": "execute_result"
        }
      ],
      "source": [
        "df3 = df2[df2['N_Authors']<20]\n",
        "df3.shape"
      ]
    },
    {
      "cell_type": "code",
      "execution_count": null,
      "metadata": {
        "colab": {
          "base_uri": "https://localhost:8080/"
        },
        "id": "bynUOSlvNzf_",
        "outputId": "3a5af541-1e4d-443f-c9eb-1580a7b5373e"
      },
      "outputs": [
        {
          "data": {
            "text/plain": [
              "Paper_ID             0\n",
              "Title                0\n",
              "Authors              0\n",
              "Abstract         11126\n",
              "Year                 0\n",
              "Domains           3910\n",
              "all_access_id        0\n",
              "outbound             0\n",
              "inbound              0\n",
              "s2                   0\n",
              "journal          20389\n",
              "venue            39746\n",
              "N_Authors            0\n",
              "N_Citation           0\n",
              "dtype: int64"
            ]
          },
          "execution_count": 47,
          "metadata": {},
          "output_type": "execute_result"
        }
      ],
      "source": [
        "df3.isnull().sum()"
      ]
    },
    {
      "cell_type": "code",
      "execution_count": null,
      "metadata": {
        "id": "WehAaGj5Pzz1"
      },
      "outputs": [],
      "source": [
        "df3.to_csv('/content/drive/MyDrive/new_data.csv', index = True)"
      ]
    },
    {
      "cell_type": "code",
      "execution_count": null,
      "metadata": {
        "colab": {
          "base_uri": "https://localhost:8080/",
          "height": 183
        },
        "id": "ou8vkF-6QCXs",
        "outputId": "22a90c42-df3d-4a03-a91a-62e64650abb2"
      },
      "outputs": [
        {
          "ename": "NameError",
          "evalue": "ignored",
          "output_type": "error",
          "traceback": [
            "\u001b[0;31m---------------------------------------------------------------------------\u001b[0m",
            "\u001b[0;31mNameError\u001b[0m                                 Traceback (most recent call last)",
            "\u001b[0;32m<ipython-input-2-1e0f370ee640>\u001b[0m in \u001b[0;36m<cell line: 1>\u001b[0;34m()\u001b[0m\n\u001b[0;32m----> 1\u001b[0;31m \u001b[0mdf3\u001b[0m \u001b[0;34m=\u001b[0m \u001b[0mpd\u001b[0m\u001b[0;34m.\u001b[0m\u001b[0mread_csv\u001b[0m\u001b[0;34m(\u001b[0m\u001b[0;34m'/content/drive/MyDrive/new_data.csv'\u001b[0m \u001b[0;34m,\u001b[0m \u001b[0mindex_col\u001b[0m \u001b[0;34m=\u001b[0m \u001b[0;36m0\u001b[0m\u001b[0;34m)\u001b[0m\u001b[0;34m\u001b[0m\u001b[0;34m\u001b[0m\u001b[0m\n\u001b[0m\u001b[1;32m      2\u001b[0m \u001b[0mdf3\u001b[0m\u001b[0;34m.\u001b[0m\u001b[0mhead\u001b[0m\u001b[0;34m(\u001b[0m\u001b[0;34m)\u001b[0m\u001b[0;34m\u001b[0m\u001b[0;34m\u001b[0m\u001b[0m\n",
            "\u001b[0;31mNameError\u001b[0m: name 'pd' is not defined"
          ]
        }
      ],
      "source": [
        "df3 = pd.read_csv('/content/drive/MyDrive/new_data.csv' , index_col = 0)\n",
        "df3.head()"
      ]
    },
    {
      "cell_type": "markdown",
      "metadata": {
        "id": "sjooVUQ8nCBO"
      },
      "source": [
        "## Get the dbpedia entities"
      ]
    },
    {
      "cell_type": "code",
      "execution_count": null,
      "metadata": {
        "colab": {
          "base_uri": "https://localhost:8080/"
        },
        "id": "xGoSHiW_HOEq",
        "outputId": "933dd01d-751f-435c-f6ac-823a43cb9fc8"
      },
      "outputs": [
        {
          "name": "stdout",
          "output_type": "stream",
          "text": [
            "Looking in indexes: https://pypi.org/simple, https://us-python.pkg.dev/colab-wheels/public/simple/\n",
            "Collecting spacy-dbpedia-spotlight\n",
            "  Downloading spacy_dbpedia_spotlight-0.2.5.tar.gz (15 kB)\n",
            "  Preparing metadata (setup.py) ... \u001b[?25l\u001b[?25hdone\n",
            "Requirement already satisfied: spacy>=3 in /usr/local/lib/python3.8/dist-packages (from spacy-dbpedia-spotlight) (3.4.4)\n",
            "Collecting loguru\n",
            "  Downloading loguru-0.6.0-py3-none-any.whl (58 kB)\n",
            "\u001b[2K     \u001b[90m━━━━━━━━━━━━━━━━━━━━━━━━━━━━━━━━━━━━━━━━\u001b[0m \u001b[32m58.3/58.3 KB\u001b[0m \u001b[31m2.7 MB/s\u001b[0m eta \u001b[36m0:00:00\u001b[0m\n",
            "\u001b[?25hRequirement already satisfied: thinc<8.2.0,>=8.1.0 in /usr/local/lib/python3.8/dist-packages (from spacy>=3->spacy-dbpedia-spotlight) (8.1.7)\n",
            "Requirement already satisfied: pydantic!=1.8,!=1.8.1,<1.11.0,>=1.7.4 in /usr/local/lib/python3.8/dist-packages (from spacy>=3->spacy-dbpedia-spotlight) (1.10.4)\n",
            "Requirement already satisfied: pathy>=0.3.5 in /usr/local/lib/python3.8/dist-packages (from spacy>=3->spacy-dbpedia-spotlight) (0.10.1)\n",
            "Requirement already satisfied: srsly<3.0.0,>=2.4.3 in /usr/local/lib/python3.8/dist-packages (from spacy>=3->spacy-dbpedia-spotlight) (2.4.5)\n",
            "Requirement already satisfied: typer<0.8.0,>=0.3.0 in /usr/local/lib/python3.8/dist-packages (from spacy>=3->spacy-dbpedia-spotlight) (0.7.0)\n",
            "Requirement already satisfied: packaging>=20.0 in /usr/local/lib/python3.8/dist-packages (from spacy>=3->spacy-dbpedia-spotlight) (23.0)\n",
            "Requirement already satisfied: numpy>=1.15.0 in /usr/local/lib/python3.8/dist-packages (from spacy>=3->spacy-dbpedia-spotlight) (1.21.6)\n",
            "Requirement already satisfied: spacy-legacy<3.1.0,>=3.0.10 in /usr/local/lib/python3.8/dist-packages (from spacy>=3->spacy-dbpedia-spotlight) (3.0.12)\n",
            "Requirement already satisfied: spacy-loggers<2.0.0,>=1.0.0 in /usr/local/lib/python3.8/dist-packages (from spacy>=3->spacy-dbpedia-spotlight) (1.0.4)\n",
            "Requirement already satisfied: smart-open<7.0.0,>=5.2.1 in /usr/local/lib/python3.8/dist-packages (from spacy>=3->spacy-dbpedia-spotlight) (6.3.0)\n",
            "Requirement already satisfied: wasabi<1.1.0,>=0.9.1 in /usr/local/lib/python3.8/dist-packages (from spacy>=3->spacy-dbpedia-spotlight) (0.10.1)\n",
            "Requirement already satisfied: preshed<3.1.0,>=3.0.2 in /usr/local/lib/python3.8/dist-packages (from spacy>=3->spacy-dbpedia-spotlight) (3.0.8)\n",
            "Requirement already satisfied: catalogue<2.1.0,>=2.0.6 in /usr/local/lib/python3.8/dist-packages (from spacy>=3->spacy-dbpedia-spotlight) (2.0.8)\n",
            "Requirement already satisfied: tqdm<5.0.0,>=4.38.0 in /usr/local/lib/python3.8/dist-packages (from spacy>=3->spacy-dbpedia-spotlight) (4.64.1)\n",
            "Requirement already satisfied: requests<3.0.0,>=2.13.0 in /usr/local/lib/python3.8/dist-packages (from spacy>=3->spacy-dbpedia-spotlight) (2.25.1)\n",
            "Requirement already satisfied: langcodes<4.0.0,>=3.2.0 in /usr/local/lib/python3.8/dist-packages (from spacy>=3->spacy-dbpedia-spotlight) (3.3.0)\n",
            "Requirement already satisfied: cymem<2.1.0,>=2.0.2 in /usr/local/lib/python3.8/dist-packages (from spacy>=3->spacy-dbpedia-spotlight) (2.0.7)\n",
            "Requirement already satisfied: murmurhash<1.1.0,>=0.28.0 in /usr/local/lib/python3.8/dist-packages (from spacy>=3->spacy-dbpedia-spotlight) (1.0.9)\n",
            "Requirement already satisfied: setuptools in /usr/local/lib/python3.8/dist-packages (from spacy>=3->spacy-dbpedia-spotlight) (57.4.0)\n",
            "Requirement already satisfied: jinja2 in /usr/local/lib/python3.8/dist-packages (from spacy>=3->spacy-dbpedia-spotlight) (2.11.3)\n",
            "Requirement already satisfied: typing-extensions>=4.2.0 in /usr/local/lib/python3.8/dist-packages (from pydantic!=1.8,!=1.8.1,<1.11.0,>=1.7.4->spacy>=3->spacy-dbpedia-spotlight) (4.4.0)\n",
            "Requirement already satisfied: certifi>=2017.4.17 in /usr/local/lib/python3.8/dist-packages (from requests<3.0.0,>=2.13.0->spacy>=3->spacy-dbpedia-spotlight) (2022.12.7)\n",
            "Requirement already satisfied: urllib3<1.27,>=1.21.1 in /usr/local/lib/python3.8/dist-packages (from requests<3.0.0,>=2.13.0->spacy>=3->spacy-dbpedia-spotlight) (1.24.3)\n",
            "Requirement already satisfied: idna<3,>=2.5 in /usr/local/lib/python3.8/dist-packages (from requests<3.0.0,>=2.13.0->spacy>=3->spacy-dbpedia-spotlight) (2.10)\n",
            "Requirement already satisfied: chardet<5,>=3.0.2 in /usr/local/lib/python3.8/dist-packages (from requests<3.0.0,>=2.13.0->spacy>=3->spacy-dbpedia-spotlight) (4.0.0)\n",
            "Requirement already satisfied: blis<0.8.0,>=0.7.8 in /usr/local/lib/python3.8/dist-packages (from thinc<8.2.0,>=8.1.0->spacy>=3->spacy-dbpedia-spotlight) (0.7.9)\n",
            "Requirement already satisfied: confection<1.0.0,>=0.0.1 in /usr/local/lib/python3.8/dist-packages (from thinc<8.2.0,>=8.1.0->spacy>=3->spacy-dbpedia-spotlight) (0.0.4)\n",
            "Requirement already satisfied: click<9.0.0,>=7.1.1 in /usr/local/lib/python3.8/dist-packages (from typer<0.8.0,>=0.3.0->spacy>=3->spacy-dbpedia-spotlight) (7.1.2)\n",
            "Requirement already satisfied: MarkupSafe>=0.23 in /usr/local/lib/python3.8/dist-packages (from jinja2->spacy>=3->spacy-dbpedia-spotlight) (2.0.1)\n",
            "Building wheels for collected packages: spacy-dbpedia-spotlight\n",
            "  Building wheel for spacy-dbpedia-spotlight (setup.py) ... \u001b[?25l\u001b[?25hdone\n",
            "  Created wheel for spacy-dbpedia-spotlight: filename=spacy_dbpedia_spotlight-0.2.5-py3-none-any.whl size=12374 sha256=3a1c3aa3f62c2d4b887d9d55e2816d75113b5884d285473445c05354e2f89a02\n",
            "  Stored in directory: /root/.cache/pip/wheels/f1/4c/61/c238aa752c0526571027070ce766a02f3db53eaa0fd4faab1a\n",
            "Successfully built spacy-dbpedia-spotlight\n",
            "Installing collected packages: loguru, spacy-dbpedia-spotlight\n",
            "Successfully installed loguru-0.6.0 spacy-dbpedia-spotlight-0.2.5\n"
          ]
        }
      ],
      "source": [
        "!pip install spacy-dbpedia-spotlight"
      ]
    },
    {
      "cell_type": "code",
      "execution_count": null,
      "metadata": {
        "colab": {
          "base_uri": "https://localhost:8080/"
        },
        "id": "suAXa9IJby9X",
        "outputId": "1ad3d368-e193-442a-f071-6327ebf31a7b"
      },
      "outputs": [
        {
          "data": {
            "text/plain": [
              "(30972, 14)"
            ]
          },
          "execution_count": 4,
          "metadata": {},
          "output_type": "execute_result"
        }
      ],
      "source": [
        "df3 = df3.iloc[104000:]\n",
        "df3.shape"
      ]
    },
    {
      "cell_type": "code",
      "execution_count": null,
      "metadata": {
        "colab": {
          "base_uri": "https://localhost:8080/",
          "height": 528
        },
        "id": "j3VSl2-Db4ZW",
        "outputId": "3e15d8cc-68ab-4ed1-fcdb-8419da89e95d"
      },
      "outputs": [
        {
          "data": {
            "text/html": [
              "\n",
              "  <div id=\"df-18aed1a1-ffe5-44bd-9111-5a3b616abbff\">\n",
              "    <div class=\"colab-df-container\">\n",
              "      <div>\n",
              "<style scoped>\n",
              "    .dataframe tbody tr th:only-of-type {\n",
              "        vertical-align: middle;\n",
              "    }\n",
              "\n",
              "    .dataframe tbody tr th {\n",
              "        vertical-align: top;\n",
              "    }\n",
              "\n",
              "    .dataframe thead th {\n",
              "        text-align: right;\n",
              "    }\n",
              "</style>\n",
              "<table border=\"1\" class=\"dataframe\">\n",
              "  <thead>\n",
              "    <tr style=\"text-align: right;\">\n",
              "      <th></th>\n",
              "      <th>Paper_ID</th>\n",
              "      <th>Title</th>\n",
              "      <th>Authors</th>\n",
              "      <th>Abstract</th>\n",
              "      <th>Year</th>\n",
              "      <th>Domains</th>\n",
              "      <th>all_access_id</th>\n",
              "      <th>outbound</th>\n",
              "      <th>inbound</th>\n",
              "      <th>s2</th>\n",
              "      <th>journal</th>\n",
              "      <th>venue</th>\n",
              "      <th>N_Authors</th>\n",
              "      <th>N_Citation</th>\n",
              "    </tr>\n",
              "  </thead>\n",
              "  <tbody>\n",
              "    <tr>\n",
              "      <th>1049638</th>\n",
              "      <td>73355120</td>\n",
              "      <td>Contribution of bradykinin to the cardioprotec...</td>\n",
              "      <td>Laine J. Murphey  #  #$# Douglas E. Vaughan  #...</td>\n",
              "      <td>Bradykinin, through its B 2 receptor, stimulat...</td>\n",
              "      <td>2003.0</td>\n",
              "      <td>Medicine</td>\n",
              "      <td># #$#  # #$#  # #$#  # #$# 10.1016/S1520-765X...</td>\n",
              "      <td>83187388 #$# 28282001 #$# 41719557 #$# 6236353...</td>\n",
              "      <td>214958276 #$# 7275689 #$# 5225525 #$# 8230389 ...</td>\n",
              "      <td>https://api.semanticscholar.org/CorpusID:73355120</td>\n",
              "      <td>European Heart Journal Supplements</td>\n",
              "      <td>NaN</td>\n",
              "      <td>4</td>\n",
              "      <td>10</td>\n",
              "    </tr>\n",
              "    <tr>\n",
              "      <th>1049673</th>\n",
              "      <td>45320240</td>\n",
              "      <td>Patterned Poly(dopamine) Films for Enhanced Ce...</td>\n",
              "      <td>Xi  # Chen  #  #$# Christina  # Cortez-Jugo  #...</td>\n",
              "      <td>Engineered materials that promote cell adhesio...</td>\n",
              "      <td>2017.0</td>\n",
              "      <td>Chemistry #$# Medicine</td>\n",
              "      <td># #$#  # #$#  # #$# 28095687 #$# 10.1021/acs....</td>\n",
              "      <td>206861569 #$# 39299795 #$# 6706970 #$# 2671717...</td>\n",
              "      <td>213181972 #$# 24894366 #$# 215347699 #$# 53226...</td>\n",
              "      <td>https://api.semanticscholar.org/CorpusID:45320240</td>\n",
              "      <td>Bioconjugate chemistry</td>\n",
              "      <td>Bioconjugate chemistry</td>\n",
              "      <td>8</td>\n",
              "      <td>5</td>\n",
              "    </tr>\n",
              "    <tr>\n",
              "      <th>1049689</th>\n",
              "      <td>45323101</td>\n",
              "      <td>Maternal urological injuries associated with v...</td>\n",
              "      <td>S. A. Kattan  #  #$#</td>\n",
              "      <td>Injury to the maternal lower urinary tract is ...</td>\n",
              "      <td>2006.0</td>\n",
              "      <td>Medicine</td>\n",
              "      <td># #$#  # #$#  # #$# 9241541 #$# 10.1007/BF025...</td>\n",
              "      <td>40907743 #$# 33927084 #$# 36672322 #$# 4623954...</td>\n",
              "      <td>43074045 #$# 29613887 #$# 11678145 #$# 26063346</td>\n",
              "      <td>https://api.semanticscholar.org/CorpusID:45323101</td>\n",
              "      <td>International Urology and Nephrology</td>\n",
              "      <td>International Urology and Nephrology</td>\n",
              "      <td>2</td>\n",
              "      <td>4</td>\n",
              "    </tr>\n",
              "    <tr>\n",
              "      <th>1049693</th>\n",
              "      <td>45323687</td>\n",
              "      <td>Microbead dynamics on Quartz Crystal Microbala...</td>\n",
              "      <td>S.K.  # Ghosh  #  #$# V.P.  # Ostanin  #  #$# ...</td>\n",
              "      <td>The application of the Quartz Crystal Microbal...</td>\n",
              "      <td>2009.0</td>\n",
              "      <td>Physics</td>\n",
              "      <td># #$#  # #$#  # #$#  # #$# 10.1109/ULTSYM.200...</td>\n",
              "      <td>197200198 #$# 42002987 #$# 95249032 #$# 730787...</td>\n",
              "      <td>25980762</td>\n",
              "      <td>https://api.semanticscholar.org/CorpusID:45323687</td>\n",
              "      <td>2009 IEEE International Ultrasonics Symposium</td>\n",
              "      <td>2009 IEEE International Ultrasonics Symposium</td>\n",
              "      <td>4</td>\n",
              "      <td>1</td>\n",
              "    </tr>\n",
              "    <tr>\n",
              "      <th>1049736</th>\n",
              "      <td>45328777</td>\n",
              "      <td>Treatment trends of rheumatoid arthritis in Ja...</td>\n",
              "      <td>Nobuyuki  # Miyasaka  #  #$#</td>\n",
              "      <td>NaN</td>\n",
              "      <td>2011.0</td>\n",
              "      <td>Medicine</td>\n",
              "      <td># #$#  # #$#  # #$#  # #$# 10.2492/inflammreg...</td>\n",
              "      <td>33491934 #$# 34484362 #$# 40327923 #$# 7728206...</td>\n",
              "      <td>45328777 #$# 73420337 #$# 28142524 #$# 11673808</td>\n",
              "      <td>https://api.semanticscholar.org/CorpusID:45328777</td>\n",
              "      <td>Inflammation and Regeneration</td>\n",
              "      <td>NaN</td>\n",
              "      <td>2</td>\n",
              "      <td>4</td>\n",
              "    </tr>\n",
              "  </tbody>\n",
              "</table>\n",
              "</div>\n",
              "      <button class=\"colab-df-convert\" onclick=\"convertToInteractive('df-18aed1a1-ffe5-44bd-9111-5a3b616abbff')\"\n",
              "              title=\"Convert this dataframe to an interactive table.\"\n",
              "              style=\"display:none;\">\n",
              "        \n",
              "  <svg xmlns=\"http://www.w3.org/2000/svg\" height=\"24px\"viewBox=\"0 0 24 24\"\n",
              "       width=\"24px\">\n",
              "    <path d=\"M0 0h24v24H0V0z\" fill=\"none\"/>\n",
              "    <path d=\"M18.56 5.44l.94 2.06.94-2.06 2.06-.94-2.06-.94-.94-2.06-.94 2.06-2.06.94zm-11 1L8.5 8.5l.94-2.06 2.06-.94-2.06-.94L8.5 2.5l-.94 2.06-2.06.94zm10 10l.94 2.06.94-2.06 2.06-.94-2.06-.94-.94-2.06-.94 2.06-2.06.94z\"/><path d=\"M17.41 7.96l-1.37-1.37c-.4-.4-.92-.59-1.43-.59-.52 0-1.04.2-1.43.59L10.3 9.45l-7.72 7.72c-.78.78-.78 2.05 0 2.83L4 21.41c.39.39.9.59 1.41.59.51 0 1.02-.2 1.41-.59l7.78-7.78 2.81-2.81c.8-.78.8-2.07 0-2.86zM5.41 20L4 18.59l7.72-7.72 1.47 1.35L5.41 20z\"/>\n",
              "  </svg>\n",
              "      </button>\n",
              "      \n",
              "  <style>\n",
              "    .colab-df-container {\n",
              "      display:flex;\n",
              "      flex-wrap:wrap;\n",
              "      gap: 12px;\n",
              "    }\n",
              "\n",
              "    .colab-df-convert {\n",
              "      background-color: #E8F0FE;\n",
              "      border: none;\n",
              "      border-radius: 50%;\n",
              "      cursor: pointer;\n",
              "      display: none;\n",
              "      fill: #1967D2;\n",
              "      height: 32px;\n",
              "      padding: 0 0 0 0;\n",
              "      width: 32px;\n",
              "    }\n",
              "\n",
              "    .colab-df-convert:hover {\n",
              "      background-color: #E2EBFA;\n",
              "      box-shadow: 0px 1px 2px rgba(60, 64, 67, 0.3), 0px 1px 3px 1px rgba(60, 64, 67, 0.15);\n",
              "      fill: #174EA6;\n",
              "    }\n",
              "\n",
              "    [theme=dark] .colab-df-convert {\n",
              "      background-color: #3B4455;\n",
              "      fill: #D2E3FC;\n",
              "    }\n",
              "\n",
              "    [theme=dark] .colab-df-convert:hover {\n",
              "      background-color: #434B5C;\n",
              "      box-shadow: 0px 1px 3px 1px rgba(0, 0, 0, 0.15);\n",
              "      filter: drop-shadow(0px 1px 2px rgba(0, 0, 0, 0.3));\n",
              "      fill: #FFFFFF;\n",
              "    }\n",
              "  </style>\n",
              "\n",
              "      <script>\n",
              "        const buttonEl =\n",
              "          document.querySelector('#df-18aed1a1-ffe5-44bd-9111-5a3b616abbff button.colab-df-convert');\n",
              "        buttonEl.style.display =\n",
              "          google.colab.kernel.accessAllowed ? 'block' : 'none';\n",
              "\n",
              "        async function convertToInteractive(key) {\n",
              "          const element = document.querySelector('#df-18aed1a1-ffe5-44bd-9111-5a3b616abbff');\n",
              "          const dataTable =\n",
              "            await google.colab.kernel.invokeFunction('convertToInteractive',\n",
              "                                                     [key], {});\n",
              "          if (!dataTable) return;\n",
              "\n",
              "          const docLinkHtml = 'Like what you see? Visit the ' +\n",
              "            '<a target=\"_blank\" href=https://colab.research.google.com/notebooks/data_table.ipynb>data table notebook</a>'\n",
              "            + ' to learn more about interactive tables.';\n",
              "          element.innerHTML = '';\n",
              "          dataTable['output_type'] = 'display_data';\n",
              "          await google.colab.output.renderOutput(dataTable, element);\n",
              "          const docLink = document.createElement('div');\n",
              "          docLink.innerHTML = docLinkHtml;\n",
              "          element.appendChild(docLink);\n",
              "        }\n",
              "      </script>\n",
              "    </div>\n",
              "  </div>\n",
              "  "
            ],
            "text/plain": [
              "         Paper_ID                                              Title  \\\n",
              "1049638  73355120  Contribution of bradykinin to the cardioprotec...   \n",
              "1049673  45320240  Patterned Poly(dopamine) Films for Enhanced Ce...   \n",
              "1049689  45323101  Maternal urological injuries associated with v...   \n",
              "1049693  45323687  Microbead dynamics on Quartz Crystal Microbala...   \n",
              "1049736  45328777  Treatment trends of rheumatoid arthritis in Ja...   \n",
              "\n",
              "                                                   Authors  \\\n",
              "1049638  Laine J. Murphey  #  #$# Douglas E. Vaughan  #...   \n",
              "1049673  Xi  # Chen  #  #$# Christina  # Cortez-Jugo  #...   \n",
              "1049689                              S. A. Kattan  #  #$#    \n",
              "1049693  S.K.  # Ghosh  #  #$# V.P.  # Ostanin  #  #$# ...   \n",
              "1049736                      Nobuyuki  # Miyasaka  #  #$#    \n",
              "\n",
              "                                                  Abstract    Year  \\\n",
              "1049638  Bradykinin, through its B 2 receptor, stimulat...  2003.0   \n",
              "1049673  Engineered materials that promote cell adhesio...  2017.0   \n",
              "1049689  Injury to the maternal lower urinary tract is ...  2006.0   \n",
              "1049693  The application of the Quartz Crystal Microbal...  2009.0   \n",
              "1049736                                                NaN  2011.0   \n",
              "\n",
              "                        Domains  \\\n",
              "1049638                Medicine   \n",
              "1049673  Chemistry #$# Medicine   \n",
              "1049689                Medicine   \n",
              "1049693                 Physics   \n",
              "1049736                Medicine   \n",
              "\n",
              "                                             all_access_id  \\\n",
              "1049638   # #$#  # #$#  # #$#  # #$# 10.1016/S1520-765X...   \n",
              "1049673   # #$#  # #$#  # #$# 28095687 #$# 10.1021/acs....   \n",
              "1049689   # #$#  # #$#  # #$# 9241541 #$# 10.1007/BF025...   \n",
              "1049693   # #$#  # #$#  # #$#  # #$# 10.1109/ULTSYM.200...   \n",
              "1049736   # #$#  # #$#  # #$#  # #$# 10.2492/inflammreg...   \n",
              "\n",
              "                                                  outbound  \\\n",
              "1049638  83187388 #$# 28282001 #$# 41719557 #$# 6236353...   \n",
              "1049673  206861569 #$# 39299795 #$# 6706970 #$# 2671717...   \n",
              "1049689  40907743 #$# 33927084 #$# 36672322 #$# 4623954...   \n",
              "1049693  197200198 #$# 42002987 #$# 95249032 #$# 730787...   \n",
              "1049736  33491934 #$# 34484362 #$# 40327923 #$# 7728206...   \n",
              "\n",
              "                                                   inbound  \\\n",
              "1049638  214958276 #$# 7275689 #$# 5225525 #$# 8230389 ...   \n",
              "1049673  213181972 #$# 24894366 #$# 215347699 #$# 53226...   \n",
              "1049689    43074045 #$# 29613887 #$# 11678145 #$# 26063346   \n",
              "1049693                                           25980762   \n",
              "1049736    45328777 #$# 73420337 #$# 28142524 #$# 11673808   \n",
              "\n",
              "                                                        s2  \\\n",
              "1049638  https://api.semanticscholar.org/CorpusID:73355120   \n",
              "1049673  https://api.semanticscholar.org/CorpusID:45320240   \n",
              "1049689  https://api.semanticscholar.org/CorpusID:45323101   \n",
              "1049693  https://api.semanticscholar.org/CorpusID:45323687   \n",
              "1049736  https://api.semanticscholar.org/CorpusID:45328777   \n",
              "\n",
              "                                               journal  \\\n",
              "1049638             European Heart Journal Supplements   \n",
              "1049673                         Bioconjugate chemistry   \n",
              "1049689           International Urology and Nephrology   \n",
              "1049693  2009 IEEE International Ultrasonics Symposium   \n",
              "1049736                  Inflammation and Regeneration   \n",
              "\n",
              "                                                 venue  N_Authors  N_Citation  \n",
              "1049638                                            NaN          4          10  \n",
              "1049673                         Bioconjugate chemistry          8           5  \n",
              "1049689           International Urology and Nephrology          2           4  \n",
              "1049693  2009 IEEE International Ultrasonics Symposium          4           1  \n",
              "1049736                                            NaN          2           4  "
            ]
          },
          "execution_count": 5,
          "metadata": {},
          "output_type": "execute_result"
        }
      ],
      "source": [
        "df3.head()"
      ]
    },
    {
      "cell_type": "code",
      "execution_count": null,
      "metadata": {
        "id": "U0y043Ptt-GH"
      },
      "outputs": [],
      "source": [
        "import spacy\n",
        "import spacy_dbpedia_spotlight\n",
        "from tqdm.notebook import tqdm\n",
        "import json"
      ]
    },
    {
      "cell_type": "code",
      "execution_count": null,
      "metadata": {
        "id": "zbrdF6g_ciVg"
      },
      "outputs": [],
      "source": [
        "concepts = {}"
      ]
    },
    {
      "cell_type": "code",
      "execution_count": null,
      "metadata": {
        "colab": {
          "base_uri": "https://localhost:8080/"
        },
        "id": "XG3oqjtOsJoo",
        "outputId": "9d0056aa-999c-4ae3-b40e-4ba8b628536d"
      },
      "outputs": [
        {
          "data": {
            "text/plain": [
              "<spacy_dbpedia_spotlight.entity_linker.EntityLinker at 0x7f07905105e0>"
            ]
          },
          "execution_count": 10,
          "metadata": {},
          "output_type": "execute_result"
        }
      ],
      "source": [
        "nlp = spacy.load('en_core_web_sm')\n",
        "nlp.add_pipe('dbpedia_spotlight')"
      ]
    },
    {
      "cell_type": "code",
      "execution_count": null,
      "metadata": {
        "colab": {
          "base_uri": "https://localhost:8080/",
          "height": 136
        },
        "id": "Ez2yn1rVp0gW",
        "outputId": "428d9a21-7a3c-43ea-c62a-f2cb6aa5592a"
      },
      "outputs": [
        {
          "data": {
            "application/vnd.jupyter.widget-view+json": {
              "model_id": "5a00c77871ae4226a017440ada12372f",
              "version_major": 2,
              "version_minor": 0
            },
            "text/plain": [
              "0it [00:00, ?it/s]"
            ]
          },
          "metadata": {},
          "output_type": "display_data"
        },
        {
          "name": "stdout",
          "output_type": "stream",
          "text": [
            "file saved: 1090000\n",
            "file saved: 1110000\n",
            "file saved: 1160000\n",
            "file saved: 1170000\n",
            "file saved: 1280000\n"
          ]
        }
      ],
      "source": [
        "from prompt_toolkit.key_binding.key_bindings import abstractproperty\n",
        "for i, row in tqdm(df3.iterrows()):\n",
        "\n",
        "  entities = []\n",
        "  properties = []\n",
        "  p_id = row['Paper_ID']\n",
        "  title = row['Title']\n",
        "  abstract = row['Abstract']\n",
        "\n",
        "  if str(abstract) == 'nan':\n",
        "    text = title\n",
        "  else:\n",
        "    text = abstract + ' ' + title\n",
        "\n",
        "  doc = nlp(text)\n",
        "\n",
        "  for ent in doc.ents:\n",
        "    entities.append(ent.text)\n",
        "\n",
        "\n",
        "  concepts[p_id] = {'entities': entities, 'properties': properties}\n",
        "\n",
        "  if i%10000==0:\n",
        "    with open('/content/drive/MyDrive/concepts3.json', 'w') as file:\n",
        "      json.dump(concepts , file)\n",
        "    print(f'file saved: {i}')"
      ]
    },
    {
      "cell_type": "code",
      "execution_count": null,
      "metadata": {
        "colab": {
          "base_uri": "https://localhost:8080/"
        },
        "id": "h-3mrLB3Xbp4",
        "outputId": "784feaee-d6d2-4215-e1a4-281c410c0e12"
      },
      "outputs": [
        {
          "data": {
            "text/plain": [
              "30972"
            ]
          },
          "execution_count": 13,
          "metadata": {},
          "output_type": "execute_result"
        }
      ],
      "source": [
        "len(concepts)"
      ]
    },
    {
      "cell_type": "code",
      "execution_count": null,
      "metadata": {
        "id": "mX-UrHQXXeL3"
      },
      "outputs": [],
      "source": [
        "with open('/content/drive/MyDrive/concepts2.json', 'w') as file:\n",
        "      json.dump(concepts , file)"
      ]
    },
    {
      "cell_type": "code",
      "execution_count": null,
      "metadata": {
        "id": "SSGz3lWlXiUP"
      },
      "outputs": [],
      "source": [
        "with open('/content/drive/MyDrive/concepts2.json', 'r') as file:\n",
        "  data = json.load(file)"
      ]
    },
    {
      "cell_type": "code",
      "execution_count": null,
      "metadata": {
        "id": "YU5VSNVHLXK_"
      },
      "outputs": [],
      "source": [
        "with open('/content/drive/MyDrive/concepts3.json', 'w') as file:\n",
        "  json.dump(concepts , file)"
      ]
    },
    {
      "cell_type": "code",
      "execution_count": null,
      "metadata": {
        "id": "ICQwHyVyLkNf"
      },
      "outputs": [],
      "source": [
        "with open('/content/drive/MyDrive/concepts3.json', 'r') as file:\n",
        "  data = json.load(file)"
      ]
    },
    {
      "cell_type": "code",
      "execution_count": null,
      "metadata": {
        "colab": {
          "base_uri": "https://localhost:8080/"
        },
        "id": "n276czQGHXFG",
        "outputId": "fe88defa-e412-4511-cef9-5fe0524c954f"
      },
      "outputs": [
        {
          "name": "stdout",
          "output_type": "stream",
          "text": [
            "Looking in indexes: https://pypi.org/simple, https://us-python.pkg.dev/colab-wheels/public/simple/\n",
            "Collecting rdflib\n",
            "  Downloading rdflib-6.2.0-py3-none-any.whl (500 kB)\n",
            "\u001b[2K     \u001b[90m━━━━━━━━━━━━━━━━━━━━━━━━━━━━━━━━━━━━━━━\u001b[0m \u001b[32m500.3/500.3 KB\u001b[0m \u001b[31m9.0 MB/s\u001b[0m eta \u001b[36m0:00:00\u001b[0m\n",
            "\u001b[?25hRequirement already satisfied: setuptools in /usr/local/lib/python3.8/dist-packages (from rdflib) (57.4.0)\n",
            "Collecting isodate\n",
            "  Downloading isodate-0.6.1-py2.py3-none-any.whl (41 kB)\n",
            "\u001b[2K     \u001b[90m━━━━━━━━━━━━━━━━━━━━━━━━━━━━━━━━━━━━━━━━\u001b[0m \u001b[32m41.7/41.7 KB\u001b[0m \u001b[31m4.0 MB/s\u001b[0m eta \u001b[36m0:00:00\u001b[0m\n",
            "\u001b[?25hRequirement already satisfied: pyparsing in /usr/local/lib/python3.8/dist-packages (from rdflib) (3.0.9)\n",
            "Requirement already satisfied: six in /usr/local/lib/python3.8/dist-packages (from isodate->rdflib) (1.15.0)\n",
            "Installing collected packages: isodate, rdflib\n",
            "Successfully installed isodate-0.6.1 rdflib-6.2.0\n",
            "Looking in indexes: https://pypi.org/simple, https://us-python.pkg.dev/colab-wheels/public/simple/\n",
            "Collecting SPARQLWrapper\n",
            "  Downloading SPARQLWrapper-2.0.0-py3-none-any.whl (28 kB)\n",
            "Requirement already satisfied: rdflib>=6.1.1 in /usr/local/lib/python3.8/dist-packages (from SPARQLWrapper) (6.2.0)\n",
            "Requirement already satisfied: isodate in /usr/local/lib/python3.8/dist-packages (from rdflib>=6.1.1->SPARQLWrapper) (0.6.1)\n",
            "Requirement already satisfied: setuptools in /usr/local/lib/python3.8/dist-packages (from rdflib>=6.1.1->SPARQLWrapper) (57.4.0)\n",
            "Requirement already satisfied: pyparsing in /usr/local/lib/python3.8/dist-packages (from rdflib>=6.1.1->SPARQLWrapper) (3.0.9)\n",
            "Requirement already satisfied: six in /usr/local/lib/python3.8/dist-packages (from isodate->rdflib>=6.1.1->SPARQLWrapper) (1.15.0)\n",
            "Installing collected packages: SPARQLWrapper\n",
            "Successfully installed SPARQLWrapper-2.0.0\n"
          ]
        }
      ],
      "source": [
        "!pip install rdflib\n",
        "!pip install SPARQLWrapper"
      ]
    },
    {
      "cell_type": "markdown",
      "metadata": {
        "id": "FVJ1tfFFnN59"
      },
      "source": [
        "### code for entities properties"
      ]
    },
    {
      "cell_type": "code",
      "execution_count": null,
      "metadata": {
        "id": "zwI4op3cbjUc"
      },
      "outputs": [],
      "source": [
        "from SPARQLWrapper import SPARQLWrapper, JSON, N3\n",
        "from pprint import pprint"
      ]
    },
    {
      "cell_type": "code",
      "execution_count": null,
      "metadata": {
        "id": "IbPahAQJbxOl"
      },
      "outputs": [],
      "source": [
        "sparql = SPARQLWrapper('https://dbpedia.org/sparql')\n",
        "sparql.setQuery('''\n",
        "SELECT ?object\n",
        "WHERE {dbr:Barack_Obama dbo:wikiPageWikiLink ?object .}''')\n",
        "\n",
        "sparql.setReturnFormat(JSON)\n",
        "qres = sparql.query().convert()\n",
        "\n",
        "\n",
        "for result in qres['results']['bindings']:\n",
        "  print(result['object'])\n",
        "  # lang, value = result['object']['xml:lang'], result['object']['value']\n",
        "  # if lang == 'en':\n",
        "  #   print(value)"
      ]
    },
    {
      "cell_type": "code",
      "execution_count": null,
      "metadata": {
        "colab": {
          "base_uri": "https://localhost:8080/"
        },
        "id": "dxattVi3uoKu",
        "outputId": "57cfa4d6-4bae-4d96-df35-53f3a8f2636c"
      },
      "outputs": [
        {
          "data": {
            "text/plain": [
              "{77490025: {'entities': ['strabismus'], 'properties': []}}"
            ]
          },
          "execution_count": 27,
          "metadata": {},
          "output_type": "execute_result"
        }
      ],
      "source": [
        "concepts"
      ]
    },
    {
      "cell_type": "code",
      "execution_count": null,
      "metadata": {
        "colab": {
          "base_uri": "https://localhost:8080/"
        },
        "id": "nn9gyHjXq_0T",
        "outputId": "5ee131cd-372f-41b3-eb9f-9384e93ad4cc"
      },
      "outputs": [
        {
          "name": "stdout",
          "output_type": "stream",
          "text": [
            "Entities [('recommender system', 'DBPEDIA_ENT', 'http://dbpedia.org/resource/Recommender_system'), ('recommender system', 'DBPEDIA_ENT', 'http://dbpedia.org/resource/Recommender_system'), ('hybrid', 'DBPEDIA_ENT', 'http://dbpedia.org/resource/Hybrid_electric_vehicle'), ('content analysis', 'DBPEDIA_ENT', 'http://dbpedia.org/resource/Content_analysis'), ('topic modeling', 'DBPEDIA_ENT', 'http://dbpedia.org/resource/Topic_model'), ('language model', 'DBPEDIA_ENT', 'http://dbpedia.org/resource/Language_model'), ('DBLP', 'DBPEDIA_ENT', 'http://dbpedia.org/resource/DBLP')]\n",
            "{'@URI': 'http://dbpedia.org/resource/Recommender_system', '@support': '302', '@types': '', '@surfaceForm': 'recommender system', '@offset': '151', '@similarityScore': '1.0', '@percentageOfSecondRank': '0.0'}\n"
          ]
        }
      ],
      "source": [
        "import spacy_dbpedia_spotlight\n",
        "\n",
        "nlp = spacy.load('en_core_web_sm')\n",
        "# add the pipeline stage\n",
        "nlp.add_pipe('dbpedia_spotlight')\n",
        "# get the document\n",
        "doc = nlp('When looking for recently published scientific papers, a researcher\\\n",
        "usually focuses on the topics related to her/his scientific interests.\\\n",
        "The task of a recommender system is to recommender system provide a list of unseen\\\n",
        "papers that match these topics. The core idea of this paper is to leverage the latent topics of interest in the publications of the researchers,\\\n",
        "and to take advantage of the social structure of the researchers (relations among researchers in the same field) as reliable sources\\\n",
        "of knowledge to improve the recommendation effectiveness. In\\\n",
        "particular, we introduce a hybrid approach to the task of scientific\\\n",
        "papers recommendation, which combines content analysis based on\\\n",
        "probabilistic topic modeling and ideas from collaborative filtering\\\n",
        "based on a relevance-based language model. We conducted an experimental study on DBLP, which demonstrates that our approach\\\n",
        "is promising.')\n",
        "# see the entities\n",
        "print('Entities', [(ent.text, ent.label_, ent.kb_id_) for ent in doc.ents])\n",
        "# inspect the raw data from DBpedia spotlight\n",
        "print(doc.ents[0]._.dbpedia_raw_result)"
      ]
    },
    {
      "cell_type": "markdown",
      "metadata": {
        "id": "W0kqTfSMnS61"
      },
      "source": [
        "## Step 3 remove papers with entites less than 4"
      ]
    },
    {
      "cell_type": "code",
      "execution_count": null,
      "metadata": {
        "id": "WKSMUmLSr0XS"
      },
      "outputs": [],
      "source": [
        "import pandas as pd\n",
        "from tqdm.notebook import tqdm\n",
        "import json\n",
        "import numpy as np\n",
        "import matplotlib.pyplot as plt"
      ]
    },
    {
      "cell_type": "code",
      "execution_count": null,
      "metadata": {
        "id": "D1ztHBT3rWfB"
      },
      "outputs": [],
      "source": [
        "df1 = pd.read_csv('/content/drive/MyDrive/new_data.csv', index_col = 0)"
      ]
    },
    {
      "cell_type": "code",
      "execution_count": null,
      "metadata": {
        "id": "wMG2ndOInhW9"
      },
      "outputs": [],
      "source": [
        "with open('/content/drive/MyDrive/concepts2.json', 'r') as file:\n",
        "  data1 = json.load(file)"
      ]
    },
    {
      "cell_type": "code",
      "execution_count": null,
      "metadata": {
        "id": "O4jrSxa3n03P"
      },
      "outputs": [],
      "source": [
        "with open('/content/drive/MyDrive/vedant_concepts.json', 'r') as file:\n",
        "  data2 = json.load(file)"
      ]
    },
    {
      "cell_type": "code",
      "execution_count": null,
      "metadata": {
        "id": "8ByL4-vin3ni"
      },
      "outputs": [],
      "source": [
        "with open('/content/drive/MyDrive/nishant_conecpts.json', 'r') as file:\n",
        "  data3 = json.load(file)"
      ]
    },
    {
      "cell_type": "code",
      "execution_count": null,
      "metadata": {
        "id": "h1nCEr-xoHAo"
      },
      "outputs": [],
      "source": [
        "with open('/content/drive/MyDrive/concepts3.json', 'r') as file:\n",
        "  data4 = json.load(file)"
      ]
    },
    {
      "cell_type": "code",
      "execution_count": null,
      "metadata": {
        "colab": {
          "base_uri": "https://localhost:8080/",
          "height": 162,
          "referenced_widgets": [
            "9a46846566734863a2b4c5295b23d890",
            "e3cbb2a5c8cf4d688477c7cb7db8e931",
            "371ef053138c4317bd79dd0abcc67d07",
            "b6faa4bf170d49949fa02c5807fda717",
            "371c99d2824245ec939a574d6a6db5b2",
            "ae07fcced04a45c287cbcad681ff4b06",
            "121864c769cb4ba993dbbbf41870b7a6",
            "95d1f5695c2341d589abd1aaee95c2e4",
            "e03713d9d9c344e1b7e13bc6826a3860",
            "c2056cfcf6344af8b20dd53be1853850",
            "6022c1755ac143a9a33e0de668af5014",
            "22c5cd6cba3e42e39eaefff2e1dd9e8c",
            "256be66abbaa4680bcd9646cae4f1ade",
            "f0e8d64173304873ab77017f99b57554",
            "20a9c630e383487abc49885493a79f29",
            "958b46530f1e4b0d9a3d9dae1e0c1031",
            "f3810727d69e4eb18d5b3c4fe1aa2b03",
            "dc58a01ee6c94bc68a043e9dd7c865d3",
            "558b5248bb784160b1d5a89b3e54c310",
            "3f031b34cb09487b87d8d49cd7ad17c0",
            "67d7f9ce778c493cb776f596daea5c55",
            "27735d81ca48415f8a704ac90515effc",
            "dcb496dba2ad4353baa18bf64ec03037",
            "6e090fdc4ecc47a78bf84e57c9f8905f",
            "225aadb16f3b47bfaa80f3ce71b1aadf",
            "32cd845ff2e840ac9113d0b84b617590",
            "570d15f1c6014a9f9ba4aed26309d7cd",
            "1b3d961087b6462c8929caf980dabb99",
            "5047461d31904dbeaea507768d80970d",
            "d543c5f6bce34060b6a3a9c6b3b75394",
            "2319e5c18d334e8db4e74e8dad915851",
            "7b7da94608e746ad835e5c81ac5405ee",
            "69fcc29ba8e54d95ad6f90566dec9574",
            "dfbba359ac804d44bdd097618b4d9cc0",
            "6bb08bf9601f4556837238a89dcec8e4",
            "698cba0205734ec8bde5ada075b6fca9",
            "ddaa515f03ec48f58748403c60e9e0f7",
            "7f0d1677b10d465988da8bb385bf3cbb",
            "32ef3a18876049e4a32817eb5c032a42",
            "2040f1822ff4451d807be26d13cb61c7",
            "fcd069ec788a4336ab3c96f669bf57fb",
            "2bb08dd0366e467ab5bf548e8a941b3a",
            "c99eb32f40d34350a0084e329ca41bb1",
            "4846bf3eebb246ec956c068128ec6f24"
          ]
        },
        "id": "PZ4fbsvLoP1d",
        "outputId": "c1a56157-11ad-43ca-d5d8-32c7397ff144"
      },
      "outputs": [
        {
          "data": {
            "application/vnd.jupyter.widget-view+json": {
              "model_id": "9a46846566734863a2b4c5295b23d890",
              "version_major": 2,
              "version_minor": 0
            },
            "text/plain": [
              "  0%|          | 0/34074 [00:00<?, ?it/s]"
            ]
          },
          "metadata": {},
          "output_type": "display_data"
        },
        {
          "data": {
            "application/vnd.jupyter.widget-view+json": {
              "model_id": "22c5cd6cba3e42e39eaefff2e1dd9e8c",
              "version_major": 2,
              "version_minor": 0
            },
            "text/plain": [
              "  0%|          | 0/40000 [00:00<?, ?it/s]"
            ]
          },
          "metadata": {},
          "output_type": "display_data"
        },
        {
          "data": {
            "application/vnd.jupyter.widget-view+json": {
              "model_id": "dcb496dba2ad4353baa18bf64ec03037",
              "version_major": 2,
              "version_minor": 0
            },
            "text/plain": [
              "  0%|          | 0/30000 [00:00<?, ?it/s]"
            ]
          },
          "metadata": {},
          "output_type": "display_data"
        },
        {
          "data": {
            "application/vnd.jupyter.widget-view+json": {
              "model_id": "dfbba359ac804d44bdd097618b4d9cc0",
              "version_major": 2,
              "version_minor": 0
            },
            "text/plain": [
              "  0%|          | 0/30972 [00:00<?, ?it/s]"
            ]
          },
          "metadata": {},
          "output_type": "display_data"
        },
        {
          "name": "stdout",
          "output_type": "stream",
          "text": [
            "134972\n"
          ]
        }
      ],
      "source": [
        "final_data1 = {}\n",
        "datadict = [data1, data2, data3, data4]\n",
        "\n",
        "for d in datadict:\n",
        "  for key, value in tqdm(d.items()):\n",
        "    final_data1[key] = value\n",
        "\n",
        "print(len(final_data1))"
      ]
    },
    {
      "cell_type": "code",
      "execution_count": null,
      "metadata": {
        "colab": {
          "base_uri": "https://localhost:8080/",
          "height": 49,
          "referenced_widgets": [
            "49257e10594e4ba38d8a61360c44f1ee",
            "54969749eec54dbfac6c0d08ac2fe115",
            "b9cbe9b81271424ca05292861ac496c2",
            "d3e1d38691f44104a7698334be23a29e",
            "9cb3f6f1e87c4efb82f670124e99f251",
            "63bfe361faeb4107b2c62ba4352dfdb4",
            "335bb789bfcf43e59362605f1d55d854",
            "21c296d261fa4f519905bfaabf01930d",
            "a8bc917272aa4c9497f7242377e01ede",
            "e077099aa85c4c5d99ba59ff521056c6",
            "dc09a7e91f354087ba023e255e633a5c"
          ]
        },
        "id": "M8vzRVQWouh2",
        "outputId": "b3912663-bc2d-460d-cc69-a28a34dd503e"
      },
      "outputs": [
        {
          "data": {
            "application/vnd.jupyter.widget-view+json": {
              "model_id": "49257e10594e4ba38d8a61360c44f1ee",
              "version_major": 2,
              "version_minor": 0
            },
            "text/plain": [
              "  0%|          | 0/134972 [00:00<?, ?it/s]"
            ]
          },
          "metadata": {},
          "output_type": "display_data"
        }
      ],
      "source": [
        "final_data2 = {}\n",
        "for key, value in tqdm(final_data1.items()):\n",
        "  entities = value['entities']\n",
        "  entities = [*set(entities)]\n",
        "  entities = [ele for ele in entities if len(ele)>1]\n",
        "\n",
        "  value['entities'] = entities\n",
        "  final_data2[key] = value\n"
      ]
    },
    {
      "cell_type": "code",
      "execution_count": null,
      "metadata": {
        "id": "XzmkO_fJVSx0"
      },
      "outputs": [],
      "source": [
        "with open('/content/drive/MyDrive/final_entities.json', 'w') as file:\n",
        "  json.dump(final_data2, file)"
      ]
    },
    {
      "cell_type": "code",
      "execution_count": null,
      "metadata": {
        "colab": {
          "base_uri": "https://localhost:8080/",
          "height": 49
        },
        "id": "A6sSIOtmo7R-",
        "outputId": "f987015c-7797-45f7-aada-e781edc80a66"
      },
      "outputs": [
        {
          "data": {
            "text/html": [
              "\n",
              "  <div id=\"df-7c909180-a532-4065-8355-bd3955b6235b\">\n",
              "    <div class=\"colab-df-container\">\n",
              "      <div>\n",
              "<style scoped>\n",
              "    .dataframe tbody tr th:only-of-type {\n",
              "        vertical-align: middle;\n",
              "    }\n",
              "\n",
              "    .dataframe tbody tr th {\n",
              "        vertical-align: top;\n",
              "    }\n",
              "\n",
              "    .dataframe thead th {\n",
              "        text-align: right;\n",
              "    }\n",
              "</style>\n",
              "<table border=\"1\" class=\"dataframe\">\n",
              "  <thead>\n",
              "    <tr style=\"text-align: right;\">\n",
              "      <th></th>\n",
              "      <th>Paper_ID</th>\n",
              "      <th>N_Entities</th>\n",
              "    </tr>\n",
              "  </thead>\n",
              "  <tbody>\n",
              "  </tbody>\n",
              "</table>\n",
              "</div>\n",
              "      <button class=\"colab-df-convert\" onclick=\"convertToInteractive('df-7c909180-a532-4065-8355-bd3955b6235b')\"\n",
              "              title=\"Convert this dataframe to an interactive table.\"\n",
              "              style=\"display:none;\">\n",
              "        \n",
              "  <svg xmlns=\"http://www.w3.org/2000/svg\" height=\"24px\"viewBox=\"0 0 24 24\"\n",
              "       width=\"24px\">\n",
              "    <path d=\"M0 0h24v24H0V0z\" fill=\"none\"/>\n",
              "    <path d=\"M18.56 5.44l.94 2.06.94-2.06 2.06-.94-2.06-.94-.94-2.06-.94 2.06-2.06.94zm-11 1L8.5 8.5l.94-2.06 2.06-.94-2.06-.94L8.5 2.5l-.94 2.06-2.06.94zm10 10l.94 2.06.94-2.06 2.06-.94-2.06-.94-.94-2.06-.94 2.06-2.06.94z\"/><path d=\"M17.41 7.96l-1.37-1.37c-.4-.4-.92-.59-1.43-.59-.52 0-1.04.2-1.43.59L10.3 9.45l-7.72 7.72c-.78.78-.78 2.05 0 2.83L4 21.41c.39.39.9.59 1.41.59.51 0 1.02-.2 1.41-.59l7.78-7.78 2.81-2.81c.8-.78.8-2.07 0-2.86zM5.41 20L4 18.59l7.72-7.72 1.47 1.35L5.41 20z\"/>\n",
              "  </svg>\n",
              "      </button>\n",
              "      \n",
              "  <style>\n",
              "    .colab-df-container {\n",
              "      display:flex;\n",
              "      flex-wrap:wrap;\n",
              "      gap: 12px;\n",
              "    }\n",
              "\n",
              "    .colab-df-convert {\n",
              "      background-color: #E8F0FE;\n",
              "      border: none;\n",
              "      border-radius: 50%;\n",
              "      cursor: pointer;\n",
              "      display: none;\n",
              "      fill: #1967D2;\n",
              "      height: 32px;\n",
              "      padding: 0 0 0 0;\n",
              "      width: 32px;\n",
              "    }\n",
              "\n",
              "    .colab-df-convert:hover {\n",
              "      background-color: #E2EBFA;\n",
              "      box-shadow: 0px 1px 2px rgba(60, 64, 67, 0.3), 0px 1px 3px 1px rgba(60, 64, 67, 0.15);\n",
              "      fill: #174EA6;\n",
              "    }\n",
              "\n",
              "    [theme=dark] .colab-df-convert {\n",
              "      background-color: #3B4455;\n",
              "      fill: #D2E3FC;\n",
              "    }\n",
              "\n",
              "    [theme=dark] .colab-df-convert:hover {\n",
              "      background-color: #434B5C;\n",
              "      box-shadow: 0px 1px 3px 1px rgba(0, 0, 0, 0.15);\n",
              "      filter: drop-shadow(0px 1px 2px rgba(0, 0, 0, 0.3));\n",
              "      fill: #FFFFFF;\n",
              "    }\n",
              "  </style>\n",
              "\n",
              "      <script>\n",
              "        const buttonEl =\n",
              "          document.querySelector('#df-7c909180-a532-4065-8355-bd3955b6235b button.colab-df-convert');\n",
              "        buttonEl.style.display =\n",
              "          google.colab.kernel.accessAllowed ? 'block' : 'none';\n",
              "\n",
              "        async function convertToInteractive(key) {\n",
              "          const element = document.querySelector('#df-7c909180-a532-4065-8355-bd3955b6235b');\n",
              "          const dataTable =\n",
              "            await google.colab.kernel.invokeFunction('convertToInteractive',\n",
              "                                                     [key], {});\n",
              "          if (!dataTable) return;\n",
              "\n",
              "          const docLinkHtml = 'Like what you see? Visit the ' +\n",
              "            '<a target=\"_blank\" href=https://colab.research.google.com/notebooks/data_table.ipynb>data table notebook</a>'\n",
              "            + ' to learn more about interactive tables.';\n",
              "          element.innerHTML = '';\n",
              "          dataTable['output_type'] = 'display_data';\n",
              "          await google.colab.output.renderOutput(dataTable, element);\n",
              "          const docLink = document.createElement('div');\n",
              "          docLink.innerHTML = docLinkHtml;\n",
              "          element.appendChild(docLink);\n",
              "        }\n",
              "      </script>\n",
              "    </div>\n",
              "  </div>\n",
              "  "
            ],
            "text/plain": [
              "Empty DataFrame\n",
              "Columns: [Paper_ID, N_Entities]\n",
              "Index: []"
            ]
          },
          "execution_count": 460,
          "metadata": {},
          "output_type": "execute_result"
        }
      ],
      "source": [
        "df2 = pd.DataFrame(columns = ['Paper_ID', 'N_Entities'])\n",
        "df2.head()"
      ]
    },
    {
      "cell_type": "code",
      "execution_count": null,
      "metadata": {
        "id": "MMVMaBVMrim4"
      },
      "outputs": [],
      "source": [
        "for key,value in tqdm(final_data2.items()):\n",
        "  row = {'Paper_ID':key, 'N_Entities':len(value['entities'])}\n",
        "  df2 = df2.append(row, ignore_index = True)"
      ]
    },
    {
      "cell_type": "code",
      "execution_count": null,
      "metadata": {
        "id": "LXCTeRF6vgkD"
      },
      "outputs": [],
      "source": [
        "df2['Paper_ID']= df2['Paper_ID'].astype('str')\n",
        "df2.head()"
      ]
    },
    {
      "cell_type": "code",
      "execution_count": null,
      "metadata": {
        "id": "XSp3eJd9wYZl"
      },
      "outputs": [],
      "source": [
        "df2.info()"
      ]
    },
    {
      "cell_type": "code",
      "execution_count": null,
      "metadata": {
        "id": "yBqn_0swwhOi"
      },
      "outputs": [],
      "source": [
        "df1.info()"
      ]
    },
    {
      "cell_type": "code",
      "execution_count": null,
      "metadata": {
        "id": "61h8XjxwwnT2"
      },
      "outputs": [],
      "source": [
        "df1['Paper_ID'] = df1['Paper_ID'].astype('str')"
      ]
    },
    {
      "cell_type": "code",
      "execution_count": null,
      "metadata": {
        "id": "PXOqB5I8sK8k"
      },
      "outputs": [],
      "source": [
        "df3 = df1.merge(df2, on = 'Paper_ID')\n",
        "print(df1.shape, df2.shape, df3.shape)"
      ]
    },
    {
      "cell_type": "code",
      "execution_count": null,
      "metadata": {
        "colab": {
          "base_uri": "https://localhost:8080/",
          "height": 580
        },
        "id": "r0m2liBcvrT0",
        "outputId": "4e8f5256-92f4-4f0d-858d-64af6300f6ca"
      },
      "outputs": [
        {
          "data": {
            "text/html": [
              "\n",
              "  <div id=\"df-a7a849a1-eb40-4d45-af80-e2adc1c57e9c\">\n",
              "    <div class=\"colab-df-container\">\n",
              "      <div>\n",
              "<style scoped>\n",
              "    .dataframe tbody tr th:only-of-type {\n",
              "        vertical-align: middle;\n",
              "    }\n",
              "\n",
              "    .dataframe tbody tr th {\n",
              "        vertical-align: top;\n",
              "    }\n",
              "\n",
              "    .dataframe thead th {\n",
              "        text-align: right;\n",
              "    }\n",
              "</style>\n",
              "<table border=\"1\" class=\"dataframe\">\n",
              "  <thead>\n",
              "    <tr style=\"text-align: right;\">\n",
              "      <th></th>\n",
              "      <th>Paper_ID</th>\n",
              "      <th>Title</th>\n",
              "      <th>Authors</th>\n",
              "      <th>Abstract</th>\n",
              "      <th>Year</th>\n",
              "      <th>Domains</th>\n",
              "      <th>all_access_id</th>\n",
              "      <th>outbound</th>\n",
              "      <th>inbound</th>\n",
              "      <th>s2</th>\n",
              "      <th>journal</th>\n",
              "      <th>venue</th>\n",
              "      <th>N_Authors</th>\n",
              "      <th>N_Citation</th>\n",
              "      <th>N_Entities</th>\n",
              "    </tr>\n",
              "  </thead>\n",
              "  <tbody>\n",
              "    <tr>\n",
              "      <th>0</th>\n",
              "      <td>94550656</td>\n",
              "      <td>The Approximate Analysis of Nonlinear Behavior...</td>\n",
              "      <td>Mehdi  # Bayat  #  #$# M.  # Shahidi  #  #$# A...</td>\n",
              "      <td>NaN</td>\n",
              "      <td>2010.0</td>\n",
              "      <td>Chemistry</td>\n",
              "      <td># #$#  # #$#  # #$#  # #$#  # #$# 1898439082 ...</td>\n",
              "      <td>16827035 #$# 123547559 #$# 121037939 #$# 32723...</td>\n",
              "      <td>111338160 #$# 123223115 #$# 122710809 #$# 1224...</td>\n",
              "      <td>https://api.semanticscholar.org/CorpusID:94550656</td>\n",
              "      <td>International Journal of Physical Sciences</td>\n",
              "      <td>NaN</td>\n",
              "      <td>5</td>\n",
              "      <td>20</td>\n",
              "      <td>1</td>\n",
              "    </tr>\n",
              "    <tr>\n",
              "      <th>1</th>\n",
              "      <td>94551239</td>\n",
              "      <td>Scanning probe memories – Technology and appli...</td>\n",
              "      <td>C. David  # Wright  #  #$# Mustafa M.  # Aziz ...</td>\n",
              "      <td>Abstract Scanning probe-based memories have de...</td>\n",
              "      <td>2011.0</td>\n",
              "      <td>Chemistry</td>\n",
              "      <td># #$#  # #$#  # #$#  # #$# 10.1016/j.cap.2010...</td>\n",
              "      <td>108611510 #$# 60055472</td>\n",
              "      <td>115517644 #$# 119233534 #$# 52967309</td>\n",
              "      <td>https://api.semanticscholar.org/CorpusID:94551239</td>\n",
              "      <td>Current Applied Physics</td>\n",
              "      <td>NaN</td>\n",
              "      <td>5</td>\n",
              "      <td>3</td>\n",
              "      <td>5</td>\n",
              "    </tr>\n",
              "    <tr>\n",
              "      <th>2</th>\n",
              "      <td>94551546</td>\n",
              "      <td>Gd(III) ion-chelated supramolecular assemblies...</td>\n",
              "      <td>Yu  # Zhao  #  #$# Shun  # Duan  #  #$# Bingra...</td>\n",
              "      <td>An intricate polymer complex can carry genes t...</td>\n",
              "      <td>2015.0</td>\n",
              "      <td>Materials Science</td>\n",
              "      <td># #$#  # #$#  # #$#  # #$# 10.1038/am.2015.67...</td>\n",
              "      <td>4683185 #$# 82875295 #$# 98119828 #$# 28185772...</td>\n",
              "      <td>543091 #$# 102670965</td>\n",
              "      <td>https://api.semanticscholar.org/CorpusID:94551546</td>\n",
              "      <td>Npg Asia Materials</td>\n",
              "      <td>NaN</td>\n",
              "      <td>7</td>\n",
              "      <td>2</td>\n",
              "      <td>15</td>\n",
              "    </tr>\n",
              "    <tr>\n",
              "      <th>3</th>\n",
              "      <td>94556881</td>\n",
              "      <td>The analysis of the influence phosphorus compo...</td>\n",
              "      <td>A. W. Bydałek  #  #$# P.  # Schlafka  #  #$# A...</td>\n",
              "      <td>NaN</td>\n",
              "      <td>2004.0</td>\n",
              "      <td>Chemistry</td>\n",
              "      <td># #$#  # #$#  # #$#  # #$#  # #$# 822361964 #$#</td>\n",
              "      <td>98669634 #$# 138111016</td>\n",
              "      <td>139593766 #$# 137830203</td>\n",
              "      <td>https://api.semanticscholar.org/CorpusID:94556881</td>\n",
              "      <td>NaN</td>\n",
              "      <td>NaN</td>\n",
              "      <td>4</td>\n",
              "      <td>2</td>\n",
              "      <td>1</td>\n",
              "    </tr>\n",
              "    <tr>\n",
              "      <th>4</th>\n",
              "      <td>18980380</td>\n",
              "      <td>Distributionally Robust Counterpart in Markov ...</td>\n",
              "      <td>Pengqian  # Yu  #  #$# Huan  # Xu  #  #$#</td>\n",
              "      <td>This technical note studies Markov decision pr...</td>\n",
              "      <td>2016.0</td>\n",
              "      <td>Mathematics #$# Computer Science</td>\n",
              "      <td>1501.07418 #$#  # #$#  # #$#  # #$# 10.1109/TA...</td>\n",
              "      <td>7229756 #$# 57464058 #$# 9166388 #$# 10603007 ...</td>\n",
              "      <td>18980380 #$# 2557260 #$# 202130625 #$# 1228782...</td>\n",
              "      <td>https://api.semanticscholar.org/CorpusID:18980380</td>\n",
              "      <td>IEEE Transactions on Automatic Control</td>\n",
              "      <td>IEEE Transactions on Automatic Control</td>\n",
              "      <td>3</td>\n",
              "      <td>18</td>\n",
              "      <td>3</td>\n",
              "    </tr>\n",
              "  </tbody>\n",
              "</table>\n",
              "</div>\n",
              "      <button class=\"colab-df-convert\" onclick=\"convertToInteractive('df-a7a849a1-eb40-4d45-af80-e2adc1c57e9c')\"\n",
              "              title=\"Convert this dataframe to an interactive table.\"\n",
              "              style=\"display:none;\">\n",
              "        \n",
              "  <svg xmlns=\"http://www.w3.org/2000/svg\" height=\"24px\"viewBox=\"0 0 24 24\"\n",
              "       width=\"24px\">\n",
              "    <path d=\"M0 0h24v24H0V0z\" fill=\"none\"/>\n",
              "    <path d=\"M18.56 5.44l.94 2.06.94-2.06 2.06-.94-2.06-.94-.94-2.06-.94 2.06-2.06.94zm-11 1L8.5 8.5l.94-2.06 2.06-.94-2.06-.94L8.5 2.5l-.94 2.06-2.06.94zm10 10l.94 2.06.94-2.06 2.06-.94-2.06-.94-.94-2.06-.94 2.06-2.06.94z\"/><path d=\"M17.41 7.96l-1.37-1.37c-.4-.4-.92-.59-1.43-.59-.52 0-1.04.2-1.43.59L10.3 9.45l-7.72 7.72c-.78.78-.78 2.05 0 2.83L4 21.41c.39.39.9.59 1.41.59.51 0 1.02-.2 1.41-.59l7.78-7.78 2.81-2.81c.8-.78.8-2.07 0-2.86zM5.41 20L4 18.59l7.72-7.72 1.47 1.35L5.41 20z\"/>\n",
              "  </svg>\n",
              "      </button>\n",
              "      \n",
              "  <style>\n",
              "    .colab-df-container {\n",
              "      display:flex;\n",
              "      flex-wrap:wrap;\n",
              "      gap: 12px;\n",
              "    }\n",
              "\n",
              "    .colab-df-convert {\n",
              "      background-color: #E8F0FE;\n",
              "      border: none;\n",
              "      border-radius: 50%;\n",
              "      cursor: pointer;\n",
              "      display: none;\n",
              "      fill: #1967D2;\n",
              "      height: 32px;\n",
              "      padding: 0 0 0 0;\n",
              "      width: 32px;\n",
              "    }\n",
              "\n",
              "    .colab-df-convert:hover {\n",
              "      background-color: #E2EBFA;\n",
              "      box-shadow: 0px 1px 2px rgba(60, 64, 67, 0.3), 0px 1px 3px 1px rgba(60, 64, 67, 0.15);\n",
              "      fill: #174EA6;\n",
              "    }\n",
              "\n",
              "    [theme=dark] .colab-df-convert {\n",
              "      background-color: #3B4455;\n",
              "      fill: #D2E3FC;\n",
              "    }\n",
              "\n",
              "    [theme=dark] .colab-df-convert:hover {\n",
              "      background-color: #434B5C;\n",
              "      box-shadow: 0px 1px 3px 1px rgba(0, 0, 0, 0.15);\n",
              "      filter: drop-shadow(0px 1px 2px rgba(0, 0, 0, 0.3));\n",
              "      fill: #FFFFFF;\n",
              "    }\n",
              "  </style>\n",
              "\n",
              "      <script>\n",
              "        const buttonEl =\n",
              "          document.querySelector('#df-a7a849a1-eb40-4d45-af80-e2adc1c57e9c button.colab-df-convert');\n",
              "        buttonEl.style.display =\n",
              "          google.colab.kernel.accessAllowed ? 'block' : 'none';\n",
              "\n",
              "        async function convertToInteractive(key) {\n",
              "          const element = document.querySelector('#df-a7a849a1-eb40-4d45-af80-e2adc1c57e9c');\n",
              "          const dataTable =\n",
              "            await google.colab.kernel.invokeFunction('convertToInteractive',\n",
              "                                                     [key], {});\n",
              "          if (!dataTable) return;\n",
              "\n",
              "          const docLinkHtml = 'Like what you see? Visit the ' +\n",
              "            '<a target=\"_blank\" href=https://colab.research.google.com/notebooks/data_table.ipynb>data table notebook</a>'\n",
              "            + ' to learn more about interactive tables.';\n",
              "          element.innerHTML = '';\n",
              "          dataTable['output_type'] = 'display_data';\n",
              "          await google.colab.output.renderOutput(dataTable, element);\n",
              "          const docLink = document.createElement('div');\n",
              "          docLink.innerHTML = docLinkHtml;\n",
              "          element.appendChild(docLink);\n",
              "        }\n",
              "      </script>\n",
              "    </div>\n",
              "  </div>\n",
              "  "
            ],
            "text/plain": [
              "   Paper_ID                                              Title  \\\n",
              "0  94550656  The Approximate Analysis of Nonlinear Behavior...   \n",
              "1  94551239  Scanning probe memories – Technology and appli...   \n",
              "2  94551546  Gd(III) ion-chelated supramolecular assemblies...   \n",
              "3  94556881  The analysis of the influence phosphorus compo...   \n",
              "4  18980380  Distributionally Robust Counterpart in Markov ...   \n",
              "\n",
              "                                             Authors  \\\n",
              "0  Mehdi  # Bayat  #  #$# M.  # Shahidi  #  #$# A...   \n",
              "1  C. David  # Wright  #  #$# Mustafa M.  # Aziz ...   \n",
              "2  Yu  # Zhao  #  #$# Shun  # Duan  #  #$# Bingra...   \n",
              "3  A. W. Bydałek  #  #$# P.  # Schlafka  #  #$# A...   \n",
              "4         Pengqian  # Yu  #  #$# Huan  # Xu  #  #$#    \n",
              "\n",
              "                                            Abstract    Year  \\\n",
              "0                                                NaN  2010.0   \n",
              "1  Abstract Scanning probe-based memories have de...  2011.0   \n",
              "2  An intricate polymer complex can carry genes t...  2015.0   \n",
              "3                                                NaN  2004.0   \n",
              "4  This technical note studies Markov decision pr...  2016.0   \n",
              "\n",
              "                            Domains  \\\n",
              "0                         Chemistry   \n",
              "1                         Chemistry   \n",
              "2                 Materials Science   \n",
              "3                         Chemistry   \n",
              "4  Mathematics #$# Computer Science   \n",
              "\n",
              "                                       all_access_id  \\\n",
              "0   # #$#  # #$#  # #$#  # #$#  # #$# 1898439082 ...   \n",
              "1   # #$#  # #$#  # #$#  # #$# 10.1016/j.cap.2010...   \n",
              "2   # #$#  # #$#  # #$#  # #$# 10.1038/am.2015.67...   \n",
              "3   # #$#  # #$#  # #$#  # #$#  # #$# 822361964 #$#    \n",
              "4  1501.07418 #$#  # #$#  # #$#  # #$# 10.1109/TA...   \n",
              "\n",
              "                                            outbound  \\\n",
              "0  16827035 #$# 123547559 #$# 121037939 #$# 32723...   \n",
              "1                             108611510 #$# 60055472   \n",
              "2  4683185 #$# 82875295 #$# 98119828 #$# 28185772...   \n",
              "3                             98669634 #$# 138111016   \n",
              "4  7229756 #$# 57464058 #$# 9166388 #$# 10603007 ...   \n",
              "\n",
              "                                             inbound  \\\n",
              "0  111338160 #$# 123223115 #$# 122710809 #$# 1224...   \n",
              "1               115517644 #$# 119233534 #$# 52967309   \n",
              "2                               543091 #$# 102670965   \n",
              "3                            139593766 #$# 137830203   \n",
              "4  18980380 #$# 2557260 #$# 202130625 #$# 1228782...   \n",
              "\n",
              "                                                  s2  \\\n",
              "0  https://api.semanticscholar.org/CorpusID:94550656   \n",
              "1  https://api.semanticscholar.org/CorpusID:94551239   \n",
              "2  https://api.semanticscholar.org/CorpusID:94551546   \n",
              "3  https://api.semanticscholar.org/CorpusID:94556881   \n",
              "4  https://api.semanticscholar.org/CorpusID:18980380   \n",
              "\n",
              "                                      journal  \\\n",
              "0  International Journal of Physical Sciences   \n",
              "1                     Current Applied Physics   \n",
              "2                          Npg Asia Materials   \n",
              "3                                         NaN   \n",
              "4      IEEE Transactions on Automatic Control   \n",
              "\n",
              "                                    venue  N_Authors  N_Citation N_Entities  \n",
              "0                                     NaN          5          20          1  \n",
              "1                                     NaN          5           3          5  \n",
              "2                                     NaN          7           2         15  \n",
              "3                                     NaN          4           2          1  \n",
              "4  IEEE Transactions on Automatic Control          3          18          3  "
            ]
          },
          "execution_count": 35,
          "metadata": {},
          "output_type": "execute_result"
        }
      ],
      "source": [
        "df3.head()"
      ]
    },
    {
      "cell_type": "code",
      "execution_count": null,
      "metadata": {
        "id": "xuvC7F6T0L2V"
      },
      "outputs": [],
      "source": [
        "v = df3['N_Entities'].value_counts()\n",
        "v = dict(v)\n",
        "key, value = list(v.keys()), np.array(list(v.values()))\n",
        "key, value = zip(*sorted(zip(key, value), key = lambda x: x[0]))\n",
        "key, value = list(key), np.array(value)"
      ]
    },
    {
      "cell_type": "code",
      "execution_count": null,
      "metadata": {
        "id": "2ExtF90SxGA6"
      },
      "outputs": [],
      "source": [
        "print('Check Percentage Data')\n",
        "data_percentage = value/df3.shape[0]\n",
        "cdf = np.cumsum(data_percentage)\n",
        "print(len(cdf), len(key))"
      ]
    },
    {
      "cell_type": "code",
      "execution_count": null,
      "metadata": {
        "id": "4B47bGzJ11A9"
      },
      "outputs": [],
      "source": [
        "f = plt.figure()\n",
        "f.set_figwidth(20)\n",
        "f.set_figheight(10)\n",
        "plt.plot(key, cdf)\n",
        "plt.show()"
      ]
    },
    {
      "cell_type": "code",
      "execution_count": null,
      "metadata": {
        "id": "b38TqJ6c34B3"
      },
      "outputs": [],
      "source": [
        "cdf[key.index(6)]"
      ]
    },
    {
      "cell_type": "code",
      "execution_count": null,
      "metadata": {
        "colab": {
          "base_uri": "https://localhost:8080/"
        },
        "id": "23lYz56IxzBZ",
        "outputId": "34d02ad6-dffb-4c3a-d94f-c198c62a1ad1"
      },
      "outputs": [
        {
          "name": "stdout",
          "output_type": "stream",
          "text": [
            "(134972, 15) (110163, 15)\n"
          ]
        }
      ],
      "source": [
        "df4 = df3[df3['N_Entities']>4]\n",
        "print(df3.shape, df4.shape)"
      ]
    },
    {
      "cell_type": "code",
      "execution_count": null,
      "metadata": {
        "id": "lmjP7DVjyrX-"
      },
      "outputs": [],
      "source": [
        "df3.to_csv('/content/drive/MyDrive/NofilterEntity.csv', index = True)"
      ]
    },
    {
      "cell_type": "code",
      "execution_count": null,
      "metadata": {
        "id": "Rb3peA1d6xS0"
      },
      "outputs": [],
      "source": [
        "df4.to_csv('/content/drive/MyDrive/FiteredEntity.csv', index = True)"
      ]
    },
    {
      "cell_type": "code",
      "execution_count": null,
      "metadata": {
        "colab": {
          "base_uri": "https://localhost:8080/",
          "height": 773
        },
        "id": "9_LiW1upyafa",
        "outputId": "844c60cd-05c4-411c-895b-de835a5a51bc"
      },
      "outputs": [
        {
          "output_type": "execute_result",
          "data": {
            "text/plain": [
              "   Paper_ID                                              Title  \\\n",
              "0  94550656  The Approximate Analysis of Nonlinear Behavior...   \n",
              "1  94551239  Scanning probe memories – Technology and appli...   \n",
              "2  94551546  Gd(III) ion-chelated supramolecular assemblies...   \n",
              "3  94556881  The analysis of the influence phosphorus compo...   \n",
              "4  18980380  Distributionally Robust Counterpart in Markov ...   \n",
              "\n",
              "                                             Authors  \\\n",
              "0  Mehdi  # Bayat  #  #$# M.  # Shahidi  #  #$# A...   \n",
              "1  C. David  # Wright  #  #$# Mustafa M.  # Aziz ...   \n",
              "2  Yu  # Zhao  #  #$# Shun  # Duan  #  #$# Bingra...   \n",
              "3  A. W. Bydałek  #  #$# P.  # Schlafka  #  #$# A...   \n",
              "4         Pengqian  # Yu  #  #$# Huan  # Xu  #  #$#    \n",
              "\n",
              "                                            Abstract    Year  \\\n",
              "0                                                NaN  2010.0   \n",
              "1  Abstract Scanning probe-based memories have de...  2011.0   \n",
              "2  An intricate polymer complex can carry genes t...  2015.0   \n",
              "3                                                NaN  2004.0   \n",
              "4  This technical note studies Markov decision pr...  2016.0   \n",
              "\n",
              "                            Domains  \\\n",
              "0                         Chemistry   \n",
              "1                         Chemistry   \n",
              "2                 Materials Science   \n",
              "3                         Chemistry   \n",
              "4  Mathematics #$# Computer Science   \n",
              "\n",
              "                                       all_access_id  \\\n",
              "0   # #$#  # #$#  # #$#  # #$#  # #$# 1898439082 ...   \n",
              "1   # #$#  # #$#  # #$#  # #$# 10.1016/j.cap.2010...   \n",
              "2   # #$#  # #$#  # #$#  # #$# 10.1038/am.2015.67...   \n",
              "3   # #$#  # #$#  # #$#  # #$#  # #$# 822361964 #$#    \n",
              "4  1501.07418 #$#  # #$#  # #$#  # #$# 10.1109/TA...   \n",
              "\n",
              "                                            outbound  \\\n",
              "0  16827035 #$# 123547559 #$# 121037939 #$# 32723...   \n",
              "1                             108611510 #$# 60055472   \n",
              "2  4683185 #$# 82875295 #$# 98119828 #$# 28185772...   \n",
              "3                             98669634 #$# 138111016   \n",
              "4  7229756 #$# 57464058 #$# 9166388 #$# 10603007 ...   \n",
              "\n",
              "                                             inbound  \\\n",
              "0  111338160 #$# 123223115 #$# 122710809 #$# 1224...   \n",
              "1               115517644 #$# 119233534 #$# 52967309   \n",
              "2                               543091 #$# 102670965   \n",
              "3                            139593766 #$# 137830203   \n",
              "4  18980380 #$# 2557260 #$# 202130625 #$# 1228782...   \n",
              "\n",
              "                                                  s2  \\\n",
              "0  https://api.semanticscholar.org/CorpusID:94550656   \n",
              "1  https://api.semanticscholar.org/CorpusID:94551239   \n",
              "2  https://api.semanticscholar.org/CorpusID:94551546   \n",
              "3  https://api.semanticscholar.org/CorpusID:94556881   \n",
              "4  https://api.semanticscholar.org/CorpusID:18980380   \n",
              "\n",
              "                                      journal  \\\n",
              "0  International Journal of Physical Sciences   \n",
              "1                     Current Applied Physics   \n",
              "2                          Npg Asia Materials   \n",
              "3                                         NaN   \n",
              "4      IEEE Transactions on Automatic Control   \n",
              "\n",
              "                                    venue  N_Authors  N_Citation  N_Entities  \n",
              "0                                     NaN          5          20           1  \n",
              "1                                     NaN          5           3           5  \n",
              "2                                     NaN          7           2          15  \n",
              "3                                     NaN          4           2           1  \n",
              "4  IEEE Transactions on Automatic Control          3          18           3  "
            ],
            "text/html": [
              "\n",
              "  <div id=\"df-2c42f488-e445-4701-b9e0-73480971b0e7\">\n",
              "    <div class=\"colab-df-container\">\n",
              "      <div>\n",
              "<style scoped>\n",
              "    .dataframe tbody tr th:only-of-type {\n",
              "        vertical-align: middle;\n",
              "    }\n",
              "\n",
              "    .dataframe tbody tr th {\n",
              "        vertical-align: top;\n",
              "    }\n",
              "\n",
              "    .dataframe thead th {\n",
              "        text-align: right;\n",
              "    }\n",
              "</style>\n",
              "<table border=\"1\" class=\"dataframe\">\n",
              "  <thead>\n",
              "    <tr style=\"text-align: right;\">\n",
              "      <th></th>\n",
              "      <th>Paper_ID</th>\n",
              "      <th>Title</th>\n",
              "      <th>Authors</th>\n",
              "      <th>Abstract</th>\n",
              "      <th>Year</th>\n",
              "      <th>Domains</th>\n",
              "      <th>all_access_id</th>\n",
              "      <th>outbound</th>\n",
              "      <th>inbound</th>\n",
              "      <th>s2</th>\n",
              "      <th>journal</th>\n",
              "      <th>venue</th>\n",
              "      <th>N_Authors</th>\n",
              "      <th>N_Citation</th>\n",
              "      <th>N_Entities</th>\n",
              "    </tr>\n",
              "  </thead>\n",
              "  <tbody>\n",
              "    <tr>\n",
              "      <th>0</th>\n",
              "      <td>94550656</td>\n",
              "      <td>The Approximate Analysis of Nonlinear Behavior...</td>\n",
              "      <td>Mehdi  # Bayat  #  #$# M.  # Shahidi  #  #$# A...</td>\n",
              "      <td>NaN</td>\n",
              "      <td>2010.0</td>\n",
              "      <td>Chemistry</td>\n",
              "      <td># #$#  # #$#  # #$#  # #$#  # #$# 1898439082 ...</td>\n",
              "      <td>16827035 #$# 123547559 #$# 121037939 #$# 32723...</td>\n",
              "      <td>111338160 #$# 123223115 #$# 122710809 #$# 1224...</td>\n",
              "      <td>https://api.semanticscholar.org/CorpusID:94550656</td>\n",
              "      <td>International Journal of Physical Sciences</td>\n",
              "      <td>NaN</td>\n",
              "      <td>5</td>\n",
              "      <td>20</td>\n",
              "      <td>1</td>\n",
              "    </tr>\n",
              "    <tr>\n",
              "      <th>1</th>\n",
              "      <td>94551239</td>\n",
              "      <td>Scanning probe memories – Technology and appli...</td>\n",
              "      <td>C. David  # Wright  #  #$# Mustafa M.  # Aziz ...</td>\n",
              "      <td>Abstract Scanning probe-based memories have de...</td>\n",
              "      <td>2011.0</td>\n",
              "      <td>Chemistry</td>\n",
              "      <td># #$#  # #$#  # #$#  # #$# 10.1016/j.cap.2010...</td>\n",
              "      <td>108611510 #$# 60055472</td>\n",
              "      <td>115517644 #$# 119233534 #$# 52967309</td>\n",
              "      <td>https://api.semanticscholar.org/CorpusID:94551239</td>\n",
              "      <td>Current Applied Physics</td>\n",
              "      <td>NaN</td>\n",
              "      <td>5</td>\n",
              "      <td>3</td>\n",
              "      <td>5</td>\n",
              "    </tr>\n",
              "    <tr>\n",
              "      <th>2</th>\n",
              "      <td>94551546</td>\n",
              "      <td>Gd(III) ion-chelated supramolecular assemblies...</td>\n",
              "      <td>Yu  # Zhao  #  #$# Shun  # Duan  #  #$# Bingra...</td>\n",
              "      <td>An intricate polymer complex can carry genes t...</td>\n",
              "      <td>2015.0</td>\n",
              "      <td>Materials Science</td>\n",
              "      <td># #$#  # #$#  # #$#  # #$# 10.1038/am.2015.67...</td>\n",
              "      <td>4683185 #$# 82875295 #$# 98119828 #$# 28185772...</td>\n",
              "      <td>543091 #$# 102670965</td>\n",
              "      <td>https://api.semanticscholar.org/CorpusID:94551546</td>\n",
              "      <td>Npg Asia Materials</td>\n",
              "      <td>NaN</td>\n",
              "      <td>7</td>\n",
              "      <td>2</td>\n",
              "      <td>15</td>\n",
              "    </tr>\n",
              "    <tr>\n",
              "      <th>3</th>\n",
              "      <td>94556881</td>\n",
              "      <td>The analysis of the influence phosphorus compo...</td>\n",
              "      <td>A. W. Bydałek  #  #$# P.  # Schlafka  #  #$# A...</td>\n",
              "      <td>NaN</td>\n",
              "      <td>2004.0</td>\n",
              "      <td>Chemistry</td>\n",
              "      <td># #$#  # #$#  # #$#  # #$#  # #$# 822361964 #$#</td>\n",
              "      <td>98669634 #$# 138111016</td>\n",
              "      <td>139593766 #$# 137830203</td>\n",
              "      <td>https://api.semanticscholar.org/CorpusID:94556881</td>\n",
              "      <td>NaN</td>\n",
              "      <td>NaN</td>\n",
              "      <td>4</td>\n",
              "      <td>2</td>\n",
              "      <td>1</td>\n",
              "    </tr>\n",
              "    <tr>\n",
              "      <th>4</th>\n",
              "      <td>18980380</td>\n",
              "      <td>Distributionally Robust Counterpart in Markov ...</td>\n",
              "      <td>Pengqian  # Yu  #  #$# Huan  # Xu  #  #$#</td>\n",
              "      <td>This technical note studies Markov decision pr...</td>\n",
              "      <td>2016.0</td>\n",
              "      <td>Mathematics #$# Computer Science</td>\n",
              "      <td>1501.07418 #$#  # #$#  # #$#  # #$# 10.1109/TA...</td>\n",
              "      <td>7229756 #$# 57464058 #$# 9166388 #$# 10603007 ...</td>\n",
              "      <td>18980380 #$# 2557260 #$# 202130625 #$# 1228782...</td>\n",
              "      <td>https://api.semanticscholar.org/CorpusID:18980380</td>\n",
              "      <td>IEEE Transactions on Automatic Control</td>\n",
              "      <td>IEEE Transactions on Automatic Control</td>\n",
              "      <td>3</td>\n",
              "      <td>18</td>\n",
              "      <td>3</td>\n",
              "    </tr>\n",
              "  </tbody>\n",
              "</table>\n",
              "</div>\n",
              "      <button class=\"colab-df-convert\" onclick=\"convertToInteractive('df-2c42f488-e445-4701-b9e0-73480971b0e7')\"\n",
              "              title=\"Convert this dataframe to an interactive table.\"\n",
              "              style=\"display:none;\">\n",
              "        \n",
              "  <svg xmlns=\"http://www.w3.org/2000/svg\" height=\"24px\"viewBox=\"0 0 24 24\"\n",
              "       width=\"24px\">\n",
              "    <path d=\"M0 0h24v24H0V0z\" fill=\"none\"/>\n",
              "    <path d=\"M18.56 5.44l.94 2.06.94-2.06 2.06-.94-2.06-.94-.94-2.06-.94 2.06-2.06.94zm-11 1L8.5 8.5l.94-2.06 2.06-.94-2.06-.94L8.5 2.5l-.94 2.06-2.06.94zm10 10l.94 2.06.94-2.06 2.06-.94-2.06-.94-.94-2.06-.94 2.06-2.06.94z\"/><path d=\"M17.41 7.96l-1.37-1.37c-.4-.4-.92-.59-1.43-.59-.52 0-1.04.2-1.43.59L10.3 9.45l-7.72 7.72c-.78.78-.78 2.05 0 2.83L4 21.41c.39.39.9.59 1.41.59.51 0 1.02-.2 1.41-.59l7.78-7.78 2.81-2.81c.8-.78.8-2.07 0-2.86zM5.41 20L4 18.59l7.72-7.72 1.47 1.35L5.41 20z\"/>\n",
              "  </svg>\n",
              "      </button>\n",
              "      \n",
              "  <style>\n",
              "    .colab-df-container {\n",
              "      display:flex;\n",
              "      flex-wrap:wrap;\n",
              "      gap: 12px;\n",
              "    }\n",
              "\n",
              "    .colab-df-convert {\n",
              "      background-color: #E8F0FE;\n",
              "      border: none;\n",
              "      border-radius: 50%;\n",
              "      cursor: pointer;\n",
              "      display: none;\n",
              "      fill: #1967D2;\n",
              "      height: 32px;\n",
              "      padding: 0 0 0 0;\n",
              "      width: 32px;\n",
              "    }\n",
              "\n",
              "    .colab-df-convert:hover {\n",
              "      background-color: #E2EBFA;\n",
              "      box-shadow: 0px 1px 2px rgba(60, 64, 67, 0.3), 0px 1px 3px 1px rgba(60, 64, 67, 0.15);\n",
              "      fill: #174EA6;\n",
              "    }\n",
              "\n",
              "    [theme=dark] .colab-df-convert {\n",
              "      background-color: #3B4455;\n",
              "      fill: #D2E3FC;\n",
              "    }\n",
              "\n",
              "    [theme=dark] .colab-df-convert:hover {\n",
              "      background-color: #434B5C;\n",
              "      box-shadow: 0px 1px 3px 1px rgba(0, 0, 0, 0.15);\n",
              "      filter: drop-shadow(0px 1px 2px rgba(0, 0, 0, 0.3));\n",
              "      fill: #FFFFFF;\n",
              "    }\n",
              "  </style>\n",
              "\n",
              "      <script>\n",
              "        const buttonEl =\n",
              "          document.querySelector('#df-2c42f488-e445-4701-b9e0-73480971b0e7 button.colab-df-convert');\n",
              "        buttonEl.style.display =\n",
              "          google.colab.kernel.accessAllowed ? 'block' : 'none';\n",
              "\n",
              "        async function convertToInteractive(key) {\n",
              "          const element = document.querySelector('#df-2c42f488-e445-4701-b9e0-73480971b0e7');\n",
              "          const dataTable =\n",
              "            await google.colab.kernel.invokeFunction('convertToInteractive',\n",
              "                                                     [key], {});\n",
              "          if (!dataTable) return;\n",
              "\n",
              "          const docLinkHtml = 'Like what you see? Visit the ' +\n",
              "            '<a target=\"_blank\" href=https://colab.research.google.com/notebooks/data_table.ipynb>data table notebook</a>'\n",
              "            + ' to learn more about interactive tables.';\n",
              "          element.innerHTML = '';\n",
              "          dataTable['output_type'] = 'display_data';\n",
              "          await google.colab.output.renderOutput(dataTable, element);\n",
              "          const docLink = document.createElement('div');\n",
              "          docLink.innerHTML = docLinkHtml;\n",
              "          element.appendChild(docLink);\n",
              "        }\n",
              "      </script>\n",
              "    </div>\n",
              "  </div>\n",
              "  "
            ]
          },
          "metadata": {},
          "execution_count": 465
        }
      ],
      "source": [
        "df3 = pd.read_csv('/content/drive/MyDrive/NofilterEntity.csv', index_col = 0)\n",
        "df3.head()"
      ]
    },
    {
      "cell_type": "code",
      "source": [
        "df4 = df3[df3['N_Entities']>2]\n",
        "print(df3.shape, df4.shape)"
      ],
      "metadata": {
        "colab": {
          "base_uri": "https://localhost:8080/"
        },
        "id": "T30c6fSbzDV6",
        "outputId": "3ad9938e-48c7-416f-f752-4c21020143be"
      },
      "execution_count": null,
      "outputs": [
        {
          "output_type": "stream",
          "name": "stdout",
          "text": [
            "(134972, 15) (122824, 15)\n"
          ]
        }
      ]
    },
    {
      "cell_type": "code",
      "source": [
        "df4.to_csv('/content/drive/MyDrive/FiteredEntity_v2.csv', index = True)"
      ],
      "metadata": {
        "id": "GhmYlYhjzKaf"
      },
      "execution_count": null,
      "outputs": []
    },
    {
      "cell_type": "markdown",
      "metadata": {
        "id": "DA6l97Mp93rT"
      },
      "source": [
        "## utils"
      ]
    },
    {
      "cell_type": "code",
      "execution_count": null,
      "metadata": {
        "colab": {
          "base_uri": "https://localhost:8080/"
        },
        "id": "xL35rfrR9298",
        "outputId": "03896455-d177-40d6-e191-ab89d88bcefd"
      },
      "outputs": [
        {
          "data": {
            "text/plain": [
              "(110163, 15)"
            ]
          },
          "execution_count": 450,
          "metadata": {},
          "output_type": "execute_result"
        }
      ],
      "source": [
        "df = pd.read_csv('/content/drive/MyDrive/FiteredEntity.csv', index_col = 0)\n",
        "df.shape"
      ]
    },
    {
      "cell_type": "code",
      "execution_count": null,
      "metadata": {
        "id": "JEtKAz4T-K-9"
      },
      "outputs": [],
      "source": [
        "from collections import Counter\n",
        "from tqdm.notebook import tqdm\n",
        "paper_count = dict(Counter(df['Paper_ID'].values))"
      ]
    },
    {
      "cell_type": "code",
      "execution_count": null,
      "metadata": {
        "colab": {
          "base_uri": "https://localhost:8080/",
          "height": 49
        },
        "id": "QL9c5L_P-Q8E",
        "outputId": "727ab6c2-0744-40c4-ae8d-83fbac71dca1"
      },
      "outputs": [
        {
          "data": {
            "application/vnd.jupyter.widget-view+json": {
              "model_id": "d7789cf842124bf2b7f05f48b6d0a598",
              "version_major": 2,
              "version_minor": 0
            },
            "text/plain": [
              "0it [00:00, ?it/s]"
            ]
          },
          "metadata": {},
          "output_type": "display_data"
        }
      ],
      "source": [
        "for i,row in tqdm(df.iterrows()):\n",
        "  inbound = row['inbound'].split('#$#')\n",
        "  for p in inbound:\n",
        "    try:\n",
        "      pid = int(p.strip())\n",
        "      paper_count[pid]+=1\n",
        "    except:\n",
        "      continue"
      ]
    },
    {
      "cell_type": "code",
      "execution_count": null,
      "metadata": {
        "id": "pyr09pfq-fkt"
      },
      "outputs": [],
      "source": [
        "intersection = []\n",
        "for key,value in paper_count.items():\n",
        "  if value>1:\n",
        "    intersection.append(int(key))"
      ]
    },
    {
      "cell_type": "code",
      "execution_count": null,
      "metadata": {
        "id": "HjU8lnGx-gMe"
      },
      "outputs": [],
      "source": [
        "df2 = df[df['Paper_ID'].isin(intersection)]"
      ]
    },
    {
      "cell_type": "code",
      "execution_count": null,
      "metadata": {
        "colab": {
          "base_uri": "https://localhost:8080/"
        },
        "id": "5n6EzZOD-kkM",
        "outputId": "5a9532e7-abef-4474-c9bd-5b8637d1b22a"
      },
      "outputs": [
        {
          "data": {
            "text/plain": [
              "(8137, 15)"
            ]
          },
          "execution_count": 15,
          "metadata": {},
          "output_type": "execute_result"
        }
      ],
      "source": [
        "df2.shape"
      ]
    },
    {
      "cell_type": "code",
      "execution_count": null,
      "metadata": {
        "id": "Rq9_VLQv-tXs"
      },
      "outputs": [],
      "source": [
        "df2.to_csv('/content/drive/MyDrive/FilteredInboundIDs.csv', index = True)"
      ]
    },
    {
      "cell_type": "markdown",
      "metadata": {
        "id": "VkGtEeB78jxM"
      },
      "source": [
        "## Create Graph"
      ]
    },
    {
      "cell_type": "code",
      "execution_count": null,
      "metadata": {
        "colab": {
          "base_uri": "https://localhost:8080/"
        },
        "id": "58fSdqIG8m6T",
        "outputId": "e832254d-4a8f-4a92-dfdf-32f2d8c8c373"
      },
      "outputs": [
        {
          "name": "stdout",
          "output_type": "stream",
          "text": [
            "Looking in indexes: https://pypi.org/simple, https://us-python.pkg.dev/colab-wheels/public/simple/\n",
            "Requirement already satisfied: dgl in /usr/local/lib/python3.9/dist-packages (1.0.1)\n",
            "Requirement already satisfied: numpy>=1.14.0 in /usr/local/lib/python3.9/dist-packages (from dgl) (1.22.4)\n",
            "Requirement already satisfied: scipy>=1.1.0 in /usr/local/lib/python3.9/dist-packages (from dgl) (1.10.1)\n",
            "Requirement already satisfied: requests>=2.19.0 in /usr/local/lib/python3.9/dist-packages (from dgl) (2.27.1)\n",
            "Requirement already satisfied: tqdm in /usr/local/lib/python3.9/dist-packages (from dgl) (4.65.0)\n",
            "Requirement already satisfied: psutil>=5.8.0 in /usr/local/lib/python3.9/dist-packages (from dgl) (5.9.5)\n",
            "Requirement already satisfied: networkx>=2.1 in /usr/local/lib/python3.9/dist-packages (from dgl) (3.1)\n",
            "Requirement already satisfied: charset-normalizer~=2.0.0 in /usr/local/lib/python3.9/dist-packages (from requests>=2.19.0->dgl) (2.0.12)\n",
            "Requirement already satisfied: idna<4,>=2.5 in /usr/local/lib/python3.9/dist-packages (from requests>=2.19.0->dgl) (3.4)\n",
            "Requirement already satisfied: certifi>=2017.4.17 in /usr/local/lib/python3.9/dist-packages (from requests>=2.19.0->dgl) (2022.12.7)\n",
            "Requirement already satisfied: urllib3<1.27,>=1.21.1 in /usr/local/lib/python3.9/dist-packages (from requests>=2.19.0->dgl) (1.26.15)\n"
          ]
        }
      ],
      "source": [
        "!pip install dgl"
      ]
    },
    {
      "cell_type": "code",
      "execution_count": null,
      "metadata": {
        "id": "sjpSTjoa8pqe"
      },
      "outputs": [],
      "source": [
        "import json\n",
        "import dgl\n",
        "import pandas as pd\n",
        "import numpy as np\n",
        "from tqdm.notebook import tqdm"
      ]
    },
    {
      "cell_type": "code",
      "execution_count": null,
      "metadata": {
        "colab": {
          "base_uri": "https://localhost:8080/",
          "height": 808
        },
        "id": "50vY5o5w9CID",
        "outputId": "d0304bab-7da4-49c3-ad8e-797b9531f5a6"
      },
      "outputs": [
        {
          "data": {
            "text/html": [
              "\n",
              "  <div id=\"df-ad78645b-c2fd-42cc-97b1-58a81b8be3a9\">\n",
              "    <div class=\"colab-df-container\">\n",
              "      <div>\n",
              "<style scoped>\n",
              "    .dataframe tbody tr th:only-of-type {\n",
              "        vertical-align: middle;\n",
              "    }\n",
              "\n",
              "    .dataframe tbody tr th {\n",
              "        vertical-align: top;\n",
              "    }\n",
              "\n",
              "    .dataframe thead th {\n",
              "        text-align: right;\n",
              "    }\n",
              "</style>\n",
              "<table border=\"1\" class=\"dataframe\">\n",
              "  <thead>\n",
              "    <tr style=\"text-align: right;\">\n",
              "      <th></th>\n",
              "      <th>Paper_ID</th>\n",
              "      <th>Title</th>\n",
              "      <th>Authors</th>\n",
              "      <th>Abstract</th>\n",
              "      <th>Year</th>\n",
              "      <th>Domains</th>\n",
              "      <th>all_access_id</th>\n",
              "      <th>outbound</th>\n",
              "      <th>inbound</th>\n",
              "      <th>s2</th>\n",
              "      <th>journal</th>\n",
              "      <th>venue</th>\n",
              "      <th>N_Authors</th>\n",
              "      <th>N_Citation</th>\n",
              "      <th>N_Entities</th>\n",
              "    </tr>\n",
              "  </thead>\n",
              "  <tbody>\n",
              "    <tr>\n",
              "      <th>38</th>\n",
              "      <td>199668943</td>\n",
              "      <td>3D Human Pose Estimation under limited supervi...</td>\n",
              "      <td>Rahul  # Mitra  #  #$# Nitesh B. Gundavarapu  ...</td>\n",
              "      <td>Estimating 3D human pose from monocular images...</td>\n",
              "      <td>2019.0</td>\n",
              "      <td>Computer Science</td>\n",
              "      <td>1908.05293 #$#  # #$#  # #$#  # #$#  # #$# 296...</td>\n",
              "      <td>206592419 #$# 2087262 #$# 84843959 #$# 1219233...</td>\n",
              "      <td>209854462</td>\n",
              "      <td>https://api.semanticscholar.org/CorpusID:19966...</td>\n",
              "      <td>ArXiv</td>\n",
              "      <td>ArXiv</td>\n",
              "      <td>7</td>\n",
              "      <td>1</td>\n",
              "      <td>9</td>\n",
              "    </tr>\n",
              "    <tr>\n",
              "      <th>48</th>\n",
              "      <td>2872418</td>\n",
              "      <td>Switch from θ to σ replication of bacteriophag...</td>\n",
              "      <td>Magdalena  # Narajczyk  #  #$# Sylwia  # Barań...</td>\n",
              "      <td>Bacteriophage λ genome is one of the classical...</td>\n",
              "      <td>2007.0</td>\n",
              "      <td>Biology</td>\n",
              "      <td># #$#  # #$#  # #$#  # #$# 10.1007/s00438-007...</td>\n",
              "      <td>42862721 #$# 86557658 #$# 42062280 #$# 1100376...</td>\n",
              "      <td>34020068</td>\n",
              "      <td>https://api.semanticscholar.org/CorpusID:2872418</td>\n",
              "      <td>Molecular Genetics and Genomics</td>\n",
              "      <td>Molecular Genetics and Genomics</td>\n",
              "      <td>5</td>\n",
              "      <td>1</td>\n",
              "      <td>17</td>\n",
              "    </tr>\n",
              "    <tr>\n",
              "      <th>72</th>\n",
              "      <td>116984815</td>\n",
              "      <td>Connections between various subclasses of plan...</td>\n",
              "      <td>Saurabh  # Porwal  #  #$# K.  # Vijaya  #  #$#...</td>\n",
              "      <td>The purpose of the present paper is to establi...</td>\n",
              "      <td>2015.0</td>\n",
              "      <td>Mathematics</td>\n",
              "      <td># #$#  # #$#  # #$#  # #$# 10.1007/s13370-014...</td>\n",
              "      <td>15400210 #$# 123233843 #$# 31058385 #$# 115799...</td>\n",
              "      <td>116984815</td>\n",
              "      <td>https://api.semanticscholar.org/CorpusID:11698...</td>\n",
              "      <td>Afrika Matematika</td>\n",
              "      <td>NaN</td>\n",
              "      <td>4</td>\n",
              "      <td>1</td>\n",
              "      <td>7</td>\n",
              "    </tr>\n",
              "    <tr>\n",
              "      <th>74</th>\n",
              "      <td>164945171</td>\n",
              "      <td>Biological activities of a garlic–Cirsium seti...</td>\n",
              "      <td>Eric Banan‐Mwine Daliri  #  #$# Sun‐Il  # Choi...</td>\n",
              "      <td>In this study, we investigated the antioxidant...</td>\n",
              "      <td>2019.0</td>\n",
              "      <td>Medicine #$# Chemistry</td>\n",
              "      <td># #$#  # #$# PMC6593477 #$# 31289650 #$# 10.1...</td>\n",
              "      <td>83450108 #$# 95654747 #$# 6922513 #$# 20019599...</td>\n",
              "      <td>164945171 #$# 215382559</td>\n",
              "      <td>https://api.semanticscholar.org/CorpusID:16494...</td>\n",
              "      <td>Food science &amp; nutrition</td>\n",
              "      <td>Food science &amp; nutrition</td>\n",
              "      <td>12</td>\n",
              "      <td>2</td>\n",
              "      <td>16</td>\n",
              "    </tr>\n",
              "    <tr>\n",
              "      <th>143</th>\n",
              "      <td>8330818</td>\n",
              "      <td>First DNA Barcode Reference Library for the Id...</td>\n",
              "      <td>Juan  # Díaz  #  #$# Gabriela Vanina Villanova...</td>\n",
              "      <td>Valid fish species identification is essential...</td>\n",
              "      <td>2016.0</td>\n",
              "      <td>Biology #$# Medicine</td>\n",
              "      <td># #$#  # #$# PMC4956254 #$# 27442116 #$# 10.1...</td>\n",
              "      <td>6517747 #$# 3905370 #$# 3894046 #$# 15141910 #...</td>\n",
              "      <td>201756545 #$# 46980399 #$# 25042084 #$# 517195...</td>\n",
              "      <td>https://api.semanticscholar.org/CorpusID:8330818</td>\n",
              "      <td>PLoS ONE</td>\n",
              "      <td>PLoS ONE</td>\n",
              "      <td>8</td>\n",
              "      <td>17</td>\n",
              "      <td>21</td>\n",
              "    </tr>\n",
              "  </tbody>\n",
              "</table>\n",
              "</div>\n",
              "      <button class=\"colab-df-convert\" onclick=\"convertToInteractive('df-ad78645b-c2fd-42cc-97b1-58a81b8be3a9')\"\n",
              "              title=\"Convert this dataframe to an interactive table.\"\n",
              "              style=\"display:none;\">\n",
              "        \n",
              "  <svg xmlns=\"http://www.w3.org/2000/svg\" height=\"24px\"viewBox=\"0 0 24 24\"\n",
              "       width=\"24px\">\n",
              "    <path d=\"M0 0h24v24H0V0z\" fill=\"none\"/>\n",
              "    <path d=\"M18.56 5.44l.94 2.06.94-2.06 2.06-.94-2.06-.94-.94-2.06-.94 2.06-2.06.94zm-11 1L8.5 8.5l.94-2.06 2.06-.94-2.06-.94L8.5 2.5l-.94 2.06-2.06.94zm10 10l.94 2.06.94-2.06 2.06-.94-2.06-.94-.94-2.06-.94 2.06-2.06.94z\"/><path d=\"M17.41 7.96l-1.37-1.37c-.4-.4-.92-.59-1.43-.59-.52 0-1.04.2-1.43.59L10.3 9.45l-7.72 7.72c-.78.78-.78 2.05 0 2.83L4 21.41c.39.39.9.59 1.41.59.51 0 1.02-.2 1.41-.59l7.78-7.78 2.81-2.81c.8-.78.8-2.07 0-2.86zM5.41 20L4 18.59l7.72-7.72 1.47 1.35L5.41 20z\"/>\n",
              "  </svg>\n",
              "      </button>\n",
              "      \n",
              "  <style>\n",
              "    .colab-df-container {\n",
              "      display:flex;\n",
              "      flex-wrap:wrap;\n",
              "      gap: 12px;\n",
              "    }\n",
              "\n",
              "    .colab-df-convert {\n",
              "      background-color: #E8F0FE;\n",
              "      border: none;\n",
              "      border-radius: 50%;\n",
              "      cursor: pointer;\n",
              "      display: none;\n",
              "      fill: #1967D2;\n",
              "      height: 32px;\n",
              "      padding: 0 0 0 0;\n",
              "      width: 32px;\n",
              "    }\n",
              "\n",
              "    .colab-df-convert:hover {\n",
              "      background-color: #E2EBFA;\n",
              "      box-shadow: 0px 1px 2px rgba(60, 64, 67, 0.3), 0px 1px 3px 1px rgba(60, 64, 67, 0.15);\n",
              "      fill: #174EA6;\n",
              "    }\n",
              "\n",
              "    [theme=dark] .colab-df-convert {\n",
              "      background-color: #3B4455;\n",
              "      fill: #D2E3FC;\n",
              "    }\n",
              "\n",
              "    [theme=dark] .colab-df-convert:hover {\n",
              "      background-color: #434B5C;\n",
              "      box-shadow: 0px 1px 3px 1px rgba(0, 0, 0, 0.15);\n",
              "      filter: drop-shadow(0px 1px 2px rgba(0, 0, 0, 0.3));\n",
              "      fill: #FFFFFF;\n",
              "    }\n",
              "  </style>\n",
              "\n",
              "      <script>\n",
              "        const buttonEl =\n",
              "          document.querySelector('#df-ad78645b-c2fd-42cc-97b1-58a81b8be3a9 button.colab-df-convert');\n",
              "        buttonEl.style.display =\n",
              "          google.colab.kernel.accessAllowed ? 'block' : 'none';\n",
              "\n",
              "        async function convertToInteractive(key) {\n",
              "          const element = document.querySelector('#df-ad78645b-c2fd-42cc-97b1-58a81b8be3a9');\n",
              "          const dataTable =\n",
              "            await google.colab.kernel.invokeFunction('convertToInteractive',\n",
              "                                                     [key], {});\n",
              "          if (!dataTable) return;\n",
              "\n",
              "          const docLinkHtml = 'Like what you see? Visit the ' +\n",
              "            '<a target=\"_blank\" href=https://colab.research.google.com/notebooks/data_table.ipynb>data table notebook</a>'\n",
              "            + ' to learn more about interactive tables.';\n",
              "          element.innerHTML = '';\n",
              "          dataTable['output_type'] = 'display_data';\n",
              "          await google.colab.output.renderOutput(dataTable, element);\n",
              "          const docLink = document.createElement('div');\n",
              "          docLink.innerHTML = docLinkHtml;\n",
              "          element.appendChild(docLink);\n",
              "        }\n",
              "      </script>\n",
              "    </div>\n",
              "  </div>\n",
              "  "
            ],
            "text/plain": [
              "      Paper_ID                                              Title  \\\n",
              "38   199668943  3D Human Pose Estimation under limited supervi...   \n",
              "48     2872418  Switch from θ to σ replication of bacteriophag...   \n",
              "72   116984815  Connections between various subclasses of plan...   \n",
              "74   164945171  Biological activities of a garlic–Cirsium seti...   \n",
              "143    8330818  First DNA Barcode Reference Library for the Id...   \n",
              "\n",
              "                                               Authors  \\\n",
              "38   Rahul  # Mitra  #  #$# Nitesh B. Gundavarapu  ...   \n",
              "48   Magdalena  # Narajczyk  #  #$# Sylwia  # Barań...   \n",
              "72   Saurabh  # Porwal  #  #$# K.  # Vijaya  #  #$#...   \n",
              "74   Eric Banan‐Mwine Daliri  #  #$# Sun‐Il  # Choi...   \n",
              "143  Juan  # Díaz  #  #$# Gabriela Vanina Villanova...   \n",
              "\n",
              "                                              Abstract    Year  \\\n",
              "38   Estimating 3D human pose from monocular images...  2019.0   \n",
              "48   Bacteriophage λ genome is one of the classical...  2007.0   \n",
              "72   The purpose of the present paper is to establi...  2015.0   \n",
              "74   In this study, we investigated the antioxidant...  2019.0   \n",
              "143  Valid fish species identification is essential...  2016.0   \n",
              "\n",
              "                    Domains  \\\n",
              "38         Computer Science   \n",
              "48                  Biology   \n",
              "72              Mathematics   \n",
              "74   Medicine #$# Chemistry   \n",
              "143    Biology #$# Medicine   \n",
              "\n",
              "                                         all_access_id  \\\n",
              "38   1908.05293 #$#  # #$#  # #$#  # #$#  # #$# 296...   \n",
              "48    # #$#  # #$#  # #$#  # #$# 10.1007/s00438-007...   \n",
              "72    # #$#  # #$#  # #$#  # #$# 10.1007/s13370-014...   \n",
              "74    # #$#  # #$# PMC6593477 #$# 31289650 #$# 10.1...   \n",
              "143   # #$#  # #$# PMC4956254 #$# 27442116 #$# 10.1...   \n",
              "\n",
              "                                              outbound  \\\n",
              "38   206592419 #$# 2087262 #$# 84843959 #$# 1219233...   \n",
              "48   42862721 #$# 86557658 #$# 42062280 #$# 1100376...   \n",
              "72   15400210 #$# 123233843 #$# 31058385 #$# 115799...   \n",
              "74   83450108 #$# 95654747 #$# 6922513 #$# 20019599...   \n",
              "143  6517747 #$# 3905370 #$# 3894046 #$# 15141910 #...   \n",
              "\n",
              "                                               inbound  \\\n",
              "38                                           209854462   \n",
              "48                                            34020068   \n",
              "72                                           116984815   \n",
              "74                             164945171 #$# 215382559   \n",
              "143  201756545 #$# 46980399 #$# 25042084 #$# 517195...   \n",
              "\n",
              "                                                    s2  \\\n",
              "38   https://api.semanticscholar.org/CorpusID:19966...   \n",
              "48    https://api.semanticscholar.org/CorpusID:2872418   \n",
              "72   https://api.semanticscholar.org/CorpusID:11698...   \n",
              "74   https://api.semanticscholar.org/CorpusID:16494...   \n",
              "143   https://api.semanticscholar.org/CorpusID:8330818   \n",
              "\n",
              "                             journal                            venue  \\\n",
              "38                             ArXiv                            ArXiv   \n",
              "48   Molecular Genetics and Genomics  Molecular Genetics and Genomics   \n",
              "72                 Afrika Matematika                              NaN   \n",
              "74          Food science & nutrition         Food science & nutrition   \n",
              "143                         PLoS ONE                         PLoS ONE   \n",
              "\n",
              "     N_Authors  N_Citation  N_Entities  \n",
              "38           7           1           9  \n",
              "48           5           1          17  \n",
              "72           4           1           7  \n",
              "74          12           2          16  \n",
              "143          8          17          21  "
            ]
          },
          "execution_count": 422,
          "metadata": {},
          "output_type": "execute_result"
        }
      ],
      "source": [
        "df = pd.read_csv('/content/drive/MyDrive/FilteredInboundIDs.csv', index_col = 0)\n",
        "df.head()"
      ]
    },
    {
      "cell_type": "code",
      "execution_count": null,
      "metadata": {
        "colab": {
          "base_uri": "https://localhost:8080/"
        },
        "id": "nOi0nazoAK9l",
        "outputId": "208b1f90-86a1-4e55-ba6c-15a5f09d7f83"
      },
      "outputs": [
        {
          "data": {
            "text/plain": [
              "(8137, 15)"
            ]
          },
          "execution_count": 423,
          "metadata": {},
          "output_type": "execute_result"
        }
      ],
      "source": [
        "df.shape"
      ]
    },
    {
      "cell_type": "markdown",
      "metadata": {
        "id": "gL-YwRT4G0Hp"
      },
      "source": [
        "### Indexing"
      ]
    },
    {
      "cell_type": "code",
      "execution_count": null,
      "metadata": {
        "colab": {
          "base_uri": "https://localhost:8080/",
          "height": 49
        },
        "id": "JmeRcsm8Gnpi",
        "outputId": "64c26967-4c48-443e-bd89-4bca9ba541bc"
      },
      "outputs": [
        {
          "data": {
            "application/vnd.jupyter.widget-view+json": {
              "model_id": "e04d993e1d8e44b286e5963af12bb352",
              "version_major": 2,
              "version_minor": 0
            },
            "text/plain": [
              "  0%|          | 0/8137 [00:00<?, ?it/s]"
            ]
          },
          "metadata": {},
          "output_type": "display_data"
        }
      ],
      "source": [
        "paper_id = df['Paper_ID'].values\n",
        "pid_to_idx = {}\n",
        "idx = 0\n",
        "for ele in tqdm(paper_id):\n",
        "  pid_to_idx[str(ele)] = idx\n",
        "  idx+=1"
      ]
    },
    {
      "cell_type": "code",
      "execution_count": null,
      "metadata": {
        "id": "DCh5kBsJHlOi"
      },
      "outputs": [],
      "source": [
        "with open('/content/drive/MyDrive/pid_to_idx.json', 'w') as file:\n",
        "  json.dump(pid_to_idx, file)"
      ]
    },
    {
      "cell_type": "code",
      "execution_count": null,
      "metadata": {
        "id": "BpMeMkLXViQr"
      },
      "outputs": [],
      "source": [
        "with open('/content/drive/MyDrive/final_entities.json', 'r') as file:\n",
        "  entities = json.load(file)"
      ]
    },
    {
      "cell_type": "code",
      "execution_count": null,
      "metadata": {
        "id": "Bo-yFHL3V6W7"
      },
      "outputs": [],
      "source": [
        "inbounds = df['inbound'].values\n",
        "l_pids = len(paper_id)"
      ]
    },
    {
      "cell_type": "code",
      "execution_count": null,
      "metadata": {
        "colab": {
          "base_uri": "https://localhost:8080/",
          "height": 49
        },
        "id": "L9enz3pWHf_D",
        "outputId": "ea1747f5-844e-4530-f4ff-a7c655d4120d"
      },
      "outputs": [
        {
          "data": {
            "application/vnd.jupyter.widget-view+json": {
              "model_id": "6c984ab6e56b4dbea694ad49848f7f6f",
              "version_major": 2,
              "version_minor": 0
            },
            "text/plain": [
              "0it [00:00, ?it/s]"
            ]
          },
          "metadata": {},
          "output_type": "display_data"
        }
      ],
      "source": [
        "def give_uv(df, pid_idx):\n",
        "  u, v, edge = [], [], []\n",
        "  for i,row in tqdm(df.iterrows()):\n",
        "    pid = row['Paper_ID']\n",
        "    cites = row['inbound'].split('#$#')\n",
        "    for c in cites:\n",
        "      try:\n",
        "        idx = pid_idx[c.strip()]\n",
        "        idx2 = pid_idx[str(pid)]\n",
        "        u.append(idx2)\n",
        "        v.append(idx)\n",
        "        edge.append(str(idx)+str(idx2))\n",
        "        edge.append(str(idx2)+str(idx))\n",
        "      except:\n",
        "        continue\n",
        "  return u,v, edge\n",
        "\n",
        "u,v,edges = give_uv(df, pid_to_idx)"
      ]
    },
    {
      "cell_type": "code",
      "execution_count": null,
      "metadata": {
        "colab": {
          "base_uri": "https://localhost:8080/",
          "height": 116
        },
        "id": "EJkHYCmtJTC2",
        "outputId": "7a98a7ba-3772-4e1d-ec15-998fde5b6ec9"
      },
      "outputs": [
        {
          "data": {
            "application/vnd.jupyter.widget-view+json": {
              "model_id": "23aec0d28fe64d2798b4dcf8b13fa3b3",
              "version_major": 2,
              "version_minor": 0
            },
            "text/plain": [
              "  0%|          | 0/8137 [00:00<?, ?it/s]"
            ]
          },
          "metadata": {},
          "output_type": "display_data"
        },
        {
          "name": "stdout",
          "output_type": "stream",
          "text": [
            "5076\n"
          ]
        },
        {
          "data": {
            "application/vnd.jupyter.widget-view+json": {
              "model_id": "fd941b2a22fa482d90c77170826067bb",
              "version_major": 2,
              "version_minor": 0
            },
            "text/plain": [
              "0it [00:00, ?it/s]"
            ]
          },
          "metadata": {},
          "output_type": "display_data"
        },
        {
          "name": "stdout",
          "output_type": "stream",
          "text": [
            "5315\n"
          ]
        }
      ],
      "source": [
        "def give_uv_context(l_pids, paper_id, entities):\n",
        "  u,v,edges = [],[],[]\n",
        "  for i in tqdm(range(l_pids)):\n",
        "    pid = str(paper_id[i])\n",
        "    set1 = set(entities[pid]['entities'])\n",
        "    for j in range(i+1, l_pids):\n",
        "      pid2 = str(paper_id[j])\n",
        "      set2 = set(entities[pid2]['entities'])\n",
        "      idx1, idx2 = pid_to_idx[pid], pid_to_idx[pid2]\n",
        "      set3 = set2.intersection(set1)\n",
        "      if len(set3)>4:\n",
        "        u.append(idx1)\n",
        "        v.append(idx2)\n",
        "        edges.append(str(idx1)+str(idx2))\n",
        "        u.append(idx2)\n",
        "        v.append(idx1)\n",
        "        edges.append(str(idx2)+str(idx1))\n",
        "\n",
        "  return u,v,edges\n",
        "\n",
        "\n",
        "def give_uv_cite_con(df, pid_idx, entities,u,v,edges):\n",
        "  for i,row in tqdm(df.iterrows()):\n",
        "    pid = row['Paper_ID']\n",
        "    cites = row['inbound'].split('#$#')\n",
        "    for c in cites:\n",
        "      try:\n",
        "        idx1 = pid_idx[c.strip()]\n",
        "        idx2 = pid_idx[str(pid)]\n",
        "      except:\n",
        "        continue\n",
        "      # if idx1 == idx2:\n",
        "      #   continue\n",
        "\n",
        "      if str(idx1)+str(idx2) not in edges:\n",
        "        set1 = set(entities[c.strip()]['entities'])\n",
        "        set2 = set(entities[str(pid)]['entities'])\n",
        "        set3 = set1.intersection(set2)\n",
        "        if len(set3)>=0:\n",
        "          u.append(idx1)\n",
        "          v.append(idx2)\n",
        "          edges.append(str(idx1)+str(idx2))\n",
        "  return u,v,edges\n",
        "\n",
        "u,v, edges = give_uv_context(l_pids, paper_id, entities)\n",
        "print(len(u))\n",
        "u2,v2, edges2 = give_uv_cite_con(df, pid_to_idx, entities, u,v,edges)\n",
        "print(len(u))"
      ]
    },
    {
      "cell_type": "code",
      "execution_count": null,
      "metadata": {
        "colab": {
          "base_uri": "https://localhost:8080/"
        },
        "id": "sYuQ5w2J93wT",
        "outputId": "ec4fbc27-80ff-4469-96e4-729eb502ef3e"
      },
      "outputs": [
        {
          "data": {
            "text/plain": [
              "2462"
            ]
          },
          "execution_count": 429,
          "metadata": {},
          "output_type": "execute_result"
        }
      ],
      "source": [
        "len(u2)"
      ]
    },
    {
      "cell_type": "code",
      "execution_count": null,
      "metadata": {
        "colab": {
          "base_uri": "https://localhost:8080/",
          "height": 267
        },
        "id": "015zUEXnKPIf",
        "outputId": "cd0907c7-1893-4143-868e-8368f21411f8"
      },
      "outputs": [
        {
          "data": {
            "application/vnd.jupyter.widget-view+json": {
              "model_id": "e943274f91494473894c7ca18fe4e43e",
              "version_major": 2,
              "version_minor": 0
            },
            "text/plain": [
              "  0%|          | 0/8137 [00:00<?, ?it/s]"
            ]
          },
          "metadata": {},
          "output_type": "display_data"
        },
        {
          "ename": "KeyboardInterrupt",
          "evalue": "ignored",
          "output_type": "error",
          "traceback": [
            "\u001b[0;31m---------------------------------------------------------------------------\u001b[0m",
            "\u001b[0;31mKeyboardInterrupt\u001b[0m                         Traceback (most recent call last)",
            "\u001b[0;32m<ipython-input-53-acc891c1a094>\u001b[0m in \u001b[0;36m<cell line: 1>\u001b[0;34m()\u001b[0m\n\u001b[1;32m     11\u001b[0m       \u001b[0;32mcontinue\u001b[0m\u001b[0;34m\u001b[0m\u001b[0;34m\u001b[0m\u001b[0m\n\u001b[1;32m     12\u001b[0m     \u001b[0;32melse\u001b[0m\u001b[0;34m:\u001b[0m\u001b[0;34m\u001b[0m\u001b[0;34m\u001b[0m\u001b[0m\n\u001b[0;32m---> 13\u001b[0;31m       \u001b[0mset3\u001b[0m \u001b[0;34m=\u001b[0m \u001b[0mset1\u001b[0m\u001b[0;34m.\u001b[0m\u001b[0mintersection\u001b[0m\u001b[0;34m(\u001b[0m\u001b[0mset2\u001b[0m\u001b[0;34m)\u001b[0m\u001b[0;34m\u001b[0m\u001b[0;34m\u001b[0m\u001b[0m\n\u001b[0m\u001b[1;32m     14\u001b[0m       \u001b[0;32mif\u001b[0m \u001b[0mlen\u001b[0m\u001b[0;34m(\u001b[0m\u001b[0mset3\u001b[0m\u001b[0;34m)\u001b[0m\u001b[0;34m>\u001b[0m\u001b[0;36m3\u001b[0m\u001b[0;34m:\u001b[0m\u001b[0;34m\u001b[0m\u001b[0;34m\u001b[0m\u001b[0m\n\u001b[1;32m     15\u001b[0m         \u001b[0mu\u001b[0m\u001b[0;34m.\u001b[0m\u001b[0mappend\u001b[0m\u001b[0;34m(\u001b[0m\u001b[0midx1\u001b[0m\u001b[0;34m)\u001b[0m\u001b[0;34m\u001b[0m\u001b[0;34m\u001b[0m\u001b[0m\n",
            "\u001b[0;31mKeyboardInterrupt\u001b[0m: "
          ]
        }
      ],
      "source": [
        "for i in tqdm(range(l_pids)):\n",
        "  pid = str(paper_id[i])\n",
        "  set1 = set(entities[pid]['entities'])\n",
        "  for j in range(i+1, l_pids):\n",
        "    pid2 = str(paper_id[j])\n",
        "    set2 = set(entities[pid2]['entities'])\n",
        "    idx1, idx2 = pid_to_idx[pid], pid_to_idx[pid2]\n",
        "    if str(idx1)+str(idx2) in edges:\n",
        "      continue\n",
        "    elif str(idx2)+str(idx1) in edges:\n",
        "      continue\n",
        "    else:\n",
        "      set3 = set1.intersection(set2)\n",
        "      if len(set3)>3:\n",
        "        u.append(idx1)\n",
        "        v.append(idx2)\n",
        "        edges.append(str(idx1)+str(idx2))\n",
        "        edges.append(str(idx2)+str(idx1))\n"
      ]
    },
    {
      "cell_type": "code",
      "execution_count": null,
      "metadata": {
        "colab": {
          "base_uri": "https://localhost:8080/"
        },
        "id": "oLcGW9XyJJ6o",
        "outputId": "d5a61b17-2647-4536-d5b2-ace5df0fa352"
      },
      "outputs": [
        {
          "name": "stdout",
          "output_type": "stream",
          "text": [
            "23925 23925 23925\n"
          ]
        }
      ],
      "source": [
        "print(len(u), len(v), len(edges))"
      ]
    },
    {
      "cell_type": "code",
      "execution_count": null,
      "metadata": {
        "colab": {
          "base_uri": "https://localhost:8080/"
        },
        "id": "8XnFEOGSIAva",
        "outputId": "7c186c0c-9c9f-4009-98ae-c9d572c1e2eb"
      },
      "outputs": [
        {
          "data": {
            "text/plain": [
              "8178"
            ]
          },
          "execution_count": 48,
          "metadata": {},
          "output_type": "execute_result"
        }
      ],
      "source": [
        "len(u)"
      ]
    },
    {
      "cell_type": "code",
      "execution_count": null,
      "metadata": {
        "id": "Oj1jdh8cK6uq"
      },
      "outputs": [],
      "source": [
        "send = {'u':u, 'v':v}\n",
        "with open('/content/drive/MyDrive/final_uv_v3.json', 'w') as file:\n",
        "  json.dump(send, file)"
      ]
    },
    {
      "cell_type": "markdown",
      "metadata": {
        "id": "FYDjWusTeuoT"
      },
      "source": [
        "### calculate node features"
      ]
    },
    {
      "cell_type": "code",
      "execution_count": null,
      "metadata": {
        "colab": {
          "base_uri": "https://localhost:8080/"
        },
        "id": "glV8M9JKdH5Y",
        "outputId": "1bd26fab-898e-49cb-a6fa-29e3dbe1fa7d"
      },
      "outputs": [
        {
          "name": "stdout",
          "output_type": "stream",
          "text": [
            "Looking in indexes: https://pypi.org/simple, https://us-python.pkg.dev/colab-wheels/public/simple/\n",
            "Collecting transformers\n",
            "  Downloading transformers-4.28.1-py3-none-any.whl (7.0 MB)\n",
            "\u001b[2K     \u001b[90m━━━━━━━━━━━━━━━━━━━━━━━━━━━━━━━━━━━━━━━━\u001b[0m \u001b[32m7.0/7.0 MB\u001b[0m \u001b[31m75.7 MB/s\u001b[0m eta \u001b[36m0:00:00\u001b[0m\n",
            "\u001b[?25hRequirement already satisfied: regex!=2019.12.17 in /usr/local/lib/python3.9/dist-packages (from transformers) (2022.10.31)\n",
            "Requirement already satisfied: tqdm>=4.27 in /usr/local/lib/python3.9/dist-packages (from transformers) (4.65.0)\n",
            "Requirement already satisfied: filelock in /usr/local/lib/python3.9/dist-packages (from transformers) (3.11.0)\n",
            "Requirement already satisfied: numpy>=1.17 in /usr/local/lib/python3.9/dist-packages (from transformers) (1.22.4)\n",
            "Requirement already satisfied: pyyaml>=5.1 in /usr/local/lib/python3.9/dist-packages (from transformers) (6.0)\n",
            "Requirement already satisfied: packaging>=20.0 in /usr/local/lib/python3.9/dist-packages (from transformers) (23.0)\n",
            "Collecting tokenizers!=0.11.3,<0.14,>=0.11.1\n",
            "  Downloading tokenizers-0.13.3-cp39-cp39-manylinux_2_17_x86_64.manylinux2014_x86_64.whl (7.8 MB)\n",
            "\u001b[2K     \u001b[90m━━━━━━━━━━━━━━━━━━━━━━━━━━━━━━━━━━━━━━━━\u001b[0m \u001b[32m7.8/7.8 MB\u001b[0m \u001b[31m76.0 MB/s\u001b[0m eta \u001b[36m0:00:00\u001b[0m\n",
            "\u001b[?25hCollecting huggingface-hub<1.0,>=0.11.0\n",
            "  Downloading huggingface_hub-0.13.4-py3-none-any.whl (200 kB)\n",
            "\u001b[2K     \u001b[90m━━━━━━━━━━━━━━━━━━━━━━━━━━━━━━━━━━━━━━\u001b[0m \u001b[32m200.1/200.1 kB\u001b[0m \u001b[31m21.5 MB/s\u001b[0m eta \u001b[36m0:00:00\u001b[0m\n",
            "\u001b[?25hRequirement already satisfied: requests in /usr/local/lib/python3.9/dist-packages (from transformers) (2.27.1)\n",
            "Requirement already satisfied: typing-extensions>=3.7.4.3 in /usr/local/lib/python3.9/dist-packages (from huggingface-hub<1.0,>=0.11.0->transformers) (4.5.0)\n",
            "Requirement already satisfied: charset-normalizer~=2.0.0 in /usr/local/lib/python3.9/dist-packages (from requests->transformers) (2.0.12)\n",
            "Requirement already satisfied: urllib3<1.27,>=1.21.1 in /usr/local/lib/python3.9/dist-packages (from requests->transformers) (1.26.15)\n",
            "Requirement already satisfied: idna<4,>=2.5 in /usr/local/lib/python3.9/dist-packages (from requests->transformers) (3.4)\n",
            "Requirement already satisfied: certifi>=2017.4.17 in /usr/local/lib/python3.9/dist-packages (from requests->transformers) (2022.12.7)\n",
            "Installing collected packages: tokenizers, huggingface-hub, transformers\n",
            "Successfully installed huggingface-hub-0.13.4 tokenizers-0.13.3 transformers-4.28.1\n",
            "--2023-04-15 12:52:35--  https://s3-us-west-2.amazonaws.com/ai2-s2-research/scibert/huggingface_pytorch/scibert_scivocab_uncased.tar\n",
            "Resolving s3-us-west-2.amazonaws.com (s3-us-west-2.amazonaws.com)... 52.92.212.144, 52.92.177.240, 52.92.153.80, ...\n",
            "Connecting to s3-us-west-2.amazonaws.com (s3-us-west-2.amazonaws.com)|52.92.212.144|:443... connected.\n",
            "HTTP request sent, awaiting response... 200 OK\n",
            "Length: 442460160 (422M) [application/x-tar]\n",
            "Saving to: ‘scibert_uncased.tar’\n",
            "\n",
            "scibert_uncased.tar 100%[===================>] 421.96M  35.5MB/s    in 13s     \n",
            "\n",
            "2023-04-15 12:52:49 (33.0 MB/s) - ‘scibert_uncased.tar’ saved [442460160/442460160]\n",
            "\n",
            "scibert_scivocab_uncased/\n",
            "scibert_scivocab_uncased/vocab.txt\n",
            "scibert_scivocab_uncased/pytorch_model.bin\n",
            "scibert_scivocab_uncased/config.json\n"
          ]
        }
      ],
      "source": [
        "!pip install transformers\n",
        "!wget -O scibert_uncased.tar https://s3-us-west-2.amazonaws.com/ai2-s2-research/scibert/huggingface_pytorch/scibert_scivocab_uncased.tar\n",
        "!tar -xvf scibert_uncased.tar\n",
        "import torch\n",
        "from transformers import BertTokenizer, BertModel"
      ]
    },
    {
      "cell_type": "code",
      "execution_count": null,
      "metadata": {
        "colab": {
          "base_uri": "https://localhost:8080/"
        },
        "id": "XdhQFAbidag4",
        "outputId": "7495cf82-0e85-4fe8-9135-f8d447f5001e"
      },
      "outputs": [
        {
          "name": "stderr",
          "output_type": "stream",
          "text": [
            "The tokenizer class you load from this checkpoint is not the same type as the class this function is called from. It may result in unexpected tokenization. \n",
            "The tokenizer class you load from this checkpoint is 'RobertaTokenizer'. \n",
            "The class this function is called from is 'BertTokenizer'.\n"
          ]
        }
      ],
      "source": [
        "model_version = 'scibert_scivocab_uncased'\n",
        "do_lower_case = True\n",
        "tokenizer = BertTokenizer.from_pretrained(model_version, do_lower_case=do_lower_case)"
      ]
    },
    {
      "cell_type": "code",
      "execution_count": null,
      "metadata": {
        "colab": {
          "base_uri": "https://localhost:8080/",
          "height": 808
        },
        "id": "A0_a8vd_moxM",
        "outputId": "3db4aaa2-f30f-4132-c831-c3eac96ec858"
      },
      "outputs": [
        {
          "data": {
            "text/html": [
              "\n",
              "  <div id=\"df-ffd68d9b-34e4-40fa-812d-9121f009f327\">\n",
              "    <div class=\"colab-df-container\">\n",
              "      <div>\n",
              "<style scoped>\n",
              "    .dataframe tbody tr th:only-of-type {\n",
              "        vertical-align: middle;\n",
              "    }\n",
              "\n",
              "    .dataframe tbody tr th {\n",
              "        vertical-align: top;\n",
              "    }\n",
              "\n",
              "    .dataframe thead th {\n",
              "        text-align: right;\n",
              "    }\n",
              "</style>\n",
              "<table border=\"1\" class=\"dataframe\">\n",
              "  <thead>\n",
              "    <tr style=\"text-align: right;\">\n",
              "      <th></th>\n",
              "      <th>Paper_ID</th>\n",
              "      <th>Title</th>\n",
              "      <th>Authors</th>\n",
              "      <th>Abstract</th>\n",
              "      <th>Year</th>\n",
              "      <th>Domains</th>\n",
              "      <th>all_access_id</th>\n",
              "      <th>outbound</th>\n",
              "      <th>inbound</th>\n",
              "      <th>s2</th>\n",
              "      <th>journal</th>\n",
              "      <th>venue</th>\n",
              "      <th>N_Authors</th>\n",
              "      <th>N_Citation</th>\n",
              "      <th>N_Entities</th>\n",
              "    </tr>\n",
              "  </thead>\n",
              "  <tbody>\n",
              "    <tr>\n",
              "      <th>38</th>\n",
              "      <td>199668943</td>\n",
              "      <td>3D Human Pose Estimation under limited supervi...</td>\n",
              "      <td>Rahul  # Mitra  #  #$# Nitesh B. Gundavarapu  ...</td>\n",
              "      <td>Estimating 3D human pose from monocular images...</td>\n",
              "      <td>2019.0</td>\n",
              "      <td>Computer Science</td>\n",
              "      <td>1908.05293 #$#  # #$#  # #$#  # #$#  # #$# 296...</td>\n",
              "      <td>206592419 #$# 2087262 #$# 84843959 #$# 1219233...</td>\n",
              "      <td>209854462</td>\n",
              "      <td>https://api.semanticscholar.org/CorpusID:19966...</td>\n",
              "      <td>ArXiv</td>\n",
              "      <td>ArXiv</td>\n",
              "      <td>7</td>\n",
              "      <td>1</td>\n",
              "      <td>9</td>\n",
              "    </tr>\n",
              "    <tr>\n",
              "      <th>48</th>\n",
              "      <td>2872418</td>\n",
              "      <td>Switch from θ to σ replication of bacteriophag...</td>\n",
              "      <td>Magdalena  # Narajczyk  #  #$# Sylwia  # Barań...</td>\n",
              "      <td>Bacteriophage λ genome is one of the classical...</td>\n",
              "      <td>2007.0</td>\n",
              "      <td>Biology</td>\n",
              "      <td># #$#  # #$#  # #$#  # #$# 10.1007/s00438-007...</td>\n",
              "      <td>42862721 #$# 86557658 #$# 42062280 #$# 1100376...</td>\n",
              "      <td>34020068</td>\n",
              "      <td>https://api.semanticscholar.org/CorpusID:2872418</td>\n",
              "      <td>Molecular Genetics and Genomics</td>\n",
              "      <td>Molecular Genetics and Genomics</td>\n",
              "      <td>5</td>\n",
              "      <td>1</td>\n",
              "      <td>17</td>\n",
              "    </tr>\n",
              "    <tr>\n",
              "      <th>72</th>\n",
              "      <td>116984815</td>\n",
              "      <td>Connections between various subclasses of plan...</td>\n",
              "      <td>Saurabh  # Porwal  #  #$# K.  # Vijaya  #  #$#...</td>\n",
              "      <td>The purpose of the present paper is to establi...</td>\n",
              "      <td>2015.0</td>\n",
              "      <td>Mathematics</td>\n",
              "      <td># #$#  # #$#  # #$#  # #$# 10.1007/s13370-014...</td>\n",
              "      <td>15400210 #$# 123233843 #$# 31058385 #$# 115799...</td>\n",
              "      <td>116984815</td>\n",
              "      <td>https://api.semanticscholar.org/CorpusID:11698...</td>\n",
              "      <td>Afrika Matematika</td>\n",
              "      <td>NaN</td>\n",
              "      <td>4</td>\n",
              "      <td>1</td>\n",
              "      <td>7</td>\n",
              "    </tr>\n",
              "    <tr>\n",
              "      <th>74</th>\n",
              "      <td>164945171</td>\n",
              "      <td>Biological activities of a garlic–Cirsium seti...</td>\n",
              "      <td>Eric Banan‐Mwine Daliri  #  #$# Sun‐Il  # Choi...</td>\n",
              "      <td>In this study, we investigated the antioxidant...</td>\n",
              "      <td>2019.0</td>\n",
              "      <td>Medicine #$# Chemistry</td>\n",
              "      <td># #$#  # #$# PMC6593477 #$# 31289650 #$# 10.1...</td>\n",
              "      <td>83450108 #$# 95654747 #$# 6922513 #$# 20019599...</td>\n",
              "      <td>164945171 #$# 215382559</td>\n",
              "      <td>https://api.semanticscholar.org/CorpusID:16494...</td>\n",
              "      <td>Food science &amp; nutrition</td>\n",
              "      <td>Food science &amp; nutrition</td>\n",
              "      <td>12</td>\n",
              "      <td>2</td>\n",
              "      <td>16</td>\n",
              "    </tr>\n",
              "    <tr>\n",
              "      <th>143</th>\n",
              "      <td>8330818</td>\n",
              "      <td>First DNA Barcode Reference Library for the Id...</td>\n",
              "      <td>Juan  # Díaz  #  #$# Gabriela Vanina Villanova...</td>\n",
              "      <td>Valid fish species identification is essential...</td>\n",
              "      <td>2016.0</td>\n",
              "      <td>Biology #$# Medicine</td>\n",
              "      <td># #$#  # #$# PMC4956254 #$# 27442116 #$# 10.1...</td>\n",
              "      <td>6517747 #$# 3905370 #$# 3894046 #$# 15141910 #...</td>\n",
              "      <td>201756545 #$# 46980399 #$# 25042084 #$# 517195...</td>\n",
              "      <td>https://api.semanticscholar.org/CorpusID:8330818</td>\n",
              "      <td>PLoS ONE</td>\n",
              "      <td>PLoS ONE</td>\n",
              "      <td>8</td>\n",
              "      <td>17</td>\n",
              "      <td>21</td>\n",
              "    </tr>\n",
              "  </tbody>\n",
              "</table>\n",
              "</div>\n",
              "      <button class=\"colab-df-convert\" onclick=\"convertToInteractive('df-ffd68d9b-34e4-40fa-812d-9121f009f327')\"\n",
              "              title=\"Convert this dataframe to an interactive table.\"\n",
              "              style=\"display:none;\">\n",
              "        \n",
              "  <svg xmlns=\"http://www.w3.org/2000/svg\" height=\"24px\"viewBox=\"0 0 24 24\"\n",
              "       width=\"24px\">\n",
              "    <path d=\"M0 0h24v24H0V0z\" fill=\"none\"/>\n",
              "    <path d=\"M18.56 5.44l.94 2.06.94-2.06 2.06-.94-2.06-.94-.94-2.06-.94 2.06-2.06.94zm-11 1L8.5 8.5l.94-2.06 2.06-.94-2.06-.94L8.5 2.5l-.94 2.06-2.06.94zm10 10l.94 2.06.94-2.06 2.06-.94-2.06-.94-.94-2.06-.94 2.06-2.06.94z\"/><path d=\"M17.41 7.96l-1.37-1.37c-.4-.4-.92-.59-1.43-.59-.52 0-1.04.2-1.43.59L10.3 9.45l-7.72 7.72c-.78.78-.78 2.05 0 2.83L4 21.41c.39.39.9.59 1.41.59.51 0 1.02-.2 1.41-.59l7.78-7.78 2.81-2.81c.8-.78.8-2.07 0-2.86zM5.41 20L4 18.59l7.72-7.72 1.47 1.35L5.41 20z\"/>\n",
              "  </svg>\n",
              "      </button>\n",
              "      \n",
              "  <style>\n",
              "    .colab-df-container {\n",
              "      display:flex;\n",
              "      flex-wrap:wrap;\n",
              "      gap: 12px;\n",
              "    }\n",
              "\n",
              "    .colab-df-convert {\n",
              "      background-color: #E8F0FE;\n",
              "      border: none;\n",
              "      border-radius: 50%;\n",
              "      cursor: pointer;\n",
              "      display: none;\n",
              "      fill: #1967D2;\n",
              "      height: 32px;\n",
              "      padding: 0 0 0 0;\n",
              "      width: 32px;\n",
              "    }\n",
              "\n",
              "    .colab-df-convert:hover {\n",
              "      background-color: #E2EBFA;\n",
              "      box-shadow: 0px 1px 2px rgba(60, 64, 67, 0.3), 0px 1px 3px 1px rgba(60, 64, 67, 0.15);\n",
              "      fill: #174EA6;\n",
              "    }\n",
              "\n",
              "    [theme=dark] .colab-df-convert {\n",
              "      background-color: #3B4455;\n",
              "      fill: #D2E3FC;\n",
              "    }\n",
              "\n",
              "    [theme=dark] .colab-df-convert:hover {\n",
              "      background-color: #434B5C;\n",
              "      box-shadow: 0px 1px 3px 1px rgba(0, 0, 0, 0.15);\n",
              "      filter: drop-shadow(0px 1px 2px rgba(0, 0, 0, 0.3));\n",
              "      fill: #FFFFFF;\n",
              "    }\n",
              "  </style>\n",
              "\n",
              "      <script>\n",
              "        const buttonEl =\n",
              "          document.querySelector('#df-ffd68d9b-34e4-40fa-812d-9121f009f327 button.colab-df-convert');\n",
              "        buttonEl.style.display =\n",
              "          google.colab.kernel.accessAllowed ? 'block' : 'none';\n",
              "\n",
              "        async function convertToInteractive(key) {\n",
              "          const element = document.querySelector('#df-ffd68d9b-34e4-40fa-812d-9121f009f327');\n",
              "          const dataTable =\n",
              "            await google.colab.kernel.invokeFunction('convertToInteractive',\n",
              "                                                     [key], {});\n",
              "          if (!dataTable) return;\n",
              "\n",
              "          const docLinkHtml = 'Like what you see? Visit the ' +\n",
              "            '<a target=\"_blank\" href=https://colab.research.google.com/notebooks/data_table.ipynb>data table notebook</a>'\n",
              "            + ' to learn more about interactive tables.';\n",
              "          element.innerHTML = '';\n",
              "          dataTable['output_type'] = 'display_data';\n",
              "          await google.colab.output.renderOutput(dataTable, element);\n",
              "          const docLink = document.createElement('div');\n",
              "          docLink.innerHTML = docLinkHtml;\n",
              "          element.appendChild(docLink);\n",
              "        }\n",
              "      </script>\n",
              "    </div>\n",
              "  </div>\n",
              "  "
            ],
            "text/plain": [
              "      Paper_ID                                              Title  \\\n",
              "38   199668943  3D Human Pose Estimation under limited supervi...   \n",
              "48     2872418  Switch from θ to σ replication of bacteriophag...   \n",
              "72   116984815  Connections between various subclasses of plan...   \n",
              "74   164945171  Biological activities of a garlic–Cirsium seti...   \n",
              "143    8330818  First DNA Barcode Reference Library for the Id...   \n",
              "\n",
              "                                               Authors  \\\n",
              "38   Rahul  # Mitra  #  #$# Nitesh B. Gundavarapu  ...   \n",
              "48   Magdalena  # Narajczyk  #  #$# Sylwia  # Barań...   \n",
              "72   Saurabh  # Porwal  #  #$# K.  # Vijaya  #  #$#...   \n",
              "74   Eric Banan‐Mwine Daliri  #  #$# Sun‐Il  # Choi...   \n",
              "143  Juan  # Díaz  #  #$# Gabriela Vanina Villanova...   \n",
              "\n",
              "                                              Abstract    Year  \\\n",
              "38   Estimating 3D human pose from monocular images...  2019.0   \n",
              "48   Bacteriophage λ genome is one of the classical...  2007.0   \n",
              "72   The purpose of the present paper is to establi...  2015.0   \n",
              "74   In this study, we investigated the antioxidant...  2019.0   \n",
              "143  Valid fish species identification is essential...  2016.0   \n",
              "\n",
              "                    Domains  \\\n",
              "38         Computer Science   \n",
              "48                  Biology   \n",
              "72              Mathematics   \n",
              "74   Medicine #$# Chemistry   \n",
              "143    Biology #$# Medicine   \n",
              "\n",
              "                                         all_access_id  \\\n",
              "38   1908.05293 #$#  # #$#  # #$#  # #$#  # #$# 296...   \n",
              "48    # #$#  # #$#  # #$#  # #$# 10.1007/s00438-007...   \n",
              "72    # #$#  # #$#  # #$#  # #$# 10.1007/s13370-014...   \n",
              "74    # #$#  # #$# PMC6593477 #$# 31289650 #$# 10.1...   \n",
              "143   # #$#  # #$# PMC4956254 #$# 27442116 #$# 10.1...   \n",
              "\n",
              "                                              outbound  \\\n",
              "38   206592419 #$# 2087262 #$# 84843959 #$# 1219233...   \n",
              "48   42862721 #$# 86557658 #$# 42062280 #$# 1100376...   \n",
              "72   15400210 #$# 123233843 #$# 31058385 #$# 115799...   \n",
              "74   83450108 #$# 95654747 #$# 6922513 #$# 20019599...   \n",
              "143  6517747 #$# 3905370 #$# 3894046 #$# 15141910 #...   \n",
              "\n",
              "                                               inbound  \\\n",
              "38                                           209854462   \n",
              "48                                            34020068   \n",
              "72                                           116984815   \n",
              "74                             164945171 #$# 215382559   \n",
              "143  201756545 #$# 46980399 #$# 25042084 #$# 517195...   \n",
              "\n",
              "                                                    s2  \\\n",
              "38   https://api.semanticscholar.org/CorpusID:19966...   \n",
              "48    https://api.semanticscholar.org/CorpusID:2872418   \n",
              "72   https://api.semanticscholar.org/CorpusID:11698...   \n",
              "74   https://api.semanticscholar.org/CorpusID:16494...   \n",
              "143   https://api.semanticscholar.org/CorpusID:8330818   \n",
              "\n",
              "                             journal                            venue  \\\n",
              "38                             ArXiv                            ArXiv   \n",
              "48   Molecular Genetics and Genomics  Molecular Genetics and Genomics   \n",
              "72                 Afrika Matematika                              NaN   \n",
              "74          Food science & nutrition         Food science & nutrition   \n",
              "143                         PLoS ONE                         PLoS ONE   \n",
              "\n",
              "     N_Authors  N_Citation  N_Entities  \n",
              "38           7           1           9  \n",
              "48           5           1          17  \n",
              "72           4           1           7  \n",
              "74          12           2          16  \n",
              "143          8          17          21  "
            ]
          },
          "execution_count": 19,
          "metadata": {},
          "output_type": "execute_result"
        }
      ],
      "source": [
        "df = pd.read_csv('/content/drive/MyDrive/FilteredInboundIDs.csv', index_col = 0)\n",
        "df.head()"
      ]
    },
    {
      "cell_type": "code",
      "execution_count": null,
      "metadata": {
        "colab": {
          "base_uri": "https://localhost:8080/"
        },
        "id": "htF6b7MlKMxz",
        "outputId": "8b0d0e60-5bf2-4c35-e42e-2ba2c1913458"
      },
      "outputs": [
        {
          "name": "stdout",
          "output_type": "stream",
          "text": [
            "<class 'pandas.core.frame.DataFrame'>\n",
            "Int64Index: 8137 entries, 38 to 134943\n",
            "Data columns (total 15 columns):\n",
            " #   Column         Non-Null Count  Dtype  \n",
            "---  ------         --------------  -----  \n",
            " 0   Paper_ID       8137 non-null   int64  \n",
            " 1   Title          8137 non-null   object \n",
            " 2   Authors        8137 non-null   object \n",
            " 3   Abstract       8081 non-null   object \n",
            " 4   Year           8137 non-null   float64\n",
            " 5   Domains        8090 non-null   object \n",
            " 6   all_access_id  8137 non-null   object \n",
            " 7   outbound       8137 non-null   object \n",
            " 8   inbound        8137 non-null   object \n",
            " 9   s2             8137 non-null   object \n",
            " 10  journal        7392 non-null   object \n",
            " 11  venue          6188 non-null   object \n",
            " 12  N_Authors      8137 non-null   int64  \n",
            " 13  N_Citation     8137 non-null   int64  \n",
            " 14  N_Entities     8137 non-null   int64  \n",
            "dtypes: float64(1), int64(4), object(10)\n",
            "memory usage: 1017.1+ KB\n"
          ]
        }
      ],
      "source": [
        "df.info()"
      ]
    },
    {
      "cell_type": "code",
      "execution_count": null,
      "metadata": {
        "id": "AZI-YkRcbPmI"
      },
      "outputs": [],
      "source": [
        "def embed_text(text):\n",
        "\n",
        "  input_ids = tokenizer.convert_tokens_to_ids(tokenizer.tokenize(text))\n",
        "  return input_ids"
      ]
    },
    {
      "cell_type": "code",
      "execution_count": null,
      "metadata": {
        "colab": {
          "base_uri": "https://localhost:8080/",
          "height": 49
        },
        "id": "qR17NX0AfRC4",
        "outputId": "9a3b8d87-536c-4b06-9902-0145b19b11db"
      },
      "outputs": [
        {
          "data": {
            "application/vnd.jupyter.widget-view+json": {
              "model_id": "06a1680190024cf290f08790b3dd14c4",
              "version_major": 2,
              "version_minor": 0
            },
            "text/plain": [
              "0it [00:00, ?it/s]"
            ]
          },
          "metadata": {},
          "output_type": "display_data"
        }
      ],
      "source": [
        "max_len = -1*float('inf')\n",
        "text_len = []\n",
        "domain_types = {}\n",
        "index = 0\n",
        "for i, row in tqdm(df.iterrows()):\n",
        "  pid = row['Paper_ID']\n",
        "  title = row['Title']\n",
        "  abstract = str(row['Abstract'])\n",
        "  if abstract=='nan':\n",
        "    abstract = ''\n",
        "  domains = row['Domains']\n",
        "  if str(domains)!='nan':\n",
        "    domains = [d.strip() for d in row['Domains'].split('#$#')]\n",
        "    for d in domains:\n",
        "      if d not in domain_types:\n",
        "        domain_types[d]=index\n",
        "        index+=1\n",
        "\n",
        "  text = title+abstract\n",
        "  embedding = embed_text(text)\n",
        "  text_len.append(len(embedding))\n",
        "  max_len = max(len(text),max_len)"
      ]
    },
    {
      "cell_type": "code",
      "execution_count": null,
      "metadata": {
        "colab": {
          "base_uri": "https://localhost:8080/",
          "height": 865
        },
        "id": "WW4MqnsBMkJr",
        "outputId": "a971d21e-452d-4b1d-8fb9-97b71244e31a"
      },
      "outputs": [
        {
          "name": "stdout",
          "output_type": "stream",
          "text": [
            "10091\n"
          ]
        },
        {
          "data": {
            "text/plain": [
              "<BarContainer object of 668 artists>"
            ]
          },
          "execution_count": 60,
          "metadata": {},
          "output_type": "execute_result"
        },
        {
          "data": {
            "image/png": "[encoded data removed]",
            "text/plain": [
              "<Figure size 2000x1000 with 1 Axes>"
            ]
          },
          "metadata": {},
          "output_type": "display_data"
        }
      ],
      "source": [
        "from collections import Counter\n",
        "import matplotlib.pyplot as plt\n",
        "import seaborn as sns\n",
        "\n",
        "print(max_len)\n",
        "text_dist = dict(Counter(text_len))\n",
        "s, f = text_dist.keys(), text_dist.values()\n",
        "plt.figure(figsize = (20,10))\n",
        "plt.bar(s,f)"
      ]
    },
    {
      "cell_type": "code",
      "execution_count": null,
      "metadata": {
        "id": "ZsXptS9TNwOS"
      },
      "outputs": [],
      "source": [
        "key, value = zip(*sorted(zip(s, f), key = lambda x: x[0]))\n",
        "key, value = list(key), np.array(value)"
      ]
    },
    {
      "cell_type": "code",
      "execution_count": null,
      "metadata": {
        "colab": {
          "base_uri": "https://localhost:8080/"
        },
        "id": "bmpASXKhOaZc",
        "outputId": "7d4aed96-012e-465d-aa45-3d4d929c1d22"
      },
      "outputs": [
        {
          "name": "stdout",
          "output_type": "stream",
          "text": [
            "Check Percentage Data\n",
            "0.005284502888042276\n",
            "668 668\n"
          ]
        }
      ],
      "source": [
        "print('Check Percentage Data')\n",
        "data_percentage = value/df.shape[0]\n",
        "print(max(data_percentage))\n",
        "cdf = np.cumsum(data_percentage)\n",
        "print(len(cdf), len(key))"
      ]
    },
    {
      "cell_type": "code",
      "execution_count": null,
      "metadata": {
        "colab": {
          "base_uri": "https://localhost:8080/"
        },
        "id": "O99EeasIO13U",
        "outputId": "314b5757-a03c-4356-ca71-05480be206c0"
      },
      "outputs": [
        {
          "data": {
            "text/plain": [
              "0.5902666830527219"
            ]
          },
          "execution_count": 67,
          "metadata": {},
          "output_type": "execute_result"
        }
      ],
      "source": [
        "cdf[key.index(300)]"
      ]
    },
    {
      "cell_type": "code",
      "execution_count": null,
      "metadata": {
        "colab": {
          "base_uri": "https://localhost:8080/",
          "height": 830
        },
        "id": "pPsGwHcWOlgE",
        "outputId": "7af92d48-d418-41bd-9ff2-f48bfcd153f7"
      },
      "outputs": [
        {
          "data": {
            "image/png": "[encoded data removed]",
            "text/plain": [
              "<Figure size 2000x1000 with 1 Axes>"
            ]
          },
          "metadata": {},
          "output_type": "display_data"
        }
      ],
      "source": [
        "f = plt.figure()\n",
        "f.set_figwidth(20)\n",
        "f.set_figheight(10)\n",
        "plt.plot(key, cdf)\n",
        "plt.plot(key,data_percentage, color='orange')\n",
        "plt.show()"
      ]
    },
    {
      "cell_type": "code",
      "execution_count": null,
      "metadata": {
        "colab": {
          "base_uri": "https://localhost:8080/"
        },
        "id": "hVCLCcNEOrCi",
        "outputId": "b4258186-d7e3-4efe-fe55-5f59e97cb7ad"
      },
      "outputs": [
        {
          "data": {
            "text/plain": [
              "19"
            ]
          },
          "execution_count": 19,
          "metadata": {},
          "output_type": "execute_result"
        }
      ],
      "source": [
        "len(domain_types)"
      ]
    },
    {
      "cell_type": "code",
      "execution_count": null,
      "metadata": {
        "colab": {
          "base_uri": "https://localhost:8080/"
        },
        "id": "Iz-lnWhvUoyF",
        "outputId": "1faae9bd-2dfb-4e36-827f-3227bb05f243"
      },
      "outputs": [
        {
          "data": {
            "text/plain": [
              "{'Computer Science': 0,\n",
              " 'Biology': 1,\n",
              " 'Mathematics': 2,\n",
              " 'Medicine': 3,\n",
              " 'Chemistry': 4,\n",
              " 'Engineering': 5,\n",
              " 'Physics': 6,\n",
              " 'Geology': 7,\n",
              " 'Materials Science': 8,\n",
              " 'Political Science': 9,\n",
              " 'Psychology': 10,\n",
              " 'Economics': 11,\n",
              " 'Philosophy': 12,\n",
              " 'Geography': 13,\n",
              " 'Business': 14,\n",
              " 'Environmental Science': 15,\n",
              " 'Sociology': 16,\n",
              " 'History': 17,\n",
              " 'Art': 18,\n",
              " 'ukn': 19}"
            ]
          },
          "execution_count": 20,
          "metadata": {},
          "output_type": "execute_result"
        }
      ],
      "source": [
        "domain_types['ukn']=19\n",
        "domain_types"
      ]
    },
    {
      "cell_type": "code",
      "execution_count": null,
      "metadata": {
        "id": "MqZ8Kb8kUxTg"
      },
      "outputs": [],
      "source": [
        "with open('/content/drive/MyDrive/domain_types.json', 'w') as file:\n",
        "  json.dump(domain_types, file)"
      ]
    },
    {
      "cell_type": "code",
      "execution_count": null,
      "metadata": {
        "id": "daPmohEdVq71"
      },
      "outputs": [],
      "source": [
        "with open('/content/drive/MyDrive/pid_to_idx.json', 'r') as file:\n",
        "  pid_idx = json.load(file)"
      ]
    },
    {
      "cell_type": "code",
      "execution_count": null,
      "metadata": {
        "id": "1oJDiUgYaHio"
      },
      "outputs": [],
      "source": [
        "with open('/content/drive/MyDrive/domain_types.json', 'r') as file:\n",
        "  domain_types = json.load(file)"
      ]
    },
    {
      "cell_type": "code",
      "execution_count": null,
      "metadata": {
        "colab": {
          "base_uri": "https://localhost:8080/",
          "height": 49
        },
        "id": "TXC8fMe5VBa-",
        "outputId": "47be584d-31eb-4390-afc9-1ad6c8d0ba46"
      },
      "outputs": [
        {
          "data": {
            "application/vnd.jupyter.widget-view+json": {
              "model_id": "0acf2f309dfd4bc899fa67aefcbe820c",
              "version_major": 2,
              "version_minor": 0
            },
            "text/plain": [
              "0it [00:00, ?it/s]"
            ]
          },
          "metadata": {},
          "output_type": "display_data"
        }
      ],
      "source": [
        "def get_features(df, pid_idx):\n",
        "  features = np.zeros((8137, 300))\n",
        "  for i, row in tqdm(df.iterrows()):\n",
        "    pid = str(row['Paper_ID'])\n",
        "    idx = pid_idx[pid]\n",
        "    title = row['Title']\n",
        "    abstract = str(row['Abstract'])\n",
        "\n",
        "    if abstract=='nan':\n",
        "      abstract = ''\n",
        "\n",
        "    text = title + abstract\n",
        "    embedding = embed_text(text)\n",
        "    embed_len = len(embedding)\n",
        "    if embed_len>280:\n",
        "      embed_len = 280\n",
        "      features[idx][:embed_len] = embedding[:embed_len]\n",
        "    else:\n",
        "      features[idx][:embed_len] = embedding\n",
        "\n",
        "    domains = row['Domains']\n",
        "    if str(domains)!='nan':\n",
        "      domains = [d.strip() for d in row['Domains'].split('#$#')]\n",
        "\n",
        "      for d in domains:\n",
        "        didx = domain_types[d]\n",
        "        features[idx][280+didx] = 1\n",
        "  return features\n",
        "\n",
        "node_features = get_features(df, pid_idx)"
      ]
    },
    {
      "cell_type": "code",
      "execution_count": null,
      "metadata": {
        "colab": {
          "base_uri": "https://localhost:8080/"
        },
        "id": "2eql0joSOHeY",
        "outputId": "cfe7ec63-30c0-433e-82a5-1e564fb5e322"
      },
      "outputs": [
        {
          "data": {
            "text/plain": [
              "8137"
            ]
          },
          "execution_count": 82,
          "metadata": {},
          "output_type": "execute_result"
        }
      ],
      "source": [
        "len(node_features)"
      ]
    },
    {
      "cell_type": "code",
      "execution_count": null,
      "metadata": {
        "colab": {
          "base_uri": "https://localhost:8080/"
        },
        "id": "j95x6XCUdk-r",
        "outputId": "8e19c499-1074-49c4-8577-64f1e53ded6b"
      },
      "outputs": [
        {
          "data": {
            "text/plain": [
              "300"
            ]
          },
          "execution_count": 79,
          "metadata": {},
          "output_type": "execute_result"
        }
      ],
      "source": [
        "len(node_features[-1])"
      ]
    },
    {
      "cell_type": "code",
      "execution_count": null,
      "metadata": {
        "id": "3qu84ezsj-YL"
      },
      "outputs": [],
      "source": [
        "features2 = [list(feat) for feat in node_features]"
      ]
    },
    {
      "cell_type": "code",
      "execution_count": null,
      "metadata": {
        "id": "WKMOkD1IrRPA"
      },
      "outputs": [],
      "source": [
        "with open('/content/drive/MyDrive/node_featuresv2.json', 'w') as file:\n",
        "  json.dump(features2, file)"
      ]
    },
    {
      "cell_type": "markdown",
      "metadata": {
        "id": "_PSmBoqPhU2-"
      },
      "source": [
        "### create final uv"
      ]
    },
    {
      "cell_type": "code",
      "execution_count": null,
      "metadata": {
        "id": "nT15ctvfhrD5"
      },
      "outputs": [],
      "source": [
        "with open('/content/drive/MyDrive/gaurav_uv.json', 'r') as file:\n",
        "  edges1 = json.load(file)\n",
        "\n",
        "with open('/content/drive/MyDrive/nishant_uv.json', 'r') as file:\n",
        "  edges2 = json.load(file)\n",
        "\n",
        "with open('/content/drive/MyDrive/vedant_uv.json', 'r') as file:\n",
        "  edges3 = json.load(file)"
      ]
    },
    {
      "cell_type": "code",
      "execution_count": null,
      "metadata": {
        "colab": {
          "base_uri": "https://localhost:8080/"
        },
        "id": "JmkbBx56k3H5",
        "outputId": "46a53e97-ca68-4a86-cfe8-16e907ffd37c"
      },
      "outputs": [
        {
          "name": "stdout",
          "output_type": "stream",
          "text": [
            "8140 4159 1322\n",
            "Total Edges\n",
            "13659\n"
          ]
        }
      ],
      "source": [
        "print(len(edges1['u'][:-38]), len(edges2['u'][2881:]), len(edges3['u'][2881:]))\n",
        "print('Total Edges')\n",
        "print(len(edges1['u'])+len(edges2['u'][2881:])+len(edges3['u'][2881:]))"
      ]
    },
    {
      "cell_type": "code",
      "execution_count": null,
      "metadata": {
        "colab": {
          "base_uri": "https://localhost:8080/"
        },
        "id": "TICHdrDRk7wY",
        "outputId": "96ec2486-ec5f-43c0-df8a-f283dd63c4d9"
      },
      "outputs": [
        {
          "name": "stdout",
          "output_type": "stream",
          "text": [
            "13621 13621\n"
          ]
        }
      ],
      "source": [
        "u,v = edges1['u'][:-38], edges1['v'][:-38]\n",
        "\n",
        "for e in [edges2, edges3]:\n",
        "  u_, v_ = e['u'][2881:], e['v'][2881:]\n",
        "  u.extend(u_)\n",
        "  v.extend(v_)\n",
        "\n",
        "print(len(u), len(v))"
      ]
    },
    {
      "cell_type": "code",
      "execution_count": null,
      "metadata": {
        "id": "L64H9Muymm5I"
      },
      "outputs": [],
      "source": [
        "with open('/content/drive/MyDrive/final_uv.json', 'w') as file:\n",
        "  json.dump({'u':u, 'v': v},file)"
      ]
    },
    {
      "cell_type": "markdown",
      "metadata": {
        "id": "P2zH5qUunhC4"
      },
      "source": [
        "### Create graph"
      ]
    },
    {
      "cell_type": "code",
      "execution_count": null,
      "metadata": {
        "id": "J0spQ1yGrrDR"
      },
      "outputs": [],
      "source": [
        "import torch"
      ]
    },
    {
      "cell_type": "code",
      "execution_count": null,
      "metadata": {
        "id": "8rnmOuf47kWr"
      },
      "outputs": [],
      "source": [
        "with open('/content/drive/MyDrive/final_uv_v3.json', 'r') as file:\n",
        "  edges = json.load(file)\n",
        "\n",
        "u,v = edges['u'], edges['v']"
      ]
    },
    {
      "cell_type": "code",
      "execution_count": null,
      "metadata": {
        "id": "FnQEFDXoqAGS"
      },
      "outputs": [],
      "source": [
        "u,v = zip(*(sorted(zip(u,v), key = lambda x: x[0])))"
      ]
    },
    {
      "cell_type": "code",
      "execution_count": null,
      "metadata": {
        "id": "G_NhhWBPhZx2"
      },
      "outputs": [],
      "source": [
        "with open('/content/drive/MyDrive/node_featuresv2.json', 'r') as file:\n",
        "  node_features = json.load(file)"
      ]
    },
    {
      "cell_type": "code",
      "execution_count": null,
      "metadata": {
        "colab": {
          "base_uri": "https://localhost:8080/"
        },
        "id": "kuoC8u_3X-Xf",
        "outputId": "cc62cb3e-e904-4a1b-b53d-0a35bf024204"
      },
      "outputs": [
        {
          "name": "stdout",
          "output_type": "stream",
          "text": [
            "2144\n"
          ]
        }
      ],
      "source": [
        "count = 0\n",
        "for i in range(len(u)):\n",
        "  if u[i]==v[i]:\n",
        "    count+=1\n",
        "print(count)"
      ]
    },
    {
      "cell_type": "code",
      "execution_count": null,
      "metadata": {
        "colab": {
          "base_uri": "https://localhost:8080/"
        },
        "id": "wF3MJ9EKnkmK",
        "outputId": "8d5ecc23-45da-4bc8-afd4-d0923d3020a3"
      },
      "outputs": [
        {
          "name": "stdout",
          "output_type": "stream",
          "text": [
            "2 8131 2 8131\n"
          ]
        }
      ],
      "source": [
        "print(min(u), max(u), min(v), max(v))"
      ]
    },
    {
      "cell_type": "code",
      "execution_count": null,
      "metadata": {
        "id": "VKSe4vjXoq27"
      },
      "outputs": [],
      "source": [
        "g = dgl.graph((u,v), num_nodes = 8137)"
      ]
    },
    {
      "cell_type": "code",
      "execution_count": null,
      "metadata": {
        "id": "eWQMheYZqRZI"
      },
      "outputs": [],
      "source": [
        "g.ndata['feature'] = torch.tensor(node_features)"
      ]
    },
    {
      "cell_type": "code",
      "execution_count": null,
      "metadata": {
        "colab": {
          "base_uri": "https://localhost:8080/"
        },
        "id": "5DINXyDUrWWf",
        "outputId": "9bc63443-9687-41de-f98f-66344ed8ce0e"
      },
      "outputs": [
        {
          "data": {
            "text/plain": [
              "torch.Size([8137, 300])"
            ]
          },
          "execution_count": 438,
          "metadata": {},
          "output_type": "execute_result"
        }
      ],
      "source": [
        "torch.tensor(node_features).shape"
      ]
    },
    {
      "cell_type": "code",
      "execution_count": null,
      "metadata": {
        "colab": {
          "base_uri": "https://localhost:8080/"
        },
        "id": "yOE6zMogsuZo",
        "outputId": "548a6210-1d52-4182-fed5-5d56b76ca805"
      },
      "outputs": [
        {
          "name": "stdout",
          "output_type": "stream",
          "text": [
            "<bound method DGLGraph.num_nodes of Graph(num_nodes=8137, num_edges=2462,\n",
            "      ndata_schemes={'feature': Scheme(shape=(300,), dtype=torch.float32)}\n",
            "      edata_schemes={})>\n"
          ]
        }
      ],
      "source": [
        "print(g.num_nodes)"
      ]
    },
    {
      "cell_type": "code",
      "execution_count": null,
      "metadata": {
        "id": "qatLEF7Lsy8R"
      },
      "outputs": [],
      "source": [
        "dgl.save_graphs('/content/drive/MyDrive/citation_concept_graphv3.dgl',g)"
      ]
    },
    {
      "cell_type": "markdown",
      "metadata": {
        "id": "MEzIM7C8pGUu"
      },
      "source": [
        "## Add Sci_Bert Embedding"
      ]
    },
    {
      "cell_type": "code",
      "execution_count": null,
      "metadata": {
        "id": "nAd9Hg55pcJu"
      },
      "outputs": [],
      "source": [
        "import json\n",
        "\n",
        "with open('/content/drive/MyDrive/sci_embeddings.json', 'r') as file:\n",
        "  sci_embeddings = json.load(file)"
      ]
    },
    {
      "cell_type": "code",
      "execution_count": null,
      "metadata": {
        "id": "LQQWLUltss-f"
      },
      "outputs": [],
      "source": [
        "from sklearn.decomposition import PCA\n",
        "from sklearn.preprocessing import StandardScaler\n",
        "import numpy as np"
      ]
    },
    {
      "cell_type": "code",
      "execution_count": null,
      "metadata": {
        "id": "svHLaCF0tHCO"
      },
      "outputs": [],
      "source": [
        "sci_embed = []\n",
        "paper_ids = []\n",
        "for key, value in sci_embeddings.items():\n",
        "  sci_embed.append(value[0])\n",
        "  paper_ids.append(key)"
      ]
    },
    {
      "cell_type": "code",
      "execution_count": null,
      "metadata": {
        "id": "DqTr2Fi8uGOO"
      },
      "outputs": [],
      "source": [
        "scaling=StandardScaler()\n",
        "\n",
        "Scaled_data = scaling.fit_transform(sci_embed)\n",
        "\n",
        "principal=PCA(n_components=64)\n",
        "principal.fit(Scaled_data)\n",
        "x=principal.transform(Scaled_data)"
      ]
    },
    {
      "cell_type": "code",
      "execution_count": null,
      "metadata": {
        "colab": {
          "base_uri": "https://localhost:8080/"
        },
        "id": "dwTZclWoM1sW",
        "outputId": "5cb76bb1-c1b7-450c-8d45-5576cb256705"
      },
      "outputs": [
        {
          "name": "stdout",
          "output_type": "stream",
          "text": [
            "(8118, 64)\n"
          ]
        }
      ],
      "source": [
        "print(x.shape)"
      ]
    },
    {
      "cell_type": "code",
      "execution_count": null,
      "metadata": {
        "id": "KEG_qZS4bWLs"
      },
      "outputs": [],
      "source": [
        "from pickle import dump\n",
        "\n",
        "dump(scaling, open('/content/drive/MyDrive/scaler.pkl', 'wb'))\n",
        "\n",
        "dump(principal, open('/content/drive/MyDrive/pca.pkl', 'wb'))"
      ]
    },
    {
      "cell_type": "code",
      "execution_count": null,
      "metadata": {
        "id": "9BeCq0mKOM1W"
      },
      "outputs": [],
      "source": [
        "with open('/content/drive/MyDrive/pid_to_idx.json', 'r') as file:\n",
        "  pid_to_idx = json.load(file)"
      ]
    },
    {
      "cell_type": "code",
      "execution_count": null,
      "metadata": {
        "id": "eRhC_xHkNzO_"
      },
      "outputs": [],
      "source": [
        "context_embeddings = np.zeros((8137,64))\n",
        "\n",
        "for i, ele in enumerate(paper_ids):\n",
        "  idx = pid_to_idx[ele]\n",
        "  context_embeddings[idx, :] = x[i,:]"
      ]
    },
    {
      "cell_type": "code",
      "execution_count": null,
      "metadata": {
        "id": "RQrlgJZPrAcX"
      },
      "outputs": [],
      "source": [
        "with open('/content/drive/MyDrive/ctext_embeddings.json', 'w') as file:\n",
        "  json.dump({'context_embedding':context_embeddings.tolist()}, file)"
      ]
    },
    {
      "cell_type": "markdown",
      "metadata": {
        "id": "LTTaNGFltGs4"
      },
      "source": [
        "## Train Graph Network"
      ]
    },
    {
      "cell_type": "code",
      "execution_count": null,
      "metadata": {
        "colab": {
          "base_uri": "https://localhost:8080/"
        },
        "id": "481zvnEpuAWf",
        "outputId": "398bb5ba-2ca9-4c31-a7c6-072564fa2be6"
      },
      "outputs": [
        {
          "name": "stdout",
          "output_type": "stream",
          "text": [
            "Looking in indexes: https://pypi.org/simple, https://us-python.pkg.dev/colab-wheels/public/simple/\n",
            "Requirement already satisfied: dgl in /usr/local/lib/python3.9/dist-packages (1.0.1)\n",
            "Requirement already satisfied: psutil>=5.8.0 in /usr/local/lib/python3.9/dist-packages (from dgl) (5.9.5)\n",
            "Requirement already satisfied: tqdm in /usr/local/lib/python3.9/dist-packages (from dgl) (4.65.0)\n",
            "Requirement already satisfied: numpy>=1.14.0 in /usr/local/lib/python3.9/dist-packages (from dgl) (1.22.4)\n",
            "Requirement already satisfied: scipy>=1.1.0 in /usr/local/lib/python3.9/dist-packages (from dgl) (1.10.1)\n",
            "Requirement already satisfied: requests>=2.19.0 in /usr/local/lib/python3.9/dist-packages (from dgl) (2.27.1)\n",
            "Requirement already satisfied: networkx>=2.1 in /usr/local/lib/python3.9/dist-packages (from dgl) (3.1)\n",
            "Requirement already satisfied: charset-normalizer~=2.0.0 in /usr/local/lib/python3.9/dist-packages (from requests>=2.19.0->dgl) (2.0.12)\n",
            "Requirement already satisfied: urllib3<1.27,>=1.21.1 in /usr/local/lib/python3.9/dist-packages (from requests>=2.19.0->dgl) (1.26.15)\n",
            "Requirement already satisfied: idna<4,>=2.5 in /usr/local/lib/python3.9/dist-packages (from requests>=2.19.0->dgl) (3.4)\n",
            "Requirement already satisfied: certifi>=2017.4.17 in /usr/local/lib/python3.9/dist-packages (from requests>=2.19.0->dgl) (2022.12.7)\n"
          ]
        }
      ],
      "source": [
        "!pip install dgl"
      ]
    },
    {
      "cell_type": "code",
      "execution_count": null,
      "metadata": {
        "id": "lQsPzvRouCkW"
      },
      "outputs": [],
      "source": [
        "import json\n",
        "import dgl\n",
        "import torch\n",
        "import torch.nn as nn\n",
        "import torch.nn.functional as F\n",
        "import itertools\n",
        "import numpy as np\n",
        "import scipy.sparse as sp\n",
        "from tqdm.notebook import tqdm\n",
        "from sklearn.metrics import roc_auc_score"
      ]
    },
    {
      "cell_type": "code",
      "execution_count": null,
      "metadata": {
        "id": "xnkRBdFJeIFE"
      },
      "outputs": [],
      "source": [
        "with open('/content/drive/MyDrive/ctext_embeddings.json', 'r') as file:\n",
        "  context_embeddings = json.load(file)"
      ]
    },
    {
      "cell_type": "code",
      "execution_count": null,
      "metadata": {
        "id": "TuNnJ3pttFVF"
      },
      "outputs": [],
      "source": [
        "(g,), _ = dgl.load_graphs('/content/drive/MyDrive/citation_concept_graphv3.dgl')"
      ]
    },
    {
      "cell_type": "code",
      "execution_count": null,
      "metadata": {
        "colab": {
          "base_uri": "https://localhost:8080/"
        },
        "id": "tsd-C88R2rpg",
        "outputId": "b10a7356-2568-4de4-b130-f65019e927dc"
      },
      "outputs": [
        {
          "data": {
            "text/plain": [
              "Graph(num_nodes=8137, num_edges=23925,\n",
              "      ndata_schemes={'feature': Scheme(shape=(300,), dtype=torch.float32)}\n",
              "      edata_schemes={})"
            ]
          },
          "execution_count": 278,
          "metadata": {},
          "output_type": "execute_result"
        }
      ],
      "source": [
        "g"
      ]
    },
    {
      "cell_type": "code",
      "execution_count": null,
      "metadata": {
        "id": "3ekN0eD4uFI1"
      },
      "outputs": [],
      "source": [
        "u,v = g.edges()\n",
        "\n",
        "eids = np.arange(g.number_of_edges())\n",
        "eids = np.random.permutation(eids)\n",
        "test_size = int(len(eids)*0.1)\n",
        "train_size = g.number_of_edges() - test_size\n",
        "test_pos_u, test_pos_v = u[eids[:test_size]], v[eids[:test_size]]\n",
        "train_pos_u, train_pos_v = u[eids[test_size:]], v[eids[test_size:]]\n",
        "\n",
        "adj = sp.coo_matrix((np.ones(len(u)), (u.numpy(), v.numpy())), shape = (8137,8137))\n",
        "adj_neg = 1 - adj.todense() - np.eye(g.number_of_nodes())\n",
        "neg_u, neg_v = np.where(adj_neg!=0)\n",
        "\n",
        "neg_eids = np.random.choice(len(neg_u), g.number_of_edges())\n",
        "test_neg_u, test_neg_v = neg_u[neg_eids[:test_size]], neg_v[neg_eids[:test_size]]\n",
        "train_neg_u, train_neg_v = neg_u[neg_eids[test_size:]], neg_v[neg_eids[test_size:]]"
      ]
    },
    {
      "cell_type": "code",
      "execution_count": null,
      "metadata": {
        "id": "RliT8s_06SlA"
      },
      "outputs": [],
      "source": [
        "with open('/content/drive/MyDrive/idx_to_pid.json', 'r') as file:\n",
        "  idx_to_pid = json.load(file)"
      ]
    },
    {
      "cell_type": "code",
      "execution_count": null,
      "metadata": {
        "id": "NGh3-pf_zmXA"
      },
      "outputs": [],
      "source": [
        "train_g = dgl.remove_edges(g, eids[:test_size])"
      ]
    },
    {
      "cell_type": "code",
      "execution_count": null,
      "metadata": {
        "id": "Ck16puR2zHjl"
      },
      "outputs": [],
      "source": [
        "from dgl.nn import SAGEConv\n",
        "\n",
        "class GraphSAGE(nn.Module):\n",
        "  def __init__(self, in_feats, h_feats):\n",
        "    super(GraphSAGE, self).__init__()\n",
        "    self.conv1 = SAGEConv(in_feats, h_feats[0], 'mean')\n",
        "    self.conv2 = SAGEConv(h_feats[0], h_feats[1], 'mean')\n",
        "    self.conv3 = SAGEConv(h_feats[1], h_feats[2], 'mean')\n",
        "\n",
        "\n",
        "  def forward(self, g, in_feat, context):\n",
        "    h = self.conv1(g, in_feat)\n",
        "    h = F.relu(h)\n",
        "    h = self.conv2(g, h)\n",
        "    h = F.relu(h)\n",
        "    h = self.conv3(g,h)\n",
        "    h = torch.cat((h,context),1)\n",
        "    return torch.sigmoid(h)"
      ]
    },
    {
      "cell_type": "code",
      "execution_count": null,
      "metadata": {
        "id": "q4oX_9op2P1p"
      },
      "outputs": [],
      "source": [
        "train_pos_g = dgl.graph((train_pos_u, train_pos_v), num_nodes=g.number_of_nodes())\n",
        "train_neg_g = dgl.graph((train_neg_u, train_neg_v), num_nodes=g.number_of_nodes())\n",
        "\n",
        "test_pos_g = dgl.graph((test_pos_u, test_pos_v), num_nodes=g.number_of_nodes())\n",
        "test_neg_g = dgl.graph((test_neg_u, test_neg_v), num_nodes=g.number_of_nodes())"
      ]
    },
    {
      "cell_type": "code",
      "execution_count": null,
      "metadata": {
        "id": "BGATd87w2TQn"
      },
      "outputs": [],
      "source": [
        "import dgl.function as fn\n",
        "\n",
        "class DotPredictor(nn.Module):\n",
        "    def forward(self, g, h):\n",
        "        with g.local_scope():\n",
        "            g.ndata['h'] = h\n",
        "            g.apply_edges(fn.u_dot_v('h', 'h', 'score'))\n",
        "\n",
        "\n",
        "            return g.edata['score'][:, 0]/64"
      ]
    },
    {
      "cell_type": "code",
      "execution_count": null,
      "metadata": {
        "id": "88igGWsD2ij0"
      },
      "outputs": [],
      "source": [
        "model = GraphSAGE(train_g.ndata['feature'].shape[1], [128,64,32])\n",
        "# You can replace DotPredictor with MLPPredictor.\n",
        "#pred = MLPPredictor(16)\n",
        "pred = DotPredictor()\n",
        "\n",
        "def compute_accuracy(pos_score, neg_score, threshold = 0.5):\n",
        "  pos_score = torch.where(pos_score<threshold, 0, 1)\n",
        "  neg_score = torch.where(neg_score<threshold, 0, 1)\n",
        "  scores = torch.cat([pos_score, neg_score])\n",
        "  pos_samp, neg_samp = pos_score.shape[0], neg_score.shape[0]\n",
        "  labels = torch.cat([torch.ones(pos_samp), torch.zeros(neg_samp)])\n",
        "  accuracy = sum(scores==labels)/(pos_samp+neg_samp)\n",
        "  return accuracy\n",
        "\n",
        "\n",
        "def compute_loss(pos_score, neg_score):\n",
        "    scores = torch.cat([pos_score, neg_score])\n",
        "    labels = torch.cat([torch.ones(pos_score.shape[0]), torch.zeros(neg_score.shape[0])])\n",
        "    return F.binary_cross_entropy_with_logits(scores, labels)\n",
        "\n",
        "def compute_auc(pos_score, neg_score):\n",
        "    scores = torch.cat([pos_score, neg_score]).numpy()\n",
        "    labels = torch.cat(\n",
        "        [torch.ones(pos_score.shape[0]), torch.zeros(neg_score.shape[0])]).numpy()\n",
        "    return roc_auc_score(labels, scores)"
      ]
    },
    {
      "cell_type": "code",
      "execution_count": null,
      "metadata": {
        "colab": {
          "base_uri": "https://localhost:8080/"
        },
        "id": "aO-kP_ToS-_8",
        "outputId": "ab4ad17f-8b5d-486a-9884-62143bea8cb7"
      },
      "outputs": [
        {
          "data": {
            "text/plain": [
              "GraphSAGE(\n",
              "  (conv1): SAGEConv(\n",
              "    (feat_drop): Dropout(p=0.0, inplace=False)\n",
              "    (fc_neigh): Linear(in_features=300, out_features=128, bias=False)\n",
              "    (fc_self): Linear(in_features=300, out_features=128, bias=True)\n",
              "  )\n",
              "  (conv2): SAGEConv(\n",
              "    (feat_drop): Dropout(p=0.0, inplace=False)\n",
              "    (fc_neigh): Linear(in_features=128, out_features=64, bias=False)\n",
              "    (fc_self): Linear(in_features=128, out_features=64, bias=True)\n",
              "  )\n",
              "  (conv3): SAGEConv(\n",
              "    (feat_drop): Dropout(p=0.0, inplace=False)\n",
              "    (fc_neigh): Linear(in_features=64, out_features=32, bias=False)\n",
              "    (fc_self): Linear(in_features=64, out_features=32, bias=True)\n",
              "  )\n",
              ")"
            ]
          },
          "execution_count": 286,
          "metadata": {},
          "output_type": "execute_result"
        }
      ],
      "source": [
        "model"
      ]
    },
    {
      "cell_type": "code",
      "execution_count": null,
      "metadata": {
        "colab": {
          "base_uri": "https://localhost:8080/"
        },
        "id": "a6V6BCJILYvm",
        "outputId": "f10526a5-555b-4743-991b-600e6fe328f3"
      },
      "outputs": [
        {
          "name": "stderr",
          "output_type": "stream",
          "text": [
            "/usr/local/lib/python3.9/dist-packages/dgl/backend/pytorch/tensor.py:445: UserWarning: TypedStorage is deprecated. It will be removed in the future and UntypedStorage will be the only storage class. This should only matter to you if you are using storages directly.  To access UntypedStorage directly, use tensor.untyped_storage() instead of tensor.storage()\n",
            "  assert input.numel() == input.storage().size(), (\n"
          ]
        }
      ],
      "source": [
        "h = model(train_g, train_g.ndata['feature'], torch.tensor(context_embeddings['context_embedding']))\n",
        "h = h.to(torch.float32)\n",
        "pos_score = pred(train_pos_g, h)"
      ]
    },
    {
      "cell_type": "code",
      "execution_count": null,
      "metadata": {
        "id": "Qsm7riZWZVIg"
      },
      "outputs": [],
      "source": [
        "class MLPPredictor(nn.Module):\n",
        "    def __init__(self, h_feats):\n",
        "        super().__init__()\n",
        "        self.W1 = nn.Linear(h_feats * 2, h_feats)\n",
        "        self.W2 = nn.Linear(h_feats, 32)\n",
        "        self.W3 = nn.Linear(32, 16)\n",
        "        self.W4 = nn.Linear(16,8)\n",
        "        self.W5 = nn.Linear(8,1)\n",
        "\n",
        "    def apply_edges(self, edges):\n",
        "        h = torch.cat([edges.src[\"h\"], edges.dst[\"h\"]], 1)\n",
        "        x = F.relu(self.W1(h))\n",
        "        x = F.relu(self.W2(x))\n",
        "        x = F.relu(self.W3(x))\n",
        "        x = F.relu(self.W4(x))\n",
        "        x = torch.sigmoid(self.W5(x))\n",
        "        return {\"score\": x.squeeze(1)}\n",
        "\n",
        "    def forward(self, g, h):\n",
        "        with g.local_scope():\n",
        "            g.ndata[\"h\"] = h\n",
        "            g.apply_edges(self.apply_edges)\n",
        "            return g.edata[\"score\"]\n",
        "\n",
        "mlpred = MLPPredictor(96)"
      ]
    },
    {
      "cell_type": "code",
      "execution_count": null,
      "metadata": {
        "id": "OCRCNZGIHrHd"
      },
      "outputs": [],
      "source": [
        "model = torch.load('/content/drive/MyDrive/graph_model14.pth')\n",
        "mlpred = torch.load('/content/drive/MyDrive/mlpred14.pth')"
      ]
    },
    {
      "cell_type": "code",
      "execution_count": null,
      "metadata": {
        "colab": {
          "base_uri": "https://localhost:8080/"
        },
        "id": "fu8NFEWHQYlx",
        "outputId": "5ff1e23e-7384-4d2c-ce92-186ccd4c9a6a"
      },
      "outputs": [
        {
          "name": "stdout",
          "output_type": "stream",
          "text": [
            "Adjusting learning rate of group 0 to 1.0000e-03.\n"
          ]
        }
      ],
      "source": [
        "# ----------- 3. set up loss and optimizer -------------- #\n",
        "# in this case, loss will in training loop\n",
        "optimizer = torch.optim.Adam(itertools.chain(model.parameters()), lr=0.001)\n",
        "\n",
        "lr_scheduler = torch.optim.lr_scheduler.CosineAnnealingWarmRestarts(\n",
        "    optimizer, T_0= 60, T_mult=2, eta_min=5e-5,\n",
        ")\n",
        "\n",
        "decayRate = 0.3\n",
        "exp_lr_scheduler = torch.optim.lr_scheduler.ExponentialLR(optimizer=optimizer, gamma=decayRate, verbose = True)\n",
        "\n",
        "# cyc_scheduler = torch.optim.lr_scheduler.CyclicLR(optimizer, base_lr=0.01, max_lr=0.1)"
      ]
    },
    {
      "cell_type": "code",
      "execution_count": null,
      "metadata": {
        "id": "5EMEMlOWoX9T"
      },
      "outputs": [],
      "source": [
        "pred = DotPredictor()"
      ]
    },
    {
      "cell_type": "code",
      "execution_count": null,
      "metadata": {
        "colab": {
          "base_uri": "https://localhost:8080/",
          "height": 1000,
          "referenced_widgets": [
            "e06a204c12c140fd9cce19384c391bf0"
          ]
        },
        "id": "pv2MFwz82n94",
        "outputId": "0041929a-a548-4e92-80e2-21b3b6226d4f"
      },
      "outputs": [
        {
          "data": {
            "application/vnd.jupyter.widget-view+json": {
              "model_id": "e06a204c12c140fd9cce19384c391bf0",
              "version_major": 2,
              "version_minor": 0
            },
            "text/plain": [
              "  0%|          | 0/1800 [00:00<?, ?it/s]"
            ]
          },
          "metadata": {},
          "output_type": "display_data"
        },
        {
          "name": "stderr",
          "output_type": "stream",
          "text": [
            "/usr/local/lib/python3.9/dist-packages/dgl/backend/pytorch/tensor.py:445: UserWarning: TypedStorage is deprecated. It will be removed in the future and UntypedStorage will be the only storage class. This should only matter to you if you are using storages directly.  To access UntypedStorage directly, use tensor.untyped_storage() instead of tensor.storage()\n",
            "  assert input.numel() == input.storage().size(), (\n"
          ]
        },
        {
          "name": "stdout",
          "output_type": "stream",
          "text": [
            "In epoch 0, train_loss: 0.7000448107719421, train_accuracy: 0.5241025686264038, test_loss: 0.7007572054862976, test_accuracy: 0.5269649028778076\n",
            "In epoch 5, train_loss: 0.6908373236656189, train_accuracy: 0.5234291553497314, test_loss: 0.6919506192207336, test_accuracy: 0.5198578834533691\n",
            "In epoch 10, train_loss: 0.6872285008430481, train_accuracy: 0.5167417526245117, test_loss: 0.688552975654602, test_accuracy: 0.510869562625885\n",
            "In epoch 15, train_loss: 0.6846539378166199, train_accuracy: 0.511122465133667, test_loss: 0.6862320303916931, test_accuracy: 0.5056437849998474\n",
            "In epoch 20, train_loss: 0.6813098192214966, train_accuracy: 0.5082431435585022, test_loss: 0.6831578016281128, test_accuracy: 0.5041806101799011\n",
            "In epoch 25, train_loss: 0.6785857677459717, train_accuracy: 0.5080341696739197, test_loss: 0.6806644797325134, test_accuracy: 0.5041806101799011\n",
            "In epoch 30, train_loss: 0.6745400428771973, train_accuracy: 0.5120280385017395, test_loss: 0.6769512295722961, test_accuracy: 0.5062708854675293\n",
            "In epoch 35, train_loss: 0.6718088388442993, train_accuracy: 0.5154181718826294, test_loss: 0.6747511029243469, test_accuracy: 0.5077341198921204\n",
            "In epoch 40, train_loss: 0.6696619391441345, train_accuracy: 0.5161147713661194, test_loss: 0.6728991866111755, test_accuracy: 0.5075250864028931\n",
            "In epoch 45, train_loss: 0.668292224407196, train_accuracy: 0.5145358443260193, test_loss: 0.6716312766075134, test_accuracy: 0.5066889524459839\n",
            "In epoch 50, train_loss: 0.666996419429779, train_accuracy: 0.5139321088790894, test_loss: 0.6704648733139038, test_accuracy: 0.5083612203598022\n",
            "In epoch 55, train_loss: 0.6657183766365051, train_accuracy: 0.5140017867088318, test_loss: 0.6692631840705872, test_accuracy: 0.5083612203598022\n",
            "In epoch 60, train_loss: 0.6650262475013733, train_accuracy: 0.5131658315658569, test_loss: 0.6686239838600159, test_accuracy: 0.5079431533813477\n",
            "In epoch 65, train_loss: 0.6643878817558289, train_accuracy: 0.512933611869812, test_loss: 0.668115496635437, test_accuracy: 0.5075250864028931\n",
            "In epoch 70, train_loss: 0.6639941930770874, train_accuracy: 0.511772632598877, test_loss: 0.6678153872489929, test_accuracy: 0.5064799189567566\n",
            "In epoch 75, train_loss: 0.6628894209861755, train_accuracy: 0.5120512843132019, test_loss: 0.6670491695404053, test_accuracy: 0.5073160529136658\n",
            "In epoch 80, train_loss: 0.661934494972229, train_accuracy: 0.5136534571647644, test_loss: 0.6662213802337646, test_accuracy: 0.5083612203598022\n",
            "In epoch 85, train_loss: 0.6630213260650635, train_accuracy: 0.5155110955238342, test_loss: 0.6674962639808655, test_accuracy: 0.5073160529136658\n",
            "In epoch 90, train_loss: 0.6617665886878967, train_accuracy: 0.5195978283882141, test_loss: 0.6663995981216431, test_accuracy: 0.5104514956474304\n",
            "In epoch 95, train_loss: 0.6616852283477783, train_accuracy: 0.5196442604064941, test_loss: 0.6664116382598877, test_accuracy: 0.5106605291366577\n",
            "In epoch 100, train_loss: 0.6615985035896301, train_accuracy: 0.5185528993606567, test_loss: 0.6662235260009766, test_accuracy: 0.5091972947120667\n",
            "In epoch 105, train_loss: 0.6613656282424927, train_accuracy: 0.5170204043388367, test_loss: 0.6659595966339111, test_accuracy: 0.5085702538490295\n",
            "In epoch 110, train_loss: 0.6610682606697083, train_accuracy: 0.5171132683753967, test_loss: 0.6656942963600159, test_accuracy: 0.509406328201294\n",
            "In epoch 115, train_loss: 0.6598830223083496, train_accuracy: 0.5203872919082642, test_loss: 0.6645731329917908, test_accuracy: 0.5112876296043396\n",
            "In epoch 120, train_loss: 0.6597285866737366, train_accuracy: 0.5216876268386841, test_loss: 0.6643832325935364, test_accuracy: 0.5129598379135132\n",
            "In epoch 125, train_loss: 0.6600090861320496, train_accuracy: 0.5223610401153564, test_loss: 0.6647897362709045, test_accuracy: 0.5119147300720215\n",
            "In epoch 130, train_loss: 0.6620113253593445, train_accuracy: 0.5170204043388367, test_loss: 0.6665160059928894, test_accuracy: 0.5085702538490295\n",
            "In epoch 135, train_loss: 0.6617081165313721, train_accuracy: 0.5178795456886292, test_loss: 0.6662780046463013, test_accuracy: 0.5096153616905212\n",
            "In epoch 140, train_loss: 0.6633822917938232, train_accuracy: 0.5130729675292969, test_loss: 0.6677757501602173, test_accuracy: 0.5068979859352112\n",
            "In epoch 145, train_loss: 0.6633312106132507, train_accuracy: 0.511215329170227, test_loss: 0.6676400899887085, test_accuracy: 0.5056437849998474\n",
            "In epoch 150, train_loss: 0.6634109020233154, train_accuracy: 0.5096363425254822, test_loss: 0.6676787734031677, test_accuracy: 0.5052257776260376\n",
            "In epoch 155, train_loss: 0.6647204756736755, train_accuracy: 0.5071518421173096, test_loss: 0.6687719225883484, test_accuracy: 0.5043896436691284\n",
            "In epoch 160, train_loss: 0.6647322773933411, train_accuracy: 0.5086146593093872, test_loss: 0.668927013874054, test_accuracy: 0.5043896436691284\n",
            "In epoch 165, train_loss: 0.6635112166404724, train_accuracy: 0.511215329170227, test_loss: 0.6678582429885864, test_accuracy: 0.5062708854675293\n",
            "In epoch 170, train_loss: 0.6596222519874573, train_accuracy: 0.5283054113388062, test_loss: 0.6644492149353027, test_accuracy: 0.5167223811149597\n",
            "In epoch 175, train_loss: 0.6598904728889465, train_accuracy: 0.5333905816078186, test_loss: 0.6649264693260193, test_accuracy: 0.5196488499641418\n",
            "In epoch 180, train_loss: 0.6591579914093018, train_accuracy: 0.5436539053916931, test_loss: 0.6644189357757568, test_accuracy: 0.5284280776977539\n",
            "In epoch 185, train_loss: 0.6582611203193665, train_accuracy: 0.5629730820655823, test_loss: 0.6636865139007568, test_accuracy: 0.5447324514389038\n",
            "In epoch 190, train_loss: 0.657448947429657, train_accuracy: 0.5858914256095886, test_loss: 0.662933886051178, test_accuracy: 0.5698160529136658\n",
            "In epoch 195, train_loss: 0.6574613451957703, train_accuracy: 0.5802024602890015, test_loss: 0.6630071997642517, test_accuracy: 0.5629180669784546\n",
            "In epoch 200, train_loss: 0.6587470769882202, train_accuracy: 0.5591185688972473, test_loss: 0.6642826199531555, test_accuracy: 0.5395066738128662\n",
            "In epoch 205, train_loss: 0.6584339737892151, train_accuracy: 0.5616959929466248, test_loss: 0.663940966129303, test_accuracy: 0.5415970087051392\n",
            "In epoch 210, train_loss: 0.6571614742279053, train_accuracy: 0.579389750957489, test_loss: 0.6627289056777954, test_accuracy: 0.5570651888847351\n",
            "In epoch 215, train_loss: 0.6558038592338562, train_accuracy: 0.6046301126480103, test_loss: 0.661527693271637, test_accuracy: 0.5800585150718689\n",
            "In epoch 220, train_loss: 0.6553727388381958, train_accuracy: 0.6282914876937866, test_loss: 0.6613348126411438, test_accuracy: 0.6028428077697754\n",
            "In epoch 225, train_loss: 0.6549010276794434, train_accuracy: 0.6463799476623535, test_loss: 0.6608624458312988, test_accuracy: 0.6233277320861816\n",
            "In epoch 230, train_loss: 0.6544176936149597, train_accuracy: 0.6635164618492126, test_loss: 0.6604719161987305, test_accuracy: 0.6410953402519226\n",
            "In epoch 235, train_loss: 0.6531944870948792, train_accuracy: 0.6981841921806335, test_loss: 0.6593260169029236, test_accuracy: 0.6734949946403503\n",
            "In epoch 240, train_loss: 0.6514143943786621, train_accuracy: 0.7712813019752502, test_loss: 0.6577180027961731, test_accuracy: 0.7401756048202515\n",
            "In epoch 245, train_loss: 0.6513420343399048, train_accuracy: 0.7736497521400452, test_loss: 0.6576629877090454, test_accuracy: 0.7420568466186523\n",
            "In epoch 250, train_loss: 0.651695191860199, train_accuracy: 0.7441369295120239, test_loss: 0.6579486131668091, test_accuracy: 0.7171822786331177\n",
            "In epoch 255, train_loss: 0.6507920026779175, train_accuracy: 0.7876050472259521, test_loss: 0.6571321487426758, test_accuracy: 0.7568979859352112\n",
            "In epoch 260, train_loss: 0.6507370471954346, train_accuracy: 0.7841917276382446, test_loss: 0.6570289134979248, test_accuracy: 0.7533444762229919\n",
            "In epoch 265, train_loss: 0.649676501750946, train_accuracy: 0.8109877705574036, test_loss: 0.655913770198822, test_accuracy: 0.7809364795684814\n",
            "In epoch 270, train_loss: 0.6510545611381531, train_accuracy: 0.7369619011878967, test_loss: 0.6570641994476318, test_accuracy: 0.7109113931655884\n",
            "In epoch 275, train_loss: 0.6492885947227478, train_accuracy: 0.8148190975189209, test_loss: 0.6555785536766052, test_accuracy: 0.7857441306114197\n",
            "In epoch 280, train_loss: 0.6484447717666626, train_accuracy: 0.854246973991394, test_loss: 0.6549453735351562, test_accuracy: 0.8154264092445374\n",
            "In epoch 285, train_loss: 0.6482072472572327, train_accuracy: 0.8561046123504639, test_loss: 0.6547016501426697, test_accuracy: 0.8181437849998474\n",
            "In epoch 290, train_loss: 0.6477867960929871, train_accuracy: 0.8555704951286316, test_loss: 0.65412437915802, test_accuracy: 0.818561851978302\n",
            "In epoch 295, train_loss: 0.6473885774612427, train_accuracy: 0.8532949686050415, test_loss: 0.6536561846733093, test_accuracy: 0.8181437849998474\n",
            "Adjusting learning rate of group 0 to 3.0000e-04.\n",
            "In epoch 300, train_loss: 0.6470052599906921, train_accuracy: 0.8345098495483398, test_loss: 0.6528998017311096, test_accuracy: 0.8079013228416443\n",
            "In epoch 305, train_loss: 0.6468304991722107, train_accuracy: 0.8265221118927002, test_loss: 0.6525821089744568, test_accuracy: 0.8024665713310242\n",
            "In epoch 310, train_loss: 0.6464427709579468, train_accuracy: 0.8347652554512024, test_loss: 0.6521595120429993, test_accuracy: 0.8120819330215454\n",
            "In epoch 315, train_loss: 0.6463595032691956, train_accuracy: 0.8349045515060425, test_loss: 0.6520557403564453, test_accuracy: 0.8095735907554626\n",
            "In epoch 320, train_loss: 0.6465506553649902, train_accuracy: 0.821808397769928, test_loss: 0.6521484851837158, test_accuracy: 0.796822726726532\n",
            "In epoch 325, train_loss: 0.6465202569961548, train_accuracy: 0.8263363242149353, test_loss: 0.6522098183631897, test_accuracy: 0.8020485043525696\n",
            "In epoch 330, train_loss: 0.6463533639907837, train_accuracy: 0.8451911211013794, test_loss: 0.6522372961044312, test_accuracy: 0.8160535097122192\n",
            "In epoch 335, train_loss: 0.6464436650276184, train_accuracy: 0.8474667072296143, test_loss: 0.6523630619049072, test_accuracy: 0.8187708854675293\n",
            "In epoch 340, train_loss: 0.6464918851852417, train_accuracy: 0.8499280214309692, test_loss: 0.6524715423583984, test_accuracy: 0.820652186870575\n",
            "In epoch 345, train_loss: 0.6466875672340393, train_accuracy: 0.8517624139785767, test_loss: 0.6527218818664551, test_accuracy: 0.8189799189567566\n",
            "In epoch 350, train_loss: 0.6466367840766907, train_accuracy: 0.8501602411270142, test_loss: 0.6526419520378113, test_accuracy: 0.8179348111152649\n",
            "In epoch 355, train_loss: 0.6464977860450745, train_accuracy: 0.8464682102203369, test_loss: 0.6523696780204773, test_accuracy: 0.8183528184890747\n",
            "In epoch 360, train_loss: 0.6463069319725037, train_accuracy: 0.8431477546691895, test_loss: 0.6520243883132935, test_accuracy: 0.8175167441368103\n",
            "In epoch 365, train_loss: 0.6461496353149414, train_accuracy: 0.8398736715316772, test_loss: 0.6516469717025757, test_accuracy: 0.8158444762229919\n",
            "In epoch 370, train_loss: 0.6459976434707642, train_accuracy: 0.8397111296653748, test_loss: 0.6514712572097778, test_accuracy: 0.8164715766906738\n",
            "In epoch 375, train_loss: 0.6458573341369629, train_accuracy: 0.8359959125518799, test_loss: 0.6513253450393677, test_accuracy: 0.8089464902877808\n",
            "In epoch 380, train_loss: 0.6459201574325562, train_accuracy: 0.8209956884384155, test_loss: 0.651197612285614, test_accuracy: 0.7945234179496765\n",
            "In epoch 385, train_loss: 0.6461657881736755, train_accuracy: 0.8011656403541565, test_loss: 0.65128093957901, test_accuracy: 0.7792642116546631\n",
            "In epoch 390, train_loss: 0.6463198661804199, train_accuracy: 0.7855152487754822, test_loss: 0.6513534784317017, test_accuracy: 0.7671404480934143\n",
            "In epoch 395, train_loss: 0.6462799906730652, train_accuracy: 0.7781312465667725, test_loss: 0.6512243151664734, test_accuracy: 0.7614966630935669\n",
            "Adjusting learning rate of group 0 to 9.0000e-05.\n",
            "In epoch 400, train_loss: 0.6465928554534912, train_accuracy: 0.7540286779403687, test_loss: 0.6514534950256348, test_accuracy: 0.7380852699279785\n",
            "In epoch 405, train_loss: 0.6464054584503174, train_accuracy: 0.7606696486473083, test_loss: 0.6512749195098877, test_accuracy: 0.7437291145324707\n",
            "In epoch 410, train_loss: 0.6457671523094177, train_accuracy: 0.7934333086013794, test_loss: 0.6506789922714233, test_accuracy: 0.7729933261871338\n",
            "In epoch 415, train_loss: 0.6454827189445496, train_accuracy: 0.810360848903656, test_loss: 0.6505439281463623, test_accuracy: 0.7863712310791016\n",
            "In epoch 420, train_loss: 0.64540034532547, train_accuracy: 0.8134491443634033, test_loss: 0.6504430174827576, test_accuracy: 0.7888795733451843\n",
            "In epoch 425, train_loss: 0.6453402638435364, train_accuracy: 0.8155853748321533, test_loss: 0.6504090428352356, test_accuracy: 0.7920150756835938\n",
            "In epoch 430, train_loss: 0.6453250646591187, train_accuracy: 0.8169321417808533, test_loss: 0.6503924131393433, test_accuracy: 0.7941053509712219\n",
            "In epoch 435, train_loss: 0.645297110080719, train_accuracy: 0.8180235028266907, test_loss: 0.6503782868385315, test_accuracy: 0.7953595519065857\n",
            "In epoch 440, train_loss: 0.6452630758285522, train_accuracy: 0.8177912831306458, test_loss: 0.6503219604492188, test_accuracy: 0.7949414849281311\n",
            "In epoch 445, train_loss: 0.6452444195747375, train_accuracy: 0.8173965811729431, test_loss: 0.6502973437309265, test_accuracy: 0.7949414849281311\n",
            "In epoch 450, train_loss: 0.6451973915100098, train_accuracy: 0.8205777406692505, test_loss: 0.650238037109375, test_accuracy: 0.7966136932373047\n",
            "In epoch 455, train_loss: 0.6448881030082703, train_accuracy: 0.8337900042533875, test_loss: 0.6499884724617004, test_accuracy: 0.8106187582015991\n",
            "In epoch 460, train_loss: 0.6447916626930237, train_accuracy: 0.8393164277076721, test_loss: 0.649993360042572, test_accuracy: 0.8152173757553101\n",
            "In epoch 465, train_loss: 0.6447761654853821, train_accuracy: 0.8407560586929321, test_loss: 0.6500124335289001, test_accuracy: 0.8170986771583557\n",
            "In epoch 470, train_loss: 0.6446647644042969, train_accuracy: 0.8449356555938721, test_loss: 0.6499433517456055, test_accuracy: 0.8200250864028931\n",
            "In epoch 475, train_loss: 0.6445870399475098, train_accuracy: 0.8478149771690369, test_loss: 0.6498867273330688, test_accuracy: 0.8227424621582031\n",
            "In epoch 480, train_loss: 0.6445625424385071, train_accuracy: 0.8482793569564819, test_loss: 0.6498454213142395, test_accuracy: 0.823369562625885\n",
            "In epoch 485, train_loss: 0.6444872617721558, train_accuracy: 0.8509032726287842, test_loss: 0.6497744917869568, test_accuracy: 0.8256688714027405\n",
            "In epoch 490, train_loss: 0.6443358063697815, train_accuracy: 0.856708288192749, test_loss: 0.6496133208274841, test_accuracy: 0.8306856155395508\n",
            "In epoch 495, train_loss: 0.644250750541687, train_accuracy: 0.8582408428192139, test_loss: 0.6494618058204651, test_accuracy: 0.832775890827179\n",
            "Adjusting learning rate of group 0 to 2.7000e-05.\n",
            "In epoch 500, train_loss: 0.6442278027534485, train_accuracy: 0.856290340423584, test_loss: 0.6494434475898743, test_accuracy: 0.83152174949646\n",
            "In epoch 505, train_loss: 0.6442793607711792, train_accuracy: 0.8528537750244141, test_loss: 0.6494583487510681, test_accuracy: 0.8296404480934143\n",
            "In epoch 510, train_loss: 0.6442564129829407, train_accuracy: 0.8532252907752991, test_loss: 0.6494343876838684, test_accuracy: 0.8296404480934143\n",
            "In epoch 515, train_loss: 0.6441599130630493, train_accuracy: 0.855965256690979, test_loss: 0.6493558287620544, test_accuracy: 0.8323578834533691\n",
            "In epoch 520, train_loss: 0.644133985042572, train_accuracy: 0.8568708300590515, test_loss: 0.6493034958839417, test_accuracy: 0.8338210582733154\n",
            "In epoch 525, train_loss: 0.6441087126731873, train_accuracy: 0.8584266304969788, test_loss: 0.6492869257926941, test_accuracy: 0.8350752592086792\n",
            "In epoch 530, train_loss: 0.644052267074585, train_accuracy: 0.8605628609657288, test_loss: 0.6492288112640381, test_accuracy: 0.8365384340286255\n",
            "In epoch 535, train_loss: 0.6440361142158508, train_accuracy: 0.8613987565040588, test_loss: 0.6492280960083008, test_accuracy: 0.8369565010070801\n",
            "In epoch 540, train_loss: 0.6440122127532959, train_accuracy: 0.8620024919509888, test_loss: 0.649235725402832, test_accuracy: 0.8361204266548157\n",
            "In epoch 545, train_loss: 0.644023060798645, train_accuracy: 0.8621186017990112, test_loss: 0.6492306590080261, test_accuracy: 0.8365384340286255\n",
            "In epoch 550, train_loss: 0.6440095901489258, train_accuracy: 0.8620954155921936, test_loss: 0.6492279171943665, test_accuracy: 0.8361204266548157\n",
            "In epoch 555, train_loss: 0.6439947485923767, train_accuracy: 0.8625133633613586, test_loss: 0.6492013335227966, test_accuracy: 0.836329460144043\n",
            "In epoch 560, train_loss: 0.6439976692199707, train_accuracy: 0.8622114658355713, test_loss: 0.6492236852645874, test_accuracy: 0.8361204266548157\n",
            "In epoch 565, train_loss: 0.6439909338951111, train_accuracy: 0.8625830411911011, test_loss: 0.6492347121238708, test_accuracy: 0.836329460144043\n",
            "In epoch 570, train_loss: 0.6439982652664185, train_accuracy: 0.8623740077018738, test_loss: 0.6492478251457214, test_accuracy: 0.8357023596763611\n",
            "In epoch 575, train_loss: 0.6440027952194214, train_accuracy: 0.8621882796287537, test_loss: 0.6492404937744141, test_accuracy: 0.8359113931655884\n",
            "In epoch 580, train_loss: 0.6439858675003052, train_accuracy: 0.8625830411911011, test_loss: 0.6492257714271545, test_accuracy: 0.836329460144043\n",
            "In epoch 585, train_loss: 0.6439836025238037, train_accuracy: 0.8627920150756836, test_loss: 0.6492072343826294, test_accuracy: 0.8380016684532166\n",
            "In epoch 590, train_loss: 0.6439685821533203, train_accuracy: 0.8639529943466187, test_loss: 0.6492152214050293, test_accuracy: 0.8380016684532166\n",
            "In epoch 595, train_loss: 0.6439773440361023, train_accuracy: 0.864254891872406, test_loss: 0.6492466330528259, test_accuracy: 0.8377926349639893\n",
            "Adjusting learning rate of group 0 to 8.1000e-06.\n",
            "In epoch 600, train_loss: 0.6439342498779297, train_accuracy: 0.8657177090644836, test_loss: 0.6492184400558472, test_accuracy: 0.8377926349639893\n",
            "In epoch 605, train_loss: 0.6439287662506104, train_accuracy: 0.8656712770462036, test_loss: 0.6492254734039307, test_accuracy: 0.8377926349639893\n",
            "In epoch 610, train_loss: 0.6439287662506104, train_accuracy: 0.8656712770462036, test_loss: 0.6492197513580322, test_accuracy: 0.8380016684532166\n",
            "In epoch 615, train_loss: 0.6439261436462402, train_accuracy: 0.8655784130096436, test_loss: 0.6492157578468323, test_accuracy: 0.8380016684532166\n",
            "In epoch 620, train_loss: 0.6439251899719238, train_accuracy: 0.8654623031616211, test_loss: 0.6492180228233337, test_accuracy: 0.8380016684532166\n",
            "In epoch 625, train_loss: 0.6439245939254761, train_accuracy: 0.8654623031616211, test_loss: 0.6492159962654114, test_accuracy: 0.8380016684532166\n",
            "In epoch 630, train_loss: 0.6439225077629089, train_accuracy: 0.8654623031616211, test_loss: 0.6492137908935547, test_accuracy: 0.8380016684532166\n",
            "In epoch 635, train_loss: 0.6439211964607239, train_accuracy: 0.8654391169548035, test_loss: 0.6492096781730652, test_accuracy: 0.8380016684532166\n",
            "In epoch 640, train_loss: 0.6439216732978821, train_accuracy: 0.8654158711433411, test_loss: 0.6492148041725159, test_accuracy: 0.8377926349639893\n",
            "In epoch 645, train_loss: 0.6439211368560791, train_accuracy: 0.8654391169548035, test_loss: 0.6492143273353577, test_accuracy: 0.8380016684532166\n",
            "In epoch 650, train_loss: 0.6439210772514343, train_accuracy: 0.8654391169548035, test_loss: 0.6492159962654114, test_accuracy: 0.8380016684532166\n",
            "In epoch 655, train_loss: 0.6439206600189209, train_accuracy: 0.8654391169548035, test_loss: 0.6492159962654114, test_accuracy: 0.8380016684532166\n",
            "In epoch 660, train_loss: 0.643920361995697, train_accuracy: 0.8654391169548035, test_loss: 0.6492159962654114, test_accuracy: 0.8380016684532166\n",
            "In epoch 665, train_loss: 0.6439200639724731, train_accuracy: 0.8654391169548035, test_loss: 0.6492159962654114, test_accuracy: 0.8380016684532166\n",
            "In epoch 670, train_loss: 0.6439187526702881, train_accuracy: 0.8654158711433411, test_loss: 0.6492131948471069, test_accuracy: 0.8380016684532166\n",
            "In epoch 675, train_loss: 0.6439185738563538, train_accuracy: 0.8654158711433411, test_loss: 0.6492131948471069, test_accuracy: 0.8380016684532166\n",
            "In epoch 680, train_loss: 0.6439164876937866, train_accuracy: 0.865369439125061, test_loss: 0.6492121815681458, test_accuracy: 0.8380016684532166\n",
            "In epoch 685, train_loss: 0.6439151167869568, train_accuracy: 0.865369439125061, test_loss: 0.6492096185684204, test_accuracy: 0.8380016684532166\n",
            "Trainning Stopped at Epoch 689\n",
            "AUC 0.9478618457847228\n"
          ]
        }
      ],
      "source": [
        "# ----------- 4. training -------------------------------- #\n",
        "all_logits = []\n",
        "h_ = torch.zeros(8137, 128)\n",
        "best_test_loss = float('inf')\n",
        "best_epoch = 0\n",
        "patience = 0\n",
        "for e in tqdm(range(1800)):\n",
        "    # forward\n",
        "    h = model(train_g, train_g.ndata['feature'], torch.tensor(context_embeddings['context_embedding']))\n",
        "    h = h.to(torch.float32)\n",
        "\n",
        "    pos_score = pred(train_pos_g, h)\n",
        "    neg_score = pred(train_neg_g, h)\n",
        "    loss = compute_loss(pos_score, neg_score)\n",
        "    accuracy = compute_accuracy(pos_score, neg_score, threshold = 0.6)\n",
        "\n",
        "\n",
        "    # backward\n",
        "    optimizer.zero_grad()\n",
        "    loss.backward()\n",
        "    optimizer.step()\n",
        "    # lr_scheduler.step()\n",
        "    if e>=250 and e%100==0:\n",
        "      exp_lr_scheduler.step()\n",
        "\n",
        "    with torch.no_grad():\n",
        "      pos_score = pred(test_pos_g, h)\n",
        "      neg_score = pred(test_neg_g, h)\n",
        "      test_loss = compute_loss(pos_score, neg_score)\n",
        "      test_accuracy = compute_accuracy(pos_score, neg_score, threshold = 0.6)\n",
        "\n",
        "\n",
        "    if e % 5 == 0:\n",
        "        print('In epoch {}, train_loss: {}, train_accuracy: {}, test_loss: {}, test_accuracy: {}'.format(e, loss, accuracy, test_loss, test_accuracy))\n",
        "\n",
        "    if best_test_loss>test_loss:\n",
        "      best_epoch = e\n",
        "      best_test_loss = test_loss\n",
        "      torch.save(model, '/content/drive/MyDrive/graph_model16.pth')\n",
        "      torch.save(mlpred, '/content/drive/MyDrive/mlpred16.pth')\n",
        "      patience = 0\n",
        "\n",
        "    else:\n",
        "      patience +=1\n",
        "\n",
        "    if patience == 100:\n",
        "      print(f'Trainning Stopped at Epoch {e}')\n",
        "      break\n",
        "\n",
        "# ----------- 5. check results ------------------------ #\n",
        "from sklearn.metrics import roc_auc_score\n",
        "with torch.no_grad():\n",
        "    pos_score = pred(test_pos_g, h)\n",
        "    neg_score = pred(test_neg_g, h)\n",
        "    print('AUC', compute_auc(pos_score, neg_score))"
      ]
    },
    {
      "cell_type": "code",
      "execution_count": null,
      "metadata": {
        "colab": {
          "base_uri": "https://localhost:8080/"
        },
        "id": "TuH2kLvAy00R",
        "outputId": "36751955-8537-4ed2-ca77-fc3ba4f08a11"
      },
      "outputs": [
        {
          "data": {
            "text/plain": [
              "653"
            ]
          },
          "execution_count": 71,
          "metadata": {},
          "output_type": "execute_result"
        }
      ],
      "source": [
        "best_epoch"
      ]
    },
    {
      "cell_type": "code",
      "execution_count": null,
      "metadata": {
        "colab": {
          "base_uri": "https://localhost:8080/",
          "height": 53
        },
        "id": "zOtIEmv0ucce",
        "outputId": "0150f075-54d9-4514-bb67-d200181fe1e2"
      },
      "outputs": [
        {
          "data": {
            "application/vnd.google.colaboratory.intrinsic+json": {
              "type": "string"
            },
            "text/plain": [
              "\"\\nlog = {'model11': {AUc: 0.59, Accuracy: 0.85, test_loss: 0.570},\\n        'model12': {AUc: 0.75, Accuracy: 0.87, test_loss: 0.565},\\n        'model13': {AUc: 0.82, Accuracy: 0.878, test_loss: 0.563}}\\n\""
            ]
          },
          "execution_count": 40,
          "metadata": {},
          "output_type": "execute_result"
        }
      ],
      "source": [
        "'''\n",
        "log = {'model11': {AUc: 0.59, Accuracy: 0.85, test_loss: 0.570},\n",
        "        'model12': {AUc: 0.75, Accuracy: 0.87, test_loss: 0.565},\n",
        "        'model13': {AUc: 0.82, Accuracy: 0.878, test_loss: 0.563},\n",
        "        'model14': {AUc: 0.81, Accuracy: 0.875, test_loss: 0.565},\n",
        "        'model16 : {AUc: 0.94, Accuracy: 0.838, test_loss: 0.649}\n",
        "        }\n",
        "'''"
      ]
    },
    {
      "cell_type": "markdown",
      "metadata": {
        "id": "HjDLCe9_OOyd"
      },
      "source": [
        "## Loading Saved model"
      ]
    },
    {
      "cell_type": "code",
      "execution_count": null,
      "metadata": {
        "id": "KaEROgT9UiEk"
      },
      "outputs": [],
      "source": [
        "from dgl.nn import SAGEConv\n",
        "\n",
        "class GraphSAGE(nn.Module):\n",
        "  def __init__(self, in_feats, h_feats):\n",
        "    super(GraphSAGE, self).__init__()\n",
        "    self.conv1 = SAGEConv(in_feats, h_feats[0], 'mean')\n",
        "    self.conv2 = SAGEConv(h_feats[0], h_feats[1], 'mean')\n",
        "    self.conv3 = SAGEConv(h_feats[1], h_feats[2], 'mean')\n",
        "\n",
        "\n",
        "  def forward(self, g, in_feat, context):\n",
        "    h = self.conv1(g, in_feat)\n",
        "    h = F.relu(h)\n",
        "    h = self.conv2(g, h)\n",
        "    h = F.relu(h)\n",
        "    h = self.conv3(g, h)\n",
        "    h = torch.cat((h,context),1)\n",
        "    return torch.sigmoid(h)"
      ]
    },
    {
      "cell_type": "code",
      "execution_count": null,
      "metadata": {
        "id": "raatOoh5Ve80"
      },
      "outputs": [],
      "source": [
        "model = GraphSAGE(train_g.ndata['feature'].shape[1], [128,64,32])"
      ]
    },
    {
      "cell_type": "code",
      "execution_count": null,
      "metadata": {
        "id": "8FoqrkRGN0JH"
      },
      "outputs": [],
      "source": [
        "model = torch.load('/content/drive/MyDrive/graph_model16.pth')"
      ]
    },
    {
      "cell_type": "code",
      "execution_count": null,
      "metadata": {
        "id": "mjlx6tblRT6F"
      },
      "outputs": [],
      "source": [
        "for p in model.parameters():\n",
        "  p.requires_grad = True"
      ]
    },
    {
      "cell_type": "markdown",
      "metadata": {
        "id": "kR9BWfzLOx-K"
      },
      "source": [
        "## Continuing learning with mlpred"
      ]
    },
    {
      "cell_type": "code",
      "execution_count": null,
      "metadata": {
        "id": "pvp6JSl8EUS-"
      },
      "outputs": [],
      "source": [
        "# class MLPPredictor(nn.Module):\n",
        "#     def __init__(self, h_feats):\n",
        "#         super().__init__()\n",
        "#         self.W1 = nn.Linear(h_feats * 2, h_feats)\n",
        "#         self.W2 = nn.Linear(h_feats, 1)\n",
        "\n",
        "#     def apply_edges(self, edges):\n",
        "#         h = torch.cat([edges.src[\"h\"], edges.dst[\"h\"]], 1)\n",
        "#         return {\"score\": torch.sigmoid(self.W2(F.relu(self.W1(h)))).squeeze(1)}\n",
        "\n",
        "#     def forward2(self, g, h):\n",
        "#         with g.local_scope():\n",
        "#             g.ndata[\"h\"] = h\n",
        "#             g.apply_edges(self.apply_edges)\n",
        "#             return g.edata[\"score\"]\n",
        "\n",
        "# mlpred = MLPPredictor(64)\n",
        "\n",
        "class MLPPredictor(nn.Module):\n",
        "    def __init__(self, h_feats):\n",
        "        super().__init__()\n",
        "        self.W1 = nn.Linear(h_feats * 2, h_feats)\n",
        "        self.W2 = nn.Linear(h_feats, 32)\n",
        "        self.W3 = nn.Linear(32, 16)\n",
        "        self.W4 = nn.Linear(16,8)\n",
        "        self.W5 = nn.Linear(8,1)\n",
        "\n",
        "    def forward(self, x):\n",
        "        x = F.relu(self.W1(x))\n",
        "        x = F.relu(self.W2(x))\n",
        "        x = F.relu(self.W3(x))\n",
        "        x = F.relu(self.W4(x))\n",
        "        x = torch.sigmoid(self.W5(x))\n",
        "        return x.squeeze(1)\n",
        "\n",
        "    # def forward(self, g, h):\n",
        "    #     with g.local_scope():\n",
        "    #         g.ndata[\"h\"] = h\n",
        "    #         g.apply_edges(self.apply_edges)\n",
        "    #         return g.edata[\"score\"]\n",
        "\n",
        "mlpred = MLPPredictor(96)"
      ]
    },
    {
      "cell_type": "code",
      "execution_count": null,
      "metadata": {
        "id": "1R9I1QrwZzG7"
      },
      "outputs": [],
      "source": [
        "from torch.utils.data import Dataset\n",
        "\n",
        "class CreateDataset(Dataset):\n",
        "  def __init__(self, embedding, u,v,u_neg,v_neg, transform = None):\n",
        "    self.fe = embedding\n",
        "    self.dim1 = self.fe.shape[1]\n",
        "    self.posu = u\n",
        "    self.posv = v\n",
        "    self.negu = u_neg\n",
        "    self.negv = v_neg\n",
        "\n",
        "  def __len__(self):\n",
        "    return self.posu.shape[0]\n",
        "\n",
        "  def __getitem__(self, idx):\n",
        "    if torch.is_tensor(idx):\n",
        "      idx = idx.tolist()\n",
        "\n",
        "    features = torch.tensor([])\n",
        "    labels  = torch.tensor([0,1])\n",
        "\n",
        "    feat = self.fe[self.posu[idx]].reshape(1,self.dim1)\n",
        "    feat2 = self.fe[self.posv[idx]].reshape(1,self.dim1)\n",
        "    feat = torch.cat((feat,feat2 ), 1)\n",
        "\n",
        "    features = torch.cat((features , feat), 0)\n",
        "\n",
        "    feat = self.fe[self.negu[idx]].reshape(1,self.dim1)\n",
        "    feat2 = self.fe[self.negv[idx]].reshape(1,self.dim1)\n",
        "    feat2 = torch.cat((feat, feat2),1)\n",
        "\n",
        "    features = torch.cat((features, feat2),0)\n",
        "    return features, labels"
      ]
    },
    {
      "cell_type": "code",
      "execution_count": null,
      "metadata": {
        "colab": {
          "base_uri": "https://localhost:8080/"
        },
        "id": "IOA-rVT5cR6D",
        "outputId": "0b639331-1136-48d5-f448-420cf0c14165"
      },
      "outputs": [
        {
          "name": "stderr",
          "output_type": "stream",
          "text": [
            "/usr/local/lib/python3.9/dist-packages/dgl/backend/pytorch/tensor.py:445: UserWarning: TypedStorage is deprecated. It will be removed in the future and UntypedStorage will be the only storage class. This should only matter to you if you are using storages directly.  To access UntypedStorage directly, use tensor.untyped_storage() instead of tensor.storage()\n",
            "  assert input.numel() == input.storage().size(), (\n"
          ]
        }
      ],
      "source": [
        "h = model(train_g, train_g.ndata['feature'], torch.tensor(context_embeddings['context_embedding']))\n",
        "h = h.to(torch.float32).detach()"
      ]
    },
    {
      "cell_type": "code",
      "execution_count": null,
      "metadata": {
        "colab": {
          "base_uri": "https://localhost:8080/"
        },
        "id": "OHX7Xo1Bu9sz",
        "outputId": "2883a691-fd67-4de9-b369-963b8ca9748c"
      },
      "outputs": [
        {
          "data": {
            "text/plain": [
              "torch.Size([8137, 96])"
            ]
          },
          "execution_count": 311,
          "metadata": {},
          "output_type": "execute_result"
        }
      ],
      "source": [
        "h.shape"
      ]
    },
    {
      "cell_type": "code",
      "execution_count": null,
      "metadata": {
        "colab": {
          "base_uri": "https://localhost:8080/",
          "height": 66,
          "referenced_widgets": [
            "8652196e82a04a16b97979cdb9525501",
            "20d06d1dc5bf42828d18917ed3b6d57c",
            "8939af135a964f4ca2e967e6c464fb6b",
            "6ecff6877c334cdf8f6fba77729a5756",
            "5f863282c39d4f889555a0138da3bb0b",
            "406925fa5c0e46a0872150bde8ff0cdd",
            "5f5d1d7209774957af3c6b37e7229225",
            "0af4df5f38614cd5b72ff045198cf1c2",
            "4905a225b904445bb0a75149fe75ddff",
            "38704b6e52b8403e9fccd5974d322a54",
            "6a9dafca57e3493992abdce73d128cdd"
          ]
        },
        "id": "j2x6wW1PbKZh",
        "outputId": "3bc44896-0579-444b-fffc-6ebf5ed4dd4d"
      },
      "outputs": [
        {
          "data": {
            "application/vnd.jupyter.widget-view+json": {
              "model_id": "8652196e82a04a16b97979cdb9525501",
              "version_major": 2,
              "version_minor": 0
            },
            "text/plain": [
              "  0%|          | 0/169 [00:00<?, ?it/s]"
            ]
          },
          "metadata": {},
          "output_type": "display_data"
        },
        {
          "name": "stdout",
          "output_type": "stream",
          "text": [
            "torch.Size([128, 2, 192])\n"
          ]
        }
      ],
      "source": [
        "traindataset = CreateDataset(h,train_pos_u,train_pos_v, train_neg_u, train_neg_v)\n",
        "\n",
        "trainloader = torch.utils.data.DataLoader(traindataset, 128, shuffle = False)\n",
        "\n",
        "for features,labels in tqdm(trainloader):\n",
        "  print(features.shape)\n",
        "  features = features.reshape((256,1,192))\n",
        "  labels = labels.reshape(256)\n",
        "  break"
      ]
    },
    {
      "cell_type": "code",
      "execution_count": null,
      "metadata": {
        "colab": {
          "base_uri": "https://localhost:8080/",
          "height": 66,
          "referenced_widgets": [
            "59e32b96a90147c5b69021b7a28420bd",
            "d3c92d7d044d4887b5feeaf231c58bc7",
            "63617f783f1d49f991f42d218763b17a",
            "186358f15a0b4d889086d8b8c9f466b3",
            "581c73d77b1e4adf96acf2464d5bac1c",
            "0d0d51522f4b498d8e2e34902acffac6",
            "59eab4a7bd354fc49f5892f3c7c2567c",
            "cb3cddfc8f1143e3800e77936d3f4e85",
            "a9e44e31a5cc418f8baa372fe66dc767",
            "205631044bc44d1bace0fd63634daaf8",
            "9822dc68701d450f94f28aedd563c0cb"
          ]
        },
        "id": "vXT8l_LI69CQ",
        "outputId": "08dbe6d4-c3c8-4138-cfe2-5b1a91cccb0b"
      },
      "outputs": [
        {
          "data": {
            "application/vnd.jupyter.widget-view+json": {
              "model_id": "59e32b96a90147c5b69021b7a28420bd",
              "version_major": 2,
              "version_minor": 0
            },
            "text/plain": [
              "  0%|          | 0/19 [00:00<?, ?it/s]"
            ]
          },
          "metadata": {},
          "output_type": "display_data"
        },
        {
          "name": "stdout",
          "output_type": "stream",
          "text": [
            "torch.Size([128, 2, 192])\n"
          ]
        }
      ],
      "source": [
        "testdataset = CreateDataset(h,test_pos_u, test_pos_v, test_neg_u, test_neg_v)\n",
        "\n",
        "testloader = torch.utils.data.DataLoader(testdataset, 128, shuffle = False)\n",
        "\n",
        "for features,labels in tqdm(testloader):\n",
        "  print(features.shape)\n",
        "  features = features.reshape((256,1,192))\n",
        "  labels = labels.reshape(256)\n",
        "  break"
      ]
    },
    {
      "cell_type": "code",
      "execution_count": null,
      "metadata": {
        "id": "grbdtn1K5teV"
      },
      "outputs": [],
      "source": [
        "def compute_loss2(score, target):\n",
        "  return F.binary_cross_entropy_with_logits(score, target)\n",
        "\n",
        "def compute_accuracy2(score, target, threshold):\n",
        "  predicted = torch.where(score<threshold, 0, 1)\n",
        "  accuracy = sum(predicted == target)/256\n",
        "  return accuracy\n",
        "\n",
        "\n",
        "def compute_auc2(score, target):\n",
        "  return roc_auc_score(target, score)"
      ]
    },
    {
      "cell_type": "code",
      "execution_count": null,
      "metadata": {
        "id": "PMtZ-1_04pE_"
      },
      "outputs": [],
      "source": [
        "import math\n",
        "def cyclical_lr(stepsize, min_lr=3e-4, max_lr=3e-3):\n",
        "\n",
        "    # Scaler: we can adapt this if we do not want the triangular CLR\n",
        "    scaler = lambda x: 1.\n",
        "\n",
        "    # Lambda function to calculate the LR\n",
        "    lr_lambda = lambda it: min_lr + (max_lr - min_lr) * relative(it, stepsize)\n",
        "\n",
        "    # Additional function to see where on the cycle we are\n",
        "    def relative(it, stepsize):\n",
        "        cycle = math.floor(1 + it / (2 * stepsize))\n",
        "        x = abs(it / stepsize - 2 * cycle + 1)\n",
        "        return max(0, (1 - x)) * scaler(cycle)\n",
        "\n",
        "    return lr_lambda"
      ]
    },
    {
      "cell_type": "code",
      "execution_count": null,
      "metadata": {
        "id": "2SwWHfxa4ucq"
      },
      "outputs": [],
      "source": [
        "criterion = nn.CrossEntropyLoss()\n",
        "# optimizer = torch.optim.Adam(model.parameters(), lr=0.1)\n",
        "optimizer = torch.optim.SGD(mlpred.parameters(), lr=1., momentum=0.9)\n",
        "step_size = 4*len(trainloader)\n",
        "clr = cyclical_lr(step_size, min_lr=3e-4, max_lr=3e-3)\n",
        "scheduler = torch.optim.lr_scheduler.LambdaLR(optimizer, [clr])"
      ]
    },
    {
      "cell_type": "code",
      "execution_count": null,
      "metadata": {
        "colab": {
          "base_uri": "https://localhost:8080/"
        },
        "id": "Evh2uCC6BQ1_",
        "outputId": "ca953b12-12e7-4cc0-f0ab-751c379b8167"
      },
      "outputs": [
        {
          "name": "stdout",
          "output_type": "stream",
          "text": [
            "Adjusting learning rate of group 0 to 1.0000e-02.\n"
          ]
        }
      ],
      "source": [
        "# # ----------- 3. set up loss and optimizer -------------- #\n",
        "# # in this case, loss will in training loop\n",
        "# optimizer = torch.optim.Adam(itertools.chain(mlpred.parameters()), lr=0.01)\n",
        "\n",
        "# lr_scheduler = torch.optim.lr_scheduler.CosineAnnealingWarmRestarts(\n",
        "#     optimizer, T_0= 60, T_mult=2, eta_min=5e-5,\n",
        "# )\n",
        "\n",
        "# decayRate = 0.3\n",
        "# exp_lr_scheduler = torch.optim.lr_scheduler.ExponentialLR(optimizer=optimizer, gamma=decayRate, verbose = True)"
      ]
    },
    {
      "cell_type": "code",
      "execution_count": null,
      "metadata": {
        "colab": {
          "base_uri": "https://localhost:8080/",
          "height": 1000,
          "referenced_widgets": [
            "043302c8c8304dd5842d8f12a083cab3",
            "6c78c96fc9b542348f01ec8a19fa11a1",
            "42918f4ebe884dac95fb9fb997e2666e",
            "550110c3245d4e8a9285792cb82aea01",
            "68256e7df61643d99d835d0bcef875cc",
            "bff22e390d8b49f499eb44ba9a9c764b",
            "836c3a37e9944ea4957dfeb374777bd7",
            "89cdeb4f96aa4a00968a5504359ebdc6",
            "b90e4d9edc8f495d8e8c2d4732f81376",
            "d6d8d3cd0ca548c7b2d2ac42b88c7960",
            "7cbddccfbb99445da8c0ff78dfa8786d"
          ]
        },
        "id": "7lkDI5pPOxIh",
        "outputId": "e0480645-0ae2-46d1-990c-7ad9a4b48696"
      },
      "outputs": [
        {
          "data": {
            "application/vnd.jupyter.widget-view+json": {
              "model_id": "043302c8c8304dd5842d8f12a083cab3",
              "version_major": 2,
              "version_minor": 0
            },
            "text/plain": [
              "  0%|          | 0/1000 [00:00<?, ?it/s]"
            ]
          },
          "metadata": {},
          "output_type": "display_data"
        },
        {
          "name": "stdout",
          "output_type": "stream",
          "text": [
            "Epoch 0: Train Loss: 0.7158147646830633 Train Accuracy: 0.497711718082428 Test Loss: 0.7153404543274328, Test Accuracy: 0.49177631735801697 AUC: 0.7886079221562025\n",
            "Epoch 5: Train Loss: 0.7062702362353985 Train Accuracy: 0.497711718082428 Test Loss: 0.7057333588600159, Test Accuracy: 0.49177631735801697 AUC: 0.8613862663624129\n",
            "Epoch 10: Train Loss: 0.7028636188196713 Train Accuracy: 0.497711718082428 Test Loss: 0.7024380658802233, Test Accuracy: 0.49177631735801697 AUC: 0.8677282279447246\n",
            "Epoch 15: Train Loss: 0.6974355701864119 Train Accuracy: 0.497711718082428 Test Loss: 0.6976140988500494, Test Accuracy: 0.49177631735801697 AUC: 0.8718932070074625\n",
            "Epoch 20: Train Loss: 0.6886488685946492 Train Accuracy: 0.497711718082428 Test Loss: 0.6875276847889549, Test Accuracy: 0.49177631735801697 AUC: 0.8763288885367959\n",
            "Epoch 25: Train Loss: 0.6708214371162053 Train Accuracy: 0.497711718082428 Test Loss: 0.6718497088080958, Test Accuracy: 0.49177631735801697 AUC: 0.879254753043103\n",
            "Epoch 30: Train Loss: 0.5971919841314914 Train Accuracy: 0.8176543712615967 Test Loss: 0.6018517048735368, Test Accuracy: 0.8252466917037964 AUC: 0.8929236015064295\n",
            "Epoch 35: Train Loss: 0.5589389927993865 Train Accuracy: 0.8813101053237915 Test Loss: 0.5753339278070551, Test Accuracy: 0.8425164222717285 AUC: 0.889582119178855\n",
            "Epoch 40: Train Loss: 0.5550655024291495 Train Accuracy: 0.8823270797729492 Test Loss: 0.5735065560591849, Test Accuracy: 0.8425164222717285 AUC: 0.8882587394697763\n",
            "Epoch 45: Train Loss: 0.5541411035159636 Train Accuracy: 0.883043646812439 Test Loss: 0.5729671528464869, Test Accuracy: 0.8429276347160339 AUC: 0.8870083815950889\n",
            "Epoch 50: Train Loss: 0.5538529623189622 Train Accuracy: 0.8831129670143127 Test Loss: 0.5728449413650915, Test Accuracy: 0.8435444235801697 AUC: 0.8865266445669313\n",
            "Epoch 55: Train Loss: 0.553468291576092 Train Accuracy: 0.8837832808494568 Test Loss: 0.5726908790437799, Test Accuracy: 0.84375 AUC: 0.885804961587409\n",
            "Epoch 60: Train Loss: 0.5532130239277901 Train Accuracy: 0.8840837478637695 Test Loss: 0.5726379689417387, Test Accuracy: 0.8433387875556946 AUC: 0.8848170230263158\n",
            "Epoch 65: Train Loss: 0.5530052611813743 Train Accuracy: 0.884430468082428 Test Loss: 0.5725844722045096, Test Accuracy: 0.8435444235801697 AUC: 0.8841454504675945\n",
            "Epoch 70: Train Loss: 0.5527020075617457 Train Accuracy: 0.8847309350967407 Test Loss: 0.5725121560849642, Test Accuracy: 0.8435444235801697 AUC: 0.8831490561878126\n",
            "Epoch 75: Train Loss: 0.5525399312465149 Train Accuracy: 0.8848465085029602 Test Loss: 0.5724898388511256, Test Accuracy: 0.8435444235801697 AUC: 0.882359793830198\n",
            "Epoch 80: Train Loss: 0.5523191267216699 Train Accuracy: 0.8850545287132263 Test Loss: 0.5724316929516039, Test Accuracy: 0.84375 AUC: 0.8817808093999769\n",
            "Epoch 85: Train Loss: 0.5520828683700787 Train Accuracy: 0.8854475021362305 Test Loss: 0.5723815466228285, Test Accuracy: 0.8439555764198303 AUC: 0.8810802590800347\n",
            "Epoch 90: Train Loss: 0.551941613826526 Train Accuracy: 0.8855399489402771 Test Loss: 0.5723494134451214, Test Accuracy: 0.8439555764198303 AUC: 0.8806274334416798\n",
            "Epoch 95: Train Loss: 0.5516962729967557 Train Accuracy: 0.886002242565155 Test Loss: 0.5722870073820415, Test Accuracy: 0.84375 AUC: 0.8800724223677414\n",
            "Epoch 100: Train Loss: 0.5515243143019591 Train Accuracy: 0.8863258361816406 Test Loss: 0.5722427274051466, Test Accuracy: 0.8439555764198303 AUC: 0.8796148976329722\n",
            "Epoch 105: Train Loss: 0.5513734545933424 Train Accuracy: 0.88671875 Test Loss: 0.5722034165733739, Test Accuracy: 0.8441612124443054 AUC: 0.8794882476926109\n",
            "Epoch 110: Train Loss: 0.5511510291043118 Train Accuracy: 0.8871116638183594 Test Loss: 0.5721426888516075, Test Accuracy: 0.8445723652839661 AUC: 0.8791314216736555\n",
            "Epoch 115: Train Loss: 0.5510260557987281 Train Accuracy: 0.8872503638267517 Test Loss: 0.5721017686944259, Test Accuracy: 0.8443667888641357 AUC: 0.8789067942456299\n",
            "Epoch 120: Train Loss: 0.5508469537165038 Train Accuracy: 0.8875739574432373 Test Loss: 0.5720660843347248, Test Accuracy: 0.8445723652839661 AUC: 0.8788050335871235\n",
            "Epoch 125: Train Loss: 0.5506514779914765 Train Accuracy: 0.8879206776618958 Test Loss: 0.5720204899185583, Test Accuracy: 0.8447779417037964 AUC: 0.8787779009513308\n",
            "Epoch 130: Train Loss: 0.5505327532982686 Train Accuracy: 0.8881980180740356 Test Loss: 0.5719988032391197, Test Accuracy: 0.8445723652839661 AUC: 0.8788313963144642\n",
            "Epoch 135: Train Loss: 0.5503221023717576 Train Accuracy: 0.8886371850967407 Test Loss: 0.5719702369288394, Test Accuracy: 0.8445723652839661 AUC: 0.8791215588808994\n",
            "Epoch 140: Train Loss: 0.5501622554113174 Train Accuracy: 0.8889377117156982 Test Loss: 0.5719502223165411, Test Accuracy: 0.8445723652839661 AUC: 0.8796168887755207\n",
            "Epoch 145: Train Loss: 0.5500202055513506 Train Accuracy: 0.8891457319259644 Test Loss: 0.5719342608200876, Test Accuracy: 0.8445723652839661 AUC: 0.8800245553008781\n",
            "Epoch 150: Train Loss: 0.549787249438156 Train Accuracy: 0.8895155191421509 Test Loss: 0.5719038561770791, Test Accuracy: 0.8447779417037964 AUC: 0.8810771661719429\n",
            "Epoch 155: Train Loss: 0.5496449502262138 Train Accuracy: 0.8897004723548889 Test Loss: 0.5718758921874197, Test Accuracy: 0.8449835777282715 AUC: 0.8818694417919475\n",
            "Epoch 160: Train Loss: 0.5494361392845063 Train Accuracy: 0.8902551531791687 Test Loss: 0.5718496598695454, Test Accuracy: 0.8445723652839661 AUC: 0.8831905515985211\n",
            "Epoch 165: Train Loss: 0.5491896063618406 Train Accuracy: 0.8906481266021729 Test Loss: 0.571796599187349, Test Accuracy: 0.8447779417037964 AUC: 0.8849503366570723\n",
            "Epoch 170: Train Loss: 0.5490368611713838 Train Accuracy: 0.8909254670143127 Test Loss: 0.5717622292669196, Test Accuracy: 0.8445723652839661 AUC: 0.8861239160750938\n",
            "Epoch 175: Train Loss: 0.5487501476643354 Train Accuracy: 0.891295313835144 Test Loss: 0.5717050621384069, Test Accuracy: 0.8445723652839661 AUC: 0.8880976294890442\n",
            "Epoch 180: Train Loss: 0.5485173072335283 Train Accuracy: 0.8919656276702881 Test Loss: 0.571625502485978, Test Accuracy: 0.8449835777282715 AUC: 0.890252112097821\n",
            "Epoch 185: Train Loss: 0.5482975004692755 Train Accuracy: 0.8923354148864746 Test Loss: 0.5715634101315549, Test Accuracy: 0.8449835777282715 AUC: 0.8915827262914922\n",
            "Epoch 190: Train Loss: 0.5479040202304456 Train Accuracy: 0.8929826021194458 Test Loss: 0.5714222882923327, Test Accuracy: 0.8460115194320679 AUC: 0.8939911061237563\n",
            "Epoch 195: Train Loss: 0.5476332691294201 Train Accuracy: 0.8935604691505432 Test Loss: 0.5712970181515342, Test Accuracy: 0.8462170958518982 AUC: 0.8954045651217242\n",
            "Epoch 200: Train Loss: 0.5471888893454738 Train Accuracy: 0.8947161436080933 Test Loss: 0.5711950440155832, Test Accuracy: 0.8464226722717285 AUC: 0.8966544318479162\n",
            "Epoch 205: Train Loss: 0.5466106668026489 Train Accuracy: 0.8956407308578491 Test Loss: 0.5710959465880143, Test Accuracy: 0.8464226722717285 AUC: 0.8981154526042232\n",
            "Epoch 210: Train Loss: 0.5462330569176984 Train Accuracy: 0.8965190649032593 Test Loss: 0.5710648235521818, Test Accuracy: 0.8464226722717285 AUC: 0.8989908916113323\n",
            "Epoch 215: Train Loss: 0.5454907657126703 Train Accuracy: 0.8978134393692017 Test Loss: 0.5709981259546781, Test Accuracy: 0.8464226722717285 AUC: 0.9010774629849255\n",
            "Epoch 220: Train Loss: 0.5448077737226994 Train Accuracy: 0.8990384340286255 Test Loss: 0.5709501410785475, Test Accuracy: 0.8466283082962036 AUC: 0.9032832108771816\n",
            "Epoch 225: Train Loss: 0.5441573029439125 Train Accuracy: 0.9003790616989136 Test Loss: 0.570930606440494, Test Accuracy: 0.8460115194320679 AUC: 0.9048474657374811\n",
            "Epoch 230: Train Loss: 0.5427934347525151 Train Accuracy: 0.9025980234146118 Test Loss: 0.5710529967358238, Test Accuracy: 0.8464226722717285 AUC: 0.9071183239910695\n",
            "Epoch 235: Train Loss: 0.5418082641426628 Train Accuracy: 0.9041697382926941 Test Loss: 0.5713831845082735, Test Accuracy: 0.8460115194320679 AUC: 0.9081142934937745\n",
            "Epoch 240: Train Loss: 0.5398604157408313 Train Accuracy: 0.9075443744659424 Test Loss: 0.5719994902610779, Test Accuracy: 0.8425164222717285 AUC: 0.9094090140244401\n",
            "Epoch 245: Train Loss: 0.5378350537909559 Train Accuracy: 0.9116586446762085 Test Loss: 0.5717714679868597, Test Accuracy: 0.8447779417037964 AUC: 0.9107996147059523\n",
            "Epoch 250: Train Loss: 0.5370459824624146 Train Accuracy: 0.9136464595794678 Test Loss: 0.5715199928534659, Test Accuracy: 0.8468338847160339 AUC: 0.9114965278721727\n",
            "Epoch 255: Train Loss: 0.5359957475634016 Train Accuracy: 0.9159578680992126 Test Loss: 0.5710273604643973, Test Accuracy: 0.8486841917037964 AUC: 0.9125618820555473\n",
            "Epoch 260: Train Loss: 0.535430256784315 Train Accuracy: 0.9174602627754211 Test Loss: 0.5709324228136163, Test Accuracy: 0.8493009805679321 AUC: 0.9127974076704546\n",
            "Epoch 265: Train Loss: 0.53495185685581 Train Accuracy: 0.9187083840370178 Test Loss: 0.5707444266269082, Test Accuracy: 0.8503289222717285 AUC: 0.912900947082971\n",
            "Epoch 270: Train Loss: 0.5343613846767583 Train Accuracy: 0.9200258851051331 Test Loss: 0.5704616402324877, Test Accuracy: 0.8509457111358643 AUC: 0.9138452928965379\n",
            "Epoch 275: Train Loss: 0.5340707552503552 Train Accuracy: 0.920488178730011 Test Loss: 0.5703740339530142, Test Accuracy: 0.8515625 AUC: 0.9133843301223019\n",
            "Epoch 280: Train Loss: 0.5336241408212651 Train Accuracy: 0.9215976595878601 Test Loss: 0.5701224113765516, Test Accuracy: 0.8523848652839661 AUC: 0.9143940119600235\n",
            "Epoch 285: Train Loss: 0.5332487930912944 Train Accuracy: 0.9228226542472839 Test Loss: 0.569923504402763, Test Accuracy: 0.8530016541481018 AUC: 0.9143442333963137\n",
            "Epoch 290: Train Loss: 0.53302317328707 Train Accuracy: 0.9234005212783813 Test Loss: 0.5698127307389912, Test Accuracy: 0.8530016541481018 AUC: 0.914357335114282\n",
            "Epoch 295: Train Loss: 0.5326201266790989 Train Accuracy: 0.9242557287216187 Test Loss: 0.5695166336862665, Test Accuracy: 0.8525904417037964 AUC: 0.9150268103361856\n",
            "Epoch 300: Train Loss: 0.5323817525389631 Train Accuracy: 0.9246717691421509 Test Loss: 0.5694046271474738, Test Accuracy: 0.8532072305679321 AUC: 0.9148944259052849\n",
            "Epoch 305: Train Loss: 0.5321278917718921 Train Accuracy: 0.9253652095794678 Test Loss: 0.569287121295929, Test Accuracy: 0.8544408082962036 AUC: 0.9149746158528503\n",
            "Epoch 310: Train Loss: 0.5317940884793299 Train Accuracy: 0.926497757434845 Test Loss: 0.5690619443592272, Test Accuracy: 0.8544408082962036 AUC: 0.9149686955223398\n",
            "Epoch 315: Train Loss: 0.531652230482835 Train Accuracy: 0.9268676042556763 Test Loss: 0.5689324987562079, Test Accuracy: 0.8552631735801697 AUC: 0.9149759300069323\n",
            "Epoch 320: Train Loss: 0.5313486086546316 Train Accuracy: 0.9277228116989136 Test Loss: 0.568779236391971, Test Accuracy: 0.8560855388641357 AUC: 0.9149225541123519\n",
            "Epoch 325: Train Loss: 0.5311546537297718 Train Accuracy: 0.9281619787216187 Test Loss: 0.568605943730003, Test Accuracy: 0.8571134805679321 AUC: 0.914917297496024\n",
            "Epoch 330: Train Loss: 0.531020865285185 Train Accuracy: 0.9286704659461975 Test Loss: 0.5685215623755204, Test Accuracy: 0.8581414222717285 AUC: 0.9151245621610279\n",
            "Epoch 335: Train Loss: 0.5307466863880496 Train Accuracy: 0.9292945861816406 Test Loss: 0.5682833320216129, Test Accuracy: 0.8577302694320679 AUC: 0.9154761315636555\n",
            "Epoch 340: Train Loss: 0.5306599919612591 Train Accuracy: 0.9295719265937805 Test Loss: 0.568248312724264, Test Accuracy: 0.8585526347160339 AUC: 0.9155825780442924\n",
            "Epoch 345: Train Loss: 0.530476522868907 Train Accuracy: 0.9301497936248779 Test Loss: 0.5681924035674647, Test Accuracy: 0.8587582111358643 AUC: 0.9157412190082646\n",
            "Epoch 350: Train Loss: 0.5302801830528756 Train Accuracy: 0.930588960647583 Test Loss: 0.5681254675513819, Test Accuracy: 0.8587582111358643 AUC: 0.9157865639612331\n",
            "Epoch 355: Train Loss: 0.5302145160161532 Train Accuracy: 0.9309356212615967 Test Loss: 0.567932599469235, Test Accuracy: 0.8583470582962036 AUC: 0.9161077485285722\n",
            "Epoch 360: Train Loss: 0.5299945089238636 Train Accuracy: 0.9314903616905212 Test Loss: 0.5680350222085652, Test Accuracy: 0.8591694235801697 AUC: 0.9158303690972978\n",
            "Epoch 365: Train Loss: 0.5298702166630671 Train Accuracy: 0.9316753149032593 Test Loss: 0.5679252116303695, Test Accuracy: 0.8599917888641357 AUC: 0.9160357753625896\n",
            "Epoch 370: Train Loss: 0.5297819157323894 Train Accuracy: 0.9318602085113525 Test Loss: 0.5678337686940244, Test Accuracy: 0.8595805764198303 AUC: 0.9163486104055092\n",
            "Epoch 375: Train Loss: 0.529605216528537 Train Accuracy: 0.9322762489318848 Test Loss: 0.5677323968786943, Test Accuracy: 0.8597862124443054 AUC: 0.9164292915015699\n",
            "Epoch 380: Train Loss: 0.5295379712031438 Train Accuracy: 0.9324842691421509 Test Loss: 0.5677347277340136, Test Accuracy: 0.859375 AUC: 0.9163715881905176\n",
            "Epoch 385: Train Loss: 0.5294097619649221 Train Accuracy: 0.9329696893692017 Test Loss: 0.567709787895805, Test Accuracy: 0.8591694235801697 AUC: 0.916560813104033\n",
            "Epoch 390: Train Loss: 0.5292765974293093 Train Accuracy: 0.9332239031791687 Test Loss: 0.567624503060391, Test Accuracy: 0.8597862124443054 AUC: 0.9167594893075115\n",
            "Epoch 395: Train Loss: 0.5292150794401677 Train Accuracy: 0.9334088563919067 Test Loss: 0.5675450563430786, Test Accuracy: 0.8595805764198303 AUC: 0.9169923866142549\n",
            "Epoch 400: Train Loss: 0.5290466984348184 Train Accuracy: 0.9337786436080933 Test Loss: 0.5675638098465768, Test Accuracy: 0.8597862124443054 AUC: 0.9168261527600315\n",
            "Epoch 405: Train Loss: 0.5289242860128188 Train Accuracy: 0.9340791702270508 Test Loss: 0.5675253899473893, Test Accuracy: 0.8599917888641357 AUC: 0.9169607672705865\n",
            "Epoch 410: Train Loss: 0.5288456562002735 Train Accuracy: 0.934310257434845 Test Loss: 0.5674689631713065, Test Accuracy: 0.8604029417037964 AUC: 0.9173606550657215\n",
            "Epoch 415: Train Loss: 0.5287029051921777 Train Accuracy: 0.9344258308410645 Test Loss: 0.5673553724037973, Test Accuracy: 0.8610197305679321 AUC: 0.9175448755742986\n",
            "Epoch 420: Train Loss: 0.5286460120297043 Train Accuracy: 0.9345876574516296 Test Loss: 0.5673502997348183, Test Accuracy: 0.8608141541481018 AUC: 0.9174798183101008\n",
            "Epoch 425: Train Loss: 0.5285056617838391 Train Accuracy: 0.9350036978721619 Test Loss: 0.5673184614432486, Test Accuracy: 0.8601973652839661 AUC: 0.9177526313877977\n",
            "Epoch 430: Train Loss: 0.5283761059744119 Train Accuracy: 0.9355121850967407 Test Loss: 0.567244175233339, Test Accuracy: 0.8608141541481018 AUC: 0.9180117321304779\n",
            "Epoch 435: Train Loss: 0.5283304484638237 Train Accuracy: 0.9355584383010864 Test Loss: 0.5670767991166366, Test Accuracy: 0.8612253069877625 AUC: 0.9183815934959834\n",
            "Epoch 440: Train Loss: 0.5281765796023713 Train Accuracy: 0.9358127117156982 Test Loss: 0.5671985180754411, Test Accuracy: 0.8604029417037964 AUC: 0.9175359950785328\n",
            "Epoch 445: Train Loss: 0.5280488052311734 Train Accuracy: 0.9361593723297119 Test Loss: 0.5671683393026653, Test Accuracy: 0.8612253069877625 AUC: 0.9172082795636349\n",
            "Epoch 450: Train Loss: 0.5279769340210413 Train Accuracy: 0.9362056255340576 Test Loss: 0.5670331496941415, Test Accuracy: 0.8614309430122375 AUC: 0.9175288402396423\n",
            "Epoch 455: Train Loss: 0.5278601960317623 Train Accuracy: 0.936367392539978 Test Loss: 0.5670568597944159, Test Accuracy: 0.8620476722717285 AUC: 0.9173186817808014\n",
            "Epoch 460: Train Loss: 0.527775491835803 Train Accuracy: 0.936829686164856 Test Loss: 0.5668591041313974, Test Accuracy: 0.8618420958518982 AUC: 0.9177543968675238\n",
            "Epoch 465: Train Loss: 0.5276621781157319 Train Accuracy: 0.9369915127754211 Test Loss: 0.5669575929641724, Test Accuracy: 0.8620476722717285 AUC: 0.9170690854252188\n",
            "Epoch 470: Train Loss: 0.5275256062400412 Train Accuracy: 0.9375462532043457 Test Loss: 0.5668311715126038, Test Accuracy: 0.8620476722717285 AUC: 0.9171388417858308\n",
            "Epoch 475: Train Loss: 0.5274471160928174 Train Accuracy: 0.9375462532043457 Test Loss: 0.5664945401643452, Test Accuracy: 0.8624588847160339 AUC: 0.9177267730832359\n",
            "Epoch 480: Train Loss: 0.527385814655462 Train Accuracy: 0.9378467202186584 Test Loss: 0.5666780346318295, Test Accuracy: 0.8628700375556946 AUC: 0.9173007084007313\n",
            "Epoch 485: Train Loss: 0.5271788535738838 Train Accuracy: 0.9381934404373169 Test Loss: 0.5666810054528085, Test Accuracy: 0.8630756735801697 AUC: 0.9168383518267113\n",
            "Epoch 490: Train Loss: 0.52711524095761 Train Accuracy: 0.9384245276451111 Test Loss: 0.5664202853253013, Test Accuracy: 0.8626644611358643 AUC: 0.9173895266326731\n",
            "Epoch 495: Train Loss: 0.5271078732592114 Train Accuracy: 0.9384939074516296 Test Loss: 0.566575354651401, Test Accuracy: 0.8634868264198303 AUC: 0.9174018849907569\n",
            "Epoch 500: Train Loss: 0.5269252975311505 Train Accuracy: 0.9389330744743347 Test Loss: 0.5663437341388903, Test Accuracy: 0.8628700375556946 AUC: 0.9174728758597488\n",
            "Epoch 505: Train Loss: 0.5268434723453409 Train Accuracy: 0.9392566680908203 Test Loss: 0.5665651967650965, Test Accuracy: 0.86328125 AUC: 0.9175572073838151\n",
            "Epoch 510: Train Loss: 0.5266913552961406 Train Accuracy: 0.9398576021194458 Test Loss: 0.5664287774186385, Test Accuracy: 0.8634868264198303 AUC: 0.9178209939486258\n",
            "Epoch 515: Train Loss: 0.5266002123877846 Train Accuracy: 0.9396727085113525 Test Loss: 0.5663594227088126, Test Accuracy: 0.8634868264198303 AUC: 0.9180950415347026\n",
            "Epoch 520: Train Loss: 0.5265847652621524 Train Accuracy: 0.9398807287216187 Test Loss: 0.5663833022117615, Test Accuracy: 0.8634868264198303 AUC: 0.9175578445494303\n",
            "Epoch 525: Train Loss: 0.5263426818791226 Train Accuracy: 0.9405510425567627 Test Loss: 0.566436911884107, Test Accuracy: 0.8641036152839661 AUC: 0.9164482206300634\n",
            "Epoch 530: Train Loss: 0.5262139950983623 Train Accuracy: 0.9407821893692017 Test Loss: 0.5662882924079895, Test Accuracy: 0.8641036152839661 AUC: 0.9163386281442\n",
            "Epoch 535: Train Loss: 0.526232300072732 Train Accuracy: 0.9404123425483704 Test Loss: 0.5665780054895502, Test Accuracy: 0.86328125 AUC: 0.9164078933563166\n",
            "Epoch 540: Train Loss: 0.5258891963394436 Train Accuracy: 0.9415911436080933 Test Loss: 0.5660448450791208, Test Accuracy: 0.8643091917037964 AUC: 0.9168008519753833\n",
            "Epoch 545: Train Loss: 0.5258395915200724 Train Accuracy: 0.9418685436248779 Test Loss: 0.5663314995012785, Test Accuracy: 0.8636924624443054 AUC: 0.9165986049896014\n",
            "Epoch 550: Train Loss: 0.5256236781030011 Train Accuracy: 0.9423539042472839 Test Loss: 0.5663583090430812, Test Accuracy: 0.8638980388641357 AUC: 0.9162992433445927\n",
            "Epoch 555: Train Loss: 0.525472937603674 Train Accuracy: 0.942793071269989 Test Loss: 0.5661972886637637, Test Accuracy: 0.8641036152839661 AUC: 0.9165255300580756\n",
            "Epoch 560: Train Loss: 0.5255369783858576 Train Accuracy: 0.942307710647583 Test Loss: 0.5661010648074903, Test Accuracy: 0.8641036152839661 AUC: 0.916672383458161\n",
            "Epoch 565: Train Loss: 0.5251348540627745 Train Accuracy: 0.9436482787132263 Test Loss: 0.5659605390147159, Test Accuracy: 0.8645148277282715 AUC: 0.9161593987662774\n",
            "Epoch 570: Train Loss: 0.5250351823998626 Train Accuracy: 0.943925678730011 Test Loss: 0.5660811254852697, Test Accuracy: 0.8647204041481018 AUC: 0.9160829256181355\n",
            "Epoch 575: Train Loss: 0.5250479067571064 Train Accuracy: 0.9438101053237915 Test Loss: 0.5660704562538549, Test Accuracy: 0.8643091917037964 AUC: 0.9155066889646314\n",
            "Epoch 580: Train Loss: 0.5247787526373328 Train Accuracy: 0.9444804191589355 Test Loss: 0.5665512963345176, Test Accuracy: 0.8643091917037964 AUC: 0.9144491666086139\n",
            "Epoch 585: Train Loss: 0.5246289284271601 Train Accuracy: 0.945081353187561 Test Loss: 0.5663356843747591, Test Accuracy: 0.8651315569877625 AUC: 0.9142535833132271\n",
            "Epoch 590: Train Loss: 0.5244605788112392 Train Accuracy: 0.9452893733978271 Test Loss: 0.5659210556431821, Test Accuracy: 0.8653371930122375 AUC: 0.914278047818005\n",
            "Epoch 595: Train Loss: 0.5244237473730505 Train Accuracy: 0.9452893733978271 Test Loss: 0.5663621519741259, Test Accuracy: 0.8659539222717285 AUC: 0.9140863538877296\n",
            "Epoch 600: Train Loss: 0.5244604155156739 Train Accuracy: 0.9451276063919067 Test Loss: 0.5658651433492962, Test Accuracy: 0.8659539222717285 AUC: 0.9138046603142671\n",
            "Epoch 605: Train Loss: 0.5240873228868789 Train Accuracy: 0.9460983872413635 Test Loss: 0.5660955215755262, Test Accuracy: 0.8663651347160339 AUC: 0.9136144531037612\n",
            "Epoch 610: Train Loss: 0.5239680575195854 Train Accuracy: 0.9464913010597229 Test Loss: 0.5662516951560974, Test Accuracy: 0.8667762875556946 AUC: 0.9133367683639627\n",
            "Epoch 615: Train Loss: 0.5240522213941495 Train Accuracy: 0.945982813835144 Test Loss: 0.5651743317905226, Test Accuracy: 0.8657483458518982 AUC: 0.9142594638208867\n",
            "Epoch 620: Train Loss: 0.5237087942439423 Train Accuracy: 0.9469535946846008 Test Loss: 0.5657005310058594, Test Accuracy: 0.8665707111358643 AUC: 0.9123988871265359\n",
            "Epoch 625: Train Loss: 0.5235957757255735 Train Accuracy: 0.9471847414970398 Test Loss: 0.5652416787649456, Test Accuracy: 0.8657483458518982 AUC: 0.912784505066741\n",
            "Epoch 630: Train Loss: 0.5234505054513379 Train Accuracy: 0.9475776553153992 Test Loss: 0.564866956911589, Test Accuracy: 0.8663651347160339 AUC: 0.9132858880347094\n",
            "Epoch 635: Train Loss: 0.5232745296150975 Train Accuracy: 0.94806307554245 Test Loss: 0.5650968865344399, Test Accuracy: 0.8669819235801697 AUC: 0.9129359248204042\n",
            "Epoch 640: Train Loss: 0.5232977853018856 Train Accuracy: 0.9479936957359314 Test Loss: 0.5647422200755069, Test Accuracy: 0.8669819235801697 AUC: 0.9129121505783765\n",
            "Epoch 645: Train Loss: 0.5229579136216429 Train Accuracy: 0.948987603187561 Test Loss: 0.56479790649916, Test Accuracy: 0.8673930764198303 AUC: 0.913403338896497\n",
            "Epoch 650: Train Loss: 0.5228745175536568 Train Accuracy: 0.9491031765937805 Test Loss: 0.5646928705667195, Test Accuracy: 0.8671875 AUC: 0.9132323395744414\n",
            "Epoch 655: Train Loss: 0.5229142593914236 Train Accuracy: 0.9489644765853882 Test Loss: 0.564453197152991, Test Accuracy: 0.8673930764198303 AUC: 0.913529431316945\n",
            "Epoch 660: Train Loss: 0.5226168050568485 Train Accuracy: 0.9498428106307983 Test Loss: 0.5644498749783164, Test Accuracy: 0.8675987124443054 AUC: 0.9138264566880302\n",
            "Epoch 665: Train Loss: 0.5224811544079753 Train Accuracy: 0.9500046372413635 Test Loss: 0.5644308014919883, Test Accuracy: 0.8673930764198303 AUC: 0.9139242483357234\n",
            "Epoch 670: Train Loss: 0.5224036154662364 Train Accuracy: 0.9503051042556763 Test Loss: 0.5640800783508703, Test Accuracy: 0.8682154417037964 AUC: 0.9142898486561751\n",
            "Epoch 675: Train Loss: 0.5222670781541858 Train Accuracy: 0.9506749510765076 Test Loss: 0.5642014961493643, Test Accuracy: 0.8688322305679321 AUC: 0.9139141200572939\n",
            "Epoch 680: Train Loss: 0.522316299246613 Train Accuracy: 0.9502819776535034 Test Loss: 0.564002485651719, Test Accuracy: 0.8690378069877625 AUC: 0.9144710426280788\n",
            "Epoch 685: Train Loss: 0.522042664197775 Train Accuracy: 0.9510909914970398 Test Loss: 0.5637966331682707, Test Accuracy: 0.8694490194320679 AUC: 0.9143087512361013\n",
            "Epoch 690: Train Loss: 0.5218626585232435 Train Accuracy: 0.9513221383094788 Test Loss: 0.5638435671204015, Test Accuracy: 0.8698601722717285 AUC: 0.9142212206096741\n",
            "Epoch 695: Train Loss: 0.5219748298797382 Train Accuracy: 0.9510216116905212 Test Loss: 0.5635473759550798, Test Accuracy: 0.8708881735801697 AUC: 0.9148266341386541\n",
            "Epoch 700: Train Loss: 0.5216595244830882 Train Accuracy: 0.9519230723381042 Test Loss: 0.5634348204261378, Test Accuracy: 0.8704769611358643 AUC: 0.914523927374164\n",
            "Epoch 705: Train Loss: 0.5216076874874047 Train Accuracy: 0.9522466659545898 Test Loss: 0.5632651291395488, Test Accuracy: 0.8698601722717285 AUC: 0.9149963989523299\n",
            "Epoch 710: Train Loss: 0.5214462008701979 Train Accuracy: 0.9526395797729492 Test Loss: 0.5630825161933899, Test Accuracy: 0.8704769611358643 AUC: 0.9153602603416227\n",
            "Epoch 715: Train Loss: 0.5212922353716292 Train Accuracy: 0.9530787467956543 Test Loss: 0.5633204328386408, Test Accuracy: 0.8719161152839661 AUC: 0.915339379893432\n",
            "Epoch 720: Train Loss: 0.5214193163538826 Train Accuracy: 0.9526395797729492 Test Loss: 0.5633692521797983, Test Accuracy: 0.8719161152839661 AUC: 0.9154549059840895\n",
            "Epoch 725: Train Loss: 0.521087070541269 Train Accuracy: 0.9536104202270508 Test Loss: 0.5630638442541424, Test Accuracy: 0.8715049624443054 AUC: 0.9164075614992252\n",
            "Epoch 730: Train Loss: 0.5210827656046173 Train Accuracy: 0.9535179138183594 Test Loss: 0.5631508231163025, Test Accuracy: 0.8721216917037964 AUC: 0.9163156370849079\n",
            "Epoch 735: Train Loss: 0.5211435796241083 Train Accuracy: 0.9531712532043457 Test Loss: 0.5634130835533142, Test Accuracy: 0.8715049624443054 AUC: 0.916017709062534\n",
            "Epoch 740: Train Loss: 0.5207425010274853 Train Accuracy: 0.9543500542640686 Test Loss: 0.5630696290417722, Test Accuracy: 0.8712993264198303 AUC: 0.9169195240712674\n",
            "Epoch 745: Train Loss: 0.5207488727287428 Train Accuracy: 0.9543731212615967 Test Loss: 0.5628728333272432, Test Accuracy: 0.8721216917037964 AUC: 0.9173469560049885\n",
            "Epoch 750: Train Loss: 0.5206563599716277 Train Accuracy: 0.954511821269989 Test Loss: 0.5628919068135714, Test Accuracy: 0.8731496930122375 AUC: 0.9174970085074353\n",
            "Epoch 755: Train Loss: 0.520358868604581 Train Accuracy: 0.9554364085197449 Test Loss: 0.5627066618517825, Test Accuracy: 0.8727384805679321 AUC: 0.9171077534135086\n",
            "Epoch 760: Train Loss: 0.5206086935376274 Train Accuracy: 0.9546736478805542 Test Loss: 0.5628258272221214, Test Accuracy: 0.8727384805679321 AUC: 0.917568357782086\n",
            "Epoch 765: Train Loss: 0.5201305976280799 Train Accuracy: 0.9560373425483704 Test Loss: 0.5624559709900304, Test Accuracy: 0.8723273277282715 AUC: 0.9180102454107084\n",
            "Epoch 770: Train Loss: 0.5200100583437632 Train Accuracy: 0.9562222361564636 Test Loss: 0.5623490653539959, Test Accuracy: 0.8725329041481018 AUC: 0.9181010547851988\n",
            "Epoch 775: Train Loss: 0.520160321653242 Train Accuracy: 0.9557600021362305 Test Loss: 0.5624823036946749, Test Accuracy: 0.8747944235801697 AUC: 0.9177921754788088\n",
            "Epoch 780: Train Loss: 0.5196811260556328 Train Accuracy: 0.9570543766021729 Test Loss: 0.5620671479325545, Test Accuracy: 0.8735608458518982 AUC: 0.9186654507776819\n",
            "Epoch 785: Train Loss: 0.5197561404408788 Train Accuracy: 0.9568463563919067 Test Loss: 0.5619872055555645, Test Accuracy: 0.8739720582962036 AUC: 0.9187917821352355\n",
            "Epoch 790: Train Loss: 0.5196718464236287 Train Accuracy: 0.9571236968040466 Test Loss: 0.5619074451295953, Test Accuracy: 0.8762335777282715 AUC: 0.9187381540292655\n",
            "Epoch 795: Train Loss: 0.5192085839587556 Train Accuracy: 0.9583487510681152 Test Loss: 0.5617688266854537, Test Accuracy: 0.8766447305679321 AUC: 0.9186267164179739\n",
            "Epoch 800: Train Loss: 0.5196998902326505 Train Accuracy: 0.9568232297897339 Test Loss: 0.561847470308605, Test Accuracy: 0.8768503069877625 AUC: 0.9187035612460581\n",
            "Epoch 805: Train Loss: 0.5190455807736639 Train Accuracy: 0.9588803648948669 Test Loss: 0.5612786035788687, Test Accuracy: 0.8782894611358643 AUC: 0.9192916783834344\n",
            "Epoch 810: Train Loss: 0.51896402222165 Train Accuracy: 0.9588803648948669 Test Loss: 0.5611434986716822, Test Accuracy: 0.8782894611358643 AUC: 0.9193459171064525\n",
            "Epoch 815: Train Loss: 0.5192362680237674 Train Accuracy: 0.9582100510597229 Test Loss: 0.5613836959788674, Test Accuracy: 0.8772615194320679 AUC: 0.9193052712498981\n",
            "Epoch 820: Train Loss: 0.5185828166600515 Train Accuracy: 0.9599898457527161 Test Loss: 0.560966902657559, Test Accuracy: 0.8782894611358643 AUC: 0.9194062089028178\n",
            "Epoch 825: Train Loss: 0.5187779245291941 Train Accuracy: 0.9594351053237915 Test Loss: 0.56094250239824, Test Accuracy: 0.8782894611358643 AUC: 0.9191002897616831\n",
            "Epoch 830: Train Loss: 0.5188096659423331 Train Accuracy: 0.9591808319091797 Test Loss: 0.5610102822906092, Test Accuracy: 0.8791118264198303 AUC: 0.9188497243833936\n",
            "Epoch 835: Train Loss: 0.5182737753941462 Train Accuracy: 0.9608450531959534 Test Loss: 0.560788841624009, Test Accuracy: 0.8787006735801697 AUC: 0.9195889426916255\n",
            "Epoch 840: Train Loss: 0.5189536767598439 Train Accuracy: 0.9588341116905212 Test Loss: 0.5609397229395414, Test Accuracy: 0.8793174624443054 AUC: 0.9192252007708854\n",
            "Epoch 845: Train Loss: 0.5184301430657066 Train Accuracy: 0.9604290127754211 Test Loss: 0.560642167141563, Test Accuracy: 0.8774670958518982 AUC: 0.9203238335833854\n",
            "Epoch 850: Train Loss: 0.5181348267391589 Train Accuracy: 0.9609606266021729 Test Loss: 0.5604312074811835, Test Accuracy: 0.8791118264198303 AUC: 0.9199915384406264\n",
            "Epoch 855: Train Loss: 0.5187244203669079 Train Accuracy: 0.9595275521278381 Test Loss: 0.5603699746884798, Test Accuracy: 0.8799341917037964 AUC: 0.9200654231034553\n",
            "Epoch 860: Train Loss: 0.517767191638608 Train Accuracy: 0.9619314074516296 Test Loss: 0.5602473836196097, Test Accuracy: 0.8791118264198303 AUC: 0.9207475619919666\n",
            "Epoch 865: Train Loss: 0.5182106173955477 Train Accuracy: 0.9606601595878601 Test Loss: 0.5604083789022345, Test Accuracy: 0.8805509805679321 AUC: 0.9203768643465908\n",
            "Epoch 870: Train Loss: 0.5180137855766793 Train Accuracy: 0.9613073468208313 Test Loss: 0.5600072741508484, Test Accuracy: 0.8815789222717285 AUC: 0.920650898658384\n",
            "Epoch 875: Train Loss: 0.517474594906237 Train Accuracy: 0.9627403616905212 Test Loss: 0.5599283419157329, Test Accuracy: 0.8805509805679321 AUC: 0.9210533085674139\n",
            "Epoch 880: Train Loss: 0.5184025334183281 Train Accuracy: 0.960220992565155 Test Loss: 0.5600586690400776, Test Accuracy: 0.8824012875556946 AUC: 0.920556996375802\n",
            "Epoch 885: Train Loss: 0.5177429783979112 Train Accuracy: 0.9619776010513306 Test Loss: 0.5595842693981371, Test Accuracy: 0.8805509805679321 AUC: 0.9218459691416444\n",
            "Epoch 890: Train Loss: 0.5173588617313543 Train Accuracy: 0.9629715085029602 Test Loss: 0.5596346070891932, Test Accuracy: 0.8811677694320679 AUC: 0.9212177636676273\n",
            "Epoch 895: Train Loss: 0.5182023552747873 Train Accuracy: 0.9606601595878601 Test Loss: 0.5594562103873805, Test Accuracy: 0.8830180764198303 AUC: 0.9209833796411143\n",
            "Epoch 900: Train Loss: 0.5170242821676492 Train Accuracy: 0.9640116691589355 Test Loss: 0.5592807280389887, Test Accuracy: 0.8811677694320679 AUC: 0.9211426444964183\n",
            "Epoch 905: Train Loss: 0.517763669321523 Train Accuracy: 0.9619082808494568 Test Loss: 0.5595773803560358, Test Accuracy: 0.8807565569877625 AUC: 0.9212539095420224\n",
            "Epoch 910: Train Loss: 0.517403879109219 Train Accuracy: 0.9628097414970398 Test Loss: 0.5599834824863233, Test Accuracy: 0.8821957111358643 AUC: 0.920776207896096\n",
            "Epoch 915: Train Loss: 0.5168593067389268 Train Accuracy: 0.9642658829689026 Test Loss: 0.5592078346955148, Test Accuracy: 0.8836348652839661 AUC: 0.9210689058507097\n",
            "Epoch 920: Train Loss: 0.5173644758540498 Train Accuracy: 0.9626941680908203 Test Loss: 0.5588530647127252, Test Accuracy: 0.8836348652839661 AUC: 0.9211734275602164\n",
            "Epoch 925: Train Loss: 0.5168381509696238 Train Accuracy: 0.9644508361816406 Test Loss: 0.5592022914635507, Test Accuracy: 0.8811677694320679 AUC: 0.9214659927719933\n",
            "Epoch 930: Train Loss: 0.516576766262393 Train Accuracy: 0.96484375 Test Loss: 0.5589479145250822, Test Accuracy: 0.8819901347160339 AUC: 0.9213313118900203\n",
            "Epoch 935: Train Loss: 0.517066343296209 Train Accuracy: 0.9635493755340576 Test Loss: 0.5586794363824945, Test Accuracy: 0.8854851722717285 AUC: 0.9215718817327166\n",
            "Epoch 940: Train Loss: 0.5162512092195319 Train Accuracy: 0.9659301042556763 Test Loss: 0.558847797544379, Test Accuracy: 0.8830180764198303 AUC: 0.9212376618188274\n",
            "Epoch 945: Train Loss: 0.5167237393249421 Train Accuracy: 0.9644508361816406 Test Loss: 0.5594650130522879, Test Accuracy: 0.8840460777282715 AUC: 0.9213848205274373\n",
            "Epoch 950: Train Loss: 0.5164367941004284 Train Accuracy: 0.9653753638267517 Test Loss: 0.5587976888606423, Test Accuracy: 0.8856908082962036 AUC: 0.9218710044406194\n",
            "Epoch 955: Train Loss: 0.5158699592189676 Train Accuracy: 0.9667391180992126 Test Loss: 0.5583090060635617, Test Accuracy: 0.8850740194320679 AUC: 0.9216902485200766\n",
            "Epoch 960: Train Loss: 0.5164044869721994 Train Accuracy: 0.965074896812439 Test Loss: 0.5590652070547405, Test Accuracy: 0.8854851722717285 AUC: 0.9218807610391067\n",
            "Epoch 965: Train Loss: 0.5160501620473241 Train Accuracy: 0.9663230180740356 Test Loss: 0.5594725514713087, Test Accuracy: 0.8844572305679321 AUC: 0.9208722207897795\n",
            "Epoch 970: Train Loss: 0.515817756836231 Train Accuracy: 0.9668546319007874 Test Loss: 0.5592317298838967, Test Accuracy: 0.8842516541481018 AUC: 0.9215126386047603\n",
            "Epoch 975: Train Loss: 0.5160890362671846 Train Accuracy: 0.9657682776451111 Test Loss: 0.5586578406785664, Test Accuracy: 0.8842516541481018 AUC: 0.9226693198596876\n",
            "Epoch 980: Train Loss: 0.5154257564855045 Train Accuracy: 0.9678254723548889 Test Loss: 0.5634282764635588, Test Accuracy: 0.8807565569877625 AUC: 0.9219553492389694\n",
            "Epoch 985: Train Loss: 0.5157968955632497 Train Accuracy: 0.9666928648948669 Test Loss: 0.558932972581763, Test Accuracy: 0.8854851722717285 AUC: 0.9229124118162787\n",
            "Epoch 990: Train Loss: 0.5159248360515346 Train Accuracy: 0.9663461446762085 Test Loss: 0.5583176142291019, Test Accuracy: 0.8842516541481018 AUC: 0.9233303791857533\n",
            "Epoch 995: Train Loss: 0.5153967798108885 Train Accuracy: 0.9677098989486694 Test Loss: 0.5615218501341971, Test Accuracy: 0.8828125 AUC: 0.9225521212092893\n"
          ]
        }
      ],
      "source": [
        "all_logits = []\n",
        "best_test_loss = float('inf')\n",
        "best_epoch = 0\n",
        "patience = 0\n",
        "ntrain_l = len(trainloader)\n",
        "ntest_l = len(testloader)\n",
        "\n",
        "for e in tqdm(range(2000)):\n",
        "    # forward\n",
        "    best_test_loss = float('inf')\n",
        "    best_epoch = 0\n",
        "    total_train_loss = 0\n",
        "    total_test_loss = 0\n",
        "    total_train_accuracy = 0\n",
        "    total_test_accuracy = 0\n",
        "    total_auc = 0\n",
        "\n",
        "    for features, labels in trainloader:\n",
        "      features = features.reshape((features.shape[0]*2,1,192))\n",
        "      labels = labels.reshape(labels.shape[0]*2).to(torch.float32)\n",
        "      scores = mlpred(features).reshape(features.shape[0])\n",
        "\n",
        "      loss = compute_loss2(scores, labels)\n",
        "      total_train_loss+=loss.item()\n",
        "      accuracy = compute_accuracy2(scores, labels, 0.6)\n",
        "      total_train_accuracy+=accuracy\n",
        "\n",
        "      optimizer.zero_grad()\n",
        "      loss.backward()\n",
        "      optimizer.step()\n",
        "      scheduler.step()\n",
        "\n",
        "    with torch.no_grad():\n",
        "      for features, labels in testloader:\n",
        "        features = features.reshape((features.shape[0]*2,1,192))\n",
        "        labels = labels.reshape(labels.shape[0]*2).to(torch.float32)\n",
        "        scores = mlpred(features).reshape(features.shape[0])\n",
        "\n",
        "        testloss = compute_loss2(scores, labels)\n",
        "        total_test_loss+=testloss.item()\n",
        "        accuracy = compute_accuracy2(scores, labels, 0.6)\n",
        "        auc = compute_auc2(scores, labels)\n",
        "        total_auc+= auc\n",
        "        total_test_accuracy += accuracy\n",
        "\n",
        "\n",
        "    if e%5==0:\n",
        "      print(f'Epoch {e}: Train Loss: {total_train_loss/ntrain_l} Train Accuracy: {total_train_accuracy/ntrain_l} Test Loss: {total_test_loss/ntest_l}, Test Accuracy: {total_test_accuracy/ntest_l} AUC: {total_auc/ntest_l}')\n",
        "\n",
        "\n",
        "    if best_test_loss>total_test_loss:\n",
        "      best_test_loss = total_test_loss\n",
        "      torch.save(model, '/content/drive/MyDrive/graph_model18.pth')\n",
        "      torch.save(mlpred, '/content/drive/MyDrive/mlpred18.pth')\n",
        "      patience = 0\n",
        "      best_epoch = e\n",
        "\n",
        "    else:\n",
        "      patience+=1\n",
        "\n",
        "    if patience == 100:\n",
        "      print(f'Trainning Stopped at Epoch {e}')\n",
        "      break"
      ]
    },
    {
      "cell_type": "code",
      "execution_count": null,
      "metadata": {
        "colab": {
          "base_uri": "https://localhost:8080/"
        },
        "id": "yLXbPSx0T7_s",
        "outputId": "fe9716d0-02d3-4ca7-bb14-268649f1bbc6"
      },
      "outputs": [
        {
          "data": {
            "text/plain": [
              "Graph(num_nodes=8137, num_edges=23925,\n",
              "      ndata_schemes={'feature': Scheme(shape=(300,), dtype=torch.float32)}\n",
              "      edata_schemes={})"
            ]
          },
          "execution_count": 79,
          "metadata": {},
          "output_type": "execute_result"
        }
      ],
      "source": [
        "g"
      ]
    },
    {
      "cell_type": "markdown",
      "metadata": {
        "id": "AUhELE9APnmv"
      },
      "source": [
        "## Deploy"
      ]
    },
    {
      "cell_type": "code",
      "execution_count": null,
      "metadata": {
        "colab": {
          "base_uri": "https://localhost:8080/"
        },
        "id": "i-vL-A5I_hKP",
        "outputId": "722e8d8f-b9bf-444e-bfe8-a5aa38c24149"
      },
      "outputs": [
        {
          "name": "stdout",
          "output_type": "stream",
          "text": [
            "Drive already mounted at /content/drive; to attempt to forcibly remount, call drive.mount(\"/content/drive\", force_remount=True).\n"
          ]
        }
      ],
      "source": [
        "from google.colab import drive\n",
        "drive.mount('/content/drive')"
      ]
    },
    {
      "cell_type": "code",
      "execution_count": null,
      "metadata": {
        "id": "1lNoWAOURrT0"
      },
      "outputs": [],
      "source": [
        "import pandas as pd\n",
        "import torch\n",
        "import json\n",
        "import numpy as np\n",
        "from tqdm.notebook import tqdm"
      ]
    },
    {
      "cell_type": "code",
      "execution_count": null,
      "metadata": {
        "colab": {
          "base_uri": "https://localhost:8080/"
        },
        "id": "bZgap56lRGB3",
        "outputId": "723905c2-4884-483f-b21f-a366d2c9e51c"
      },
      "outputs": [
        {
          "name": "stdout",
          "output_type": "stream",
          "text": [
            "Looking in indexes: https://pypi.org/simple, https://us-python.pkg.dev/colab-wheels/public/simple/\n",
            "Requirement already satisfied: transformers in /usr/local/lib/python3.9/dist-packages (4.28.1)\n",
            "Requirement already satisfied: tokenizers!=0.11.3,<0.14,>=0.11.1 in /usr/local/lib/python3.9/dist-packages (from transformers) (0.13.3)\n",
            "Requirement already satisfied: numpy>=1.17 in /usr/local/lib/python3.9/dist-packages (from transformers) (1.22.4)\n",
            "Requirement already satisfied: tqdm>=4.27 in /usr/local/lib/python3.9/dist-packages (from transformers) (4.65.0)\n",
            "Requirement already satisfied: filelock in /usr/local/lib/python3.9/dist-packages (from transformers) (3.11.0)\n",
            "Requirement already satisfied: huggingface-hub<1.0,>=0.11.0 in /usr/local/lib/python3.9/dist-packages (from transformers) (0.14.1)\n",
            "Requirement already satisfied: regex!=2019.12.17 in /usr/local/lib/python3.9/dist-packages (from transformers) (2022.10.31)\n",
            "Requirement already satisfied: requests in /usr/local/lib/python3.9/dist-packages (from transformers) (2.27.1)\n",
            "Requirement already satisfied: pyyaml>=5.1 in /usr/local/lib/python3.9/dist-packages (from transformers) (6.0)\n",
            "Requirement already satisfied: packaging>=20.0 in /usr/local/lib/python3.9/dist-packages (from transformers) (23.1)\n",
            "Requirement already satisfied: fsspec in /usr/local/lib/python3.9/dist-packages (from huggingface-hub<1.0,>=0.11.0->transformers) (2023.4.0)\n",
            "Requirement already satisfied: typing-extensions>=3.7.4.3 in /usr/local/lib/python3.9/dist-packages (from huggingface-hub<1.0,>=0.11.0->transformers) (4.5.0)\n",
            "Requirement already satisfied: charset-normalizer~=2.0.0 in /usr/local/lib/python3.9/dist-packages (from requests->transformers) (2.0.12)\n",
            "Requirement already satisfied: certifi>=2017.4.17 in /usr/local/lib/python3.9/dist-packages (from requests->transformers) (2022.12.7)\n",
            "Requirement already satisfied: urllib3<1.27,>=1.21.1 in /usr/local/lib/python3.9/dist-packages (from requests->transformers) (1.26.15)\n",
            "Requirement already satisfied: idna<4,>=2.5 in /usr/local/lib/python3.9/dist-packages (from requests->transformers) (3.4)\n",
            "--2023-04-26 10:31:48--  https://s3-us-west-2.amazonaws.com/ai2-s2-research/scibert/huggingface_pytorch/scibert_scivocab_uncased.tar\n",
            "Resolving s3-us-west-2.amazonaws.com (s3-us-west-2.amazonaws.com)... 52.218.132.40, 52.92.250.216, 52.218.241.208, ...\n",
            "Connecting to s3-us-west-2.amazonaws.com (s3-us-west-2.amazonaws.com)|52.218.132.40|:443... connected.\n",
            "HTTP request sent, awaiting response... 200 OK\n",
            "Length: 442460160 (422M) [application/x-tar]\n",
            "Saving to: ‘scibert_uncased.tar’\n",
            "\n",
            "scibert_uncased.tar 100%[===================>] 421.96M  35.4MB/s    in 12s     \n",
            "\n",
            "2023-04-26 10:32:00 (34.8 MB/s) - ‘scibert_uncased.tar’ saved [442460160/442460160]\n",
            "\n",
            "scibert_scivocab_uncased/\n",
            "scibert_scivocab_uncased/vocab.txt\n",
            "scibert_scivocab_uncased/pytorch_model.bin\n",
            "scibert_scivocab_uncased/config.json\n"
          ]
        }
      ],
      "source": [
        "!pip install transformers\n",
        "!wget -O scibert_uncased.tar https://s3-us-west-2.amazonaws.com/ai2-s2-research/scibert/huggingface_pytorch/scibert_scivocab_uncased.tar\n",
        "!tar -xvf scibert_uncased.tar\n",
        "import torch\n",
        "from transformers import BertTokenizer, BertModel"
      ]
    },
    {
      "cell_type": "code",
      "execution_count": null,
      "metadata": {
        "colab": {
          "base_uri": "https://localhost:8080/"
        },
        "id": "h2CGxLl6RigF",
        "outputId": "e210238c-9231-4ccc-883f-4f4d0b2dc246"
      },
      "outputs": [
        {
          "name": "stderr",
          "output_type": "stream",
          "text": [
            "Some weights of the model checkpoint at scibert_scivocab_uncased were not used when initializing BertModel: ['cls.predictions.transform.dense.weight', 'cls.predictions.transform.LayerNorm.bias', 'cls.seq_relationship.weight', 'cls.predictions.transform.dense.bias', 'cls.predictions.transform.LayerNorm.weight', 'cls.predictions.decoder.weight', 'cls.predictions.bias', 'cls.seq_relationship.bias']\n",
            "- This IS expected if you are initializing BertModel from the checkpoint of a model trained on another task or with another architecture (e.g. initializing a BertForSequenceClassification model from a BertForPreTraining model).\n",
            "- This IS NOT expected if you are initializing BertModel from the checkpoint of a model that you expect to be exactly identical (initializing a BertForSequenceClassification model from a BertForSequenceClassification model).\n",
            "The tokenizer class you load from this checkpoint is not the same type as the class this function is called from. It may result in unexpected tokenization. \n",
            "The tokenizer class you load from this checkpoint is 'RobertaTokenizer'. \n",
            "The class this function is called from is 'BertTokenizer'.\n"
          ]
        }
      ],
      "source": [
        "model_version = 'scibert_scivocab_uncased'\n",
        "do_lower_case = True\n",
        "model1 = BertModel.from_pretrained(model_version)\n",
        "tokenizer = BertTokenizer.from_pretrained(model_version, do_lower_case=do_lower_case)"
      ]
    },
    {
      "cell_type": "code",
      "execution_count": null,
      "metadata": {
        "colab": {
          "base_uri": "https://localhost:8080/"
        },
        "id": "ArdZrt6aSXcJ",
        "outputId": "3a567e5e-7784-4ff5-bfca-ebd9127c146a"
      },
      "outputs": [
        {
          "name": "stdout",
          "output_type": "stream",
          "text": [
            "Looking in indexes: https://pypi.org/simple, https://us-python.pkg.dev/colab-wheels/public/simple/\n",
            "Requirement already satisfied: dgl in /usr/local/lib/python3.9/dist-packages (1.0.1)\n",
            "Requirement already satisfied: psutil>=5.8.0 in /usr/local/lib/python3.9/dist-packages (from dgl) (5.9.5)\n",
            "Requirement already satisfied: networkx>=2.1 in /usr/local/lib/python3.9/dist-packages (from dgl) (3.1)\n",
            "Requirement already satisfied: tqdm in /usr/local/lib/python3.9/dist-packages (from dgl) (4.65.0)\n",
            "Requirement already satisfied: requests>=2.19.0 in /usr/local/lib/python3.9/dist-packages (from dgl) (2.27.1)\n",
            "Requirement already satisfied: scipy>=1.1.0 in /usr/local/lib/python3.9/dist-packages (from dgl) (1.10.1)\n",
            "Requirement already satisfied: numpy>=1.14.0 in /usr/local/lib/python3.9/dist-packages (from dgl) (1.22.4)\n",
            "Requirement already satisfied: charset-normalizer~=2.0.0 in /usr/local/lib/python3.9/dist-packages (from requests>=2.19.0->dgl) (2.0.12)\n",
            "Requirement already satisfied: certifi>=2017.4.17 in /usr/local/lib/python3.9/dist-packages (from requests>=2.19.0->dgl) (2022.12.7)\n",
            "Requirement already satisfied: idna<4,>=2.5 in /usr/local/lib/python3.9/dist-packages (from requests>=2.19.0->dgl) (3.4)\n",
            "Requirement already satisfied: urllib3<1.27,>=1.21.1 in /usr/local/lib/python3.9/dist-packages (from requests>=2.19.0->dgl) (1.26.15)\n"
          ]
        }
      ],
      "source": [
        "!pip install dgl"
      ]
    },
    {
      "cell_type": "code",
      "execution_count": null,
      "metadata": {
        "id": "Z-c56N8lSobu"
      },
      "outputs": [],
      "source": [
        "import json\n",
        "import dgl\n",
        "import torch\n",
        "import torch.nn as nn\n",
        "import torch.nn.functional as F\n",
        "import itertools\n",
        "import numpy as np\n",
        "import scipy.sparse as sp\n",
        "from tqdm.notebook import tqdm\n",
        "from sklearn.metrics import roc_auc_score\n",
        "from sklearn.decomposition import PCA\n",
        "from sklearn.preprocessing import StandardScaler\n",
        "import numpy as np"
      ]
    },
    {
      "cell_type": "markdown",
      "metadata": {
        "id": "36m2XLEptslO"
      },
      "source": [
        "### we donot have first 18 papers context embeddings, these are set to 0\n"
      ]
    },
    {
      "cell_type": "code",
      "execution_count": null,
      "metadata": {
        "id": "WiaxKzkt5EIH"
      },
      "outputs": [],
      "source": [
        "with open('/content/drive/MyDrive/ctext_embeddings.json', 'r') as file:\n",
        "  context_embeddings = np.array(json.load(file)['context_embedding'])"
      ]
    },
    {
      "cell_type": "code",
      "execution_count": null,
      "metadata": {
        "id": "YUg8B79t3U_y"
      },
      "outputs": [],
      "source": [
        "def embed_text(text, model):\n",
        "  input_ids = torch.tensor(tokenizer.encode(text)).unsqueeze(0)\n",
        "  if input_ids.shape[1]>512:\n",
        "    input_ids = input_ids[:, :512]\n",
        "  outputs = model(input_ids)\n",
        "  last_hidden_states = outputs[0]\n",
        "  return last_hidden_states.mean(1).detach()"
      ]
    },
    {
      "cell_type": "code",
      "execution_count": null,
      "metadata": {
        "colab": {
          "base_uri": "https://localhost:8080/"
        },
        "id": "HQkFSovROpdl",
        "outputId": "5e34081a-ece5-48ef-c535-8b90bbbae7ab"
      },
      "outputs": [
        {
          "data": {
            "text/plain": [
              "{'Computer Science': 0,\n",
              " 'Biology': 1,\n",
              " 'Mathematics': 2,\n",
              " 'Medicine': 3,\n",
              " 'Chemistry': 4,\n",
              " 'Engineering': 5,\n",
              " 'Physics': 6,\n",
              " 'Geology': 7,\n",
              " 'Materials Science': 8,\n",
              " 'Political Science': 9,\n",
              " 'Psychology': 10,\n",
              " 'Economics': 11,\n",
              " 'Philosophy': 12,\n",
              " 'Geography': 13,\n",
              " 'Business': 14,\n",
              " 'Environmental Science': 15,\n",
              " 'Sociology': 16,\n",
              " 'History': 17,\n",
              " 'Art': 18,\n",
              " 'ukn': 19}"
            ]
          },
          "execution_count": 387,
          "metadata": {},
          "output_type": "execute_result"
        }
      ],
      "source": [
        "domain_types"
      ]
    },
    {
      "cell_type": "code",
      "execution_count": null,
      "metadata": {
        "id": "BrihjJz8Rv3d"
      },
      "outputs": [],
      "source": [
        "title = 'A Multi-Level Simultaneous Minimization Scheme Applied to Jerk-Bounded Redundant Robot Manipulators'\n",
        "abstract = 'In this paper, a multi-level simultaneous minimization (MLSM) scheme is proposed and investigated to remedy the joint-angle drift (JAD) and non-zero final joint-velocity (NZFJV) phenomena as well as to prevent the occurrence of high joint variables of redundant robot manipulators. The proposed scheme is novelly designed within multiple levels and finally resolved at the jerk level for a jerk-bounded robot motion, which is desirable for engineering applications. More importantly, the correctness of the proposed MLSM scheme is guaranteed by the corresponding theorems. Then, the MLSM scheme is formulated as a dynamical quadratic program (DQP) that is solved by a piecewise linear projection equation neural network (PLPENN). Furthermore, the path-tracking simulations based on a 6-degrees-of-freedom (DOF) robot manipulator substantiate the effectiveness and advantage of the MLSM scheme. Comparisons between the MLSM scheme and the minimum jerk norm (MJN) scheme illustrate that the proposed scheme is superior and more applicable. Finally, the additional validation on the KUKA robot in the virtual robot experimentation platform (V-REP) is provided for reproducible engineering applications by researchers and practitioners. Note to Practitioners —This paper is motivated by the inverse kinematics problem of jerk-bounded redundant robot manipulators in practical applications. Note that the joint-angle drift (JAD) and non-zero final joint-velocity (NZFJV) phenomena as well as the occurrence of high joint variables always encountered in the traditional norm-based scheme for robot manipulators, which is not suitable for the real-time control of robots. Besides, it would be appealing and desirable to resolve the robot redundancy at the jerk level for industrial robots in engineering. Therefore, an effective, flexible, and stable solution for such robot manipulators is significant for practitioners. This paper proposes a multi-level simultaneous minimization (MLSM) scheme for practitioners interested in robot kinematics to remedy the JAD and NZFJV phenomena as well as to prevent the occurrence of high joint variables of redundant robot manipulators. Unlike traditional single-level schemes, such as the minimum jerk norm (MJN) scheme, the proposed scheme is designed within multiple levels with distinct physical nature and finally resolved at the jerk level to achieve a desirable performance for the jerk-bounded redundant robot manipulators. Besides, for better understanding of practitioners, the corresponding block diagram and principle interpretation of the MLSM scheme are presented. Simulation studies and comparisons are designed and conducted on a 6-degrees-of-freedom (DOF) robot manipulator to substantiate the effectiveness and superiority of the proposed scheme. Extensive tests with different weighting factors fully verify the flexibility and stable performance of the proposed MLSM scheme. For reproducible engineering applications by researchers and practitioners, the additional validation on the KUKA robot in the virtual robot experimentation platform (V-REP) is further presented.'\n",
        "text = title + ' ' + abstract\n",
        "domain_type = [0]\n",
        "embeddings = embed_text(text, model1)"
      ]
    },
    {
      "cell_type": "code",
      "execution_count": null,
      "metadata": {
        "id": "qPx6PbbHvAii"
      },
      "outputs": [],
      "source": [
        "title = 'Iron regulation by hepatocytes and free radicals'\n",
        "abstract = ''\n",
        "text = title + ' ' + abstract\n",
        "domain_type = [1,3]\n",
        "embeddings = embed_text(text, model1)"
      ]
    },
    {
      "cell_type": "code",
      "execution_count": null,
      "metadata": {
        "id": "c6LjOF6faFhD"
      },
      "outputs": [],
      "source": [
        "from pickle import load\n",
        "\n",
        "scaling = load(open('/content/drive/MyDrive/scaler.pkl', 'rb'))\n",
        "principal = load(open('/content/drive/MyDrive/pca.pkl', 'rb'))\n",
        "\n",
        "Scaled_data = scaling.transform(embeddings)\n",
        "\n",
        "x=principal.transform(Scaled_data)"
      ]
    },
    {
      "cell_type": "code",
      "execution_count": null,
      "metadata": {
        "colab": {
          "base_uri": "https://localhost:8080/"
        },
        "id": "MuYWtp5PUa5u",
        "outputId": "01b281bd-a936-4841-fe30-f1686dd58e34"
      },
      "outputs": [
        {
          "name": "stdout",
          "output_type": "stream",
          "text": [
            "torch.Size([8138, 64])\n"
          ]
        }
      ],
      "source": [
        "context_embeddings2 = torch.tensor(np.concatenate((context_embeddings,x),0))\n",
        "print(context_embeddings2.shape)"
      ]
    },
    {
      "cell_type": "markdown",
      "metadata": {
        "id": "hY_rPkHRQtlC"
      },
      "source": [
        "### Load Models"
      ]
    },
    {
      "cell_type": "code",
      "execution_count": null,
      "metadata": {
        "id": "XRWZPmfJccMx"
      },
      "outputs": [],
      "source": [
        "# from dgl.nn import SAGEConv\n",
        "\n",
        "# class GraphSAGE(nn.Module):\n",
        "#   def __init__(self, in_feats, h_feats):\n",
        "#     super(GraphSAGE, self).__init__()\n",
        "#     self.conv1 = SAGEConv(in_feats, h_feats[0], 'mean')\n",
        "#     self.conv2 = SAGEConv(h_feats[0], h_feats[1], 'mean')\n",
        "#     self.conv3 = SAGEConv(h_feats[1], h_feats[2], 'mean')\n",
        "#     # self.conv4 = SAGEConv(h_feats[2], h_feats[2], 'mean')\n",
        "\n",
        "\n",
        "#   def forward(self, g, in_feat, context):\n",
        "#     h = self.conv1(g, in_feat)\n",
        "#     h = F.relu(h)\n",
        "#     h = self.conv2(g, h)\n",
        "#     h = F.relu(h)\n",
        "#     h = self.conv3(g, h)\n",
        "#     h = torch.cat((h,context),1)\n",
        "#     return torch.sigmoid(h)\n",
        "\n",
        "(g,), _ = dgl.load_graphs('/content/drive/MyDrive/citation_concept_graphv3.dgl')\n",
        "model = GraphSAGE(g.ndata['feature'].shape[1], [128,64,32])"
      ]
    },
    {
      "cell_type": "code",
      "execution_count": null,
      "metadata": {
        "id": "cYxVOVIBk5Hz"
      },
      "outputs": [],
      "source": [
        "class MLPPredictor(nn.Module):\n",
        "    def __init__(self, h_feats):\n",
        "        super().__init__()\n",
        "        self.W1 = nn.Linear(h_feats * 2, h_feats)\n",
        "        self.W2 = nn.Linear(h_feats, 1)\n",
        "\n",
        "    def apply_edges(self, edges):\n",
        "        \"\"\"\n",
        "        Computes a scalar score for each edge of the given graph.\n",
        "\n",
        "        Parameters\n",
        "        ----------\n",
        "        edges :\n",
        "            Has three members ``src``, ``dst`` and ``data``, each of\n",
        "            which is a dictionary representing the features of the\n",
        "            source nodes, the destination nodes, and the edges\n",
        "            themselves.\n",
        "\n",
        "        Returns\n",
        "        -------\n",
        "        dict\n",
        "            A dictionary of new edge features.\n",
        "        \"\"\"\n",
        "        h = torch.cat([edges.src[\"h\"], edges.dst[\"h\"]], 1)\n",
        "        return {\"score\": torch.sigmoid(self.W2(F.relu(self.W1(h)))).squeeze(1)}\n",
        "\n",
        "    def forward(self, g, h):\n",
        "        with g.local_scope():\n",
        "            g.ndata[\"h\"] = h\n",
        "            g.apply_edges(self.apply_edges)\n",
        "            return g.edata[\"score\"]\n",
        "\n",
        "mlpred = MLPPredictor(96)"
      ]
    },
    {
      "cell_type": "code",
      "execution_count": null,
      "metadata": {
        "id": "9rqMbzMJSgNl"
      },
      "outputs": [],
      "source": [
        "model = torch.load('/content/drive/MyDrive/graph_model18.pth')\n",
        "model = model.float()\n",
        "\n",
        "with open('/content/drive/MyDrive/domain_types.json', 'r') as file:\n",
        "  domain_types = json.load(file)"
      ]
    },
    {
      "cell_type": "code",
      "execution_count": null,
      "metadata": {
        "colab": {
          "base_uri": "https://localhost:8080/"
        },
        "id": "b4oFdOGq1Hyq",
        "outputId": "d82cd583-024f-45b8-efc8-16b25b6533ae"
      },
      "outputs": [
        {
          "data": {
            "text/plain": [
              "GraphSAGE(\n",
              "  (conv1): SAGEConv(\n",
              "    (feat_drop): Dropout(p=0.0, inplace=False)\n",
              "    (fc_neigh): Linear(in_features=300, out_features=128, bias=False)\n",
              "    (fc_self): Linear(in_features=300, out_features=128, bias=True)\n",
              "  )\n",
              "  (conv2): SAGEConv(\n",
              "    (feat_drop): Dropout(p=0.0, inplace=False)\n",
              "    (fc_neigh): Linear(in_features=128, out_features=64, bias=False)\n",
              "    (fc_self): Linear(in_features=128, out_features=64, bias=True)\n",
              "  )\n",
              "  (conv3): SAGEConv(\n",
              "    (feat_drop): Dropout(p=0.0, inplace=False)\n",
              "    (fc_neigh): Linear(in_features=64, out_features=32, bias=False)\n",
              "    (fc_self): Linear(in_features=64, out_features=32, bias=True)\n",
              "  )\n",
              ")"
            ]
          },
          "execution_count": 396,
          "metadata": {},
          "output_type": "execute_result"
        }
      ],
      "source": [
        "model"
      ]
    },
    {
      "cell_type": "markdown",
      "metadata": {
        "id": "pfMTkoLpeqEZ"
      },
      "source": [
        "### dataloader"
      ]
    },
    {
      "cell_type": "code",
      "execution_count": null,
      "metadata": {
        "id": "lbvZDO3yVMyW"
      },
      "outputs": [],
      "source": [
        "from torch.utils.data import Dataset\n",
        "\n",
        "class PrepareDataset(Dataset):\n",
        "  def __init__(self, transform = None):\n",
        "    # self.fe = comp_feat\n",
        "    pass\n",
        "\n",
        "  def broad_cat(self):\n",
        "    inp_feature = self.fe[-1]\n",
        "    inp_feature = torch.broadcast_to(inp_feature, (self.fe.shape[0]-1, self.fe.shape[1]))\n",
        "    self.fe1 = torch.cat((inp_feature, self.fe[:-1]), 1)\n",
        "\n",
        "\n",
        "  def __len__(self):\n",
        "    return self.fe1.shape[0]\n",
        "\n",
        "  def __getitem__(self, idx):\n",
        "    if torch.is_tensor(idx):\n",
        "      idx = idx.tolist()\n",
        "    feat = self.fe1[idx]\n",
        "    return feat.to(torch.float32)\n",
        "\n",
        "\n",
        "class Inference(PrepareDataset):\n",
        "  def __init__(self,model,g, context_embed):\n",
        "    super(PrepareDataset, self).__init__()\n",
        "    self.model = model\n",
        "    self.g = g\n",
        "    self.cemb = context_embed\n",
        "    print('done initialization')\n",
        "\n",
        "  def get_embedding(self):\n",
        "    self.fe = self.model(self.g, self.g.ndata['feature'], torch.tensor(self.cemb))\n",
        "    return self.fe"
      ]
    },
    {
      "cell_type": "markdown",
      "metadata": {
        "id": "f-fkd5Bwd7bZ"
      },
      "source": [
        "### create features"
      ]
    },
    {
      "cell_type": "code",
      "execution_count": null,
      "metadata": {
        "id": "OjrkORuwSvw_"
      },
      "outputs": [],
      "source": [
        "def get_text_token(text):\n",
        "  input_ids = tokenizer.convert_tokens_to_ids(tokenizer.tokenize(text))\n",
        "  return input_ids"
      ]
    },
    {
      "cell_type": "code",
      "execution_count": null,
      "metadata": {
        "id": "ltX2sirST6-v"
      },
      "outputs": [],
      "source": [
        "features = np.zeros((1,300))\n",
        "token_vec = get_text_token(text)\n",
        "embed_len = len(token_vec)\n",
        "if embed_len>280:\n",
        "  embed_len = 280\n",
        "  features[0][:embed_len] = token_vec[:embed_len]\n",
        "else:\n",
        "  features[0][:embed_len] = token_vec\n",
        "embed_len = 280\n",
        "for ele in domain_type:\n",
        "  features[0][embed_len+ele] = 1\n",
        "features = torch.tensor(features)"
      ]
    },
    {
      "cell_type": "code",
      "execution_count": null,
      "metadata": {
        "colab": {
          "base_uri": "https://localhost:8080/"
        },
        "id": "F8n1RnvkZa4l",
        "outputId": "3a0a923c-eec3-4f89-8f7f-cb52de3691ce"
      },
      "outputs": [
        {
          "data": {
            "text/plain": [
              "Graph(num_nodes=8138, num_edges=23925,\n",
              "      ndata_schemes={'feature': Scheme(shape=(300,), dtype=torch.float32)}\n",
              "      edata_schemes={})"
            ]
          },
          "execution_count": 400,
          "metadata": {},
          "output_type": "execute_result"
        }
      ],
      "source": [
        "g.add_nodes(1)\n",
        "g"
      ]
    },
    {
      "cell_type": "code",
      "execution_count": null,
      "metadata": {
        "colab": {
          "base_uri": "https://localhost:8080/"
        },
        "id": "6e0ZduaUXR5r",
        "outputId": "5feb34ab-a23d-494e-ac98-0e0afb93f371"
      },
      "outputs": [
        {
          "name": "stdout",
          "output_type": "stream",
          "text": [
            "torch.Size([8138, 300])\n"
          ]
        }
      ],
      "source": [
        "g_feat = g.ndata['feature']\n",
        "print(g_feat.shape)\n",
        "g_feat[g_feat.shape[0]-1] = features\n",
        "g.ndata['feature'] = g_feat"
      ]
    },
    {
      "cell_type": "markdown",
      "metadata": {
        "id": "sy76v9gbyg-Z"
      },
      "source": [
        "### ML Pred"
      ]
    },
    {
      "cell_type": "code",
      "execution_count": null,
      "metadata": {
        "id": "cs1WjcLBlCjG"
      },
      "outputs": [],
      "source": [
        "mlpred = torch.load('/content/drive/MyDrive/mlpred18.pth')"
      ]
    },
    {
      "cell_type": "code",
      "execution_count": null,
      "metadata": {
        "id": "L4fApS_CTI3X"
      },
      "outputs": [],
      "source": [
        "class InferencePredictor(nn.Module):\n",
        "    def __init__(self, h_feats):\n",
        "        super().__init__()\n",
        "        self.W1 = nn.Linear(h_feats * 2, h_feats)\n",
        "        self.W2 = nn.Linear(h_feats, 32)\n",
        "        self.W3 = nn.Linear(32,16)\n",
        "        self.W4 = nn.Linear(16,8)\n",
        "        self.W5 = nn.Linear(8,1)\n",
        "\n",
        "    def forward(self, h):\n",
        "      x = self.W1(h)\n",
        "      x = F.relu(x)\n",
        "      x = self.W2(x)\n",
        "      x = F.relu(x)\n",
        "      x = F.relu(self.W3(x))\n",
        "      x = F.relu(self.W4(x))\n",
        "      x = self.W5(x)\n",
        "\n",
        "      x = torch.sigmoid(x)\n",
        "      return x"
      ]
    },
    {
      "cell_type": "code",
      "execution_count": null,
      "metadata": {
        "id": "4DNQGjS7T8Ma"
      },
      "outputs": [],
      "source": [
        "inferencepred = InferencePredictor(96)\n",
        "inferencepred.W1.weight = mlpred.W1.weight\n",
        "inferencepred.W2.weight = mlpred.W2.weight\n",
        "inferencepred.W3.weight = mlpred.W3.weight\n",
        "inferencepred.W4.weight = mlpred.W4.weight\n",
        "inferencepred.W5.weight = mlpred.W5.weight"
      ]
    },
    {
      "cell_type": "code",
      "execution_count": null,
      "metadata": {
        "id": "r12d0OOBk_Vw"
      },
      "outputs": [],
      "source": [
        "with open('/content/drive/MyDrive/idx_to_pid.json', 'r') as file:\n",
        "  idx_to_pid = json.load(file)"
      ]
    },
    {
      "cell_type": "code",
      "execution_count": null,
      "metadata": {
        "colab": {
          "base_uri": "https://localhost:8080/",
          "height": 808
        },
        "id": "spSd-iEilHpP",
        "outputId": "3e354502-f867-45cb-83fe-3f79da89343c"
      },
      "outputs": [
        {
          "data": {
            "text/html": [
              "\n",
              "  <div id=\"df-78a8fcad-8198-4452-b29e-9ace691fc07b\">\n",
              "    <div class=\"colab-df-container\">\n",
              "      <div>\n",
              "<style scoped>\n",
              "    .dataframe tbody tr th:only-of-type {\n",
              "        vertical-align: middle;\n",
              "    }\n",
              "\n",
              "    .dataframe tbody tr th {\n",
              "        vertical-align: top;\n",
              "    }\n",
              "\n",
              "    .dataframe thead th {\n",
              "        text-align: right;\n",
              "    }\n",
              "</style>\n",
              "<table border=\"1\" class=\"dataframe\">\n",
              "  <thead>\n",
              "    <tr style=\"text-align: right;\">\n",
              "      <th></th>\n",
              "      <th>Paper_ID</th>\n",
              "      <th>Title</th>\n",
              "      <th>Authors</th>\n",
              "      <th>Abstract</th>\n",
              "      <th>Year</th>\n",
              "      <th>Domains</th>\n",
              "      <th>all_access_id</th>\n",
              "      <th>outbound</th>\n",
              "      <th>inbound</th>\n",
              "      <th>s2</th>\n",
              "      <th>journal</th>\n",
              "      <th>venue</th>\n",
              "      <th>N_Authors</th>\n",
              "      <th>N_Citation</th>\n",
              "      <th>N_Entities</th>\n",
              "    </tr>\n",
              "  </thead>\n",
              "  <tbody>\n",
              "    <tr>\n",
              "      <th>38</th>\n",
              "      <td>199668943</td>\n",
              "      <td>3D Human Pose Estimation under limited supervi...</td>\n",
              "      <td>Rahul  # Mitra  #  #$# Nitesh B. Gundavarapu  ...</td>\n",
              "      <td>Estimating 3D human pose from monocular images...</td>\n",
              "      <td>2019.0</td>\n",
              "      <td>Computer Science</td>\n",
              "      <td>1908.05293 #$#  # #$#  # #$#  # #$#  # #$# 296...</td>\n",
              "      <td>206592419 #$# 2087262 #$# 84843959 #$# 1219233...</td>\n",
              "      <td>209854462</td>\n",
              "      <td>https://api.semanticscholar.org/CorpusID:19966...</td>\n",
              "      <td>ArXiv</td>\n",
              "      <td>ArXiv</td>\n",
              "      <td>7</td>\n",
              "      <td>1</td>\n",
              "      <td>9</td>\n",
              "    </tr>\n",
              "    <tr>\n",
              "      <th>48</th>\n",
              "      <td>2872418</td>\n",
              "      <td>Switch from θ to σ replication of bacteriophag...</td>\n",
              "      <td>Magdalena  # Narajczyk  #  #$# Sylwia  # Barań...</td>\n",
              "      <td>Bacteriophage λ genome is one of the classical...</td>\n",
              "      <td>2007.0</td>\n",
              "      <td>Biology</td>\n",
              "      <td># #$#  # #$#  # #$#  # #$# 10.1007/s00438-007...</td>\n",
              "      <td>42862721 #$# 86557658 #$# 42062280 #$# 1100376...</td>\n",
              "      <td>34020068</td>\n",
              "      <td>https://api.semanticscholar.org/CorpusID:2872418</td>\n",
              "      <td>Molecular Genetics and Genomics</td>\n",
              "      <td>Molecular Genetics and Genomics</td>\n",
              "      <td>5</td>\n",
              "      <td>1</td>\n",
              "      <td>17</td>\n",
              "    </tr>\n",
              "    <tr>\n",
              "      <th>72</th>\n",
              "      <td>116984815</td>\n",
              "      <td>Connections between various subclasses of plan...</td>\n",
              "      <td>Saurabh  # Porwal  #  #$# K.  # Vijaya  #  #$#...</td>\n",
              "      <td>The purpose of the present paper is to establi...</td>\n",
              "      <td>2015.0</td>\n",
              "      <td>Mathematics</td>\n",
              "      <td># #$#  # #$#  # #$#  # #$# 10.1007/s13370-014...</td>\n",
              "      <td>15400210 #$# 123233843 #$# 31058385 #$# 115799...</td>\n",
              "      <td>116984815</td>\n",
              "      <td>https://api.semanticscholar.org/CorpusID:11698...</td>\n",
              "      <td>Afrika Matematika</td>\n",
              "      <td>NaN</td>\n",
              "      <td>4</td>\n",
              "      <td>1</td>\n",
              "      <td>7</td>\n",
              "    </tr>\n",
              "    <tr>\n",
              "      <th>74</th>\n",
              "      <td>164945171</td>\n",
              "      <td>Biological activities of a garlic–Cirsium seti...</td>\n",
              "      <td>Eric Banan‐Mwine Daliri  #  #$# Sun‐Il  # Choi...</td>\n",
              "      <td>In this study, we investigated the antioxidant...</td>\n",
              "      <td>2019.0</td>\n",
              "      <td>Medicine #$# Chemistry</td>\n",
              "      <td># #$#  # #$# PMC6593477 #$# 31289650 #$# 10.1...</td>\n",
              "      <td>83450108 #$# 95654747 #$# 6922513 #$# 20019599...</td>\n",
              "      <td>164945171 #$# 215382559</td>\n",
              "      <td>https://api.semanticscholar.org/CorpusID:16494...</td>\n",
              "      <td>Food science &amp; nutrition</td>\n",
              "      <td>Food science &amp; nutrition</td>\n",
              "      <td>12</td>\n",
              "      <td>2</td>\n",
              "      <td>16</td>\n",
              "    </tr>\n",
              "    <tr>\n",
              "      <th>143</th>\n",
              "      <td>8330818</td>\n",
              "      <td>First DNA Barcode Reference Library for the Id...</td>\n",
              "      <td>Juan  # Díaz  #  #$# Gabriela Vanina Villanova...</td>\n",
              "      <td>Valid fish species identification is essential...</td>\n",
              "      <td>2016.0</td>\n",
              "      <td>Biology #$# Medicine</td>\n",
              "      <td># #$#  # #$# PMC4956254 #$# 27442116 #$# 10.1...</td>\n",
              "      <td>6517747 #$# 3905370 #$# 3894046 #$# 15141910 #...</td>\n",
              "      <td>201756545 #$# 46980399 #$# 25042084 #$# 517195...</td>\n",
              "      <td>https://api.semanticscholar.org/CorpusID:8330818</td>\n",
              "      <td>PLoS ONE</td>\n",
              "      <td>PLoS ONE</td>\n",
              "      <td>8</td>\n",
              "      <td>17</td>\n",
              "      <td>21</td>\n",
              "    </tr>\n",
              "  </tbody>\n",
              "</table>\n",
              "</div>\n",
              "      <button class=\"colab-df-convert\" onclick=\"convertToInteractive('df-78a8fcad-8198-4452-b29e-9ace691fc07b')\"\n",
              "              title=\"Convert this dataframe to an interactive table.\"\n",
              "              style=\"display:none;\">\n",
              "        \n",
              "  <svg xmlns=\"http://www.w3.org/2000/svg\" height=\"24px\"viewBox=\"0 0 24 24\"\n",
              "       width=\"24px\">\n",
              "    <path d=\"M0 0h24v24H0V0z\" fill=\"none\"/>\n",
              "    <path d=\"M18.56 5.44l.94 2.06.94-2.06 2.06-.94-2.06-.94-.94-2.06-.94 2.06-2.06.94zm-11 1L8.5 8.5l.94-2.06 2.06-.94-2.06-.94L8.5 2.5l-.94 2.06-2.06.94zm10 10l.94 2.06.94-2.06 2.06-.94-2.06-.94-.94-2.06-.94 2.06-2.06.94z\"/><path d=\"M17.41 7.96l-1.37-1.37c-.4-.4-.92-.59-1.43-.59-.52 0-1.04.2-1.43.59L10.3 9.45l-7.72 7.72c-.78.78-.78 2.05 0 2.83L4 21.41c.39.39.9.59 1.41.59.51 0 1.02-.2 1.41-.59l7.78-7.78 2.81-2.81c.8-.78.8-2.07 0-2.86zM5.41 20L4 18.59l7.72-7.72 1.47 1.35L5.41 20z\"/>\n",
              "  </svg>\n",
              "      </button>\n",
              "      \n",
              "  <style>\n",
              "    .colab-df-container {\n",
              "      display:flex;\n",
              "      flex-wrap:wrap;\n",
              "      gap: 12px;\n",
              "    }\n",
              "\n",
              "    .colab-df-convert {\n",
              "      background-color: #E8F0FE;\n",
              "      border: none;\n",
              "      border-radius: 50%;\n",
              "      cursor: pointer;\n",
              "      display: none;\n",
              "      fill: #1967D2;\n",
              "      height: 32px;\n",
              "      padding: 0 0 0 0;\n",
              "      width: 32px;\n",
              "    }\n",
              "\n",
              "    .colab-df-convert:hover {\n",
              "      background-color: #E2EBFA;\n",
              "      box-shadow: 0px 1px 2px rgba(60, 64, 67, 0.3), 0px 1px 3px 1px rgba(60, 64, 67, 0.15);\n",
              "      fill: #174EA6;\n",
              "    }\n",
              "\n",
              "    [theme=dark] .colab-df-convert {\n",
              "      background-color: #3B4455;\n",
              "      fill: #D2E3FC;\n",
              "    }\n",
              "\n",
              "    [theme=dark] .colab-df-convert:hover {\n",
              "      background-color: #434B5C;\n",
              "      box-shadow: 0px 1px 3px 1px rgba(0, 0, 0, 0.15);\n",
              "      filter: drop-shadow(0px 1px 2px rgba(0, 0, 0, 0.3));\n",
              "      fill: #FFFFFF;\n",
              "    }\n",
              "  </style>\n",
              "\n",
              "      <script>\n",
              "        const buttonEl =\n",
              "          document.querySelector('#df-78a8fcad-8198-4452-b29e-9ace691fc07b button.colab-df-convert');\n",
              "        buttonEl.style.display =\n",
              "          google.colab.kernel.accessAllowed ? 'block' : 'none';\n",
              "\n",
              "        async function convertToInteractive(key) {\n",
              "          const element = document.querySelector('#df-78a8fcad-8198-4452-b29e-9ace691fc07b');\n",
              "          const dataTable =\n",
              "            await google.colab.kernel.invokeFunction('convertToInteractive',\n",
              "                                                     [key], {});\n",
              "          if (!dataTable) return;\n",
              "\n",
              "          const docLinkHtml = 'Like what you see? Visit the ' +\n",
              "            '<a target=\"_blank\" href=https://colab.research.google.com/notebooks/data_table.ipynb>data table notebook</a>'\n",
              "            + ' to learn more about interactive tables.';\n",
              "          element.innerHTML = '';\n",
              "          dataTable['output_type'] = 'display_data';\n",
              "          await google.colab.output.renderOutput(dataTable, element);\n",
              "          const docLink = document.createElement('div');\n",
              "          docLink.innerHTML = docLinkHtml;\n",
              "          element.appendChild(docLink);\n",
              "        }\n",
              "      </script>\n",
              "    </div>\n",
              "  </div>\n",
              "  "
            ],
            "text/plain": [
              "      Paper_ID                                              Title  \\\n",
              "38   199668943  3D Human Pose Estimation under limited supervi...   \n",
              "48     2872418  Switch from θ to σ replication of bacteriophag...   \n",
              "72   116984815  Connections between various subclasses of plan...   \n",
              "74   164945171  Biological activities of a garlic–Cirsium seti...   \n",
              "143    8330818  First DNA Barcode Reference Library for the Id...   \n",
              "\n",
              "                                               Authors  \\\n",
              "38   Rahul  # Mitra  #  #$# Nitesh B. Gundavarapu  ...   \n",
              "48   Magdalena  # Narajczyk  #  #$# Sylwia  # Barań...   \n",
              "72   Saurabh  # Porwal  #  #$# K.  # Vijaya  #  #$#...   \n",
              "74   Eric Banan‐Mwine Daliri  #  #$# Sun‐Il  # Choi...   \n",
              "143  Juan  # Díaz  #  #$# Gabriela Vanina Villanova...   \n",
              "\n",
              "                                              Abstract    Year  \\\n",
              "38   Estimating 3D human pose from monocular images...  2019.0   \n",
              "48   Bacteriophage λ genome is one of the classical...  2007.0   \n",
              "72   The purpose of the present paper is to establi...  2015.0   \n",
              "74   In this study, we investigated the antioxidant...  2019.0   \n",
              "143  Valid fish species identification is essential...  2016.0   \n",
              "\n",
              "                    Domains  \\\n",
              "38         Computer Science   \n",
              "48                  Biology   \n",
              "72              Mathematics   \n",
              "74   Medicine #$# Chemistry   \n",
              "143    Biology #$# Medicine   \n",
              "\n",
              "                                         all_access_id  \\\n",
              "38   1908.05293 #$#  # #$#  # #$#  # #$#  # #$# 296...   \n",
              "48    # #$#  # #$#  # #$#  # #$# 10.1007/s00438-007...   \n",
              "72    # #$#  # #$#  # #$#  # #$# 10.1007/s13370-014...   \n",
              "74    # #$#  # #$# PMC6593477 #$# 31289650 #$# 10.1...   \n",
              "143   # #$#  # #$# PMC4956254 #$# 27442116 #$# 10.1...   \n",
              "\n",
              "                                              outbound  \\\n",
              "38   206592419 #$# 2087262 #$# 84843959 #$# 1219233...   \n",
              "48   42862721 #$# 86557658 #$# 42062280 #$# 1100376...   \n",
              "72   15400210 #$# 123233843 #$# 31058385 #$# 115799...   \n",
              "74   83450108 #$# 95654747 #$# 6922513 #$# 20019599...   \n",
              "143  6517747 #$# 3905370 #$# 3894046 #$# 15141910 #...   \n",
              "\n",
              "                                               inbound  \\\n",
              "38                                           209854462   \n",
              "48                                            34020068   \n",
              "72                                           116984815   \n",
              "74                             164945171 #$# 215382559   \n",
              "143  201756545 #$# 46980399 #$# 25042084 #$# 517195...   \n",
              "\n",
              "                                                    s2  \\\n",
              "38   https://api.semanticscholar.org/CorpusID:19966...   \n",
              "48    https://api.semanticscholar.org/CorpusID:2872418   \n",
              "72   https://api.semanticscholar.org/CorpusID:11698...   \n",
              "74   https://api.semanticscholar.org/CorpusID:16494...   \n",
              "143   https://api.semanticscholar.org/CorpusID:8330818   \n",
              "\n",
              "                             journal                            venue  \\\n",
              "38                             ArXiv                            ArXiv   \n",
              "48   Molecular Genetics and Genomics  Molecular Genetics and Genomics   \n",
              "72                 Afrika Matematika                              NaN   \n",
              "74          Food science & nutrition         Food science & nutrition   \n",
              "143                         PLoS ONE                         PLoS ONE   \n",
              "\n",
              "     N_Authors  N_Citation  N_Entities  \n",
              "38           7           1           9  \n",
              "48           5           1          17  \n",
              "72           4           1           7  \n",
              "74          12           2          16  \n",
              "143          8          17          21  "
            ]
          },
          "execution_count": 406,
          "metadata": {},
          "output_type": "execute_result"
        }
      ],
      "source": [
        "df = pd.read_csv('/content/drive/MyDrive/FilteredInboundIDs.csv', index_col = 0)\n",
        "df.head()"
      ]
    },
    {
      "cell_type": "code",
      "execution_count": null,
      "metadata": {
        "colab": {
          "base_uri": "https://localhost:8080/"
        },
        "id": "ZjMEPrlueeU9",
        "outputId": "7ccd23c8-bf34-4dd0-b292-07e5df2dc51a"
      },
      "outputs": [
        {
          "name": "stdout",
          "output_type": "stream",
          "text": [
            "done initialization\n"
          ]
        },
        {
          "name": "stderr",
          "output_type": "stream",
          "text": [
            "<ipython-input-397-645d62398af6>:33: UserWarning: To copy construct from a tensor, it is recommended to use sourceTensor.clone().detach() or sourceTensor.clone().detach().requires_grad_(True), rather than torch.tensor(sourceTensor).\n",
            "  self.fe = self.model(self.g, self.g.ndata['feature'], torch.tensor(self.cemb))\n",
            "/usr/local/lib/python3.9/dist-packages/dgl/backend/pytorch/tensor.py:445: UserWarning: TypedStorage is deprecated. It will be removed in the future and UntypedStorage will be the only storage class. This should only matter to you if you are using storages directly.  To access UntypedStorage directly, use tensor.untyped_storage() instead of tensor.storage()\n",
            "  assert input.numel() == input.storage().size(), (\n"
          ]
        }
      ],
      "source": [
        "inference = Inference(model.float(), g, context_embeddings2.to(torch.float32))\n",
        "inference.get_embedding()\n",
        "inference.broad_cat()\n",
        "output = mlpred(g, inference.fe.to(torch.float32))\n",
        "loader = torch.utils.data.DataLoader(inference, 64, shuffle = False)\n",
        "scores = inferencepred(inference.fe1.to(torch.float32)).detach().squeeze(1).numpy()\n",
        "# predictions = np.where(scores>0.4, 1, 0)\n",
        "# for features in tqdm(loader):\n",
        "#   with torch.no_grad():\n",
        "#     output = inferencepred(features).detach().squeeze(1)\n",
        "#     scores.extend(output)"
      ]
    },
    {
      "cell_type": "code",
      "execution_count": null,
      "metadata": {
        "colab": {
          "base_uri": "https://localhost:8080/"
        },
        "id": "VnBd--oVhjgj",
        "outputId": "8659582f-6d9e-4693-9dd1-31c83d706ed2"
      },
      "outputs": [
        {
          "name": "stdout",
          "output_type": "stream",
          "text": [
            "[0.9999993  0.9999993  0.18289112 1.         0.9999993  1.\n",
            " 1.         1.         0.9999993  0.9999993 ]\n",
            "8072.824934366014\n"
          ]
        }
      ],
      "source": [
        "print(scores[:10])\n",
        "print(sum(scores))"
      ]
    },
    {
      "cell_type": "code",
      "execution_count": null,
      "metadata": {
        "colab": {
          "base_uri": "https://localhost:8080/"
        },
        "id": "sPUoEl1BH6M8",
        "outputId": "08cb327f-f38f-4904-e881-c2a783c9743b"
      },
      "outputs": [
        {
          "name": "stdout",
          "output_type": "stream",
          "text": [
            "(1.0, 1.0, 1.0, 1.0, 1.0, 1.0, 1.0, 1.0, 1.0, 1.0) (3, 5, 6, 7, 11, 12, 13, 17, 18, 19)\n"
          ]
        }
      ],
      "source": [
        "scores_idx = [(scores[i],i) for i in range(len(scores))]\n",
        "scores_idx = sorted(scores_idx, key = lambda x: x[0], reverse = True)\n",
        "scores, indexs = zip(*scores_idx)\n",
        "print(scores[:10], indexs[:10])"
      ]
    },
    {
      "cell_type": "code",
      "execution_count": null,
      "metadata": {
        "colab": {
          "base_uri": "https://localhost:8080/"
        },
        "id": "MCXYH99cFhZz",
        "outputId": "8cbbc3ef-291b-4ead-cf13-36348e291acf"
      },
      "outputs": [
        {
          "data": {
            "text/plain": [
              "8127.5420139429625"
            ]
          },
          "execution_count": 384,
          "metadata": {},
          "output_type": "execute_result"
        }
      ],
      "source": [
        "sum(scores)"
      ]
    },
    {
      "cell_type": "code",
      "execution_count": null,
      "metadata": {
        "id": "pzrfqzK3IhO1"
      },
      "outputs": [],
      "source": [
        "for i in indexs:\n",
        "  pid = idx_to_pid[str(i)]\n",
        "  paper = df[df['Paper_ID']==int(pid)]\n",
        "  title = paper['Title'].values\n",
        "  domain = paper['Domains'].values\n",
        "  if 'Biology' in domain:\n",
        "    print(pid, title)\n",
        "    print(domain)\n",
        "    print('------------------------------------------------------------------')"
      ]
    },
    {
      "cell_type": "markdown",
      "metadata": {
        "id": "cNixuosVykIh"
      },
      "source": [
        "### Dot Pred"
      ]
    },
    {
      "cell_type": "code",
      "execution_count": null,
      "metadata": {
        "id": "vORVxObf4Sf1"
      },
      "outputs": [],
      "source": [
        "with open('/content/drive/MyDrive/idx_to_pid.json', 'r') as file:\n",
        "  idx_to_pid = json.load(file)"
      ]
    },
    {
      "cell_type": "code",
      "execution_count": null,
      "metadata": {
        "colab": {
          "base_uri": "https://localhost:8080/",
          "height": 808
        },
        "id": "Dw46aLGI4Tfd",
        "outputId": "1ed5d067-343f-473d-d83d-e62540270a3e"
      },
      "outputs": [
        {
          "data": {
            "text/html": [
              "\n",
              "  <div id=\"df-0ef45f82-fb2b-4bc2-b158-e7b6414ff6a0\">\n",
              "    <div class=\"colab-df-container\">\n",
              "      <div>\n",
              "<style scoped>\n",
              "    .dataframe tbody tr th:only-of-type {\n",
              "        vertical-align: middle;\n",
              "    }\n",
              "\n",
              "    .dataframe tbody tr th {\n",
              "        vertical-align: top;\n",
              "    }\n",
              "\n",
              "    .dataframe thead th {\n",
              "        text-align: right;\n",
              "    }\n",
              "</style>\n",
              "<table border=\"1\" class=\"dataframe\">\n",
              "  <thead>\n",
              "    <tr style=\"text-align: right;\">\n",
              "      <th></th>\n",
              "      <th>Paper_ID</th>\n",
              "      <th>Title</th>\n",
              "      <th>Authors</th>\n",
              "      <th>Abstract</th>\n",
              "      <th>Year</th>\n",
              "      <th>Domains</th>\n",
              "      <th>all_access_id</th>\n",
              "      <th>outbound</th>\n",
              "      <th>inbound</th>\n",
              "      <th>s2</th>\n",
              "      <th>journal</th>\n",
              "      <th>venue</th>\n",
              "      <th>N_Authors</th>\n",
              "      <th>N_Citation</th>\n",
              "      <th>N_Entities</th>\n",
              "    </tr>\n",
              "  </thead>\n",
              "  <tbody>\n",
              "    <tr>\n",
              "      <th>38</th>\n",
              "      <td>199668943</td>\n",
              "      <td>3D Human Pose Estimation under limited supervi...</td>\n",
              "      <td>Rahul  # Mitra  #  #$# Nitesh B. Gundavarapu  ...</td>\n",
              "      <td>Estimating 3D human pose from monocular images...</td>\n",
              "      <td>2019.0</td>\n",
              "      <td>Computer Science</td>\n",
              "      <td>1908.05293 #$#  # #$#  # #$#  # #$#  # #$# 296...</td>\n",
              "      <td>206592419 #$# 2087262 #$# 84843959 #$# 1219233...</td>\n",
              "      <td>209854462</td>\n",
              "      <td>https://api.semanticscholar.org/CorpusID:19966...</td>\n",
              "      <td>ArXiv</td>\n",
              "      <td>ArXiv</td>\n",
              "      <td>7</td>\n",
              "      <td>1</td>\n",
              "      <td>9</td>\n",
              "    </tr>\n",
              "    <tr>\n",
              "      <th>48</th>\n",
              "      <td>2872418</td>\n",
              "      <td>Switch from θ to σ replication of bacteriophag...</td>\n",
              "      <td>Magdalena  # Narajczyk  #  #$# Sylwia  # Barań...</td>\n",
              "      <td>Bacteriophage λ genome is one of the classical...</td>\n",
              "      <td>2007.0</td>\n",
              "      <td>Biology</td>\n",
              "      <td># #$#  # #$#  # #$#  # #$# 10.1007/s00438-007...</td>\n",
              "      <td>42862721 #$# 86557658 #$# 42062280 #$# 1100376...</td>\n",
              "      <td>34020068</td>\n",
              "      <td>https://api.semanticscholar.org/CorpusID:2872418</td>\n",
              "      <td>Molecular Genetics and Genomics</td>\n",
              "      <td>Molecular Genetics and Genomics</td>\n",
              "      <td>5</td>\n",
              "      <td>1</td>\n",
              "      <td>17</td>\n",
              "    </tr>\n",
              "    <tr>\n",
              "      <th>72</th>\n",
              "      <td>116984815</td>\n",
              "      <td>Connections between various subclasses of plan...</td>\n",
              "      <td>Saurabh  # Porwal  #  #$# K.  # Vijaya  #  #$#...</td>\n",
              "      <td>The purpose of the present paper is to establi...</td>\n",
              "      <td>2015.0</td>\n",
              "      <td>Mathematics</td>\n",
              "      <td># #$#  # #$#  # #$#  # #$# 10.1007/s13370-014...</td>\n",
              "      <td>15400210 #$# 123233843 #$# 31058385 #$# 115799...</td>\n",
              "      <td>116984815</td>\n",
              "      <td>https://api.semanticscholar.org/CorpusID:11698...</td>\n",
              "      <td>Afrika Matematika</td>\n",
              "      <td>NaN</td>\n",
              "      <td>4</td>\n",
              "      <td>1</td>\n",
              "      <td>7</td>\n",
              "    </tr>\n",
              "    <tr>\n",
              "      <th>74</th>\n",
              "      <td>164945171</td>\n",
              "      <td>Biological activities of a garlic–Cirsium seti...</td>\n",
              "      <td>Eric Banan‐Mwine Daliri  #  #$# Sun‐Il  # Choi...</td>\n",
              "      <td>In this study, we investigated the antioxidant...</td>\n",
              "      <td>2019.0</td>\n",
              "      <td>Medicine #$# Chemistry</td>\n",
              "      <td># #$#  # #$# PMC6593477 #$# 31289650 #$# 10.1...</td>\n",
              "      <td>83450108 #$# 95654747 #$# 6922513 #$# 20019599...</td>\n",
              "      <td>164945171 #$# 215382559</td>\n",
              "      <td>https://api.semanticscholar.org/CorpusID:16494...</td>\n",
              "      <td>Food science &amp; nutrition</td>\n",
              "      <td>Food science &amp; nutrition</td>\n",
              "      <td>12</td>\n",
              "      <td>2</td>\n",
              "      <td>16</td>\n",
              "    </tr>\n",
              "    <tr>\n",
              "      <th>143</th>\n",
              "      <td>8330818</td>\n",
              "      <td>First DNA Barcode Reference Library for the Id...</td>\n",
              "      <td>Juan  # Díaz  #  #$# Gabriela Vanina Villanova...</td>\n",
              "      <td>Valid fish species identification is essential...</td>\n",
              "      <td>2016.0</td>\n",
              "      <td>Biology #$# Medicine</td>\n",
              "      <td># #$#  # #$# PMC4956254 #$# 27442116 #$# 10.1...</td>\n",
              "      <td>6517747 #$# 3905370 #$# 3894046 #$# 15141910 #...</td>\n",
              "      <td>201756545 #$# 46980399 #$# 25042084 #$# 517195...</td>\n",
              "      <td>https://api.semanticscholar.org/CorpusID:8330818</td>\n",
              "      <td>PLoS ONE</td>\n",
              "      <td>PLoS ONE</td>\n",
              "      <td>8</td>\n",
              "      <td>17</td>\n",
              "      <td>21</td>\n",
              "    </tr>\n",
              "  </tbody>\n",
              "</table>\n",
              "</div>\n",
              "      <button class=\"colab-df-convert\" onclick=\"convertToInteractive('df-0ef45f82-fb2b-4bc2-b158-e7b6414ff6a0')\"\n",
              "              title=\"Convert this dataframe to an interactive table.\"\n",
              "              style=\"display:none;\">\n",
              "        \n",
              "  <svg xmlns=\"http://www.w3.org/2000/svg\" height=\"24px\"viewBox=\"0 0 24 24\"\n",
              "       width=\"24px\">\n",
              "    <path d=\"M0 0h24v24H0V0z\" fill=\"none\"/>\n",
              "    <path d=\"M18.56 5.44l.94 2.06.94-2.06 2.06-.94-2.06-.94-.94-2.06-.94 2.06-2.06.94zm-11 1L8.5 8.5l.94-2.06 2.06-.94-2.06-.94L8.5 2.5l-.94 2.06-2.06.94zm10 10l.94 2.06.94-2.06 2.06-.94-2.06-.94-.94-2.06-.94 2.06-2.06.94z\"/><path d=\"M17.41 7.96l-1.37-1.37c-.4-.4-.92-.59-1.43-.59-.52 0-1.04.2-1.43.59L10.3 9.45l-7.72 7.72c-.78.78-.78 2.05 0 2.83L4 21.41c.39.39.9.59 1.41.59.51 0 1.02-.2 1.41-.59l7.78-7.78 2.81-2.81c.8-.78.8-2.07 0-2.86zM5.41 20L4 18.59l7.72-7.72 1.47 1.35L5.41 20z\"/>\n",
              "  </svg>\n",
              "      </button>\n",
              "      \n",
              "  <style>\n",
              "    .colab-df-container {\n",
              "      display:flex;\n",
              "      flex-wrap:wrap;\n",
              "      gap: 12px;\n",
              "    }\n",
              "\n",
              "    .colab-df-convert {\n",
              "      background-color: #E8F0FE;\n",
              "      border: none;\n",
              "      border-radius: 50%;\n",
              "      cursor: pointer;\n",
              "      display: none;\n",
              "      fill: #1967D2;\n",
              "      height: 32px;\n",
              "      padding: 0 0 0 0;\n",
              "      width: 32px;\n",
              "    }\n",
              "\n",
              "    .colab-df-convert:hover {\n",
              "      background-color: #E2EBFA;\n",
              "      box-shadow: 0px 1px 2px rgba(60, 64, 67, 0.3), 0px 1px 3px 1px rgba(60, 64, 67, 0.15);\n",
              "      fill: #174EA6;\n",
              "    }\n",
              "\n",
              "    [theme=dark] .colab-df-convert {\n",
              "      background-color: #3B4455;\n",
              "      fill: #D2E3FC;\n",
              "    }\n",
              "\n",
              "    [theme=dark] .colab-df-convert:hover {\n",
              "      background-color: #434B5C;\n",
              "      box-shadow: 0px 1px 3px 1px rgba(0, 0, 0, 0.15);\n",
              "      filter: drop-shadow(0px 1px 2px rgba(0, 0, 0, 0.3));\n",
              "      fill: #FFFFFF;\n",
              "    }\n",
              "  </style>\n",
              "\n",
              "      <script>\n",
              "        const buttonEl =\n",
              "          document.querySelector('#df-0ef45f82-fb2b-4bc2-b158-e7b6414ff6a0 button.colab-df-convert');\n",
              "        buttonEl.style.display =\n",
              "          google.colab.kernel.accessAllowed ? 'block' : 'none';\n",
              "\n",
              "        async function convertToInteractive(key) {\n",
              "          const element = document.querySelector('#df-0ef45f82-fb2b-4bc2-b158-e7b6414ff6a0');\n",
              "          const dataTable =\n",
              "            await google.colab.kernel.invokeFunction('convertToInteractive',\n",
              "                                                     [key], {});\n",
              "          if (!dataTable) return;\n",
              "\n",
              "          const docLinkHtml = 'Like what you see? Visit the ' +\n",
              "            '<a target=\"_blank\" href=https://colab.research.google.com/notebooks/data_table.ipynb>data table notebook</a>'\n",
              "            + ' to learn more about interactive tables.';\n",
              "          element.innerHTML = '';\n",
              "          dataTable['output_type'] = 'display_data';\n",
              "          await google.colab.output.renderOutput(dataTable, element);\n",
              "          const docLink = document.createElement('div');\n",
              "          docLink.innerHTML = docLinkHtml;\n",
              "          element.appendChild(docLink);\n",
              "        }\n",
              "      </script>\n",
              "    </div>\n",
              "  </div>\n",
              "  "
            ],
            "text/plain": [
              "      Paper_ID                                              Title  \\\n",
              "38   199668943  3D Human Pose Estimation under limited supervi...   \n",
              "48     2872418  Switch from θ to σ replication of bacteriophag...   \n",
              "72   116984815  Connections between various subclasses of plan...   \n",
              "74   164945171  Biological activities of a garlic–Cirsium seti...   \n",
              "143    8330818  First DNA Barcode Reference Library for the Id...   \n",
              "\n",
              "                                               Authors  \\\n",
              "38   Rahul  # Mitra  #  #$# Nitesh B. Gundavarapu  ...   \n",
              "48   Magdalena  # Narajczyk  #  #$# Sylwia  # Barań...   \n",
              "72   Saurabh  # Porwal  #  #$# K.  # Vijaya  #  #$#...   \n",
              "74   Eric Banan‐Mwine Daliri  #  #$# Sun‐Il  # Choi...   \n",
              "143  Juan  # Díaz  #  #$# Gabriela Vanina Villanova...   \n",
              "\n",
              "                                              Abstract    Year  \\\n",
              "38   Estimating 3D human pose from monocular images...  2019.0   \n",
              "48   Bacteriophage λ genome is one of the classical...  2007.0   \n",
              "72   The purpose of the present paper is to establi...  2015.0   \n",
              "74   In this study, we investigated the antioxidant...  2019.0   \n",
              "143  Valid fish species identification is essential...  2016.0   \n",
              "\n",
              "                    Domains  \\\n",
              "38         Computer Science   \n",
              "48                  Biology   \n",
              "72              Mathematics   \n",
              "74   Medicine #$# Chemistry   \n",
              "143    Biology #$# Medicine   \n",
              "\n",
              "                                         all_access_id  \\\n",
              "38   1908.05293 #$#  # #$#  # #$#  # #$#  # #$# 296...   \n",
              "48    # #$#  # #$#  # #$#  # #$# 10.1007/s00438-007...   \n",
              "72    # #$#  # #$#  # #$#  # #$# 10.1007/s13370-014...   \n",
              "74    # #$#  # #$# PMC6593477 #$# 31289650 #$# 10.1...   \n",
              "143   # #$#  # #$# PMC4956254 #$# 27442116 #$# 10.1...   \n",
              "\n",
              "                                              outbound  \\\n",
              "38   206592419 #$# 2087262 #$# 84843959 #$# 1219233...   \n",
              "48   42862721 #$# 86557658 #$# 42062280 #$# 1100376...   \n",
              "72   15400210 #$# 123233843 #$# 31058385 #$# 115799...   \n",
              "74   83450108 #$# 95654747 #$# 6922513 #$# 20019599...   \n",
              "143  6517747 #$# 3905370 #$# 3894046 #$# 15141910 #...   \n",
              "\n",
              "                                               inbound  \\\n",
              "38                                           209854462   \n",
              "48                                            34020068   \n",
              "72                                           116984815   \n",
              "74                             164945171 #$# 215382559   \n",
              "143  201756545 #$# 46980399 #$# 25042084 #$# 517195...   \n",
              "\n",
              "                                                    s2  \\\n",
              "38   https://api.semanticscholar.org/CorpusID:19966...   \n",
              "48    https://api.semanticscholar.org/CorpusID:2872418   \n",
              "72   https://api.semanticscholar.org/CorpusID:11698...   \n",
              "74   https://api.semanticscholar.org/CorpusID:16494...   \n",
              "143   https://api.semanticscholar.org/CorpusID:8330818   \n",
              "\n",
              "                             journal                            venue  \\\n",
              "38                             ArXiv                            ArXiv   \n",
              "48   Molecular Genetics and Genomics  Molecular Genetics and Genomics   \n",
              "72                 Afrika Matematika                              NaN   \n",
              "74          Food science & nutrition         Food science & nutrition   \n",
              "143                         PLoS ONE                         PLoS ONE   \n",
              "\n",
              "     N_Authors  N_Citation  N_Entities  \n",
              "38           7           1           9  \n",
              "48           5           1          17  \n",
              "72           4           1           7  \n",
              "74          12           2          16  \n",
              "143          8          17          21  "
            ]
          },
          "execution_count": 414,
          "metadata": {},
          "output_type": "execute_result"
        }
      ],
      "source": [
        "df = pd.read_csv('/content/drive/MyDrive/FilteredInboundIDs.csv', index_col = 0)\n",
        "df.head()"
      ]
    },
    {
      "cell_type": "code",
      "execution_count": null,
      "metadata": {
        "colab": {
          "base_uri": "https://localhost:8080/"
        },
        "id": "evS94F8ayfOS",
        "outputId": "d037b4b8-809d-41f8-ea6e-4a4e77393d6f"
      },
      "outputs": [
        {
          "name": "stdout",
          "output_type": "stream",
          "text": [
            "done initialization\n",
            "19\n"
          ]
        },
        {
          "name": "stderr",
          "output_type": "stream",
          "text": [
            "<ipython-input-397-645d62398af6>:33: UserWarning: To copy construct from a tensor, it is recommended to use sourceTensor.clone().detach() or sourceTensor.clone().detach().requires_grad_(True), rather than torch.tensor(sourceTensor).\n",
            "  self.fe = self.model(self.g, self.g.ndata['feature'], torch.tensor(self.cemb))\n",
            "/usr/local/lib/python3.9/dist-packages/dgl/backend/pytorch/tensor.py:445: UserWarning: TypedStorage is deprecated. It will be removed in the future and UntypedStorage will be the only storage class. This should only matter to you if you are using storages directly.  To access UntypedStorage directly, use tensor.untyped_storage() instead of tensor.storage()\n",
            "  assert input.numel() == input.storage().size(), (\n"
          ]
        }
      ],
      "source": [
        "inference = Inference(model, g, context_embeddings2.to(torch.float32))\n",
        "embeddings = inference.get_embedding()\n",
        "cos = torch.nn.CosineSimilarity(dim = 1, eps = 1e-6)\n",
        "scores = cos(embeddings[-1], embeddings)\n",
        "threshold = 0.8\n",
        "predictions = np.array(scores>=threshold, dtype = int)\n",
        "print(sum(predictions))"
      ]
    },
    {
      "cell_type": "code",
      "execution_count": null,
      "metadata": {
        "id": "BAeUBNB2MsuS"
      },
      "outputs": [],
      "source": [
        "scores = scores.tolist()"
      ]
    },
    {
      "cell_type": "code",
      "execution_count": null,
      "metadata": {
        "colab": {
          "base_uri": "https://localhost:8080/"
        },
        "id": "JJceB4KTsFb_",
        "outputId": "07cc3392-6a10-4640-bedd-da7388e270b1"
      },
      "outputs": [
        {
          "name": "stdout",
          "output_type": "stream",
          "text": [
            "(1.0, 0.8531695604324341, 0.8469573855400085, 0.8456280827522278, 0.8399546146392822, 0.839648425579071, 0.8363012075424194, 0.8363012075424194, 0.8363012075424194, 0.8363012075424194) (8137, 7167, 6741, 2403, 705, 3082, 0, 1, 4, 8)\n"
          ]
        }
      ],
      "source": [
        "scores_idx = [(scores[i],i) for i in range(len(scores))]\n",
        "scores_idx = sorted(scores_idx, key = lambda x: x[0], reverse = True)\n",
        "scores, indexs = zip(*scores_idx)\n",
        "# scores, indexs = zip(*(sorted(scores_idx, key = lambda x: x[0], reverse = True)))\n",
        "print(scores[:10], indexs[:10])"
      ]
    },
    {
      "cell_type": "code",
      "execution_count": null,
      "metadata": {
        "id": "SQMi_6Rg6KDA"
      },
      "outputs": [],
      "source": [
        "scores = list(scores)\n",
        "indexs = list(indexs)"
      ]
    },
    {
      "cell_type": "code",
      "execution_count": null,
      "metadata": {
        "colab": {
          "base_uri": "https://localhost:8080/"
        },
        "id": "YALdIdYJzEpS",
        "outputId": "1911aecc-588e-4aca-9796-c45bdfcae74c"
      },
      "outputs": [
        {
          "name": "stdout",
          "output_type": "stream",
          "text": [
            "27635775 ['Comparative roles of phospholipase A2 isoforms in cardiovascular pathophysiology']\n",
            "['Medicine']\n",
            "------------------------------------------------------------------\n",
            "2872418 ['Switch from θ to σ replication of bacteriophage λ DNA: factors involved in the process and a model for its regulation']\n",
            "['Biology']\n",
            "------------------------------------------------------------------\n",
            "10706468 ['Pitfalls in diagnosis and management of hypersensitivity pneumonitis']\n",
            "['Medicine']\n",
            "------------------------------------------------------------------\n",
            "26356646 ['The Endocrine Response to Stress - A Comparative View']\n",
            "['Biology']\n",
            "------------------------------------------------------------------\n",
            "19482258 ['Brown adipose tissue genes in pericardial adipose tissue of newborn sheep are downregulated by maternal nutrient restriction in late gestation']\n",
            "['Medicine']\n",
            "------------------------------------------------------------------\n",
            "15389003 ['Learning From Mistakes: The Case of Clinical Electrophysiology: A Perspective on Evidence-Based Rhythmology']\n",
            "['Medicine']\n",
            "------------------------------------------------------------------\n",
            "11076945 ['Cardiotoxic Electrophysiological Effects of the Herbicide Roundup® in Rat and Rabbit Ventricular Myocardium In Vitro']\n",
            "['Medicine']\n",
            "------------------------------------------------------------------\n",
            "32695282 ['Thromboprophylaxis in Extracorporeal Circuits: Current Pharmacological Strategies and Future Directions']\n",
            "['Medicine']\n",
            "------------------------------------------------------------------\n",
            "9621248 ['Zygomycosis and diabetes mellitus']\n",
            "['Medicine']\n",
            "------------------------------------------------------------------\n",
            "8381879 ['On the Fate of Extracellular Hemoglobin and Heme in Brain']\n",
            "['Medicine']\n",
            "------------------------------------------------------------------\n",
            "86108623 ['Comparative ecology of desert small mammals: a selective review of the past 30 years']\n",
            "['Biology']\n",
            "------------------------------------------------------------------\n"
          ]
        }
      ],
      "source": [
        "count = 0\n",
        "for i in indexs[1:]:\n",
        "  # if scores[i]==1:\n",
        "  pid = idx_to_pid[str(i)]\n",
        "  paper = df[df['Paper_ID']==int(pid)]\n",
        "  title = paper['Title'].values\n",
        "  domain = paper['Domains'].values\n",
        "  if 'Biology' in domain or 'Medicine' in domain:\n",
        "    print(pid, title)\n",
        "    print(domain)\n",
        "    print('------------------------------------------------------------------')\n",
        "    if count ==10:\n",
        "      break\n",
        "    count+=1"
      ]
    },
    {
      "cell_type": "code",
      "execution_count": null,
      "metadata": {
        "colab": {
          "base_uri": "https://localhost:8080/",
          "height": 36
        },
        "id": "7JaruW3jw_Jl",
        "outputId": "b5e40bab-5ef7-4704-9e6e-3be0f0997fe2"
      },
      "outputs": [
        {
          "data": {
            "application/vnd.google.colaboratory.intrinsic+json": {
              "type": "string"
            },
            "text/plain": [
              "'91378221'"
            ]
          },
          "execution_count": 175,
          "metadata": {},
          "output_type": "execute_result"
        }
      ],
      "source": [
        "idx_to_pid['38']"
      ]
    },
    {
      "cell_type": "code",
      "source": [],
      "metadata": {
        "id": "PrykXoY6zCOx"
      },
      "execution_count": null,
      "outputs": []
    },
    {
      "cell_type": "code",
      "execution_count": null,
      "metadata": {
        "id": "hHKT3TbYDzfv"
      },
      "outputs": [],
      "source": [
        "title = 'A Multi-Level Simultaneous Minimization Scheme Applied to Jerk-Bounded Redundant Robot Manipulators'\n",
        "abstract = 'In this paper, a multi-level simultaneous minimization (MLSM) scheme is proposed and investigated to remedy the joint-angle drift (JAD) and non-zero final joint-velocity (NZFJV) phenomena as well as to prevent the occurrence of high joint variables of redundant robot manipulators. The proposed scheme is novelly designed within multiple levels and finally resolved at the jerk level for a jerk-bounded robot motion, which is desirable for engineering applications. More importantly, the correctness of the proposed MLSM scheme is guaranteed by the corresponding theorems. Then, the MLSM scheme is formulated as a dynamical quadratic program (DQP) that is solved by a piecewise linear projection equation neural network (PLPENN). Furthermore, the path-tracking simulations based on a 6-degrees-of-freedom (DOF) robot manipulator substantiate the effectiveness and advantage of the MLSM scheme. Comparisons between the MLSM scheme and the minimum jerk norm (MJN) scheme illustrate that the proposed scheme is superior and more applicable. Finally, the additional validation on the KUKA robot in the virtual robot experimentation platform (V-REP) is provided for reproducible engineering applications by researchers and practitioners. Note to Practitioners —This paper is motivated by the inverse kinematics problem of jerk-bounded redundant robot manipulators in practical applications. Note that the joint-angle drift (JAD) and non-zero final joint-velocity (NZFJV) phenomena as well as the occurrence of high joint variables always encountered in the traditional norm-based scheme for robot manipulators, which is not suitable for the real-time control of robots. Besides, it would be appealing and desirable to resolve the robot redundancy at the jerk level for industrial robots in engineering. Therefore, an effective, flexible, and stable solution for such robot manipulators is significant for practitioners. This paper proposes a multi-level simultaneous minimization (MLSM) scheme for practitioners interested in robot kinematics to remedy the JAD and NZFJV phenomena as well as to prevent the occurrence of high joint variables of redundant robot manipulators. Unlike traditional single-level schemes, such as the minimum jerk norm (MJN) scheme, the proposed scheme is designed within multiple levels with distinct physical nature and finally resolved at the jerk level to achieve a desirable performance for the jerk-bounded redundant robot manipulators. Besides, for better understanding of practitioners, the corresponding block diagram and principle interpretation of the MLSM scheme are presented. Simulation studies and comparisons are designed and conducted on a 6-degrees-of-freedom (DOF) robot manipulator to substantiate the effectiveness and superiority of the proposed scheme. Extensive tests with different weighting factors fully verify the flexibility and stable performance of the proposed MLSM scheme. For reproducible engineering applications by researchers and practitioners, the additional validation on the KUKA robot in the virtual robot experimentation platform (V-REP) is further presented.'\n",
        "text = title + ' ' + abstract\n",
        "domain_type = [0]\n",
        "embeddings = embed_text(text, model1)"
      ]
    },
    {
      "cell_type": "markdown",
      "source": [
        "## Plots"
      ],
      "metadata": {
        "id": "oH05zJgTzF_6"
      }
    },
    {
      "cell_type": "code",
      "source": [],
      "metadata": {
        "id": "udqxkog3zFbQ"
      },
      "execution_count": null,
      "outputs": []
    },
    {
      "cell_type": "code",
      "source": [
        "vals = vals.split('\\n')\n",
        "acc_loss_dict = {'epoch':[], 'train_loss':[], 'train_accuracy':[], 'test_loss':[], 'test_accuracy':[]}\n",
        "count = 1\n",
        "for i in range(len(vals)):\n",
        "  v = vals[i].split(',')\n",
        "  acc_loss_dict['epoch'].append(i+1)\n",
        "  for e in v[1:]:\n",
        "    key_val = e.split(':')\n",
        "    key = key_val[0].strip()\n",
        "    val = float(key_val[1])\n",
        "    acc_loss_dict[key].append(val)"
      ],
      "metadata": {
        "id": "aUnSkdlx01ib"
      },
      "execution_count": null,
      "outputs": []
    },
    {
      "cell_type": "code",
      "source": [
        "import matplotlib.pyplot as plt"
      ],
      "metadata": {
        "id": "NblOTdSM1jkS"
      },
      "execution_count": null,
      "outputs": []
    },
    {
      "cell_type": "code",
      "source": [
        "epochs = [i*5 for i in range(138)]\n",
        "epochs"
      ],
      "metadata": {
        "id": "qGDZCZ0k28x3"
      },
      "execution_count": null,
      "outputs": []
    },
    {
      "cell_type": "code",
      "source": [
        "plt.plot(epochs, acc_loss_dict['train_loss'])"
      ],
      "metadata": {
        "id": "P-_gIZqB1pOR"
      },
      "execution_count": null,
      "outputs": []
    },
    {
      "cell_type": "code",
      "source": [
        "plt.plot(epochs, acc_loss_dict['train_accuracy'])\n",
        "plt.plot(epochs, acc_loss_dict['test_accuracy'])\n",
        "plt.title('model accuracy')\n",
        "plt.ylabel('accuracy')\n",
        "plt.xlabel('epoch')\n",
        "plt.legend(['Train', 'Validation'], loc='upper left')\n",
        "plt.show()"
      ],
      "metadata": {
        "colab": {
          "base_uri": "https://localhost:8080/",
          "height": 472
        },
        "id": "5UFBNX6r1-ys",
        "outputId": "0dd92764-47bf-4748-eaae-83909fa56902"
      },
      "execution_count": null,
      "outputs": [
        {
          "output_type": "display_data",
          "data": {
            "text/plain": [
              "<Figure size 640x480 with 1 Axes>"
            ],
            "image/png": "[encoded data removed]"
          },
          "metadata": {}
        }
      ]
    },
    {
      "cell_type": "code",
      "source": [
        "# summarize history for loss\n",
        "plt.plot(epochs, acc_loss_dict['train_loss'])\n",
        "plt.plot(epochs, acc_loss_dict['test_loss'])\n",
        "plt.title('model loss')\n",
        "plt.ylabel('loss')\n",
        "plt.xlabel('epoch')\n",
        "plt.legend(['Train', 'Validation'], loc='upper left')\n",
        "plt.show()"
      ],
      "metadata": {
        "colab": {
          "base_uri": "https://localhost:8080/",
          "height": 472
        },
        "id": "rCUOUeKr2U7q",
        "outputId": "65e881ea-0562-4e61-9405-3763306fb7db"
      },
      "execution_count": null,
      "outputs": [
        {
          "output_type": "display_data",
          "data": {
            "text/plain": [
              "<Figure size 640x480 with 1 Axes>"
            ],
            "image/png": "[encoded data removed]"
          },
          "metadata": {}
        }
      ]
    },
    {
      "cell_type": "code",
      "source": [],
      "metadata": {
        "id": "rsXc2BSBl_L3"
      },
      "execution_count": null,
      "outputs": []
    }
  ],
  "metadata": {
    "colab": {
      "collapsed_sections": [
        "RB2qQMYRmaxu",
        "h8HfbMlumnXe",
        "7qlUxydrNXDU",
        "sjooVUQ8nCBO",
        "W0kqTfSMnS61",
        "DA6l97Mp93rT",
        "VkGtEeB78jxM",
        "gL-YwRT4G0Hp",
        "FYDjWusTeuoT",
        "_PSmBoqPhU2-",
        "MEzIM7C8pGUu",
        "LTTaNGFltGs4",
        "AUhELE9APnmv",
        "hY_rPkHRQtlC",
        "pfMTkoLpeqEZ",
        "f-fkd5Bwd7bZ"
      ],
      "provenance": []
    },
    "kernelspec": {
      "display_name": "Python 3",
      "name": "python3"
    },
    "language_info": {
      "name": "python"
    },
    "widgets": {
      "application/vnd.jupyter.widget-state+json": {
        "043302c8c8304dd5842d8f12a083cab3": {
          "model_module": "@jupyter-widgets/controls",
          "model_module_version": "1.5.0",
          "model_name": "HBoxModel",
          "state": {
            "_dom_classes": [],
            "_model_module": "@jupyter-widgets/controls",
            "_model_module_version": "1.5.0",
            "_model_name": "HBoxModel",
            "_view_count": null,
            "_view_module": "@jupyter-widgets/controls",
            "_view_module_version": "1.5.0",
            "_view_name": "HBoxView",
            "box_style": "",
            "children": [
              "IPY_MODEL_6c78c96fc9b542348f01ec8a19fa11a1",
              "IPY_MODEL_42918f4ebe884dac95fb9fb997e2666e",
              "IPY_MODEL_550110c3245d4e8a9285792cb82aea01"
            ],
            "layout": "IPY_MODEL_68256e7df61643d99d835d0bcef875cc"
          }
        },
        "0af4df5f38614cd5b72ff045198cf1c2": {
          "model_module": "@jupyter-widgets/base",
          "model_module_version": "1.2.0",
          "model_name": "LayoutModel",
          "state": {
            "_model_module": "@jupyter-widgets/base",
            "_model_module_version": "1.2.0",
            "_model_name": "LayoutModel",
            "_view_count": null,
            "_view_module": "@jupyter-widgets/base",
            "_view_module_version": "1.2.0",
            "_view_name": "LayoutView",
            "align_content": null,
            "align_items": null,
            "align_self": null,
            "border": null,
            "bottom": null,
            "display": null,
            "flex": null,
            "flex_flow": null,
            "grid_area": null,
            "grid_auto_columns": null,
            "grid_auto_flow": null,
            "grid_auto_rows": null,
            "grid_column": null,
            "grid_gap": null,
            "grid_row": null,
            "grid_template_areas": null,
            "grid_template_columns": null,
            "grid_template_rows": null,
            "height": null,
            "justify_content": null,
            "justify_items": null,
            "left": null,
            "margin": null,
            "max_height": null,
            "max_width": null,
            "min_height": null,
            "min_width": null,
            "object_fit": null,
            "object_position": null,
            "order": null,
            "overflow": null,
            "overflow_x": null,
            "overflow_y": null,
            "padding": null,
            "right": null,
            "top": null,
            "visibility": null,
            "width": null
          }
        },
        "0d0d51522f4b498d8e2e34902acffac6": {
          "model_module": "@jupyter-widgets/base",
          "model_module_version": "1.2.0",
          "model_name": "LayoutModel",
          "state": {
            "_model_module": "@jupyter-widgets/base",
            "_model_module_version": "1.2.0",
            "_model_name": "LayoutModel",
            "_view_count": null,
            "_view_module": "@jupyter-widgets/base",
            "_view_module_version": "1.2.0",
            "_view_name": "LayoutView",
            "align_content": null,
            "align_items": null,
            "align_self": null,
            "border": null,
            "bottom": null,
            "display": null,
            "flex": null,
            "flex_flow": null,
            "grid_area": null,
            "grid_auto_columns": null,
            "grid_auto_flow": null,
            "grid_auto_rows": null,
            "grid_column": null,
            "grid_gap": null,
            "grid_row": null,
            "grid_template_areas": null,
            "grid_template_columns": null,
            "grid_template_rows": null,
            "height": null,
            "justify_content": null,
            "justify_items": null,
            "left": null,
            "margin": null,
            "max_height": null,
            "max_width": null,
            "min_height": null,
            "min_width": null,
            "object_fit": null,
            "object_position": null,
            "order": null,
            "overflow": null,
            "overflow_x": null,
            "overflow_y": null,
            "padding": null,
            "right": null,
            "top": null,
            "visibility": null,
            "width": null
          }
        },
        "121864c769cb4ba993dbbbf41870b7a6": {
          "model_module": "@jupyter-widgets/controls",
          "model_module_version": "1.5.0",
          "model_name": "DescriptionStyleModel",
          "state": {
            "_model_module": "@jupyter-widgets/controls",
            "_model_module_version": "1.5.0",
            "_model_name": "DescriptionStyleModel",
            "_view_count": null,
            "_view_module": "@jupyter-widgets/base",
            "_view_module_version": "1.2.0",
            "_view_name": "StyleView",
            "description_width": ""
          }
        },
        "186358f15a0b4d889086d8b8c9f466b3": {
          "model_module": "@jupyter-widgets/controls",
          "model_module_version": "1.5.0",
          "model_name": "HTMLModel",
          "state": {
            "_dom_classes": [],
            "_model_module": "@jupyter-widgets/controls",
            "_model_module_version": "1.5.0",
            "_model_name": "HTMLModel",
            "_view_count": null,
            "_view_module": "@jupyter-widgets/controls",
            "_view_module_version": "1.5.0",
            "_view_name": "HTMLView",
            "description": "",
            "description_tooltip": null,
            "layout": "IPY_MODEL_205631044bc44d1bace0fd63634daaf8",
            "placeholder": "​",
            "style": "IPY_MODEL_9822dc68701d450f94f28aedd563c0cb",
            "value": " 0/19 [00:00&lt;?, ?it/s]"
          }
        },
        "1b3d961087b6462c8929caf980dabb99": {
          "model_module": "@jupyter-widgets/base",
          "model_module_version": "1.2.0",
          "model_name": "LayoutModel",
          "state": {
            "_model_module": "@jupyter-widgets/base",
            "_model_module_version": "1.2.0",
            "_model_name": "LayoutModel",
            "_view_count": null,
            "_view_module": "@jupyter-widgets/base",
            "_view_module_version": "1.2.0",
            "_view_name": "LayoutView",
            "align_content": null,
            "align_items": null,
            "align_self": null,
            "border": null,
            "bottom": null,
            "display": null,
            "flex": null,
            "flex_flow": null,
            "grid_area": null,
            "grid_auto_columns": null,
            "grid_auto_flow": null,
            "grid_auto_rows": null,
            "grid_column": null,
            "grid_gap": null,
            "grid_row": null,
            "grid_template_areas": null,
            "grid_template_columns": null,
            "grid_template_rows": null,
            "height": null,
            "justify_content": null,
            "justify_items": null,
            "left": null,
            "margin": null,
            "max_height": null,
            "max_width": null,
            "min_height": null,
            "min_width": null,
            "object_fit": null,
            "object_position": null,
            "order": null,
            "overflow": null,
            "overflow_x": null,
            "overflow_y": null,
            "padding": null,
            "right": null,
            "top": null,
            "visibility": null,
            "width": null
          }
        },
        "2040f1822ff4451d807be26d13cb61c7": {
          "model_module": "@jupyter-widgets/controls",
          "model_module_version": "1.5.0",
          "model_name": "DescriptionStyleModel",
          "state": {
            "_model_module": "@jupyter-widgets/controls",
            "_model_module_version": "1.5.0",
            "_model_name": "DescriptionStyleModel",
            "_view_count": null,
            "_view_module": "@jupyter-widgets/base",
            "_view_module_version": "1.2.0",
            "_view_name": "StyleView",
            "description_width": ""
          }
        },
        "205631044bc44d1bace0fd63634daaf8": {
          "model_module": "@jupyter-widgets/base",
          "model_module_version": "1.2.0",
          "model_name": "LayoutModel",
          "state": {
            "_model_module": "@jupyter-widgets/base",
            "_model_module_version": "1.2.0",
            "_model_name": "LayoutModel",
            "_view_count": null,
            "_view_module": "@jupyter-widgets/base",
            "_view_module_version": "1.2.0",
            "_view_name": "LayoutView",
            "align_content": null,
            "align_items": null,
            "align_self": null,
            "border": null,
            "bottom": null,
            "display": null,
            "flex": null,
            "flex_flow": null,
            "grid_area": null,
            "grid_auto_columns": null,
            "grid_auto_flow": null,
            "grid_auto_rows": null,
            "grid_column": null,
            "grid_gap": null,
            "grid_row": null,
            "grid_template_areas": null,
            "grid_template_columns": null,
            "grid_template_rows": null,
            "height": null,
            "justify_content": null,
            "justify_items": null,
            "left": null,
            "margin": null,
            "max_height": null,
            "max_width": null,
            "min_height": null,
            "min_width": null,
            "object_fit": null,
            "object_position": null,
            "order": null,
            "overflow": null,
            "overflow_x": null,
            "overflow_y": null,
            "padding": null,
            "right": null,
            "top": null,
            "visibility": null,
            "width": null
          }
        },
        "20a9c630e383487abc49885493a79f29": {
          "model_module": "@jupyter-widgets/controls",
          "model_module_version": "1.5.0",
          "model_name": "HTMLModel",
          "state": {
            "_dom_classes": [],
            "_model_module": "@jupyter-widgets/controls",
            "_model_module_version": "1.5.0",
            "_model_name": "HTMLModel",
            "_view_count": null,
            "_view_module": "@jupyter-widgets/controls",
            "_view_module_version": "1.5.0",
            "_view_name": "HTMLView",
            "description": "",
            "description_tooltip": null,
            "layout": "IPY_MODEL_67d7f9ce778c493cb776f596daea5c55",
            "placeholder": "​",
            "style": "IPY_MODEL_27735d81ca48415f8a704ac90515effc",
            "value": " 40000/40000 [00:00&lt;00:00, 534975.81it/s]"
          }
        },
        "20d06d1dc5bf42828d18917ed3b6d57c": {
          "model_module": "@jupyter-widgets/controls",
          "model_module_version": "1.5.0",
          "model_name": "HTMLModel",
          "state": {
            "_dom_classes": [],
            "_model_module": "@jupyter-widgets/controls",
            "_model_module_version": "1.5.0",
            "_model_name": "HTMLModel",
            "_view_count": null,
            "_view_module": "@jupyter-widgets/controls",
            "_view_module_version": "1.5.0",
            "_view_name": "HTMLView",
            "description": "",
            "description_tooltip": null,
            "layout": "IPY_MODEL_406925fa5c0e46a0872150bde8ff0cdd",
            "placeholder": "​",
            "style": "IPY_MODEL_5f5d1d7209774957af3c6b37e7229225",
            "value": "  0%"
          }
        },
        "21c296d261fa4f519905bfaabf01930d": {
          "model_module": "@jupyter-widgets/base",
          "model_module_version": "1.2.0",
          "model_name": "LayoutModel",
          "state": {
            "_model_module": "@jupyter-widgets/base",
            "_model_module_version": "1.2.0",
            "_model_name": "LayoutModel",
            "_view_count": null,
            "_view_module": "@jupyter-widgets/base",
            "_view_module_version": "1.2.0",
            "_view_name": "LayoutView",
            "align_content": null,
            "align_items": null,
            "align_self": null,
            "border": null,
            "bottom": null,
            "display": null,
            "flex": null,
            "flex_flow": null,
            "grid_area": null,
            "grid_auto_columns": null,
            "grid_auto_flow": null,
            "grid_auto_rows": null,
            "grid_column": null,
            "grid_gap": null,
            "grid_row": null,
            "grid_template_areas": null,
            "grid_template_columns": null,
            "grid_template_rows": null,
            "height": null,
            "justify_content": null,
            "justify_items": null,
            "left": null,
            "margin": null,
            "max_height": null,
            "max_width": null,
            "min_height": null,
            "min_width": null,
            "object_fit": null,
            "object_position": null,
            "order": null,
            "overflow": null,
            "overflow_x": null,
            "overflow_y": null,
            "padding": null,
            "right": null,
            "top": null,
            "visibility": null,
            "width": null
          }
        },
        "225aadb16f3b47bfaa80f3ce71b1aadf": {
          "model_module": "@jupyter-widgets/controls",
          "model_module_version": "1.5.0",
          "model_name": "FloatProgressModel",
          "state": {
            "_dom_classes": [],
            "_model_module": "@jupyter-widgets/controls",
            "_model_module_version": "1.5.0",
            "_model_name": "FloatProgressModel",
            "_view_count": null,
            "_view_module": "@jupyter-widgets/controls",
            "_view_module_version": "1.5.0",
            "_view_name": "ProgressView",
            "bar_style": "success",
            "description": "",
            "description_tooltip": null,
            "layout": "IPY_MODEL_d543c5f6bce34060b6a3a9c6b3b75394",
            "max": 30000,
            "min": 0,
            "orientation": "horizontal",
            "style": "IPY_MODEL_2319e5c18d334e8db4e74e8dad915851",
            "value": 30000
          }
        },
        "22c5cd6cba3e42e39eaefff2e1dd9e8c": {
          "model_module": "@jupyter-widgets/controls",
          "model_module_version": "1.5.0",
          "model_name": "HBoxModel",
          "state": {
            "_dom_classes": [],
            "_model_module": "@jupyter-widgets/controls",
            "_model_module_version": "1.5.0",
            "_model_name": "HBoxModel",
            "_view_count": null,
            "_view_module": "@jupyter-widgets/controls",
            "_view_module_version": "1.5.0",
            "_view_name": "HBoxView",
            "box_style": "",
            "children": [
              "IPY_MODEL_256be66abbaa4680bcd9646cae4f1ade",
              "IPY_MODEL_f0e8d64173304873ab77017f99b57554",
              "IPY_MODEL_20a9c630e383487abc49885493a79f29"
            ],
            "layout": "IPY_MODEL_958b46530f1e4b0d9a3d9dae1e0c1031"
          }
        },
        "2319e5c18d334e8db4e74e8dad915851": {
          "model_module": "@jupyter-widgets/controls",
          "model_module_version": "1.5.0",
          "model_name": "ProgressStyleModel",
          "state": {
            "_model_module": "@jupyter-widgets/controls",
            "_model_module_version": "1.5.0",
            "_model_name": "ProgressStyleModel",
            "_view_count": null,
            "_view_module": "@jupyter-widgets/base",
            "_view_module_version": "1.2.0",
            "_view_name": "StyleView",
            "bar_color": null,
            "description_width": ""
          }
        },
        "256be66abbaa4680bcd9646cae4f1ade": {
          "model_module": "@jupyter-widgets/controls",
          "model_module_version": "1.5.0",
          "model_name": "HTMLModel",
          "state": {
            "_dom_classes": [],
            "_model_module": "@jupyter-widgets/controls",
            "_model_module_version": "1.5.0",
            "_model_name": "HTMLModel",
            "_view_count": null,
            "_view_module": "@jupyter-widgets/controls",
            "_view_module_version": "1.5.0",
            "_view_name": "HTMLView",
            "description": "",
            "description_tooltip": null,
            "layout": "IPY_MODEL_f3810727d69e4eb18d5b3c4fe1aa2b03",
            "placeholder": "​",
            "style": "IPY_MODEL_dc58a01ee6c94bc68a043e9dd7c865d3",
            "value": "100%"
          }
        },
        "27735d81ca48415f8a704ac90515effc": {
          "model_module": "@jupyter-widgets/controls",
          "model_module_version": "1.5.0",
          "model_name": "DescriptionStyleModel",
          "state": {
            "_model_module": "@jupyter-widgets/controls",
            "_model_module_version": "1.5.0",
            "_model_name": "DescriptionStyleModel",
            "_view_count": null,
            "_view_module": "@jupyter-widgets/base",
            "_view_module_version": "1.2.0",
            "_view_name": "StyleView",
            "description_width": ""
          }
        },
        "2bb08dd0366e467ab5bf548e8a941b3a": {
          "model_module": "@jupyter-widgets/controls",
          "model_module_version": "1.5.0",
          "model_name": "ProgressStyleModel",
          "state": {
            "_model_module": "@jupyter-widgets/controls",
            "_model_module_version": "1.5.0",
            "_model_name": "ProgressStyleModel",
            "_view_count": null,
            "_view_module": "@jupyter-widgets/base",
            "_view_module_version": "1.2.0",
            "_view_name": "StyleView",
            "bar_color": null,
            "description_width": ""
          }
        },
        "32cd845ff2e840ac9113d0b84b617590": {
          "model_module": "@jupyter-widgets/controls",
          "model_module_version": "1.5.0",
          "model_name": "HTMLModel",
          "state": {
            "_dom_classes": [],
            "_model_module": "@jupyter-widgets/controls",
            "_model_module_version": "1.5.0",
            "_model_name": "HTMLModel",
            "_view_count": null,
            "_view_module": "@jupyter-widgets/controls",
            "_view_module_version": "1.5.0",
            "_view_name": "HTMLView",
            "description": "",
            "description_tooltip": null,
            "layout": "IPY_MODEL_7b7da94608e746ad835e5c81ac5405ee",
            "placeholder": "​",
            "style": "IPY_MODEL_69fcc29ba8e54d95ad6f90566dec9574",
            "value": " 30000/30000 [00:00&lt;00:00, 400681.19it/s]"
          }
        },
        "32ef3a18876049e4a32817eb5c032a42": {
          "model_module": "@jupyter-widgets/base",
          "model_module_version": "1.2.0",
          "model_name": "LayoutModel",
          "state": {
            "_model_module": "@jupyter-widgets/base",
            "_model_module_version": "1.2.0",
            "_model_name": "LayoutModel",
            "_view_count": null,
            "_view_module": "@jupyter-widgets/base",
            "_view_module_version": "1.2.0",
            "_view_name": "LayoutView",
            "align_content": null,
            "align_items": null,
            "align_self": null,
            "border": null,
            "bottom": null,
            "display": null,
            "flex": null,
            "flex_flow": null,
            "grid_area": null,
            "grid_auto_columns": null,
            "grid_auto_flow": null,
            "grid_auto_rows": null,
            "grid_column": null,
            "grid_gap": null,
            "grid_row": null,
            "grid_template_areas": null,
            "grid_template_columns": null,
            "grid_template_rows": null,
            "height": null,
            "justify_content": null,
            "justify_items": null,
            "left": null,
            "margin": null,
            "max_height": null,
            "max_width": null,
            "min_height": null,
            "min_width": null,
            "object_fit": null,
            "object_position": null,
            "order": null,
            "overflow": null,
            "overflow_x": null,
            "overflow_y": null,
            "padding": null,
            "right": null,
            "top": null,
            "visibility": null,
            "width": null
          }
        },
        "335bb789bfcf43e59362605f1d55d854": {
          "model_module": "@jupyter-widgets/controls",
          "model_module_version": "1.5.0",
          "model_name": "DescriptionStyleModel",
          "state": {
            "_model_module": "@jupyter-widgets/controls",
            "_model_module_version": "1.5.0",
            "_model_name": "DescriptionStyleModel",
            "_view_count": null,
            "_view_module": "@jupyter-widgets/base",
            "_view_module_version": "1.2.0",
            "_view_name": "StyleView",
            "description_width": ""
          }
        },
        "371c99d2824245ec939a574d6a6db5b2": {
          "model_module": "@jupyter-widgets/base",
          "model_module_version": "1.2.0",
          "model_name": "LayoutModel",
          "state": {
            "_model_module": "@jupyter-widgets/base",
            "_model_module_version": "1.2.0",
            "_model_name": "LayoutModel",
            "_view_count": null,
            "_view_module": "@jupyter-widgets/base",
            "_view_module_version": "1.2.0",
            "_view_name": "LayoutView",
            "align_content": null,
            "align_items": null,
            "align_self": null,
            "border": null,
            "bottom": null,
            "display": null,
            "flex": null,
            "flex_flow": null,
            "grid_area": null,
            "grid_auto_columns": null,
            "grid_auto_flow": null,
            "grid_auto_rows": null,
            "grid_column": null,
            "grid_gap": null,
            "grid_row": null,
            "grid_template_areas": null,
            "grid_template_columns": null,
            "grid_template_rows": null,
            "height": null,
            "justify_content": null,
            "justify_items": null,
            "left": null,
            "margin": null,
            "max_height": null,
            "max_width": null,
            "min_height": null,
            "min_width": null,
            "object_fit": null,
            "object_position": null,
            "order": null,
            "overflow": null,
            "overflow_x": null,
            "overflow_y": null,
            "padding": null,
            "right": null,
            "top": null,
            "visibility": null,
            "width": null
          }
        },
        "371ef053138c4317bd79dd0abcc67d07": {
          "model_module": "@jupyter-widgets/controls",
          "model_module_version": "1.5.0",
          "model_name": "FloatProgressModel",
          "state": {
            "_dom_classes": [],
            "_model_module": "@jupyter-widgets/controls",
            "_model_module_version": "1.5.0",
            "_model_name": "FloatProgressModel",
            "_view_count": null,
            "_view_module": "@jupyter-widgets/controls",
            "_view_module_version": "1.5.0",
            "_view_name": "ProgressView",
            "bar_style": "success",
            "description": "",
            "description_tooltip": null,
            "layout": "IPY_MODEL_95d1f5695c2341d589abd1aaee95c2e4",
            "max": 34074,
            "min": 0,
            "orientation": "horizontal",
            "style": "IPY_MODEL_e03713d9d9c344e1b7e13bc6826a3860",
            "value": 34074
          }
        },
        "38704b6e52b8403e9fccd5974d322a54": {
          "model_module": "@jupyter-widgets/base",
          "model_module_version": "1.2.0",
          "model_name": "LayoutModel",
          "state": {
            "_model_module": "@jupyter-widgets/base",
            "_model_module_version": "1.2.0",
            "_model_name": "LayoutModel",
            "_view_count": null,
            "_view_module": "@jupyter-widgets/base",
            "_view_module_version": "1.2.0",
            "_view_name": "LayoutView",
            "align_content": null,
            "align_items": null,
            "align_self": null,
            "border": null,
            "bottom": null,
            "display": null,
            "flex": null,
            "flex_flow": null,
            "grid_area": null,
            "grid_auto_columns": null,
            "grid_auto_flow": null,
            "grid_auto_rows": null,
            "grid_column": null,
            "grid_gap": null,
            "grid_row": null,
            "grid_template_areas": null,
            "grid_template_columns": null,
            "grid_template_rows": null,
            "height": null,
            "justify_content": null,
            "justify_items": null,
            "left": null,
            "margin": null,
            "max_height": null,
            "max_width": null,
            "min_height": null,
            "min_width": null,
            "object_fit": null,
            "object_position": null,
            "order": null,
            "overflow": null,
            "overflow_x": null,
            "overflow_y": null,
            "padding": null,
            "right": null,
            "top": null,
            "visibility": null,
            "width": null
          }
        },
        "3f031b34cb09487b87d8d49cd7ad17c0": {
          "model_module": "@jupyter-widgets/controls",
          "model_module_version": "1.5.0",
          "model_name": "ProgressStyleModel",
          "state": {
            "_model_module": "@jupyter-widgets/controls",
            "_model_module_version": "1.5.0",
            "_model_name": "ProgressStyleModel",
            "_view_count": null,
            "_view_module": "@jupyter-widgets/base",
            "_view_module_version": "1.2.0",
            "_view_name": "StyleView",
            "bar_color": null,
            "description_width": ""
          }
        },
        "406925fa5c0e46a0872150bde8ff0cdd": {
          "model_module": "@jupyter-widgets/base",
          "model_module_version": "1.2.0",
          "model_name": "LayoutModel",
          "state": {
            "_model_module": "@jupyter-widgets/base",
            "_model_module_version": "1.2.0",
            "_model_name": "LayoutModel",
            "_view_count": null,
            "_view_module": "@jupyter-widgets/base",
            "_view_module_version": "1.2.0",
            "_view_name": "LayoutView",
            "align_content": null,
            "align_items": null,
            "align_self": null,
            "border": null,
            "bottom": null,
            "display": null,
            "flex": null,
            "flex_flow": null,
            "grid_area": null,
            "grid_auto_columns": null,
            "grid_auto_flow": null,
            "grid_auto_rows": null,
            "grid_column": null,
            "grid_gap": null,
            "grid_row": null,
            "grid_template_areas": null,
            "grid_template_columns": null,
            "grid_template_rows": null,
            "height": null,
            "justify_content": null,
            "justify_items": null,
            "left": null,
            "margin": null,
            "max_height": null,
            "max_width": null,
            "min_height": null,
            "min_width": null,
            "object_fit": null,
            "object_position": null,
            "order": null,
            "overflow": null,
            "overflow_x": null,
            "overflow_y": null,
            "padding": null,
            "right": null,
            "top": null,
            "visibility": null,
            "width": null
          }
        },
        "42918f4ebe884dac95fb9fb997e2666e": {
          "model_module": "@jupyter-widgets/controls",
          "model_module_version": "1.5.0",
          "model_name": "FloatProgressModel",
          "state": {
            "_dom_classes": [],
            "_model_module": "@jupyter-widgets/controls",
            "_model_module_version": "1.5.0",
            "_model_name": "FloatProgressModel",
            "_view_count": null,
            "_view_module": "@jupyter-widgets/controls",
            "_view_module_version": "1.5.0",
            "_view_name": "ProgressView",
            "bar_style": "success",
            "description": "",
            "description_tooltip": null,
            "layout": "IPY_MODEL_89cdeb4f96aa4a00968a5504359ebdc6",
            "max": 1000,
            "min": 0,
            "orientation": "horizontal",
            "style": "IPY_MODEL_b90e4d9edc8f495d8e8c2d4732f81376",
            "value": 1000
          }
        },
        "4846bf3eebb246ec956c068128ec6f24": {
          "model_module": "@jupyter-widgets/controls",
          "model_module_version": "1.5.0",
          "model_name": "DescriptionStyleModel",
          "state": {
            "_model_module": "@jupyter-widgets/controls",
            "_model_module_version": "1.5.0",
            "_model_name": "DescriptionStyleModel",
            "_view_count": null,
            "_view_module": "@jupyter-widgets/base",
            "_view_module_version": "1.2.0",
            "_view_name": "StyleView",
            "description_width": ""
          }
        },
        "4905a225b904445bb0a75149fe75ddff": {
          "model_module": "@jupyter-widgets/controls",
          "model_module_version": "1.5.0",
          "model_name": "ProgressStyleModel",
          "state": {
            "_model_module": "@jupyter-widgets/controls",
            "_model_module_version": "1.5.0",
            "_model_name": "ProgressStyleModel",
            "_view_count": null,
            "_view_module": "@jupyter-widgets/base",
            "_view_module_version": "1.2.0",
            "_view_name": "StyleView",
            "bar_color": null,
            "description_width": ""
          }
        },
        "49257e10594e4ba38d8a61360c44f1ee": {
          "model_module": "@jupyter-widgets/controls",
          "model_module_version": "1.5.0",
          "model_name": "HBoxModel",
          "state": {
            "_dom_classes": [],
            "_model_module": "@jupyter-widgets/controls",
            "_model_module_version": "1.5.0",
            "_model_name": "HBoxModel",
            "_view_count": null,
            "_view_module": "@jupyter-widgets/controls",
            "_view_module_version": "1.5.0",
            "_view_name": "HBoxView",
            "box_style": "",
            "children": [
              "IPY_MODEL_54969749eec54dbfac6c0d08ac2fe115",
              "IPY_MODEL_b9cbe9b81271424ca05292861ac496c2",
              "IPY_MODEL_d3e1d38691f44104a7698334be23a29e"
            ],
            "layout": "IPY_MODEL_9cb3f6f1e87c4efb82f670124e99f251"
          }
        },
        "5047461d31904dbeaea507768d80970d": {
          "model_module": "@jupyter-widgets/controls",
          "model_module_version": "1.5.0",
          "model_name": "DescriptionStyleModel",
          "state": {
            "_model_module": "@jupyter-widgets/controls",
            "_model_module_version": "1.5.0",
            "_model_name": "DescriptionStyleModel",
            "_view_count": null,
            "_view_module": "@jupyter-widgets/base",
            "_view_module_version": "1.2.0",
            "_view_name": "StyleView",
            "description_width": ""
          }
        },
        "54969749eec54dbfac6c0d08ac2fe115": {
          "model_module": "@jupyter-widgets/controls",
          "model_module_version": "1.5.0",
          "model_name": "HTMLModel",
          "state": {
            "_dom_classes": [],
            "_model_module": "@jupyter-widgets/controls",
            "_model_module_version": "1.5.0",
            "_model_name": "HTMLModel",
            "_view_count": null,
            "_view_module": "@jupyter-widgets/controls",
            "_view_module_version": "1.5.0",
            "_view_name": "HTMLView",
            "description": "",
            "description_tooltip": null,
            "layout": "IPY_MODEL_63bfe361faeb4107b2c62ba4352dfdb4",
            "placeholder": "​",
            "style": "IPY_MODEL_335bb789bfcf43e59362605f1d55d854",
            "value": "100%"
          }
        },
        "550110c3245d4e8a9285792cb82aea01": {
          "model_module": "@jupyter-widgets/controls",
          "model_module_version": "1.5.0",
          "model_name": "HTMLModel",
          "state": {
            "_dom_classes": [],
            "_model_module": "@jupyter-widgets/controls",
            "_model_module_version": "1.5.0",
            "_model_name": "HTMLModel",
            "_view_count": null,
            "_view_module": "@jupyter-widgets/controls",
            "_view_module_version": "1.5.0",
            "_view_name": "HTMLView",
            "description": "",
            "description_tooltip": null,
            "layout": "IPY_MODEL_d6d8d3cd0ca548c7b2d2ac42b88c7960",
            "placeholder": "​",
            "style": "IPY_MODEL_7cbddccfbb99445da8c0ff78dfa8786d",
            "value": " 1000/1000 [52:42&lt;00:00,  2.96s/it]"
          }
        },
        "558b5248bb784160b1d5a89b3e54c310": {
          "model_module": "@jupyter-widgets/base",
          "model_module_version": "1.2.0",
          "model_name": "LayoutModel",
          "state": {
            "_model_module": "@jupyter-widgets/base",
            "_model_module_version": "1.2.0",
            "_model_name": "LayoutModel",
            "_view_count": null,
            "_view_module": "@jupyter-widgets/base",
            "_view_module_version": "1.2.0",
            "_view_name": "LayoutView",
            "align_content": null,
            "align_items": null,
            "align_self": null,
            "border": null,
            "bottom": null,
            "display": null,
            "flex": null,
            "flex_flow": null,
            "grid_area": null,
            "grid_auto_columns": null,
            "grid_auto_flow": null,
            "grid_auto_rows": null,
            "grid_column": null,
            "grid_gap": null,
            "grid_row": null,
            "grid_template_areas": null,
            "grid_template_columns": null,
            "grid_template_rows": null,
            "height": null,
            "justify_content": null,
            "justify_items": null,
            "left": null,
            "margin": null,
            "max_height": null,
            "max_width": null,
            "min_height": null,
            "min_width": null,
            "object_fit": null,
            "object_position": null,
            "order": null,
            "overflow": null,
            "overflow_x": null,
            "overflow_y": null,
            "padding": null,
            "right": null,
            "top": null,
            "visibility": null,
            "width": null
          }
        },
        "570d15f1c6014a9f9ba4aed26309d7cd": {
          "model_module": "@jupyter-widgets/base",
          "model_module_version": "1.2.0",
          "model_name": "LayoutModel",
          "state": {
            "_model_module": "@jupyter-widgets/base",
            "_model_module_version": "1.2.0",
            "_model_name": "LayoutModel",
            "_view_count": null,
            "_view_module": "@jupyter-widgets/base",
            "_view_module_version": "1.2.0",
            "_view_name": "LayoutView",
            "align_content": null,
            "align_items": null,
            "align_self": null,
            "border": null,
            "bottom": null,
            "display": null,
            "flex": null,
            "flex_flow": null,
            "grid_area": null,
            "grid_auto_columns": null,
            "grid_auto_flow": null,
            "grid_auto_rows": null,
            "grid_column": null,
            "grid_gap": null,
            "grid_row": null,
            "grid_template_areas": null,
            "grid_template_columns": null,
            "grid_template_rows": null,
            "height": null,
            "justify_content": null,
            "justify_items": null,
            "left": null,
            "margin": null,
            "max_height": null,
            "max_width": null,
            "min_height": null,
            "min_width": null,
            "object_fit": null,
            "object_position": null,
            "order": null,
            "overflow": null,
            "overflow_x": null,
            "overflow_y": null,
            "padding": null,
            "right": null,
            "top": null,
            "visibility": null,
            "width": null
          }
        },
        "581c73d77b1e4adf96acf2464d5bac1c": {
          "model_module": "@jupyter-widgets/base",
          "model_module_version": "1.2.0",
          "model_name": "LayoutModel",
          "state": {
            "_model_module": "@jupyter-widgets/base",
            "_model_module_version": "1.2.0",
            "_model_name": "LayoutModel",
            "_view_count": null,
            "_view_module": "@jupyter-widgets/base",
            "_view_module_version": "1.2.0",
            "_view_name": "LayoutView",
            "align_content": null,
            "align_items": null,
            "align_self": null,
            "border": null,
            "bottom": null,
            "display": null,
            "flex": null,
            "flex_flow": null,
            "grid_area": null,
            "grid_auto_columns": null,
            "grid_auto_flow": null,
            "grid_auto_rows": null,
            "grid_column": null,
            "grid_gap": null,
            "grid_row": null,
            "grid_template_areas": null,
            "grid_template_columns": null,
            "grid_template_rows": null,
            "height": null,
            "justify_content": null,
            "justify_items": null,
            "left": null,
            "margin": null,
            "max_height": null,
            "max_width": null,
            "min_height": null,
            "min_width": null,
            "object_fit": null,
            "object_position": null,
            "order": null,
            "overflow": null,
            "overflow_x": null,
            "overflow_y": null,
            "padding": null,
            "right": null,
            "top": null,
            "visibility": null,
            "width": null
          }
        },
        "59e32b96a90147c5b69021b7a28420bd": {
          "model_module": "@jupyter-widgets/controls",
          "model_module_version": "1.5.0",
          "model_name": "HBoxModel",
          "state": {
            "_dom_classes": [],
            "_model_module": "@jupyter-widgets/controls",
            "_model_module_version": "1.5.0",
            "_model_name": "HBoxModel",
            "_view_count": null,
            "_view_module": "@jupyter-widgets/controls",
            "_view_module_version": "1.5.0",
            "_view_name": "HBoxView",
            "box_style": "",
            "children": [
              "IPY_MODEL_d3c92d7d044d4887b5feeaf231c58bc7",
              "IPY_MODEL_63617f783f1d49f991f42d218763b17a",
              "IPY_MODEL_186358f15a0b4d889086d8b8c9f466b3"
            ],
            "layout": "IPY_MODEL_581c73d77b1e4adf96acf2464d5bac1c"
          }
        },
        "59eab4a7bd354fc49f5892f3c7c2567c": {
          "model_module": "@jupyter-widgets/controls",
          "model_module_version": "1.5.0",
          "model_name": "DescriptionStyleModel",
          "state": {
            "_model_module": "@jupyter-widgets/controls",
            "_model_module_version": "1.5.0",
            "_model_name": "DescriptionStyleModel",
            "_view_count": null,
            "_view_module": "@jupyter-widgets/base",
            "_view_module_version": "1.2.0",
            "_view_name": "StyleView",
            "description_width": ""
          }
        },
        "5f5d1d7209774957af3c6b37e7229225": {
          "model_module": "@jupyter-widgets/controls",
          "model_module_version": "1.5.0",
          "model_name": "DescriptionStyleModel",
          "state": {
            "_model_module": "@jupyter-widgets/controls",
            "_model_module_version": "1.5.0",
            "_model_name": "DescriptionStyleModel",
            "_view_count": null,
            "_view_module": "@jupyter-widgets/base",
            "_view_module_version": "1.2.0",
            "_view_name": "StyleView",
            "description_width": ""
          }
        },
        "5f863282c39d4f889555a0138da3bb0b": {
          "model_module": "@jupyter-widgets/base",
          "model_module_version": "1.2.0",
          "model_name": "LayoutModel",
          "state": {
            "_model_module": "@jupyter-widgets/base",
            "_model_module_version": "1.2.0",
            "_model_name": "LayoutModel",
            "_view_count": null,
            "_view_module": "@jupyter-widgets/base",
            "_view_module_version": "1.2.0",
            "_view_name": "LayoutView",
            "align_content": null,
            "align_items": null,
            "align_self": null,
            "border": null,
            "bottom": null,
            "display": null,
            "flex": null,
            "flex_flow": null,
            "grid_area": null,
            "grid_auto_columns": null,
            "grid_auto_flow": null,
            "grid_auto_rows": null,
            "grid_column": null,
            "grid_gap": null,
            "grid_row": null,
            "grid_template_areas": null,
            "grid_template_columns": null,
            "grid_template_rows": null,
            "height": null,
            "justify_content": null,
            "justify_items": null,
            "left": null,
            "margin": null,
            "max_height": null,
            "max_width": null,
            "min_height": null,
            "min_width": null,
            "object_fit": null,
            "object_position": null,
            "order": null,
            "overflow": null,
            "overflow_x": null,
            "overflow_y": null,
            "padding": null,
            "right": null,
            "top": null,
            "visibility": null,
            "width": null
          }
        },
        "6022c1755ac143a9a33e0de668af5014": {
          "model_module": "@jupyter-widgets/controls",
          "model_module_version": "1.5.0",
          "model_name": "DescriptionStyleModel",
          "state": {
            "_model_module": "@jupyter-widgets/controls",
            "_model_module_version": "1.5.0",
            "_model_name": "DescriptionStyleModel",
            "_view_count": null,
            "_view_module": "@jupyter-widgets/base",
            "_view_module_version": "1.2.0",
            "_view_name": "StyleView",
            "description_width": ""
          }
        },
        "63617f783f1d49f991f42d218763b17a": {
          "model_module": "@jupyter-widgets/controls",
          "model_module_version": "1.5.0",
          "model_name": "FloatProgressModel",
          "state": {
            "_dom_classes": [],
            "_model_module": "@jupyter-widgets/controls",
            "_model_module_version": "1.5.0",
            "_model_name": "FloatProgressModel",
            "_view_count": null,
            "_view_module": "@jupyter-widgets/controls",
            "_view_module_version": "1.5.0",
            "_view_name": "ProgressView",
            "bar_style": "danger",
            "description": "",
            "description_tooltip": null,
            "layout": "IPY_MODEL_cb3cddfc8f1143e3800e77936d3f4e85",
            "max": 19,
            "min": 0,
            "orientation": "horizontal",
            "style": "IPY_MODEL_a9e44e31a5cc418f8baa372fe66dc767",
            "value": 0
          }
        },
        "63bfe361faeb4107b2c62ba4352dfdb4": {
          "model_module": "@jupyter-widgets/base",
          "model_module_version": "1.2.0",
          "model_name": "LayoutModel",
          "state": {
            "_model_module": "@jupyter-widgets/base",
            "_model_module_version": "1.2.0",
            "_model_name": "LayoutModel",
            "_view_count": null,
            "_view_module": "@jupyter-widgets/base",
            "_view_module_version": "1.2.0",
            "_view_name": "LayoutView",
            "align_content": null,
            "align_items": null,
            "align_self": null,
            "border": null,
            "bottom": null,
            "display": null,
            "flex": null,
            "flex_flow": null,
            "grid_area": null,
            "grid_auto_columns": null,
            "grid_auto_flow": null,
            "grid_auto_rows": null,
            "grid_column": null,
            "grid_gap": null,
            "grid_row": null,
            "grid_template_areas": null,
            "grid_template_columns": null,
            "grid_template_rows": null,
            "height": null,
            "justify_content": null,
            "justify_items": null,
            "left": null,
            "margin": null,
            "max_height": null,
            "max_width": null,
            "min_height": null,
            "min_width": null,
            "object_fit": null,
            "object_position": null,
            "order": null,
            "overflow": null,
            "overflow_x": null,
            "overflow_y": null,
            "padding": null,
            "right": null,
            "top": null,
            "visibility": null,
            "width": null
          }
        },
        "67d7f9ce778c493cb776f596daea5c55": {
          "model_module": "@jupyter-widgets/base",
          "model_module_version": "1.2.0",
          "model_name": "LayoutModel",
          "state": {
            "_model_module": "@jupyter-widgets/base",
            "_model_module_version": "1.2.0",
            "_model_name": "LayoutModel",
            "_view_count": null,
            "_view_module": "@jupyter-widgets/base",
            "_view_module_version": "1.2.0",
            "_view_name": "LayoutView",
            "align_content": null,
            "align_items": null,
            "align_self": null,
            "border": null,
            "bottom": null,
            "display": null,
            "flex": null,
            "flex_flow": null,
            "grid_area": null,
            "grid_auto_columns": null,
            "grid_auto_flow": null,
            "grid_auto_rows": null,
            "grid_column": null,
            "grid_gap": null,
            "grid_row": null,
            "grid_template_areas": null,
            "grid_template_columns": null,
            "grid_template_rows": null,
            "height": null,
            "justify_content": null,
            "justify_items": null,
            "left": null,
            "margin": null,
            "max_height": null,
            "max_width": null,
            "min_height": null,
            "min_width": null,
            "object_fit": null,
            "object_position": null,
            "order": null,
            "overflow": null,
            "overflow_x": null,
            "overflow_y": null,
            "padding": null,
            "right": null,
            "top": null,
            "visibility": null,
            "width": null
          }
        },
        "68256e7df61643d99d835d0bcef875cc": {
          "model_module": "@jupyter-widgets/base",
          "model_module_version": "1.2.0",
          "model_name": "LayoutModel",
          "state": {
            "_model_module": "@jupyter-widgets/base",
            "_model_module_version": "1.2.0",
            "_model_name": "LayoutModel",
            "_view_count": null,
            "_view_module": "@jupyter-widgets/base",
            "_view_module_version": "1.2.0",
            "_view_name": "LayoutView",
            "align_content": null,
            "align_items": null,
            "align_self": null,
            "border": null,
            "bottom": null,
            "display": null,
            "flex": null,
            "flex_flow": null,
            "grid_area": null,
            "grid_auto_columns": null,
            "grid_auto_flow": null,
            "grid_auto_rows": null,
            "grid_column": null,
            "grid_gap": null,
            "grid_row": null,
            "grid_template_areas": null,
            "grid_template_columns": null,
            "grid_template_rows": null,
            "height": null,
            "justify_content": null,
            "justify_items": null,
            "left": null,
            "margin": null,
            "max_height": null,
            "max_width": null,
            "min_height": null,
            "min_width": null,
            "object_fit": null,
            "object_position": null,
            "order": null,
            "overflow": null,
            "overflow_x": null,
            "overflow_y": null,
            "padding": null,
            "right": null,
            "top": null,
            "visibility": null,
            "width": null
          }
        },
        "698cba0205734ec8bde5ada075b6fca9": {
          "model_module": "@jupyter-widgets/controls",
          "model_module_version": "1.5.0",
          "model_name": "FloatProgressModel",
          "state": {
            "_dom_classes": [],
            "_model_module": "@jupyter-widgets/controls",
            "_model_module_version": "1.5.0",
            "_model_name": "FloatProgressModel",
            "_view_count": null,
            "_view_module": "@jupyter-widgets/controls",
            "_view_module_version": "1.5.0",
            "_view_name": "ProgressView",
            "bar_style": "success",
            "description": "",
            "description_tooltip": null,
            "layout": "IPY_MODEL_fcd069ec788a4336ab3c96f669bf57fb",
            "max": 30972,
            "min": 0,
            "orientation": "horizontal",
            "style": "IPY_MODEL_2bb08dd0366e467ab5bf548e8a941b3a",
            "value": 30972
          }
        },
        "69fcc29ba8e54d95ad6f90566dec9574": {
          "model_module": "@jupyter-widgets/controls",
          "model_module_version": "1.5.0",
          "model_name": "DescriptionStyleModel",
          "state": {
            "_model_module": "@jupyter-widgets/controls",
            "_model_module_version": "1.5.0",
            "_model_name": "DescriptionStyleModel",
            "_view_count": null,
            "_view_module": "@jupyter-widgets/base",
            "_view_module_version": "1.2.0",
            "_view_name": "StyleView",
            "description_width": ""
          }
        },
        "6a9dafca57e3493992abdce73d128cdd": {
          "model_module": "@jupyter-widgets/controls",
          "model_module_version": "1.5.0",
          "model_name": "DescriptionStyleModel",
          "state": {
            "_model_module": "@jupyter-widgets/controls",
            "_model_module_version": "1.5.0",
            "_model_name": "DescriptionStyleModel",
            "_view_count": null,
            "_view_module": "@jupyter-widgets/base",
            "_view_module_version": "1.2.0",
            "_view_name": "StyleView",
            "description_width": ""
          }
        },
        "6bb08bf9601f4556837238a89dcec8e4": {
          "model_module": "@jupyter-widgets/controls",
          "model_module_version": "1.5.0",
          "model_name": "HTMLModel",
          "state": {
            "_dom_classes": [],
            "_model_module": "@jupyter-widgets/controls",
            "_model_module_version": "1.5.0",
            "_model_name": "HTMLModel",
            "_view_count": null,
            "_view_module": "@jupyter-widgets/controls",
            "_view_module_version": "1.5.0",
            "_view_name": "HTMLView",
            "description": "",
            "description_tooltip": null,
            "layout": "IPY_MODEL_32ef3a18876049e4a32817eb5c032a42",
            "placeholder": "​",
            "style": "IPY_MODEL_2040f1822ff4451d807be26d13cb61c7",
            "value": "100%"
          }
        },
        "6c78c96fc9b542348f01ec8a19fa11a1": {
          "model_module": "@jupyter-widgets/controls",
          "model_module_version": "1.5.0",
          "model_name": "HTMLModel",
          "state": {
            "_dom_classes": [],
            "_model_module": "@jupyter-widgets/controls",
            "_model_module_version": "1.5.0",
            "_model_name": "HTMLModel",
            "_view_count": null,
            "_view_module": "@jupyter-widgets/controls",
            "_view_module_version": "1.5.0",
            "_view_name": "HTMLView",
            "description": "",
            "description_tooltip": null,
            "layout": "IPY_MODEL_bff22e390d8b49f499eb44ba9a9c764b",
            "placeholder": "​",
            "style": "IPY_MODEL_836c3a37e9944ea4957dfeb374777bd7",
            "value": "100%"
          }
        },
        "6e090fdc4ecc47a78bf84e57c9f8905f": {
          "model_module": "@jupyter-widgets/controls",
          "model_module_version": "1.5.0",
          "model_name": "HTMLModel",
          "state": {
            "_dom_classes": [],
            "_model_module": "@jupyter-widgets/controls",
            "_model_module_version": "1.5.0",
            "_model_name": "HTMLModel",
            "_view_count": null,
            "_view_module": "@jupyter-widgets/controls",
            "_view_module_version": "1.5.0",
            "_view_name": "HTMLView",
            "description": "",
            "description_tooltip": null,
            "layout": "IPY_MODEL_1b3d961087b6462c8929caf980dabb99",
            "placeholder": "​",
            "style": "IPY_MODEL_5047461d31904dbeaea507768d80970d",
            "value": "100%"
          }
        },
        "6ecff6877c334cdf8f6fba77729a5756": {
          "model_module": "@jupyter-widgets/controls",
          "model_module_version": "1.5.0",
          "model_name": "HTMLModel",
          "state": {
            "_dom_classes": [],
            "_model_module": "@jupyter-widgets/controls",
            "_model_module_version": "1.5.0",
            "_model_name": "HTMLModel",
            "_view_count": null,
            "_view_module": "@jupyter-widgets/controls",
            "_view_module_version": "1.5.0",
            "_view_name": "HTMLView",
            "description": "",
            "description_tooltip": null,
            "layout": "IPY_MODEL_38704b6e52b8403e9fccd5974d322a54",
            "placeholder": "​",
            "style": "IPY_MODEL_6a9dafca57e3493992abdce73d128cdd",
            "value": " 0/169 [00:00&lt;?, ?it/s]"
          }
        },
        "7b7da94608e746ad835e5c81ac5405ee": {
          "model_module": "@jupyter-widgets/base",
          "model_module_version": "1.2.0",
          "model_name": "LayoutModel",
          "state": {
            "_model_module": "@jupyter-widgets/base",
            "_model_module_version": "1.2.0",
            "_model_name": "LayoutModel",
            "_view_count": null,
            "_view_module": "@jupyter-widgets/base",
            "_view_module_version": "1.2.0",
            "_view_name": "LayoutView",
            "align_content": null,
            "align_items": null,
            "align_self": null,
            "border": null,
            "bottom": null,
            "display": null,
            "flex": null,
            "flex_flow": null,
            "grid_area": null,
            "grid_auto_columns": null,
            "grid_auto_flow": null,
            "grid_auto_rows": null,
            "grid_column": null,
            "grid_gap": null,
            "grid_row": null,
            "grid_template_areas": null,
            "grid_template_columns": null,
            "grid_template_rows": null,
            "height": null,
            "justify_content": null,
            "justify_items": null,
            "left": null,
            "margin": null,
            "max_height": null,
            "max_width": null,
            "min_height": null,
            "min_width": null,
            "object_fit": null,
            "object_position": null,
            "order": null,
            "overflow": null,
            "overflow_x": null,
            "overflow_y": null,
            "padding": null,
            "right": null,
            "top": null,
            "visibility": null,
            "width": null
          }
        },
        "7cbddccfbb99445da8c0ff78dfa8786d": {
          "model_module": "@jupyter-widgets/controls",
          "model_module_version": "1.5.0",
          "model_name": "DescriptionStyleModel",
          "state": {
            "_model_module": "@jupyter-widgets/controls",
            "_model_module_version": "1.5.0",
            "_model_name": "DescriptionStyleModel",
            "_view_count": null,
            "_view_module": "@jupyter-widgets/base",
            "_view_module_version": "1.2.0",
            "_view_name": "StyleView",
            "description_width": ""
          }
        },
        "7f0d1677b10d465988da8bb385bf3cbb": {
          "model_module": "@jupyter-widgets/base",
          "model_module_version": "1.2.0",
          "model_name": "LayoutModel",
          "state": {
            "_model_module": "@jupyter-widgets/base",
            "_model_module_version": "1.2.0",
            "_model_name": "LayoutModel",
            "_view_count": null,
            "_view_module": "@jupyter-widgets/base",
            "_view_module_version": "1.2.0",
            "_view_name": "LayoutView",
            "align_content": null,
            "align_items": null,
            "align_self": null,
            "border": null,
            "bottom": null,
            "display": null,
            "flex": null,
            "flex_flow": null,
            "grid_area": null,
            "grid_auto_columns": null,
            "grid_auto_flow": null,
            "grid_auto_rows": null,
            "grid_column": null,
            "grid_gap": null,
            "grid_row": null,
            "grid_template_areas": null,
            "grid_template_columns": null,
            "grid_template_rows": null,
            "height": null,
            "justify_content": null,
            "justify_items": null,
            "left": null,
            "margin": null,
            "max_height": null,
            "max_width": null,
            "min_height": null,
            "min_width": null,
            "object_fit": null,
            "object_position": null,
            "order": null,
            "overflow": null,
            "overflow_x": null,
            "overflow_y": null,
            "padding": null,
            "right": null,
            "top": null,
            "visibility": null,
            "width": null
          }
        },
        "836c3a37e9944ea4957dfeb374777bd7": {
          "model_module": "@jupyter-widgets/controls",
          "model_module_version": "1.5.0",
          "model_name": "DescriptionStyleModel",
          "state": {
            "_model_module": "@jupyter-widgets/controls",
            "_model_module_version": "1.5.0",
            "_model_name": "DescriptionStyleModel",
            "_view_count": null,
            "_view_module": "@jupyter-widgets/base",
            "_view_module_version": "1.2.0",
            "_view_name": "StyleView",
            "description_width": ""
          }
        },
        "8652196e82a04a16b97979cdb9525501": {
          "model_module": "@jupyter-widgets/controls",
          "model_module_version": "1.5.0",
          "model_name": "HBoxModel",
          "state": {
            "_dom_classes": [],
            "_model_module": "@jupyter-widgets/controls",
            "_model_module_version": "1.5.0",
            "_model_name": "HBoxModel",
            "_view_count": null,
            "_view_module": "@jupyter-widgets/controls",
            "_view_module_version": "1.5.0",
            "_view_name": "HBoxView",
            "box_style": "",
            "children": [
              "IPY_MODEL_20d06d1dc5bf42828d18917ed3b6d57c",
              "IPY_MODEL_8939af135a964f4ca2e967e6c464fb6b",
              "IPY_MODEL_6ecff6877c334cdf8f6fba77729a5756"
            ],
            "layout": "IPY_MODEL_5f863282c39d4f889555a0138da3bb0b"
          }
        },
        "8939af135a964f4ca2e967e6c464fb6b": {
          "model_module": "@jupyter-widgets/controls",
          "model_module_version": "1.5.0",
          "model_name": "FloatProgressModel",
          "state": {
            "_dom_classes": [],
            "_model_module": "@jupyter-widgets/controls",
            "_model_module_version": "1.5.0",
            "_model_name": "FloatProgressModel",
            "_view_count": null,
            "_view_module": "@jupyter-widgets/controls",
            "_view_module_version": "1.5.0",
            "_view_name": "ProgressView",
            "bar_style": "danger",
            "description": "",
            "description_tooltip": null,
            "layout": "IPY_MODEL_0af4df5f38614cd5b72ff045198cf1c2",
            "max": 169,
            "min": 0,
            "orientation": "horizontal",
            "style": "IPY_MODEL_4905a225b904445bb0a75149fe75ddff",
            "value": 0
          }
        },
        "89cdeb4f96aa4a00968a5504359ebdc6": {
          "model_module": "@jupyter-widgets/base",
          "model_module_version": "1.2.0",
          "model_name": "LayoutModel",
          "state": {
            "_model_module": "@jupyter-widgets/base",
            "_model_module_version": "1.2.0",
            "_model_name": "LayoutModel",
            "_view_count": null,
            "_view_module": "@jupyter-widgets/base",
            "_view_module_version": "1.2.0",
            "_view_name": "LayoutView",
            "align_content": null,
            "align_items": null,
            "align_self": null,
            "border": null,
            "bottom": null,
            "display": null,
            "flex": null,
            "flex_flow": null,
            "grid_area": null,
            "grid_auto_columns": null,
            "grid_auto_flow": null,
            "grid_auto_rows": null,
            "grid_column": null,
            "grid_gap": null,
            "grid_row": null,
            "grid_template_areas": null,
            "grid_template_columns": null,
            "grid_template_rows": null,
            "height": null,
            "justify_content": null,
            "justify_items": null,
            "left": null,
            "margin": null,
            "max_height": null,
            "max_width": null,
            "min_height": null,
            "min_width": null,
            "object_fit": null,
            "object_position": null,
            "order": null,
            "overflow": null,
            "overflow_x": null,
            "overflow_y": null,
            "padding": null,
            "right": null,
            "top": null,
            "visibility": null,
            "width": null
          }
        },
        "958b46530f1e4b0d9a3d9dae1e0c1031": {
          "model_module": "@jupyter-widgets/base",
          "model_module_version": "1.2.0",
          "model_name": "LayoutModel",
          "state": {
            "_model_module": "@jupyter-widgets/base",
            "_model_module_version": "1.2.0",
            "_model_name": "LayoutModel",
            "_view_count": null,
            "_view_module": "@jupyter-widgets/base",
            "_view_module_version": "1.2.0",
            "_view_name": "LayoutView",
            "align_content": null,
            "align_items": null,
            "align_self": null,
            "border": null,
            "bottom": null,
            "display": null,
            "flex": null,
            "flex_flow": null,
            "grid_area": null,
            "grid_auto_columns": null,
            "grid_auto_flow": null,
            "grid_auto_rows": null,
            "grid_column": null,
            "grid_gap": null,
            "grid_row": null,
            "grid_template_areas": null,
            "grid_template_columns": null,
            "grid_template_rows": null,
            "height": null,
            "justify_content": null,
            "justify_items": null,
            "left": null,
            "margin": null,
            "max_height": null,
            "max_width": null,
            "min_height": null,
            "min_width": null,
            "object_fit": null,
            "object_position": null,
            "order": null,
            "overflow": null,
            "overflow_x": null,
            "overflow_y": null,
            "padding": null,
            "right": null,
            "top": null,
            "visibility": null,
            "width": null
          }
        },
        "95d1f5695c2341d589abd1aaee95c2e4": {
          "model_module": "@jupyter-widgets/base",
          "model_module_version": "1.2.0",
          "model_name": "LayoutModel",
          "state": {
            "_model_module": "@jupyter-widgets/base",
            "_model_module_version": "1.2.0",
            "_model_name": "LayoutModel",
            "_view_count": null,
            "_view_module": "@jupyter-widgets/base",
            "_view_module_version": "1.2.0",
            "_view_name": "LayoutView",
            "align_content": null,
            "align_items": null,
            "align_self": null,
            "border": null,
            "bottom": null,
            "display": null,
            "flex": null,
            "flex_flow": null,
            "grid_area": null,
            "grid_auto_columns": null,
            "grid_auto_flow": null,
            "grid_auto_rows": null,
            "grid_column": null,
            "grid_gap": null,
            "grid_row": null,
            "grid_template_areas": null,
            "grid_template_columns": null,
            "grid_template_rows": null,
            "height": null,
            "justify_content": null,
            "justify_items": null,
            "left": null,
            "margin": null,
            "max_height": null,
            "max_width": null,
            "min_height": null,
            "min_width": null,
            "object_fit": null,
            "object_position": null,
            "order": null,
            "overflow": null,
            "overflow_x": null,
            "overflow_y": null,
            "padding": null,
            "right": null,
            "top": null,
            "visibility": null,
            "width": null
          }
        },
        "9822dc68701d450f94f28aedd563c0cb": {
          "model_module": "@jupyter-widgets/controls",
          "model_module_version": "1.5.0",
          "model_name": "DescriptionStyleModel",
          "state": {
            "_model_module": "@jupyter-widgets/controls",
            "_model_module_version": "1.5.0",
            "_model_name": "DescriptionStyleModel",
            "_view_count": null,
            "_view_module": "@jupyter-widgets/base",
            "_view_module_version": "1.2.0",
            "_view_name": "StyleView",
            "description_width": ""
          }
        },
        "9a46846566734863a2b4c5295b23d890": {
          "model_module": "@jupyter-widgets/controls",
          "model_module_version": "1.5.0",
          "model_name": "HBoxModel",
          "state": {
            "_dom_classes": [],
            "_model_module": "@jupyter-widgets/controls",
            "_model_module_version": "1.5.0",
            "_model_name": "HBoxModel",
            "_view_count": null,
            "_view_module": "@jupyter-widgets/controls",
            "_view_module_version": "1.5.0",
            "_view_name": "HBoxView",
            "box_style": "",
            "children": [
              "IPY_MODEL_e3cbb2a5c8cf4d688477c7cb7db8e931",
              "IPY_MODEL_371ef053138c4317bd79dd0abcc67d07",
              "IPY_MODEL_b6faa4bf170d49949fa02c5807fda717"
            ],
            "layout": "IPY_MODEL_371c99d2824245ec939a574d6a6db5b2"
          }
        },
        "9cb3f6f1e87c4efb82f670124e99f251": {
          "model_module": "@jupyter-widgets/base",
          "model_module_version": "1.2.0",
          "model_name": "LayoutModel",
          "state": {
            "_model_module": "@jupyter-widgets/base",
            "_model_module_version": "1.2.0",
            "_model_name": "LayoutModel",
            "_view_count": null,
            "_view_module": "@jupyter-widgets/base",
            "_view_module_version": "1.2.0",
            "_view_name": "LayoutView",
            "align_content": null,
            "align_items": null,
            "align_self": null,
            "border": null,
            "bottom": null,
            "display": null,
            "flex": null,
            "flex_flow": null,
            "grid_area": null,
            "grid_auto_columns": null,
            "grid_auto_flow": null,
            "grid_auto_rows": null,
            "grid_column": null,
            "grid_gap": null,
            "grid_row": null,
            "grid_template_areas": null,
            "grid_template_columns": null,
            "grid_template_rows": null,
            "height": null,
            "justify_content": null,
            "justify_items": null,
            "left": null,
            "margin": null,
            "max_height": null,
            "max_width": null,
            "min_height": null,
            "min_width": null,
            "object_fit": null,
            "object_position": null,
            "order": null,
            "overflow": null,
            "overflow_x": null,
            "overflow_y": null,
            "padding": null,
            "right": null,
            "top": null,
            "visibility": null,
            "width": null
          }
        },
        "a8bc917272aa4c9497f7242377e01ede": {
          "model_module": "@jupyter-widgets/controls",
          "model_module_version": "1.5.0",
          "model_name": "ProgressStyleModel",
          "state": {
            "_model_module": "@jupyter-widgets/controls",
            "_model_module_version": "1.5.0",
            "_model_name": "ProgressStyleModel",
            "_view_count": null,
            "_view_module": "@jupyter-widgets/base",
            "_view_module_version": "1.2.0",
            "_view_name": "StyleView",
            "bar_color": null,
            "description_width": ""
          }
        },
        "a9e44e31a5cc418f8baa372fe66dc767": {
          "model_module": "@jupyter-widgets/controls",
          "model_module_version": "1.5.0",
          "model_name": "ProgressStyleModel",
          "state": {
            "_model_module": "@jupyter-widgets/controls",
            "_model_module_version": "1.5.0",
            "_model_name": "ProgressStyleModel",
            "_view_count": null,
            "_view_module": "@jupyter-widgets/base",
            "_view_module_version": "1.2.0",
            "_view_name": "StyleView",
            "bar_color": null,
            "description_width": ""
          }
        },
        "ae07fcced04a45c287cbcad681ff4b06": {
          "model_module": "@jupyter-widgets/base",
          "model_module_version": "1.2.0",
          "model_name": "LayoutModel",
          "state": {
            "_model_module": "@jupyter-widgets/base",
            "_model_module_version": "1.2.0",
            "_model_name": "LayoutModel",
            "_view_count": null,
            "_view_module": "@jupyter-widgets/base",
            "_view_module_version": "1.2.0",
            "_view_name": "LayoutView",
            "align_content": null,
            "align_items": null,
            "align_self": null,
            "border": null,
            "bottom": null,
            "display": null,
            "flex": null,
            "flex_flow": null,
            "grid_area": null,
            "grid_auto_columns": null,
            "grid_auto_flow": null,
            "grid_auto_rows": null,
            "grid_column": null,
            "grid_gap": null,
            "grid_row": null,
            "grid_template_areas": null,
            "grid_template_columns": null,
            "grid_template_rows": null,
            "height": null,
            "justify_content": null,
            "justify_items": null,
            "left": null,
            "margin": null,
            "max_height": null,
            "max_width": null,
            "min_height": null,
            "min_width": null,
            "object_fit": null,
            "object_position": null,
            "order": null,
            "overflow": null,
            "overflow_x": null,
            "overflow_y": null,
            "padding": null,
            "right": null,
            "top": null,
            "visibility": null,
            "width": null
          }
        },
        "b6faa4bf170d49949fa02c5807fda717": {
          "model_module": "@jupyter-widgets/controls",
          "model_module_version": "1.5.0",
          "model_name": "HTMLModel",
          "state": {
            "_dom_classes": [],
            "_model_module": "@jupyter-widgets/controls",
            "_model_module_version": "1.5.0",
            "_model_name": "HTMLModel",
            "_view_count": null,
            "_view_module": "@jupyter-widgets/controls",
            "_view_module_version": "1.5.0",
            "_view_name": "HTMLView",
            "description": "",
            "description_tooltip": null,
            "layout": "IPY_MODEL_c2056cfcf6344af8b20dd53be1853850",
            "placeholder": "​",
            "style": "IPY_MODEL_6022c1755ac143a9a33e0de668af5014",
            "value": " 34074/34074 [00:00&lt;00:00, 526423.88it/s]"
          }
        },
        "b90e4d9edc8f495d8e8c2d4732f81376": {
          "model_module": "@jupyter-widgets/controls",
          "model_module_version": "1.5.0",
          "model_name": "ProgressStyleModel",
          "state": {
            "_model_module": "@jupyter-widgets/controls",
            "_model_module_version": "1.5.0",
            "_model_name": "ProgressStyleModel",
            "_view_count": null,
            "_view_module": "@jupyter-widgets/base",
            "_view_module_version": "1.2.0",
            "_view_name": "StyleView",
            "bar_color": null,
            "description_width": ""
          }
        },
        "b9cbe9b81271424ca05292861ac496c2": {
          "model_module": "@jupyter-widgets/controls",
          "model_module_version": "1.5.0",
          "model_name": "FloatProgressModel",
          "state": {
            "_dom_classes": [],
            "_model_module": "@jupyter-widgets/controls",
            "_model_module_version": "1.5.0",
            "_model_name": "FloatProgressModel",
            "_view_count": null,
            "_view_module": "@jupyter-widgets/controls",
            "_view_module_version": "1.5.0",
            "_view_name": "ProgressView",
            "bar_style": "success",
            "description": "",
            "description_tooltip": null,
            "layout": "IPY_MODEL_21c296d261fa4f519905bfaabf01930d",
            "max": 134972,
            "min": 0,
            "orientation": "horizontal",
            "style": "IPY_MODEL_a8bc917272aa4c9497f7242377e01ede",
            "value": 134972
          }
        },
        "bff22e390d8b49f499eb44ba9a9c764b": {
          "model_module": "@jupyter-widgets/base",
          "model_module_version": "1.2.0",
          "model_name": "LayoutModel",
          "state": {
            "_model_module": "@jupyter-widgets/base",
            "_model_module_version": "1.2.0",
            "_model_name": "LayoutModel",
            "_view_count": null,
            "_view_module": "@jupyter-widgets/base",
            "_view_module_version": "1.2.0",
            "_view_name": "LayoutView",
            "align_content": null,
            "align_items": null,
            "align_self": null,
            "border": null,
            "bottom": null,
            "display": null,
            "flex": null,
            "flex_flow": null,
            "grid_area": null,
            "grid_auto_columns": null,
            "grid_auto_flow": null,
            "grid_auto_rows": null,
            "grid_column": null,
            "grid_gap": null,
            "grid_row": null,
            "grid_template_areas": null,
            "grid_template_columns": null,
            "grid_template_rows": null,
            "height": null,
            "justify_content": null,
            "justify_items": null,
            "left": null,
            "margin": null,
            "max_height": null,
            "max_width": null,
            "min_height": null,
            "min_width": null,
            "object_fit": null,
            "object_position": null,
            "order": null,
            "overflow": null,
            "overflow_x": null,
            "overflow_y": null,
            "padding": null,
            "right": null,
            "top": null,
            "visibility": null,
            "width": null
          }
        },
        "c2056cfcf6344af8b20dd53be1853850": {
          "model_module": "@jupyter-widgets/base",
          "model_module_version": "1.2.0",
          "model_name": "LayoutModel",
          "state": {
            "_model_module": "@jupyter-widgets/base",
            "_model_module_version": "1.2.0",
            "_model_name": "LayoutModel",
            "_view_count": null,
            "_view_module": "@jupyter-widgets/base",
            "_view_module_version": "1.2.0",
            "_view_name": "LayoutView",
            "align_content": null,
            "align_items": null,
            "align_self": null,
            "border": null,
            "bottom": null,
            "display": null,
            "flex": null,
            "flex_flow": null,
            "grid_area": null,
            "grid_auto_columns": null,
            "grid_auto_flow": null,
            "grid_auto_rows": null,
            "grid_column": null,
            "grid_gap": null,
            "grid_row": null,
            "grid_template_areas": null,
            "grid_template_columns": null,
            "grid_template_rows": null,
            "height": null,
            "justify_content": null,
            "justify_items": null,
            "left": null,
            "margin": null,
            "max_height": null,
            "max_width": null,
            "min_height": null,
            "min_width": null,
            "object_fit": null,
            "object_position": null,
            "order": null,
            "overflow": null,
            "overflow_x": null,
            "overflow_y": null,
            "padding": null,
            "right": null,
            "top": null,
            "visibility": null,
            "width": null
          }
        },
        "c99eb32f40d34350a0084e329ca41bb1": {
          "model_module": "@jupyter-widgets/base",
          "model_module_version": "1.2.0",
          "model_name": "LayoutModel",
          "state": {
            "_model_module": "@jupyter-widgets/base",
            "_model_module_version": "1.2.0",
            "_model_name": "LayoutModel",
            "_view_count": null,
            "_view_module": "@jupyter-widgets/base",
            "_view_module_version": "1.2.0",
            "_view_name": "LayoutView",
            "align_content": null,
            "align_items": null,
            "align_self": null,
            "border": null,
            "bottom": null,
            "display": null,
            "flex": null,
            "flex_flow": null,
            "grid_area": null,
            "grid_auto_columns": null,
            "grid_auto_flow": null,
            "grid_auto_rows": null,
            "grid_column": null,
            "grid_gap": null,
            "grid_row": null,
            "grid_template_areas": null,
            "grid_template_columns": null,
            "grid_template_rows": null,
            "height": null,
            "justify_content": null,
            "justify_items": null,
            "left": null,
            "margin": null,
            "max_height": null,
            "max_width": null,
            "min_height": null,
            "min_width": null,
            "object_fit": null,
            "object_position": null,
            "order": null,
            "overflow": null,
            "overflow_x": null,
            "overflow_y": null,
            "padding": null,
            "right": null,
            "top": null,
            "visibility": null,
            "width": null
          }
        },
        "cb3cddfc8f1143e3800e77936d3f4e85": {
          "model_module": "@jupyter-widgets/base",
          "model_module_version": "1.2.0",
          "model_name": "LayoutModel",
          "state": {
            "_model_module": "@jupyter-widgets/base",
            "_model_module_version": "1.2.0",
            "_model_name": "LayoutModel",
            "_view_count": null,
            "_view_module": "@jupyter-widgets/base",
            "_view_module_version": "1.2.0",
            "_view_name": "LayoutView",
            "align_content": null,
            "align_items": null,
            "align_self": null,
            "border": null,
            "bottom": null,
            "display": null,
            "flex": null,
            "flex_flow": null,
            "grid_area": null,
            "grid_auto_columns": null,
            "grid_auto_flow": null,
            "grid_auto_rows": null,
            "grid_column": null,
            "grid_gap": null,
            "grid_row": null,
            "grid_template_areas": null,
            "grid_template_columns": null,
            "grid_template_rows": null,
            "height": null,
            "justify_content": null,
            "justify_items": null,
            "left": null,
            "margin": null,
            "max_height": null,
            "max_width": null,
            "min_height": null,
            "min_width": null,
            "object_fit": null,
            "object_position": null,
            "order": null,
            "overflow": null,
            "overflow_x": null,
            "overflow_y": null,
            "padding": null,
            "right": null,
            "top": null,
            "visibility": null,
            "width": null
          }
        },
        "d3c92d7d044d4887b5feeaf231c58bc7": {
          "model_module": "@jupyter-widgets/controls",
          "model_module_version": "1.5.0",
          "model_name": "HTMLModel",
          "state": {
            "_dom_classes": [],
            "_model_module": "@jupyter-widgets/controls",
            "_model_module_version": "1.5.0",
            "_model_name": "HTMLModel",
            "_view_count": null,
            "_view_module": "@jupyter-widgets/controls",
            "_view_module_version": "1.5.0",
            "_view_name": "HTMLView",
            "description": "",
            "description_tooltip": null,
            "layout": "IPY_MODEL_0d0d51522f4b498d8e2e34902acffac6",
            "placeholder": "​",
            "style": "IPY_MODEL_59eab4a7bd354fc49f5892f3c7c2567c",
            "value": "  0%"
          }
        },
        "d3e1d38691f44104a7698334be23a29e": {
          "model_module": "@jupyter-widgets/controls",
          "model_module_version": "1.5.0",
          "model_name": "HTMLModel",
          "state": {
            "_dom_classes": [],
            "_model_module": "@jupyter-widgets/controls",
            "_model_module_version": "1.5.0",
            "_model_name": "HTMLModel",
            "_view_count": null,
            "_view_module": "@jupyter-widgets/controls",
            "_view_module_version": "1.5.0",
            "_view_name": "HTMLView",
            "description": "",
            "description_tooltip": null,
            "layout": "IPY_MODEL_e077099aa85c4c5d99ba59ff521056c6",
            "placeholder": "​",
            "style": "IPY_MODEL_dc09a7e91f354087ba023e255e633a5c",
            "value": " 134972/134972 [00:00&lt;00:00, 182424.10it/s]"
          }
        },
        "d543c5f6bce34060b6a3a9c6b3b75394": {
          "model_module": "@jupyter-widgets/base",
          "model_module_version": "1.2.0",
          "model_name": "LayoutModel",
          "state": {
            "_model_module": "@jupyter-widgets/base",
            "_model_module_version": "1.2.0",
            "_model_name": "LayoutModel",
            "_view_count": null,
            "_view_module": "@jupyter-widgets/base",
            "_view_module_version": "1.2.0",
            "_view_name": "LayoutView",
            "align_content": null,
            "align_items": null,
            "align_self": null,
            "border": null,
            "bottom": null,
            "display": null,
            "flex": null,
            "flex_flow": null,
            "grid_area": null,
            "grid_auto_columns": null,
            "grid_auto_flow": null,
            "grid_auto_rows": null,
            "grid_column": null,
            "grid_gap": null,
            "grid_row": null,
            "grid_template_areas": null,
            "grid_template_columns": null,
            "grid_template_rows": null,
            "height": null,
            "justify_content": null,
            "justify_items": null,
            "left": null,
            "margin": null,
            "max_height": null,
            "max_width": null,
            "min_height": null,
            "min_width": null,
            "object_fit": null,
            "object_position": null,
            "order": null,
            "overflow": null,
            "overflow_x": null,
            "overflow_y": null,
            "padding": null,
            "right": null,
            "top": null,
            "visibility": null,
            "width": null
          }
        },
        "d6d8d3cd0ca548c7b2d2ac42b88c7960": {
          "model_module": "@jupyter-widgets/base",
          "model_module_version": "1.2.0",
          "model_name": "LayoutModel",
          "state": {
            "_model_module": "@jupyter-widgets/base",
            "_model_module_version": "1.2.0",
            "_model_name": "LayoutModel",
            "_view_count": null,
            "_view_module": "@jupyter-widgets/base",
            "_view_module_version": "1.2.0",
            "_view_name": "LayoutView",
            "align_content": null,
            "align_items": null,
            "align_self": null,
            "border": null,
            "bottom": null,
            "display": null,
            "flex": null,
            "flex_flow": null,
            "grid_area": null,
            "grid_auto_columns": null,
            "grid_auto_flow": null,
            "grid_auto_rows": null,
            "grid_column": null,
            "grid_gap": null,
            "grid_row": null,
            "grid_template_areas": null,
            "grid_template_columns": null,
            "grid_template_rows": null,
            "height": null,
            "justify_content": null,
            "justify_items": null,
            "left": null,
            "margin": null,
            "max_height": null,
            "max_width": null,
            "min_height": null,
            "min_width": null,
            "object_fit": null,
            "object_position": null,
            "order": null,
            "overflow": null,
            "overflow_x": null,
            "overflow_y": null,
            "padding": null,
            "right": null,
            "top": null,
            "visibility": null,
            "width": null
          }
        },
        "dc09a7e91f354087ba023e255e633a5c": {
          "model_module": "@jupyter-widgets/controls",
          "model_module_version": "1.5.0",
          "model_name": "DescriptionStyleModel",
          "state": {
            "_model_module": "@jupyter-widgets/controls",
            "_model_module_version": "1.5.0",
            "_model_name": "DescriptionStyleModel",
            "_view_count": null,
            "_view_module": "@jupyter-widgets/base",
            "_view_module_version": "1.2.0",
            "_view_name": "StyleView",
            "description_width": ""
          }
        },
        "dc58a01ee6c94bc68a043e9dd7c865d3": {
          "model_module": "@jupyter-widgets/controls",
          "model_module_version": "1.5.0",
          "model_name": "DescriptionStyleModel",
          "state": {
            "_model_module": "@jupyter-widgets/controls",
            "_model_module_version": "1.5.0",
            "_model_name": "DescriptionStyleModel",
            "_view_count": null,
            "_view_module": "@jupyter-widgets/base",
            "_view_module_version": "1.2.0",
            "_view_name": "StyleView",
            "description_width": ""
          }
        },
        "dcb496dba2ad4353baa18bf64ec03037": {
          "model_module": "@jupyter-widgets/controls",
          "model_module_version": "1.5.0",
          "model_name": "HBoxModel",
          "state": {
            "_dom_classes": [],
            "_model_module": "@jupyter-widgets/controls",
            "_model_module_version": "1.5.0",
            "_model_name": "HBoxModel",
            "_view_count": null,
            "_view_module": "@jupyter-widgets/controls",
            "_view_module_version": "1.5.0",
            "_view_name": "HBoxView",
            "box_style": "",
            "children": [
              "IPY_MODEL_6e090fdc4ecc47a78bf84e57c9f8905f",
              "IPY_MODEL_225aadb16f3b47bfaa80f3ce71b1aadf",
              "IPY_MODEL_32cd845ff2e840ac9113d0b84b617590"
            ],
            "layout": "IPY_MODEL_570d15f1c6014a9f9ba4aed26309d7cd"
          }
        },
        "ddaa515f03ec48f58748403c60e9e0f7": {
          "model_module": "@jupyter-widgets/controls",
          "model_module_version": "1.5.0",
          "model_name": "HTMLModel",
          "state": {
            "_dom_classes": [],
            "_model_module": "@jupyter-widgets/controls",
            "_model_module_version": "1.5.0",
            "_model_name": "HTMLModel",
            "_view_count": null,
            "_view_module": "@jupyter-widgets/controls",
            "_view_module_version": "1.5.0",
            "_view_name": "HTMLView",
            "description": "",
            "description_tooltip": null,
            "layout": "IPY_MODEL_c99eb32f40d34350a0084e329ca41bb1",
            "placeholder": "​",
            "style": "IPY_MODEL_4846bf3eebb246ec956c068128ec6f24",
            "value": " 30972/30972 [00:00&lt;00:00, 405378.53it/s]"
          }
        },
        "dfbba359ac804d44bdd097618b4d9cc0": {
          "model_module": "@jupyter-widgets/controls",
          "model_module_version": "1.5.0",
          "model_name": "HBoxModel",
          "state": {
            "_dom_classes": [],
            "_model_module": "@jupyter-widgets/controls",
            "_model_module_version": "1.5.0",
            "_model_name": "HBoxModel",
            "_view_count": null,
            "_view_module": "@jupyter-widgets/controls",
            "_view_module_version": "1.5.0",
            "_view_name": "HBoxView",
            "box_style": "",
            "children": [
              "IPY_MODEL_6bb08bf9601f4556837238a89dcec8e4",
              "IPY_MODEL_698cba0205734ec8bde5ada075b6fca9",
              "IPY_MODEL_ddaa515f03ec48f58748403c60e9e0f7"
            ],
            "layout": "IPY_MODEL_7f0d1677b10d465988da8bb385bf3cbb"
          }
        },
        "e03713d9d9c344e1b7e13bc6826a3860": {
          "model_module": "@jupyter-widgets/controls",
          "model_module_version": "1.5.0",
          "model_name": "ProgressStyleModel",
          "state": {
            "_model_module": "@jupyter-widgets/controls",
            "_model_module_version": "1.5.0",
            "_model_name": "ProgressStyleModel",
            "_view_count": null,
            "_view_module": "@jupyter-widgets/base",
            "_view_module_version": "1.2.0",
            "_view_name": "StyleView",
            "bar_color": null,
            "description_width": ""
          }
        },
        "e077099aa85c4c5d99ba59ff521056c6": {
          "model_module": "@jupyter-widgets/base",
          "model_module_version": "1.2.0",
          "model_name": "LayoutModel",
          "state": {
            "_model_module": "@jupyter-widgets/base",
            "_model_module_version": "1.2.0",
            "_model_name": "LayoutModel",
            "_view_count": null,
            "_view_module": "@jupyter-widgets/base",
            "_view_module_version": "1.2.0",
            "_view_name": "LayoutView",
            "align_content": null,
            "align_items": null,
            "align_self": null,
            "border": null,
            "bottom": null,
            "display": null,
            "flex": null,
            "flex_flow": null,
            "grid_area": null,
            "grid_auto_columns": null,
            "grid_auto_flow": null,
            "grid_auto_rows": null,
            "grid_column": null,
            "grid_gap": null,
            "grid_row": null,
            "grid_template_areas": null,
            "grid_template_columns": null,
            "grid_template_rows": null,
            "height": null,
            "justify_content": null,
            "justify_items": null,
            "left": null,
            "margin": null,
            "max_height": null,
            "max_width": null,
            "min_height": null,
            "min_width": null,
            "object_fit": null,
            "object_position": null,
            "order": null,
            "overflow": null,
            "overflow_x": null,
            "overflow_y": null,
            "padding": null,
            "right": null,
            "top": null,
            "visibility": null,
            "width": null
          }
        },
        "e3cbb2a5c8cf4d688477c7cb7db8e931": {
          "model_module": "@jupyter-widgets/controls",
          "model_module_version": "1.5.0",
          "model_name": "HTMLModel",
          "state": {
            "_dom_classes": [],
            "_model_module": "@jupyter-widgets/controls",
            "_model_module_version": "1.5.0",
            "_model_name": "HTMLModel",
            "_view_count": null,
            "_view_module": "@jupyter-widgets/controls",
            "_view_module_version": "1.5.0",
            "_view_name": "HTMLView",
            "description": "",
            "description_tooltip": null,
            "layout": "IPY_MODEL_ae07fcced04a45c287cbcad681ff4b06",
            "placeholder": "​",
            "style": "IPY_MODEL_121864c769cb4ba993dbbbf41870b7a6",
            "value": "100%"
          }
        },
        "f0e8d64173304873ab77017f99b57554": {
          "model_module": "@jupyter-widgets/controls",
          "model_module_version": "1.5.0",
          "model_name": "FloatProgressModel",
          "state": {
            "_dom_classes": [],
            "_model_module": "@jupyter-widgets/controls",
            "_model_module_version": "1.5.0",
            "_model_name": "FloatProgressModel",
            "_view_count": null,
            "_view_module": "@jupyter-widgets/controls",
            "_view_module_version": "1.5.0",
            "_view_name": "ProgressView",
            "bar_style": "success",
            "description": "",
            "description_tooltip": null,
            "layout": "IPY_MODEL_558b5248bb784160b1d5a89b3e54c310",
            "max": 40000,
            "min": 0,
            "orientation": "horizontal",
            "style": "IPY_MODEL_3f031b34cb09487b87d8d49cd7ad17c0",
            "value": 40000
          }
        },
        "f3810727d69e4eb18d5b3c4fe1aa2b03": {
          "model_module": "@jupyter-widgets/base",
          "model_module_version": "1.2.0",
          "model_name": "LayoutModel",
          "state": {
            "_model_module": "@jupyter-widgets/base",
            "_model_module_version": "1.2.0",
            "_model_name": "LayoutModel",
            "_view_count": null,
            "_view_module": "@jupyter-widgets/base",
            "_view_module_version": "1.2.0",
            "_view_name": "LayoutView",
            "align_content": null,
            "align_items": null,
            "align_self": null,
            "border": null,
            "bottom": null,
            "display": null,
            "flex": null,
            "flex_flow": null,
            "grid_area": null,
            "grid_auto_columns": null,
            "grid_auto_flow": null,
            "grid_auto_rows": null,
            "grid_column": null,
            "grid_gap": null,
            "grid_row": null,
            "grid_template_areas": null,
            "grid_template_columns": null,
            "grid_template_rows": null,
            "height": null,
            "justify_content": null,
            "justify_items": null,
            "left": null,
            "margin": null,
            "max_height": null,
            "max_width": null,
            "min_height": null,
            "min_width": null,
            "object_fit": null,
            "object_position": null,
            "order": null,
            "overflow": null,
            "overflow_x": null,
            "overflow_y": null,
            "padding": null,
            "right": null,
            "top": null,
            "visibility": null,
            "width": null
          }
        },
        "fcd069ec788a4336ab3c96f669bf57fb": {
          "model_module": "@jupyter-widgets/base",
          "model_module_version": "1.2.0",
          "model_name": "LayoutModel",
          "state": {
            "_model_module": "@jupyter-widgets/base",
            "_model_module_version": "1.2.0",
            "_model_name": "LayoutModel",
            "_view_count": null,
            "_view_module": "@jupyter-widgets/base",
            "_view_module_version": "1.2.0",
            "_view_name": "LayoutView",
            "align_content": null,
            "align_items": null,
            "align_self": null,
            "border": null,
            "bottom": null,
            "display": null,
            "flex": null,
            "flex_flow": null,
            "grid_area": null,
            "grid_auto_columns": null,
            "grid_auto_flow": null,
            "grid_auto_rows": null,
            "grid_column": null,
            "grid_gap": null,
            "grid_row": null,
            "grid_template_areas": null,
            "grid_template_columns": null,
            "grid_template_rows": null,
            "height": null,
            "justify_content": null,
            "justify_items": null,
            "left": null,
            "margin": null,
            "max_height": null,
            "max_width": null,
            "min_height": null,
            "min_width": null,
            "object_fit": null,
            "object_position": null,
            "order": null,
            "overflow": null,
            "overflow_x": null,
            "overflow_y": null,
            "padding": null,
            "right": null,
            "top": null,
            "visibility": null,
            "width": null
          }
        }
      }
    }
  },
  "nbformat": 4,
  "nbformat_minor": 0
}